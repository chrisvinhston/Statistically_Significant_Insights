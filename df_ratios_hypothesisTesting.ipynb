{
 "cells": [
  {
   "cell_type": "code",
   "execution_count": 1,
   "metadata": {},
   "outputs": [],
   "source": [
    "import seaborn as sns\n",
    "import matplotlib.pyplot as plt\n",
    "import pandas as pd\n",
    "import numpy as np\n",
    "import os"
   ]
  },
  {
   "cell_type": "code",
   "execution_count": 104,
   "metadata": {},
   "outputs": [],
   "source": [
    "os.chdir(r'C:\\Users\\lilie\\GitHubProjects\\IronEstelle\\Statistically_Significant_Insights\\cleaned_data')\n",
    "df = pd.read_csv('df_AllRatios.csv')"
   ]
  },
  {
   "cell_type": "code",
   "execution_count": null,
   "metadata": {},
   "outputs": [],
   "source": []
  },
  {
   "cell_type": "markdown",
   "metadata": {},
   "source": [
    "# Ratios"
   ]
  },
  {
   "cell_type": "code",
   "execution_count": 27,
   "metadata": {},
   "outputs": [
    {
     "data": {
      "text/plain": [
       "Index(['Country', 'Region', 'Ratio', 'Temp', 'CO2'], dtype='object')"
      ]
     },
     "execution_count": 27,
     "metadata": {},
     "output_type": "execute_result"
    }
   ],
   "source": [
    "df.columns"
   ]
  },
  {
   "cell_type": "code",
   "execution_count": 105,
   "metadata": {},
   "outputs": [
    {
     "data": {
      "text/html": [
       "<div>\n",
       "<style scoped>\n",
       "    .dataframe tbody tr th:only-of-type {\n",
       "        vertical-align: middle;\n",
       "    }\n",
       "\n",
       "    .dataframe tbody tr th {\n",
       "        vertical-align: top;\n",
       "    }\n",
       "\n",
       "    .dataframe thead th {\n",
       "        text-align: right;\n",
       "    }\n",
       "</style>\n",
       "<table border=\"1\" class=\"dataframe\">\n",
       "  <thead>\n",
       "    <tr style=\"text-align: right;\">\n",
       "      <th></th>\n",
       "      <th>Country</th>\n",
       "      <th>Region</th>\n",
       "      <th>Ratio</th>\n",
       "      <th>Temp</th>\n",
       "      <th>CO2</th>\n",
       "    </tr>\n",
       "  </thead>\n",
       "  <tbody>\n",
       "    <tr>\n",
       "      <th>0</th>\n",
       "      <td>Albania</td>\n",
       "      <td>Europe</td>\n",
       "      <td>1</td>\n",
       "      <td>0.341535</td>\n",
       "      <td>0.662891</td>\n",
       "    </tr>\n",
       "    <tr>\n",
       "      <th>1</th>\n",
       "      <td>Albania</td>\n",
       "      <td>Europe</td>\n",
       "      <td>2</td>\n",
       "      <td>-0.062946</td>\n",
       "      <td>0.109938</td>\n",
       "    </tr>\n",
       "    <tr>\n",
       "      <th>2</th>\n",
       "      <td>Albania</td>\n",
       "      <td>Europe</td>\n",
       "      <td>3</td>\n",
       "      <td>0.158044</td>\n",
       "      <td>0.288593</td>\n",
       "    </tr>\n",
       "    <tr>\n",
       "      <th>3</th>\n",
       "      <td>Algeria</td>\n",
       "      <td>Africa</td>\n",
       "      <td>1</td>\n",
       "      <td>0.007086</td>\n",
       "      <td>0.082311</td>\n",
       "    </tr>\n",
       "    <tr>\n",
       "      <th>4</th>\n",
       "      <td>Algeria</td>\n",
       "      <td>Africa</td>\n",
       "      <td>2</td>\n",
       "      <td>-0.015288</td>\n",
       "      <td>0.195032</td>\n",
       "    </tr>\n",
       "  </tbody>\n",
       "</table>\n",
       "</div>"
      ],
      "text/plain": [
       "   Country  Region  Ratio      Temp       CO2\n",
       "0  Albania  Europe      1  0.341535  0.662891\n",
       "1  Albania  Europe      2 -0.062946  0.109938\n",
       "2  Albania  Europe      3  0.158044  0.288593\n",
       "3  Algeria  Africa      1  0.007086  0.082311\n",
       "4  Algeria  Africa      2 -0.015288  0.195032"
      ]
     },
     "execution_count": 105,
     "metadata": {},
     "output_type": "execute_result"
    }
   ],
   "source": [
    "df.head()"
   ]
  },
  {
   "cell_type": "code",
   "execution_count": 106,
   "metadata": {},
   "outputs": [
    {
     "data": {
      "text/html": [
       "<div>\n",
       "<style scoped>\n",
       "    .dataframe tbody tr th:only-of-type {\n",
       "        vertical-align: middle;\n",
       "    }\n",
       "\n",
       "    .dataframe tbody tr th {\n",
       "        vertical-align: top;\n",
       "    }\n",
       "\n",
       "    .dataframe thead th {\n",
       "        text-align: right;\n",
       "    }\n",
       "</style>\n",
       "<table border=\"1\" class=\"dataframe\">\n",
       "  <thead>\n",
       "    <tr style=\"text-align: right;\">\n",
       "      <th></th>\n",
       "      <th>Ratio</th>\n",
       "      <th>Temp</th>\n",
       "      <th>CO2</th>\n",
       "    </tr>\n",
       "  </thead>\n",
       "  <tbody>\n",
       "    <tr>\n",
       "      <th>Ratio</th>\n",
       "      <td>1.000000</td>\n",
       "      <td>0.060620</td>\n",
       "      <td>0.048742</td>\n",
       "    </tr>\n",
       "    <tr>\n",
       "      <th>Temp</th>\n",
       "      <td>0.060620</td>\n",
       "      <td>1.000000</td>\n",
       "      <td>0.810245</td>\n",
       "    </tr>\n",
       "    <tr>\n",
       "      <th>CO2</th>\n",
       "      <td>0.048742</td>\n",
       "      <td>0.810245</td>\n",
       "      <td>1.000000</td>\n",
       "    </tr>\n",
       "  </tbody>\n",
       "</table>\n",
       "</div>"
      ],
      "text/plain": [
       "          Ratio      Temp       CO2\n",
       "Ratio  1.000000  0.060620  0.048742\n",
       "Temp   0.060620  1.000000  0.810245\n",
       "CO2    0.048742  0.810245  1.000000"
      ]
     },
     "execution_count": 106,
     "metadata": {},
     "output_type": "execute_result"
    }
   ],
   "source": [
    "df.corr()"
   ]
  },
  {
   "cell_type": "code",
   "execution_count": 107,
   "metadata": {},
   "outputs": [
    {
     "data": {
      "text/plain": [
       "Region\n",
       "Africa                               0.943999\n",
       "South/Central America & Carribean    0.864506\n",
       "Asia                                 0.809297\n",
       "Middle East                          0.794985\n",
       "Europe                               0.778827\n",
       "Australia/South Pacific              0.352030\n",
       "North America                        0.092177\n",
       "Name: Temp, dtype: float64"
      ]
     },
     "execution_count": 107,
     "metadata": {},
     "output_type": "execute_result"
    }
   ],
   "source": [
    "df.groupby('Region').Temp.corr(df.CO2).sort_values(ascending=False)"
   ]
  },
  {
   "cell_type": "code",
   "execution_count": 112,
   "metadata": {},
   "outputs": [
    {
     "data": {
      "text/plain": [
       "array(['Canada', 'Mexico', 'US'], dtype=object)"
      ]
     },
     "execution_count": 112,
     "metadata": {},
     "output_type": "execute_result"
    }
   ],
   "source": [
    "df.loc[df.Region=='North America'].Country.unique()"
   ]
  },
  {
   "cell_type": "code",
   "execution_count": 113,
   "metadata": {},
   "outputs": [
    {
     "data": {
      "text/plain": [
       "-0.9984558324161495"
      ]
     },
     "execution_count": 113,
     "metadata": {},
     "output_type": "execute_result"
    }
   ],
   "source": [
    "df.loc[df.Country=='Canada'].Temp.corr(df.CO2) #drop"
   ]
  },
  {
   "cell_type": "code",
   "execution_count": 114,
   "metadata": {},
   "outputs": [
    {
     "data": {
      "text/plain": [
       "0.980264045830523"
      ]
     },
     "execution_count": 114,
     "metadata": {},
     "output_type": "execute_result"
    }
   ],
   "source": [
    "df.loc[df.Country=='Mexico'].Temp.corr(df.CO2) #KEEP"
   ]
  },
  {
   "cell_type": "code",
   "execution_count": 115,
   "metadata": {},
   "outputs": [
    {
     "data": {
      "text/plain": [
       "0.7741723448058433"
      ]
     },
     "execution_count": 115,
     "metadata": {},
     "output_type": "execute_result"
    }
   ],
   "source": [
    "df.loc[df.Country=='US'].Temp.corr(df.CO2) #KEEP"
   ]
  },
  {
   "cell_type": "code",
   "execution_count": 116,
   "metadata": {},
   "outputs": [
    {
     "data": {
      "text/html": [
       "<div>\n",
       "<style scoped>\n",
       "    .dataframe tbody tr th:only-of-type {\n",
       "        vertical-align: middle;\n",
       "    }\n",
       "\n",
       "    .dataframe tbody tr th {\n",
       "        vertical-align: top;\n",
       "    }\n",
       "\n",
       "    .dataframe thead th {\n",
       "        text-align: right;\n",
       "    }\n",
       "</style>\n",
       "<table border=\"1\" class=\"dataframe\">\n",
       "  <thead>\n",
       "    <tr style=\"text-align: right;\">\n",
       "      <th></th>\n",
       "      <th>Country</th>\n",
       "      <th>Region</th>\n",
       "      <th>Ratio</th>\n",
       "      <th>Temp</th>\n",
       "      <th>CO2</th>\n",
       "    </tr>\n",
       "  </thead>\n",
       "  <tbody>\n",
       "    <tr>\n",
       "      <th>3</th>\n",
       "      <td>Algeria</td>\n",
       "      <td>Africa</td>\n",
       "      <td>1</td>\n",
       "      <td>0.007086</td>\n",
       "      <td>0.082311</td>\n",
       "    </tr>\n",
       "    <tr>\n",
       "      <th>4</th>\n",
       "      <td>Algeria</td>\n",
       "      <td>Africa</td>\n",
       "      <td>2</td>\n",
       "      <td>-0.015288</td>\n",
       "      <td>0.195032</td>\n",
       "    </tr>\n",
       "    <tr>\n",
       "      <th>5</th>\n",
       "      <td>Algeria</td>\n",
       "      <td>Africa</td>\n",
       "      <td>3</td>\n",
       "      <td>0.182203</td>\n",
       "      <td>0.352817</td>\n",
       "    </tr>\n",
       "    <tr>\n",
       "      <th>36</th>\n",
       "      <td>Benin</td>\n",
       "      <td>Africa</td>\n",
       "      <td>1</td>\n",
       "      <td>0.001525</td>\n",
       "      <td>0.474038</td>\n",
       "    </tr>\n",
       "    <tr>\n",
       "      <th>37</th>\n",
       "      <td>Benin</td>\n",
       "      <td>Africa</td>\n",
       "      <td>2</td>\n",
       "      <td>-0.001308</td>\n",
       "      <td>0.481297</td>\n",
       "    </tr>\n",
       "    <tr>\n",
       "      <th>...</th>\n",
       "      <td>...</td>\n",
       "      <td>...</td>\n",
       "      <td>...</td>\n",
       "      <td>...</td>\n",
       "      <td>...</td>\n",
       "    </tr>\n",
       "    <tr>\n",
       "      <th>317</th>\n",
       "      <td>Uganda</td>\n",
       "      <td>Africa</td>\n",
       "      <td>2</td>\n",
       "      <td>0.003118</td>\n",
       "      <td>0.470056</td>\n",
       "    </tr>\n",
       "    <tr>\n",
       "      <th>318</th>\n",
       "      <td>Uganda</td>\n",
       "      <td>Africa</td>\n",
       "      <td>3</td>\n",
       "      <td>0.174377</td>\n",
       "      <td>0.443195</td>\n",
       "    </tr>\n",
       "    <tr>\n",
       "      <th>340</th>\n",
       "      <td>Zambia</td>\n",
       "      <td>Africa</td>\n",
       "      <td>1</td>\n",
       "      <td>-0.048587</td>\n",
       "      <td>-0.034836</td>\n",
       "    </tr>\n",
       "    <tr>\n",
       "      <th>341</th>\n",
       "      <td>Zambia</td>\n",
       "      <td>Africa</td>\n",
       "      <td>2</td>\n",
       "      <td>-0.082384</td>\n",
       "      <td>0.120721</td>\n",
       "    </tr>\n",
       "    <tr>\n",
       "      <th>342</th>\n",
       "      <td>Zambia</td>\n",
       "      <td>Africa</td>\n",
       "      <td>3</td>\n",
       "      <td>0.041679</td>\n",
       "      <td>0.408316</td>\n",
       "    </tr>\n",
       "  </tbody>\n",
       "</table>\n",
       "<p>75 rows × 5 columns</p>\n",
       "</div>"
      ],
      "text/plain": [
       "     Country  Region  Ratio      Temp       CO2\n",
       "3    Algeria  Africa      1  0.007086  0.082311\n",
       "4    Algeria  Africa      2 -0.015288  0.195032\n",
       "5    Algeria  Africa      3  0.182203  0.352817\n",
       "36     Benin  Africa      1  0.001525  0.474038\n",
       "37     Benin  Africa      2 -0.001308  0.481297\n",
       "..       ...     ...    ...       ...       ...\n",
       "317   Uganda  Africa      2  0.003118  0.470056\n",
       "318   Uganda  Africa      3  0.174377  0.443195\n",
       "340   Zambia  Africa      1 -0.048587 -0.034836\n",
       "341   Zambia  Africa      2 -0.082384  0.120721\n",
       "342   Zambia  Africa      3  0.041679  0.408316\n",
       "\n",
       "[75 rows x 5 columns]"
      ]
     },
     "execution_count": 116,
     "metadata": {},
     "output_type": "execute_result"
    }
   ],
   "source": [
    "df.loc[df.Region=='Africa']"
   ]
  },
  {
   "cell_type": "code",
   "execution_count": 117,
   "metadata": {},
   "outputs": [
    {
     "data": {
      "text/html": [
       "<div>\n",
       "<style scoped>\n",
       "    .dataframe tbody tr th:only-of-type {\n",
       "        vertical-align: middle;\n",
       "    }\n",
       "\n",
       "    .dataframe tbody tr th {\n",
       "        vertical-align: top;\n",
       "    }\n",
       "\n",
       "    .dataframe thead th {\n",
       "        text-align: right;\n",
       "    }\n",
       "</style>\n",
       "<table border=\"1\" class=\"dataframe\">\n",
       "  <thead>\n",
       "    <tr style=\"text-align: right;\">\n",
       "      <th></th>\n",
       "      <th>Country</th>\n",
       "      <th>Region</th>\n",
       "      <th>Ratio</th>\n",
       "      <th>Temp</th>\n",
       "      <th>CO2</th>\n",
       "    </tr>\n",
       "  </thead>\n",
       "  <tbody>\n",
       "    <tr>\n",
       "      <th>0</th>\n",
       "      <td>Albania</td>\n",
       "      <td>Europe</td>\n",
       "      <td>1</td>\n",
       "      <td>0.341535</td>\n",
       "      <td>0.662891</td>\n",
       "    </tr>\n",
       "    <tr>\n",
       "      <th>1</th>\n",
       "      <td>Albania</td>\n",
       "      <td>Europe</td>\n",
       "      <td>2</td>\n",
       "      <td>-0.062946</td>\n",
       "      <td>0.109938</td>\n",
       "    </tr>\n",
       "    <tr>\n",
       "      <th>2</th>\n",
       "      <td>Albania</td>\n",
       "      <td>Europe</td>\n",
       "      <td>3</td>\n",
       "      <td>0.158044</td>\n",
       "      <td>0.288593</td>\n",
       "    </tr>\n",
       "    <tr>\n",
       "      <th>3</th>\n",
       "      <td>Algeria</td>\n",
       "      <td>Africa</td>\n",
       "      <td>1</td>\n",
       "      <td>0.007086</td>\n",
       "      <td>0.082311</td>\n",
       "    </tr>\n",
       "    <tr>\n",
       "      <th>4</th>\n",
       "      <td>Algeria</td>\n",
       "      <td>Africa</td>\n",
       "      <td>2</td>\n",
       "      <td>-0.015288</td>\n",
       "      <td>0.195032</td>\n",
       "    </tr>\n",
       "    <tr>\n",
       "      <th>...</th>\n",
       "      <td>...</td>\n",
       "      <td>...</td>\n",
       "      <td>...</td>\n",
       "      <td>...</td>\n",
       "      <td>...</td>\n",
       "    </tr>\n",
       "    <tr>\n",
       "      <th>338</th>\n",
       "      <td>Vietnam</td>\n",
       "      <td>Asia</td>\n",
       "      <td>2</td>\n",
       "      <td>0.014710</td>\n",
       "      <td>0.396465</td>\n",
       "    </tr>\n",
       "    <tr>\n",
       "      <th>339</th>\n",
       "      <td>Vietnam</td>\n",
       "      <td>Asia</td>\n",
       "      <td>3</td>\n",
       "      <td>0.170367</td>\n",
       "      <td>0.444776</td>\n",
       "    </tr>\n",
       "    <tr>\n",
       "      <th>340</th>\n",
       "      <td>Zambia</td>\n",
       "      <td>Africa</td>\n",
       "      <td>1</td>\n",
       "      <td>-0.048587</td>\n",
       "      <td>-0.034836</td>\n",
       "    </tr>\n",
       "    <tr>\n",
       "      <th>341</th>\n",
       "      <td>Zambia</td>\n",
       "      <td>Africa</td>\n",
       "      <td>2</td>\n",
       "      <td>-0.082384</td>\n",
       "      <td>0.120721</td>\n",
       "    </tr>\n",
       "    <tr>\n",
       "      <th>342</th>\n",
       "      <td>Zambia</td>\n",
       "      <td>Africa</td>\n",
       "      <td>3</td>\n",
       "      <td>0.041679</td>\n",
       "      <td>0.408316</td>\n",
       "    </tr>\n",
       "  </tbody>\n",
       "</table>\n",
       "<p>343 rows × 5 columns</p>\n",
       "</div>"
      ],
      "text/plain": [
       "     Country  Region  Ratio      Temp       CO2\n",
       "0    Albania  Europe      1  0.341535  0.662891\n",
       "1    Albania  Europe      2 -0.062946  0.109938\n",
       "2    Albania  Europe      3  0.158044  0.288593\n",
       "3    Algeria  Africa      1  0.007086  0.082311\n",
       "4    Algeria  Africa      2 -0.015288  0.195032\n",
       "..       ...     ...    ...       ...       ...\n",
       "338  Vietnam    Asia      2  0.014710  0.396465\n",
       "339  Vietnam    Asia      3  0.170367  0.444776\n",
       "340   Zambia  Africa      1 -0.048587 -0.034836\n",
       "341   Zambia  Africa      2 -0.082384  0.120721\n",
       "342   Zambia  Africa      3  0.041679  0.408316\n",
       "\n",
       "[343 rows x 5 columns]"
      ]
     },
     "execution_count": 117,
     "metadata": {},
     "output_type": "execute_result"
    }
   ],
   "source": [
    "df"
   ]
  },
  {
   "cell_type": "code",
   "execution_count": 100,
   "metadata": {},
   "outputs": [
    {
     "data": {
      "text/html": [
       "<div>\n",
       "<style scoped>\n",
       "    .dataframe tbody tr th:only-of-type {\n",
       "        vertical-align: middle;\n",
       "    }\n",
       "\n",
       "    .dataframe tbody tr th {\n",
       "        vertical-align: top;\n",
       "    }\n",
       "\n",
       "    .dataframe thead th {\n",
       "        text-align: right;\n",
       "    }\n",
       "</style>\n",
       "<table border=\"1\" class=\"dataframe\">\n",
       "  <thead>\n",
       "    <tr style=\"text-align: right;\">\n",
       "      <th></th>\n",
       "      <th>Country</th>\n",
       "      <th>Region</th>\n",
       "      <th>Ratio</th>\n",
       "      <th>Temp</th>\n",
       "      <th>CO2</th>\n",
       "    </tr>\n",
       "  </thead>\n",
       "  <tbody>\n",
       "    <tr>\n",
       "      <th>9</th>\n",
       "      <td>Australia</td>\n",
       "      <td>Australia/South Pacific</td>\n",
       "      <td>1</td>\n",
       "      <td>1.272</td>\n",
       "      <td>197.85</td>\n",
       "    </tr>\n",
       "    <tr>\n",
       "      <th>10</th>\n",
       "      <td>Australia</td>\n",
       "      <td>Australia/South Pacific</td>\n",
       "      <td>2</td>\n",
       "      <td>1.182</td>\n",
       "      <td>159.47</td>\n",
       "    </tr>\n",
       "    <tr>\n",
       "      <th>11</th>\n",
       "      <td>Australia</td>\n",
       "      <td>Australia/South Pacific</td>\n",
       "      <td>3</td>\n",
       "      <td>17.350</td>\n",
       "      <td>370.62</td>\n",
       "    </tr>\n",
       "  </tbody>\n",
       "</table>\n",
       "</div>"
      ],
      "text/plain": [
       "      Country                   Region  Ratio    Temp     CO2\n",
       "9   Australia  Australia/South Pacific      1   1.272  197.85\n",
       "10  Australia  Australia/South Pacific      2   1.182  159.47\n",
       "11  Australia  Australia/South Pacific      3  17.350  370.62"
      ]
     },
     "execution_count": 100,
     "metadata": {},
     "output_type": "execute_result"
    }
   ],
   "source": [
    "df.loc[df.Country=='Australia'].corr()"
   ]
  },
  {
   "cell_type": "code",
   "execution_count": 101,
   "metadata": {},
   "outputs": [
    {
     "data": {
      "text/html": [
       "<div>\n",
       "<style scoped>\n",
       "    .dataframe tbody tr th:only-of-type {\n",
       "        vertical-align: middle;\n",
       "    }\n",
       "\n",
       "    .dataframe tbody tr th {\n",
       "        vertical-align: top;\n",
       "    }\n",
       "\n",
       "    .dataframe thead th {\n",
       "        text-align: right;\n",
       "    }\n",
       "</style>\n",
       "<table border=\"1\" class=\"dataframe\">\n",
       "  <thead>\n",
       "    <tr style=\"text-align: right;\">\n",
       "      <th></th>\n",
       "      <th>Ratio</th>\n",
       "      <th>Temp</th>\n",
       "      <th>CO2</th>\n",
       "    </tr>\n",
       "  </thead>\n",
       "  <tbody>\n",
       "    <tr>\n",
       "      <th>Ratio</th>\n",
       "      <td>1.000000</td>\n",
       "      <td>0.863598</td>\n",
       "      <td>0.768022</td>\n",
       "    </tr>\n",
       "    <tr>\n",
       "      <th>Temp</th>\n",
       "      <td>0.863598</td>\n",
       "      <td>1.000000</td>\n",
       "      <td>0.986152</td>\n",
       "    </tr>\n",
       "    <tr>\n",
       "      <th>CO2</th>\n",
       "      <td>0.768022</td>\n",
       "      <td>0.986152</td>\n",
       "      <td>1.000000</td>\n",
       "    </tr>\n",
       "  </tbody>\n",
       "</table>\n",
       "</div>"
      ],
      "text/plain": [
       "          Ratio      Temp       CO2\n",
       "Ratio  1.000000  0.863598  0.768022\n",
       "Temp   0.863598  1.000000  0.986152\n",
       "CO2    0.768022  0.986152  1.000000"
      ]
     },
     "execution_count": 101,
     "metadata": {},
     "output_type": "execute_result"
    }
   ],
   "source": [
    "df.loc[df.Country=='Australia'].corr()"
   ]
  },
  {
   "cell_type": "code",
   "execution_count": 118,
   "metadata": {},
   "outputs": [
    {
     "name": "stderr",
     "output_type": "stream",
     "text": [
      "C:\\Users\\lilie\\anaconda3\\lib\\site-packages\\numpy\\lib\\function_base.py:2551: RuntimeWarning: Degrees of freedom <= 0 for slice\n",
      "  c = cov(x, y, rowvar)\n",
      "C:\\Users\\lilie\\anaconda3\\lib\\site-packages\\numpy\\lib\\function_base.py:2480: RuntimeWarning: divide by zero encountered in true_divide\n",
      "  c *= np.true_divide(1, fact)\n"
     ]
    },
    {
     "data": {
      "text/plain": [
       "Country\n",
       "Georgia            1.000000\n",
       "Israel             1.000000\n",
       "Burundi            1.000000\n",
       "Indonesia          0.999999\n",
       "Iceland            0.999994\n",
       "Bangladesh         0.999991\n",
       "Cyprus             0.999974\n",
       "Gambia             0.999725\n",
       "Ethiopia           0.999668\n",
       "South Africa       0.999657\n",
       "Philippines        0.999612\n",
       "Cuba               0.999567\n",
       "Brazil             0.999460\n",
       "Kenya              0.999408\n",
       "Malawi             0.999031\n",
       "Thailand           0.998966\n",
       "Gabon              0.998772\n",
       "Lebanon            0.998201\n",
       "Togo               0.997927\n",
       "Belgium            0.997922\n",
       "Greece             0.997680\n",
       "Mozambique         0.997542\n",
       "Turkmenistan       0.995759\n",
       "The Netherlands    0.995750\n",
       "Jordan             0.995709\n",
       "Oman               0.994713\n",
       "Peru               0.994294\n",
       "Guyana             0.991119\n",
       "Morocco            0.989829\n",
       "Czech Republic     0.989543\n",
       "Madagascar         0.987023\n",
       "Nepal              0.986190\n",
       "Haiti              0.986097\n",
       "Mexico             0.980264\n",
       "Nigeria            0.975817\n",
       "Albania            0.967669\n",
       "Colombia           0.965180\n",
       "Switzerland        0.965026\n",
       "Mauritania         0.964229\n",
       "Tunisia            0.957541\n",
       "Sierra Leone       0.957011\n",
       "India              0.956711\n",
       "Bulgaria           0.955207\n",
       "Guinea             0.947281\n",
       "Germany            0.943311\n",
       "Laos               0.941409\n",
       "Vietnam            0.940197\n",
       "Saudi Arabia       0.939715\n",
       "Japan              0.937445\n",
       "Singapore          0.937107\n",
       "Name: Temp, dtype: float64"
      ]
     },
     "execution_count": 118,
     "metadata": {},
     "output_type": "execute_result"
    }
   ],
   "source": [
    "df.groupby('Country').Temp.corr(df.CO2).sort_values(ascending=False).head(50)"
   ]
  },
  {
   "cell_type": "code",
   "execution_count": 119,
   "metadata": {},
   "outputs": [
    {
     "data": {
      "text/html": [
       "<div>\n",
       "<style scoped>\n",
       "    .dataframe tbody tr th:only-of-type {\n",
       "        vertical-align: middle;\n",
       "    }\n",
       "\n",
       "    .dataframe tbody tr th {\n",
       "        vertical-align: top;\n",
       "    }\n",
       "\n",
       "    .dataframe thead th {\n",
       "        text-align: right;\n",
       "    }\n",
       "</style>\n",
       "<table border=\"1\" class=\"dataframe\">\n",
       "  <thead>\n",
       "    <tr style=\"text-align: right;\">\n",
       "      <th></th>\n",
       "      <th>Ratio</th>\n",
       "      <th>Temp</th>\n",
       "      <th>CO2</th>\n",
       "    </tr>\n",
       "  </thead>\n",
       "  <tbody>\n",
       "    <tr>\n",
       "      <th>count</th>\n",
       "      <td>343.000000</td>\n",
       "      <td>343.000000</td>\n",
       "      <td>343.000000</td>\n",
       "    </tr>\n",
       "    <tr>\n",
       "      <th>mean</th>\n",
       "      <td>1.994169</td>\n",
       "      <td>0.010109</td>\n",
       "      <td>0.100587</td>\n",
       "    </tr>\n",
       "    <tr>\n",
       "      <th>std</th>\n",
       "      <td>0.816476</td>\n",
       "      <td>0.400373</td>\n",
       "      <td>0.442519</td>\n",
       "    </tr>\n",
       "    <tr>\n",
       "      <th>min</th>\n",
       "      <td>1.000000</td>\n",
       "      <td>-3.709915</td>\n",
       "      <td>-4.195652</td>\n",
       "    </tr>\n",
       "    <tr>\n",
       "      <th>25%</th>\n",
       "      <td>1.000000</td>\n",
       "      <td>-0.001788</td>\n",
       "      <td>0.030016</td>\n",
       "    </tr>\n",
       "    <tr>\n",
       "      <th>50%</th>\n",
       "      <td>2.000000</td>\n",
       "      <td>0.016375</td>\n",
       "      <td>0.147940</td>\n",
       "    </tr>\n",
       "    <tr>\n",
       "      <th>75%</th>\n",
       "      <td>3.000000</td>\n",
       "      <td>0.161832</td>\n",
       "      <td>0.277152</td>\n",
       "    </tr>\n",
       "    <tr>\n",
       "      <th>max</th>\n",
       "      <td>3.000000</td>\n",
       "      <td>0.996324</td>\n",
       "      <td>0.854762</td>\n",
       "    </tr>\n",
       "  </tbody>\n",
       "</table>\n",
       "</div>"
      ],
      "text/plain": [
       "            Ratio        Temp         CO2\n",
       "count  343.000000  343.000000  343.000000\n",
       "mean     1.994169    0.010109    0.100587\n",
       "std      0.816476    0.400373    0.442519\n",
       "min      1.000000   -3.709915   -4.195652\n",
       "25%      1.000000   -0.001788    0.030016\n",
       "50%      2.000000    0.016375    0.147940\n",
       "75%      3.000000    0.161832    0.277152\n",
       "max      3.000000    0.996324    0.854762"
      ]
     },
     "execution_count": 119,
     "metadata": {},
     "output_type": "execute_result"
    }
   ],
   "source": [
    "df.describe()"
   ]
  },
  {
   "cell_type": "code",
   "execution_count": 123,
   "metadata": {},
   "outputs": [
    {
     "data": {
      "text/plain": [
       "array(['Albania', 'Gambia', 'Guinea-Bissau', 'Kenya', 'Kyrgyzstan',\n",
       "       'Malawi', 'Mongolia', 'Oman', 'Sierra Leone'], dtype=object)"
      ]
     },
     "execution_count": 123,
     "metadata": {},
     "output_type": "execute_result"
    }
   ],
   "source": [
    "todrop=df.Country[df.Temp>0.3].unique()\n",
    "todrop"
   ]
  },
  {
   "cell_type": "code",
   "execution_count": 126,
   "metadata": {},
   "outputs": [
    {
     "data": {
      "text/plain": [
       "array(['Asia', 'Africa', 'Europe', 'South/Central America & Carribean',\n",
       "       'Middle East'], dtype=object)"
      ]
     },
     "execution_count": 126,
     "metadata": {},
     "output_type": "execute_result"
    }
   ],
   "source": [
    "todrop2=df.Cou[df.Temp<-0.3].unique()\n",
    "todrop2"
   ]
  },
  {
   "cell_type": "code",
   "execution_count": 91,
   "metadata": {},
   "outputs": [
    {
     "data": {
      "text/plain": [
       "[Int64Index([21, 22, 23], dtype='int64'),\n",
       " Int64Index([39, 40, 41], dtype='int64'),\n",
       " Int64Index([51, 52], dtype='int64'),\n",
       " Int64Index([77, 78, 79], dtype='int64'),\n",
       " Int64Index([107, 108, 109], dtype='int64'),\n",
       " Int64Index([110, 111], dtype='int64'),\n",
       " Int64Index([115, 116, 117], dtype='int64'),\n",
       " Int64Index([125, 126, 127], dtype='int64'),\n",
       " Int64Index([152, 153], dtype='int64'),\n",
       " Int64Index([169, 170, 171], dtype='int64'),\n",
       " Int64Index([193, 194, 195], dtype='int64'),\n",
       " Int64Index([275, 276, 277], dtype='int64'),\n",
       " Int64Index([317, 318, 319], dtype='int64')]"
      ]
     },
     "execution_count": 91,
     "metadata": {},
     "output_type": "execute_result"
    }
   ],
   "source": [
    "ind = [df.index[df.Country==i] for i in list(todrop)]\n",
    "ind"
   ]
  },
  {
   "cell_type": "code",
   "execution_count": null,
   "metadata": {},
   "outputs": [],
   "source": []
  },
  {
   "cell_type": "code",
   "execution_count": null,
   "metadata": {},
   "outputs": [],
   "source": []
  },
  {
   "cell_type": "code",
   "execution_count": null,
   "metadata": {},
   "outputs": [],
   "source": []
  },
  {
   "cell_type": "code",
   "execution_count": null,
   "metadata": {},
   "outputs": [],
   "source": []
  },
  {
   "cell_type": "code",
   "execution_count": null,
   "metadata": {},
   "outputs": [],
   "source": []
  }
 ],
 "metadata": {
  "kernelspec": {
   "display_name": "Python 3",
   "language": "python",
   "name": "python3"
  },
  "language_info": {
   "codemirror_mode": {
    "name": "ipython",
    "version": 3
   },
   "file_extension": ".py",
   "mimetype": "text/x-python",
   "name": "python",
   "nbconvert_exporter": "python",
   "pygments_lexer": "ipython3",
   "version": "3.8.3"
  }
 },
 "nbformat": 4,
 "nbformat_minor": 4
}
