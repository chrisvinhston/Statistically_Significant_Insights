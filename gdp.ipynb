{
 "cells": [
  {
   "cell_type": "code",
   "execution_count": 104,
   "metadata": {},
   "outputs": [],
   "source": [
    "import pandas as pd\n",
    "import os \n",
    "import matplotlib.pyplot as plt\n",
    "import seaborn as sns\n",
    "import numpy as np"
   ]
  },
  {
   "cell_type": "code",
   "execution_count": 24,
   "metadata": {},
   "outputs": [],
   "source": [
    "os.chdir(r'C:\\Users\\Quoc\\Desktop\\[ironhack]\\[IronHack]\\github\\Statistically_Significant_Insights\\gas_source')"
   ]
  },
  {
   "cell_type": "code",
   "execution_count": 25,
   "metadata": {
    "scrolled": true
   },
   "outputs": [
    {
     "data": {
      "text/plain": [
       "array(['Aruba', 'Afghanistan', 'Angola', 'Albania', 'Andorra',\n",
       "       'Arab World', 'United Arab Emirates', 'Argentina', 'Armenia',\n",
       "       'American Samoa', 'Antigua and Barbuda', 'Australia', 'Austria',\n",
       "       'Azerbaijan', 'Burundi', 'Belgium', 'Benin', 'Burkina Faso',\n",
       "       'Bangladesh', 'Bulgaria', 'Bahrain', 'Bahamas, The',\n",
       "       'Bosnia and Herzegovina', 'Belarus', 'Belize', 'Bermuda',\n",
       "       'Bolivia', 'Brazil', 'Barbados', 'Brunei Darussalam', 'Bhutan',\n",
       "       'Botswana', 'Central African Republic', 'Canada',\n",
       "       'Central Europe and the Baltics', 'Switzerland', 'Channel Islands',\n",
       "       'Chile', 'China', \"Cote d'Ivoire\", 'Cameroon', 'Congo, Dem. Rep.',\n",
       "       'Congo, Rep.', 'Colombia', 'Comoros', 'Cabo Verde', 'Costa Rica',\n",
       "       'Caribbean small states', 'Cuba', 'Curacao', 'Cayman Islands',\n",
       "       'Cyprus', 'Czech Republic', 'Germany', 'Djibouti', 'Dominica',\n",
       "       'Denmark', 'Dominican Republic', 'Algeria',\n",
       "       'East Asia & Pacific (excluding high income)',\n",
       "       'Early-demographic dividend', 'East Asia & Pacific',\n",
       "       'Europe & Central Asia (excluding high income)',\n",
       "       'Europe & Central Asia', 'Ecuador', 'Egypt, Arab Rep.',\n",
       "       'Euro area', 'Eritrea', 'Spain', 'Estonia', 'Ethiopia',\n",
       "       'European Union', 'Fragile and conflict affected situations',\n",
       "       'Finland', 'Fiji', 'France', 'Faroe Islands',\n",
       "       'Micronesia, Fed. Sts.', 'Gabon', 'United Kingdom', 'Georgia',\n",
       "       'Ghana', 'Gibraltar', 'Guinea', 'Gambia, The', 'Guinea-Bissau',\n",
       "       'Equatorial Guinea', 'Greece', 'Grenada', 'Greenland', 'Guatemala',\n",
       "       'Guam', 'Guyana', 'High income', 'Hong Kong SAR, China',\n",
       "       'Honduras', 'Heavily indebted poor countries (HIPC)', 'Croatia',\n",
       "       'Haiti', 'Hungary', 'IBRD only', 'IDA & IBRD total', 'IDA total',\n",
       "       'IDA blend', 'Indonesia', 'IDA only', 'Isle of Man', 'India',\n",
       "       'Not classified', 'Ireland', 'Iran, Islamic Rep.', 'Iraq',\n",
       "       'Iceland', 'Israel', 'Italy', 'Jamaica', 'Jordan', 'Japan',\n",
       "       'Kazakhstan', 'Kenya', 'Kyrgyz Republic', 'Cambodia', 'Kiribati',\n",
       "       'St. Kitts and Nevis', 'Korea, Rep.', 'Kuwait',\n",
       "       'Latin America & Caribbean (excluding high income)', 'Lao PDR',\n",
       "       'Lebanon', 'Liberia', 'Libya', 'St. Lucia',\n",
       "       'Latin America & Caribbean',\n",
       "       'Least developed countries: UN classification', 'Low income',\n",
       "       'Liechtenstein', 'Sri Lanka', 'Lower middle income',\n",
       "       'Low & middle income', 'Lesotho', 'Late-demographic dividend',\n",
       "       'Lithuania', 'Luxembourg', 'Latvia', 'Macao SAR, China',\n",
       "       'St. Martin (French part)', 'Morocco', 'Monaco', 'Moldova',\n",
       "       'Madagascar', 'Maldives', 'Middle East & North Africa', 'Mexico',\n",
       "       'Marshall Islands', 'Middle income', 'North Macedonia', 'Mali',\n",
       "       'Malta', 'Myanmar',\n",
       "       'Middle East & North Africa (excluding high income)', 'Montenegro',\n",
       "       'Mongolia', 'Northern Mariana Islands', 'Mozambique', 'Mauritania',\n",
       "       'Mauritius', 'Malawi', 'Malaysia', 'North America', 'Namibia',\n",
       "       'New Caledonia', 'Niger', 'Nigeria', 'Nicaragua', 'Netherlands',\n",
       "       'Norway', 'Nepal', 'Nauru', 'New Zealand', 'OECD members', 'Oman',\n",
       "       'Other small states', 'Pakistan', 'Panama', 'Peru', 'Philippines',\n",
       "       'Palau', 'Papua New Guinea', 'Poland', 'Pre-demographic dividend',\n",
       "       'Puerto Rico', 'Korea, Dem. People’s Rep.', 'Portugal', 'Paraguay',\n",
       "       'West Bank and Gaza', 'Pacific island small states',\n",
       "       'Post-demographic dividend', 'French Polynesia', 'Qatar',\n",
       "       'Romania', 'Russian Federation', 'Rwanda', 'South Asia',\n",
       "       'Saudi Arabia', 'Sudan', 'Senegal', 'Singapore', 'Solomon Islands',\n",
       "       'Sierra Leone', 'El Salvador', 'San Marino', 'Somalia', 'Serbia',\n",
       "       'Sub-Saharan Africa (excluding high income)', 'South Sudan',\n",
       "       'Sub-Saharan Africa', 'Small states', 'Sao Tome and Principe',\n",
       "       'Suriname', 'Slovak Republic', 'Slovenia', 'Sweden', 'Eswatini',\n",
       "       'Sint Maarten (Dutch part)', 'Seychelles', 'Syrian Arab Republic',\n",
       "       'Turks and Caicos Islands', 'Chad',\n",
       "       'East Asia & Pacific (IDA & IBRD countries)',\n",
       "       'Europe & Central Asia (IDA & IBRD countries)', 'Togo', 'Thailand',\n",
       "       'Tajikistan', 'Turkmenistan',\n",
       "       'Latin America & the Caribbean (IDA & IBRD countries)',\n",
       "       'Timor-Leste', 'Middle East & North Africa (IDA & IBRD countries)',\n",
       "       'Tonga', 'South Asia (IDA & IBRD)',\n",
       "       'Sub-Saharan Africa (IDA & IBRD countries)', 'Trinidad and Tobago',\n",
       "       'Tunisia', 'Turkey', 'Tuvalu', 'Tanzania', 'Uganda', 'Ukraine',\n",
       "       'Upper middle income', 'Uruguay', 'United States', 'Uzbekistan',\n",
       "       'St. Vincent and the Grenadines', 'Venezuela, RB',\n",
       "       'British Virgin Islands', 'Virgin Islands (U.S.)', 'Vietnam',\n",
       "       'Vanuatu', 'World', 'Samoa', 'Kosovo', 'Yemen, Rep.',\n",
       "       'South Africa', 'Zambia', 'Zimbabwe'], dtype=object)"
      ]
     },
     "execution_count": 25,
     "metadata": {},
     "output_type": "execute_result"
    }
   ],
   "source": [
    "gdp = pd.read_csv(r'GDP_annual_growth.csv')\n",
    "gdp['Country Name'].unique()"
   ]
  },
  {
   "cell_type": "code",
   "execution_count": 26,
   "metadata": {
    "collapsed": true
   },
   "outputs": [
    {
     "data": {
      "text/plain": [
       "Country Name        0\n",
       "Country Code        0\n",
       "Indicator Name      0\n",
       "Indicator Code      0\n",
       "1960              133\n",
       "                 ... \n",
       "2017               13\n",
       "2018               15\n",
       "2019               34\n",
       "2020              264\n",
       "Unnamed: 65       264\n",
       "Length: 66, dtype: int64"
      ]
     },
     "execution_count": 26,
     "metadata": {},
     "output_type": "execute_result"
    }
   ],
   "source": [
    "gdp.isna().sum()"
   ]
  },
  {
   "cell_type": "code",
   "execution_count": 27,
   "metadata": {},
   "outputs": [],
   "source": [
    "# Show GDP in non scientific notation. \n",
    "pd.set_option('display.float_format', '{:.2f}'.format)"
   ]
  },
  {
   "cell_type": "code",
   "execution_count": 28,
   "metadata": {},
   "outputs": [
    {
     "data": {
      "text/html": [
       "<div>\n",
       "<style scoped>\n",
       "    .dataframe tbody tr th:only-of-type {\n",
       "        vertical-align: middle;\n",
       "    }\n",
       "\n",
       "    .dataframe tbody tr th {\n",
       "        vertical-align: top;\n",
       "    }\n",
       "\n",
       "    .dataframe thead th {\n",
       "        text-align: right;\n",
       "    }\n",
       "</style>\n",
       "<table border=\"1\" class=\"dataframe\">\n",
       "  <thead>\n",
       "    <tr style=\"text-align: right;\">\n",
       "      <th></th>\n",
       "      <th>Country Name</th>\n",
       "      <th>Country Code</th>\n",
       "      <th>Indicator Name</th>\n",
       "      <th>Indicator Code</th>\n",
       "      <th>1960</th>\n",
       "      <th>1961</th>\n",
       "      <th>1962</th>\n",
       "      <th>1963</th>\n",
       "      <th>1964</th>\n",
       "      <th>1965</th>\n",
       "      <th>...</th>\n",
       "      <th>2012</th>\n",
       "      <th>2013</th>\n",
       "      <th>2014</th>\n",
       "      <th>2015</th>\n",
       "      <th>2016</th>\n",
       "      <th>2017</th>\n",
       "      <th>2018</th>\n",
       "      <th>2019</th>\n",
       "      <th>2020</th>\n",
       "      <th>Unnamed: 65</th>\n",
       "    </tr>\n",
       "  </thead>\n",
       "  <tbody>\n",
       "    <tr>\n",
       "      <th>0</th>\n",
       "      <td>Aruba</td>\n",
       "      <td>ABW</td>\n",
       "      <td>GDP (current US$)</td>\n",
       "      <td>NY.GDP.MKTP.CD</td>\n",
       "      <td>NaN</td>\n",
       "      <td>NaN</td>\n",
       "      <td>NaN</td>\n",
       "      <td>NaN</td>\n",
       "      <td>NaN</td>\n",
       "      <td>NaN</td>\n",
       "      <td>...</td>\n",
       "      <td>2534636871.51</td>\n",
       "      <td>2701675977.65</td>\n",
       "      <td>2765363128.49</td>\n",
       "      <td>2919553072.63</td>\n",
       "      <td>2965921787.71</td>\n",
       "      <td>3056424581.01</td>\n",
       "      <td>NaN</td>\n",
       "      <td>NaN</td>\n",
       "      <td>NaN</td>\n",
       "      <td>NaN</td>\n",
       "    </tr>\n",
       "    <tr>\n",
       "      <th>1</th>\n",
       "      <td>Afghanistan</td>\n",
       "      <td>AFG</td>\n",
       "      <td>GDP (current US$)</td>\n",
       "      <td>NY.GDP.MKTP.CD</td>\n",
       "      <td>537777811.11</td>\n",
       "      <td>548888895.56</td>\n",
       "      <td>546666677.78</td>\n",
       "      <td>751111191.11</td>\n",
       "      <td>800000044.44</td>\n",
       "      <td>1006666637.78</td>\n",
       "      <td>...</td>\n",
       "      <td>20001598505.70</td>\n",
       "      <td>20561069558.22</td>\n",
       "      <td>20484885119.73</td>\n",
       "      <td>19907111418.99</td>\n",
       "      <td>18017749073.90</td>\n",
       "      <td>18869945677.96</td>\n",
       "      <td>18353881129.88</td>\n",
       "      <td>19291104007.83</td>\n",
       "      <td>NaN</td>\n",
       "      <td>NaN</td>\n",
       "    </tr>\n",
       "    <tr>\n",
       "      <th>2</th>\n",
       "      <td>Angola</td>\n",
       "      <td>AGO</td>\n",
       "      <td>GDP (current US$)</td>\n",
       "      <td>NY.GDP.MKTP.CD</td>\n",
       "      <td>NaN</td>\n",
       "      <td>NaN</td>\n",
       "      <td>NaN</td>\n",
       "      <td>NaN</td>\n",
       "      <td>NaN</td>\n",
       "      <td>NaN</td>\n",
       "      <td>...</td>\n",
       "      <td>128052853643.11</td>\n",
       "      <td>136709862831.19</td>\n",
       "      <td>145712200312.51</td>\n",
       "      <td>116193649124.15</td>\n",
       "      <td>101123851090.46</td>\n",
       "      <td>122123822333.59</td>\n",
       "      <td>101353230784.59</td>\n",
       "      <td>88815697793.30</td>\n",
       "      <td>NaN</td>\n",
       "      <td>NaN</td>\n",
       "    </tr>\n",
       "    <tr>\n",
       "      <th>3</th>\n",
       "      <td>Albania</td>\n",
       "      <td>ALB</td>\n",
       "      <td>GDP (current US$)</td>\n",
       "      <td>NY.GDP.MKTP.CD</td>\n",
       "      <td>NaN</td>\n",
       "      <td>NaN</td>\n",
       "      <td>NaN</td>\n",
       "      <td>NaN</td>\n",
       "      <td>NaN</td>\n",
       "      <td>NaN</td>\n",
       "      <td>...</td>\n",
       "      <td>12319830252.48</td>\n",
       "      <td>12776217194.79</td>\n",
       "      <td>13228144008.34</td>\n",
       "      <td>11386846319.16</td>\n",
       "      <td>11861200797.47</td>\n",
       "      <td>13019693450.88</td>\n",
       "      <td>15147020535.39</td>\n",
       "      <td>15279183289.94</td>\n",
       "      <td>NaN</td>\n",
       "      <td>NaN</td>\n",
       "    </tr>\n",
       "    <tr>\n",
       "      <th>4</th>\n",
       "      <td>Andorra</td>\n",
       "      <td>AND</td>\n",
       "      <td>GDP (current US$)</td>\n",
       "      <td>NY.GDP.MKTP.CD</td>\n",
       "      <td>NaN</td>\n",
       "      <td>NaN</td>\n",
       "      <td>NaN</td>\n",
       "      <td>NaN</td>\n",
       "      <td>NaN</td>\n",
       "      <td>NaN</td>\n",
       "      <td>...</td>\n",
       "      <td>3188808942.57</td>\n",
       "      <td>3193704343.21</td>\n",
       "      <td>3271808157.30</td>\n",
       "      <td>2789870187.51</td>\n",
       "      <td>2896679211.87</td>\n",
       "      <td>3000180750.11</td>\n",
       "      <td>3218316013.23</td>\n",
       "      <td>3154057987.24</td>\n",
       "      <td>NaN</td>\n",
       "      <td>NaN</td>\n",
       "    </tr>\n",
       "  </tbody>\n",
       "</table>\n",
       "<p>5 rows × 66 columns</p>\n",
       "</div>"
      ],
      "text/plain": [
       "  Country Name Country Code     Indicator Name  Indicator Code         1960  \\\n",
       "0        Aruba          ABW  GDP (current US$)  NY.GDP.MKTP.CD          NaN   \n",
       "1  Afghanistan          AFG  GDP (current US$)  NY.GDP.MKTP.CD 537777811.11   \n",
       "2       Angola          AGO  GDP (current US$)  NY.GDP.MKTP.CD          NaN   \n",
       "3      Albania          ALB  GDP (current US$)  NY.GDP.MKTP.CD          NaN   \n",
       "4      Andorra          AND  GDP (current US$)  NY.GDP.MKTP.CD          NaN   \n",
       "\n",
       "          1961         1962         1963         1964          1965  ...  \\\n",
       "0          NaN          NaN          NaN          NaN           NaN  ...   \n",
       "1 548888895.56 546666677.78 751111191.11 800000044.44 1006666637.78  ...   \n",
       "2          NaN          NaN          NaN          NaN           NaN  ...   \n",
       "3          NaN          NaN          NaN          NaN           NaN  ...   \n",
       "4          NaN          NaN          NaN          NaN           NaN  ...   \n",
       "\n",
       "             2012            2013            2014            2015  \\\n",
       "0   2534636871.51   2701675977.65   2765363128.49   2919553072.63   \n",
       "1  20001598505.70  20561069558.22  20484885119.73  19907111418.99   \n",
       "2 128052853643.11 136709862831.19 145712200312.51 116193649124.15   \n",
       "3  12319830252.48  12776217194.79  13228144008.34  11386846319.16   \n",
       "4   3188808942.57   3193704343.21   3271808157.30   2789870187.51   \n",
       "\n",
       "             2016            2017            2018           2019  2020  \\\n",
       "0   2965921787.71   3056424581.01             NaN            NaN   NaN   \n",
       "1  18017749073.90  18869945677.96  18353881129.88 19291104007.83   NaN   \n",
       "2 101123851090.46 122123822333.59 101353230784.59 88815697793.30   NaN   \n",
       "3  11861200797.47  13019693450.88  15147020535.39 15279183289.94   NaN   \n",
       "4   2896679211.87   3000180750.11   3218316013.23  3154057987.24   NaN   \n",
       "\n",
       "   Unnamed: 65  \n",
       "0          NaN  \n",
       "1          NaN  \n",
       "2          NaN  \n",
       "3          NaN  \n",
       "4          NaN  \n",
       "\n",
       "[5 rows x 66 columns]"
      ]
     },
     "execution_count": 28,
     "metadata": {},
     "output_type": "execute_result"
    }
   ],
   "source": [
    "gdp.head()"
   ]
  },
  {
   "cell_type": "code",
   "execution_count": 29,
   "metadata": {},
   "outputs": [],
   "source": [
    "merged_df = pd.read_csv(r'C:\\Users\\Quoc\\Desktop\\[ironhack]\\[IronHack]\\github\\Statistically_Significant_Insights\\cleaned_data\\df_merged5.csv')"
   ]
  },
  {
   "cell_type": "code",
   "execution_count": 30,
   "metadata": {},
   "outputs": [
    {
     "data": {
      "text/plain": [
       "array(['Ivory Coast', 'US', 'United Arab Emirates', 'Ethiopia', 'Algeria',\n",
       "       'Kazakhstan', 'Jordan', 'The Netherlands', 'Turkey', 'Madagascar',\n",
       "       'Turkmenistan', 'Greece', 'New Zealand', 'Thailand',\n",
       "       'Central African Republic', 'Gambia', 'Spain', 'China', 'Lebanon',\n",
       "       'United Kingdom', 'Yugoslavia', 'Belize', 'Switzerland',\n",
       "       'Kyrgyzstan', 'Guinea-Bissau', 'Colombia', 'India', 'Germany',\n",
       "       'France', 'Brazil', 'Slovakia', 'Congo', 'Barbados', 'Australia',\n",
       "       'Belgium', 'Romania', 'Hungary', 'Argentina', 'Burundi', 'Egypt',\n",
       "       'Canada', 'South Africa', 'Venezuela', 'Sri Lanka', 'Guinea',\n",
       "       'Denmark', 'Benin', 'Senegal', 'Syria', 'Tanzania', 'Saudi Arabia',\n",
       "       'Bangladesh', 'Qatar', 'Ireland', 'Tajikistan', 'Sierra Leone',\n",
       "       'Guyana', 'Mexico', 'Guatemala', 'Equador', 'Bermuda', 'Vietnam',\n",
       "       'Cuba', 'Finland', 'Hong Kong', 'Pakistan', 'Indonesia', 'Uganda',\n",
       "       'Nepal', 'Ukraine', 'Malaysia', 'Kuwait', 'Bolivia', 'Nigeria',\n",
       "       'Gabon', 'Malawi', 'Peru', 'Portugal', 'Togo', 'Zambia',\n",
       "       'Nicaragua', 'Bahrain', 'Philippines', 'Mozambique', 'Italy',\n",
       "       'Belarus', 'Uruguay', 'Russia', 'Oman', 'Kenya', 'Bahamas',\n",
       "       'Cyprus', 'Mauritania', 'Japan', 'Norway', 'Panama', 'Suriname',\n",
       "       'Haiti', 'Czech Republic', 'Serbia-Montenegro', 'North Korea',\n",
       "       'Morocco', 'Myanmar (Burma)', 'Iceland', 'Latvia', 'Costa Rica',\n",
       "       'Dominican Republic', 'South Korea', 'Singapore', 'Macedonia',\n",
       "       'Bulgaria', 'Sweden', 'Taiwan', 'Uzbekistan', 'Georgia',\n",
       "       'Honduras', 'Israel', 'Albania', 'Tunisia', 'Mongolia', 'Austria',\n",
       "       'Laos', 'Poland', 'Namibia', 'Croatia'], dtype=object)"
      ]
     },
     "execution_count": 30,
     "metadata": {},
     "output_type": "execute_result"
    }
   ],
   "source": [
    "merged_df.Country.unique()"
   ]
  },
  {
   "cell_type": "code",
   "execution_count": 31,
   "metadata": {},
   "outputs": [
    {
     "data": {
      "text/html": [
       "<div>\n",
       "<style scoped>\n",
       "    .dataframe tbody tr th:only-of-type {\n",
       "        vertical-align: middle;\n",
       "    }\n",
       "\n",
       "    .dataframe tbody tr th {\n",
       "        vertical-align: top;\n",
       "    }\n",
       "\n",
       "    .dataframe thead th {\n",
       "        text-align: right;\n",
       "    }\n",
       "</style>\n",
       "<table border=\"1\" class=\"dataframe\">\n",
       "  <thead>\n",
       "    <tr style=\"text-align: right;\">\n",
       "      <th></th>\n",
       "      <th>City</th>\n",
       "      <th>Country</th>\n",
       "      <th>Region</th>\n",
       "      <th>Year</th>\n",
       "      <th>AvgCelsiusTemp</th>\n",
       "      <th>CO2</th>\n",
       "      <th>F-Gas</th>\n",
       "      <th>N2O</th>\n",
       "    </tr>\n",
       "  </thead>\n",
       "  <tbody>\n",
       "    <tr>\n",
       "      <th>0</th>\n",
       "      <td>Abidjan</td>\n",
       "      <td>Ivory Coast</td>\n",
       "      <td>Africa</td>\n",
       "      <td>1995</td>\n",
       "      <td>26.99</td>\n",
       "      <td>NaN</td>\n",
       "      <td>NaN</td>\n",
       "      <td>NaN</td>\n",
       "    </tr>\n",
       "    <tr>\n",
       "      <th>1</th>\n",
       "      <td>Abidjan</td>\n",
       "      <td>Ivory Coast</td>\n",
       "      <td>Africa</td>\n",
       "      <td>1996</td>\n",
       "      <td>26.95</td>\n",
       "      <td>NaN</td>\n",
       "      <td>NaN</td>\n",
       "      <td>NaN</td>\n",
       "    </tr>\n",
       "    <tr>\n",
       "      <th>2</th>\n",
       "      <td>Abidjan</td>\n",
       "      <td>Ivory Coast</td>\n",
       "      <td>Africa</td>\n",
       "      <td>1997</td>\n",
       "      <td>26.83</td>\n",
       "      <td>NaN</td>\n",
       "      <td>NaN</td>\n",
       "      <td>NaN</td>\n",
       "    </tr>\n",
       "    <tr>\n",
       "      <th>3</th>\n",
       "      <td>Abidjan</td>\n",
       "      <td>Ivory Coast</td>\n",
       "      <td>Africa</td>\n",
       "      <td>1998</td>\n",
       "      <td>27.29</td>\n",
       "      <td>NaN</td>\n",
       "      <td>NaN</td>\n",
       "      <td>NaN</td>\n",
       "    </tr>\n",
       "    <tr>\n",
       "      <th>4</th>\n",
       "      <td>Abidjan</td>\n",
       "      <td>Ivory Coast</td>\n",
       "      <td>Africa</td>\n",
       "      <td>1999</td>\n",
       "      <td>26.99</td>\n",
       "      <td>NaN</td>\n",
       "      <td>NaN</td>\n",
       "      <td>NaN</td>\n",
       "    </tr>\n",
       "  </tbody>\n",
       "</table>\n",
       "</div>"
      ],
      "text/plain": [
       "      City      Country  Region  Year  AvgCelsiusTemp  CO2  F-Gas  N2O\n",
       "0  Abidjan  Ivory Coast  Africa  1995           26.99  NaN    NaN  NaN\n",
       "1  Abidjan  Ivory Coast  Africa  1996           26.95  NaN    NaN  NaN\n",
       "2  Abidjan  Ivory Coast  Africa  1997           26.83  NaN    NaN  NaN\n",
       "3  Abidjan  Ivory Coast  Africa  1998           27.29  NaN    NaN  NaN\n",
       "4  Abidjan  Ivory Coast  Africa  1999           26.99  NaN    NaN  NaN"
      ]
     },
     "execution_count": 31,
     "metadata": {},
     "output_type": "execute_result"
    }
   ],
   "source": [
    "merged_df.head()"
   ]
  },
  {
   "cell_type": "code",
   "execution_count": 32,
   "metadata": {},
   "outputs": [
    {
     "data": {
      "text/plain": [
       "array([1995, 1996, 1997, 1998, 1999, 2000, 2001, 2002, 2003, 2004, 2005,\n",
       "       2006, 2007, 2008, 2009, 2010, 2011, 2012, 2013, 2014, 2015, 2016,\n",
       "       2017, 2018, 2019], dtype=int64)"
      ]
     },
     "execution_count": 32,
     "metadata": {},
     "output_type": "execute_result"
    }
   ],
   "source": [
    "#check the Years in the merged_df file. \n",
    "merged_df.Year.unique()"
   ]
  },
  {
   "cell_type": "code",
   "execution_count": 33,
   "metadata": {},
   "outputs": [
    {
     "data": {
      "text/plain": [
       "array(['Ivory Coast', 'US', 'United Arab Emirates', 'Ethiopia', 'Algeria',\n",
       "       'Kazakhstan', 'Jordan', 'The Netherlands', 'Turkey', 'Madagascar',\n",
       "       'Turkmenistan', 'Greece', 'New Zealand', 'Thailand',\n",
       "       'Central African Republic', 'Gambia', 'Spain', 'China', 'Lebanon',\n",
       "       'United Kingdom', 'Yugoslavia', 'Belize', 'Switzerland',\n",
       "       'Kyrgyzstan', 'Guinea-Bissau', 'Colombia', 'India', 'Germany',\n",
       "       'France', 'Brazil', 'Slovakia', 'Congo', 'Barbados', 'Australia',\n",
       "       'Belgium', 'Romania', 'Hungary', 'Argentina', 'Burundi', 'Egypt',\n",
       "       'Canada', 'South Africa', 'Venezuela', 'Sri Lanka', 'Guinea',\n",
       "       'Denmark', 'Benin', 'Senegal', 'Syria', 'Tanzania', 'Saudi Arabia',\n",
       "       'Bangladesh', 'Qatar', 'Ireland', 'Tajikistan', 'Sierra Leone',\n",
       "       'Guyana', 'Mexico', 'Guatemala', 'Equador', 'Bermuda', 'Vietnam',\n",
       "       'Cuba', 'Finland', 'Hong Kong', 'Pakistan', 'Indonesia', 'Uganda',\n",
       "       'Nepal', 'Ukraine', 'Malaysia', 'Kuwait', 'Bolivia', 'Nigeria',\n",
       "       'Gabon', 'Malawi', 'Peru', 'Portugal', 'Togo', 'Zambia',\n",
       "       'Nicaragua', 'Bahrain', 'Philippines', 'Mozambique', 'Italy',\n",
       "       'Belarus', 'Uruguay', 'Russia', 'Oman', 'Kenya', 'Bahamas',\n",
       "       'Cyprus', 'Mauritania', 'Japan', 'Norway', 'Panama', 'Suriname',\n",
       "       'Haiti', 'Czech Republic', 'Serbia-Montenegro', 'North Korea',\n",
       "       'Morocco', 'Myanmar (Burma)', 'Iceland', 'Latvia', 'Costa Rica',\n",
       "       'Dominican Republic', 'South Korea', 'Singapore', 'Macedonia',\n",
       "       'Bulgaria', 'Sweden', 'Taiwan', 'Uzbekistan', 'Georgia',\n",
       "       'Honduras', 'Israel', 'Albania', 'Tunisia', 'Mongolia', 'Austria',\n",
       "       'Laos', 'Poland', 'Namibia', 'Croatia'], dtype=object)"
      ]
     },
     "execution_count": 33,
     "metadata": {},
     "output_type": "execute_result"
    }
   ],
   "source": [
    "# Check which countries are in merged_df.\n",
    "countries = merged_df.Country.unique()\n",
    "countries"
   ]
  },
  {
   "cell_type": "code",
   "execution_count": 34,
   "metadata": {},
   "outputs": [],
   "source": [
    "# locate the countries that match those of df_merged df.  \n",
    "gdp = gdp.loc[gdp['Country Name'].isin(countries)]"
   ]
  },
  {
   "cell_type": "code",
   "execution_count": 35,
   "metadata": {},
   "outputs": [
    {
     "data": {
      "text/plain": [
       "103"
      ]
     },
     "execution_count": 35,
     "metadata": {},
     "output_type": "execute_result"
    }
   ],
   "source": [
    "gdp['Country Name'].nunique()"
   ]
  },
  {
   "cell_type": "code",
   "execution_count": 36,
   "metadata": {
    "scrolled": true
   },
   "outputs": [
    {
     "data": {
      "text/plain": [
       "Index(['Country Name', 'Country Code', 'Indicator Name', 'Indicator Code',\n",
       "       '1960', '1961', '1962', '1963', '1964', '1965', '1966', '1967', '1968',\n",
       "       '1969', '1970', '1971', '1972', '1973', '1974', '1975', '1976', '1977',\n",
       "       '1978', '1979', '1980', '1981', '1982', '1983', '1984', '1985', '1986',\n",
       "       '1987', '1988', '1989', '1990', '1991', '1992', '1993', '1994', '1995',\n",
       "       '1996', '1997', '1998', '1999', '2000', '2001', '2002', '2003', '2004',\n",
       "       '2005', '2006', '2007', '2008', '2009', '2010', '2011', '2012', '2013',\n",
       "       '2014', '2015', '2016', '2017', '2018', '2019', '2020', 'Unnamed: 65'],\n",
       "      dtype='object')"
      ]
     },
     "execution_count": 36,
     "metadata": {},
     "output_type": "execute_result"
    }
   ],
   "source": [
    "gdp.columns"
   ]
  },
  {
   "cell_type": "code",
   "execution_count": 37,
   "metadata": {},
   "outputs": [
    {
     "data": {
      "text/plain": [
       "103"
      ]
     },
     "execution_count": 37,
     "metadata": {},
     "output_type": "execute_result"
    }
   ],
   "source": [
    "# drop 2020 because there is no data\n",
    "gdp['2020'].isna().sum()"
   ]
  },
  {
   "cell_type": "code",
   "execution_count": 38,
   "metadata": {},
   "outputs": [],
   "source": [
    "# remove years that are not the df_merged df.\n",
    "gdp.drop(columns = ['1960', '1961', '1962', '1963', '1964', '1965', '1966', '1967', '1968',\n",
    "       '1969', '1970', '1971', '1972', '1973', '1974', '1975', '1976', '1977',\n",
    "       '1978', '1979', '1980', '1981', '1982', '1983', '1984', '1985', '1986',\n",
    "       '1987', '1988', '1989', '1990', '1991', '1992', '1993', '1994', '2020', 'Unnamed: 65'], inplace = True)"
   ]
  },
  {
   "cell_type": "code",
   "execution_count": 39,
   "metadata": {},
   "outputs": [
    {
     "data": {
      "text/plain": [
       "Index(['Country Name', 'Country Code', 'Indicator Name', 'Indicator Code',\n",
       "       '1995', '1996', '1997', '1998', '1999', '2000', '2001', '2002', '2003',\n",
       "       '2004', '2005', '2006', '2007', '2008', '2009', '2010', '2011', '2012',\n",
       "       '2013', '2014', '2015', '2016', '2017', '2018', '2019'],\n",
       "      dtype='object')"
      ]
     },
     "execution_count": 39,
     "metadata": {},
     "output_type": "execute_result"
    }
   ],
   "source": [
    "gdp.columns"
   ]
  },
  {
   "cell_type": "code",
   "execution_count": 41,
   "metadata": {},
   "outputs": [],
   "source": [
    "# melt the gdp df to match the formate of the df_merged df. \n",
    "gdp = pd.melt(gdp, id_vars = ['Country Name', 'Country Code', 'Indicator Name', 'Indicator Code'],\n",
    "           value_vars = ['1995', '1996', '1997', '1998', '1999', '2000', '2001', '2002', '2003',\n",
    "       '2004', '2005', '2006', '2007', '2008', '2009', '2010', '2011', '2012',\n",
    "       '2013', '2014', '2015', '2016', '2017', '2018', '2019'], var_name= 'Year', value_name = 'GDP')"
   ]
  },
  {
   "cell_type": "code",
   "execution_count": 42,
   "metadata": {},
   "outputs": [],
   "source": [
    "# rename column to match df_merged. \n",
    "gdp.rename(columns = {'Country Name': 'Country'}, inplace=True)\n",
    "\n",
    "# sort gdp df in order. \n",
    "gdp.sort_values(by = ['Country', 'Year'], inplace = True)"
   ]
  },
  {
   "cell_type": "code",
   "execution_count": 43,
   "metadata": {},
   "outputs": [
    {
     "data": {
      "text/plain": [
       "array(['Albania', 'Algeria', 'Argentina', 'Australia', 'Austria',\n",
       "       'Bahrain', 'Bangladesh', 'Barbados', 'Belarus', 'Belgium',\n",
       "       'Belize', 'Benin', 'Bermuda', 'Bolivia', 'Brazil', 'Bulgaria',\n",
       "       'Burundi', 'Canada', 'Central African Republic', 'China',\n",
       "       'Colombia', 'Costa Rica', 'Croatia', 'Cuba', 'Cyprus',\n",
       "       'Czech Republic', 'Denmark', 'Dominican Republic', 'Ethiopia',\n",
       "       'Finland', 'France', 'Gabon', 'Georgia', 'Germany', 'Greece',\n",
       "       'Guatemala', 'Guinea', 'Guinea-Bissau', 'Guyana', 'Haiti',\n",
       "       'Honduras', 'Hungary', 'Iceland', 'India', 'Indonesia', 'Ireland',\n",
       "       'Israel', 'Italy', 'Japan', 'Jordan', 'Kazakhstan', 'Kenya',\n",
       "       'Kuwait', 'Latvia', 'Lebanon', 'Madagascar', 'Malawi', 'Malaysia',\n",
       "       'Mauritania', 'Mexico', 'Mongolia', 'Morocco', 'Mozambique',\n",
       "       'Namibia', 'Nepal', 'New Zealand', 'Nicaragua', 'Nigeria',\n",
       "       'Norway', 'Oman', 'Pakistan', 'Panama', 'Peru', 'Philippines',\n",
       "       'Poland', 'Portugal', 'Qatar', 'Romania', 'Saudi Arabia',\n",
       "       'Senegal', 'Sierra Leone', 'Singapore', 'South Africa', 'Spain',\n",
       "       'Sri Lanka', 'Suriname', 'Sweden', 'Switzerland', 'Tajikistan',\n",
       "       'Tanzania', 'Thailand', 'Togo', 'Tunisia', 'Turkey',\n",
       "       'Turkmenistan', 'Uganda', 'Ukraine', 'United Arab Emirates',\n",
       "       'United Kingdom', 'Uruguay', 'Uzbekistan', 'Vietnam', 'Zambia'],\n",
       "      dtype=object)"
      ]
     },
     "execution_count": 43,
     "metadata": {},
     "output_type": "execute_result"
    }
   ],
   "source": [
    "gdp['Country'].unique()"
   ]
  },
  {
   "cell_type": "code",
   "execution_count": 44,
   "metadata": {},
   "outputs": [
    {
     "data": {
      "text/plain": [
       "Country           0\n",
       "Country Code      0\n",
       "Indicator Name    0\n",
       "Indicator Code    0\n",
       "Year              0\n",
       "GDP               2\n",
       "dtype: int64"
      ]
     },
     "execution_count": 44,
     "metadata": {},
     "output_type": "execute_result"
    }
   ],
   "source": [
    "gdp.isna().sum()"
   ]
  },
  {
   "cell_type": "code",
   "execution_count": 45,
   "metadata": {},
   "outputs": [
    {
     "data": {
      "text/html": [
       "<div>\n",
       "<style scoped>\n",
       "    .dataframe tbody tr th:only-of-type {\n",
       "        vertical-align: middle;\n",
       "    }\n",
       "\n",
       "    .dataframe tbody tr th {\n",
       "        vertical-align: top;\n",
       "    }\n",
       "\n",
       "    .dataframe thead th {\n",
       "        text-align: right;\n",
       "    }\n",
       "</style>\n",
       "<table border=\"1\" class=\"dataframe\">\n",
       "  <thead>\n",
       "    <tr style=\"text-align: right;\">\n",
       "      <th></th>\n",
       "      <th>Country</th>\n",
       "      <th>Country Code</th>\n",
       "      <th>Indicator Name</th>\n",
       "      <th>Indicator Code</th>\n",
       "      <th>Year</th>\n",
       "      <th>GDP</th>\n",
       "    </tr>\n",
       "  </thead>\n",
       "  <tbody>\n",
       "    <tr>\n",
       "      <th>2495</th>\n",
       "      <td>Cuba</td>\n",
       "      <td>CUB</td>\n",
       "      <td>GDP (current US$)</td>\n",
       "      <td>NY.GDP.MKTP.CD</td>\n",
       "      <td>2019</td>\n",
       "      <td>NaN</td>\n",
       "    </tr>\n",
       "    <tr>\n",
       "      <th>2564</th>\n",
       "      <td>Turkmenistan</td>\n",
       "      <td>TKM</td>\n",
       "      <td>GDP (current US$)</td>\n",
       "      <td>NY.GDP.MKTP.CD</td>\n",
       "      <td>2019</td>\n",
       "      <td>NaN</td>\n",
       "    </tr>\n",
       "  </tbody>\n",
       "</table>\n",
       "</div>"
      ],
      "text/plain": [
       "           Country Country Code     Indicator Name  Indicator Code  Year  GDP\n",
       "2495          Cuba          CUB  GDP (current US$)  NY.GDP.MKTP.CD  2019  NaN\n",
       "2564  Turkmenistan          TKM  GDP (current US$)  NY.GDP.MKTP.CD  2019  NaN"
      ]
     },
     "execution_count": 45,
     "metadata": {},
     "output_type": "execute_result"
    }
   ],
   "source": [
    "gdp[(gdp.GDP.isna())]"
   ]
  },
  {
   "cell_type": "code",
   "execution_count": 46,
   "metadata": {},
   "outputs": [
    {
     "data": {
      "text/plain": [
       "Country            object\n",
       "Country Code       object\n",
       "Indicator Name     object\n",
       "Indicator Code     object\n",
       "Year               object\n",
       "GDP               float64\n",
       "dtype: object"
      ]
     },
     "execution_count": 46,
     "metadata": {},
     "output_type": "execute_result"
    }
   ],
   "source": [
    "gdp.dtypes"
   ]
  },
  {
   "cell_type": "code",
   "execution_count": 47,
   "metadata": {},
   "outputs": [
    {
     "data": {
      "text/html": [
       "<div>\n",
       "<style scoped>\n",
       "    .dataframe tbody tr th:only-of-type {\n",
       "        vertical-align: middle;\n",
       "    }\n",
       "\n",
       "    .dataframe tbody tr th {\n",
       "        vertical-align: top;\n",
       "    }\n",
       "\n",
       "    .dataframe thead th {\n",
       "        text-align: right;\n",
       "    }\n",
       "</style>\n",
       "<table border=\"1\" class=\"dataframe\">\n",
       "  <thead>\n",
       "    <tr style=\"text-align: right;\">\n",
       "      <th></th>\n",
       "      <th>Country</th>\n",
       "      <th>Country Code</th>\n",
       "      <th>Indicator Name</th>\n",
       "      <th>Indicator Code</th>\n",
       "      <th>Year</th>\n",
       "      <th>GDP</th>\n",
       "    </tr>\n",
       "  </thead>\n",
       "  <tbody>\n",
       "    <tr>\n",
       "      <th>0</th>\n",
       "      <td>Albania</td>\n",
       "      <td>ALB</td>\n",
       "      <td>GDP (current US$)</td>\n",
       "      <td>NY.GDP.MKTP.CD</td>\n",
       "      <td>1995</td>\n",
       "      <td>2392764853.42</td>\n",
       "    </tr>\n",
       "    <tr>\n",
       "      <th>103</th>\n",
       "      <td>Albania</td>\n",
       "      <td>ALB</td>\n",
       "      <td>GDP (current US$)</td>\n",
       "      <td>NY.GDP.MKTP.CD</td>\n",
       "      <td>1996</td>\n",
       "      <td>3199642579.97</td>\n",
       "    </tr>\n",
       "    <tr>\n",
       "      <th>206</th>\n",
       "      <td>Albania</td>\n",
       "      <td>ALB</td>\n",
       "      <td>GDP (current US$)</td>\n",
       "      <td>NY.GDP.MKTP.CD</td>\n",
       "      <td>1997</td>\n",
       "      <td>2258515610.09</td>\n",
       "    </tr>\n",
       "    <tr>\n",
       "      <th>309</th>\n",
       "      <td>Albania</td>\n",
       "      <td>ALB</td>\n",
       "      <td>GDP (current US$)</td>\n",
       "      <td>NY.GDP.MKTP.CD</td>\n",
       "      <td>1998</td>\n",
       "      <td>2545967253.24</td>\n",
       "    </tr>\n",
       "    <tr>\n",
       "      <th>412</th>\n",
       "      <td>Albania</td>\n",
       "      <td>ALB</td>\n",
       "      <td>GDP (current US$)</td>\n",
       "      <td>NY.GDP.MKTP.CD</td>\n",
       "      <td>1999</td>\n",
       "      <td>3212119044.17</td>\n",
       "    </tr>\n",
       "    <tr>\n",
       "      <th>...</th>\n",
       "      <td>...</td>\n",
       "      <td>...</td>\n",
       "      <td>...</td>\n",
       "      <td>...</td>\n",
       "      <td>...</td>\n",
       "      <td>...</td>\n",
       "    </tr>\n",
       "    <tr>\n",
       "      <th>2162</th>\n",
       "      <td>Zambia</td>\n",
       "      <td>ZMB</td>\n",
       "      <td>GDP (current US$)</td>\n",
       "      <td>NY.GDP.MKTP.CD</td>\n",
       "      <td>2015</td>\n",
       "      <td>21243339048.24</td>\n",
       "    </tr>\n",
       "    <tr>\n",
       "      <th>2265</th>\n",
       "      <td>Zambia</td>\n",
       "      <td>ZMB</td>\n",
       "      <td>GDP (current US$)</td>\n",
       "      <td>NY.GDP.MKTP.CD</td>\n",
       "      <td>2016</td>\n",
       "      <td>20954754378.14</td>\n",
       "    </tr>\n",
       "    <tr>\n",
       "      <th>2368</th>\n",
       "      <td>Zambia</td>\n",
       "      <td>ZMB</td>\n",
       "      <td>GDP (current US$)</td>\n",
       "      <td>NY.GDP.MKTP.CD</td>\n",
       "      <td>2017</td>\n",
       "      <td>25868165344.82</td>\n",
       "    </tr>\n",
       "    <tr>\n",
       "      <th>2471</th>\n",
       "      <td>Zambia</td>\n",
       "      <td>ZMB</td>\n",
       "      <td>GDP (current US$)</td>\n",
       "      <td>NY.GDP.MKTP.CD</td>\n",
       "      <td>2018</td>\n",
       "      <td>26312140828.64</td>\n",
       "    </tr>\n",
       "    <tr>\n",
       "      <th>2574</th>\n",
       "      <td>Zambia</td>\n",
       "      <td>ZMB</td>\n",
       "      <td>GDP (current US$)</td>\n",
       "      <td>NY.GDP.MKTP.CD</td>\n",
       "      <td>2019</td>\n",
       "      <td>23309773922.76</td>\n",
       "    </tr>\n",
       "  </tbody>\n",
       "</table>\n",
       "<p>2575 rows × 6 columns</p>\n",
       "</div>"
      ],
      "text/plain": [
       "      Country Country Code     Indicator Name  Indicator Code  Year  \\\n",
       "0     Albania          ALB  GDP (current US$)  NY.GDP.MKTP.CD  1995   \n",
       "103   Albania          ALB  GDP (current US$)  NY.GDP.MKTP.CD  1996   \n",
       "206   Albania          ALB  GDP (current US$)  NY.GDP.MKTP.CD  1997   \n",
       "309   Albania          ALB  GDP (current US$)  NY.GDP.MKTP.CD  1998   \n",
       "412   Albania          ALB  GDP (current US$)  NY.GDP.MKTP.CD  1999   \n",
       "...       ...          ...                ...             ...   ...   \n",
       "2162   Zambia          ZMB  GDP (current US$)  NY.GDP.MKTP.CD  2015   \n",
       "2265   Zambia          ZMB  GDP (current US$)  NY.GDP.MKTP.CD  2016   \n",
       "2368   Zambia          ZMB  GDP (current US$)  NY.GDP.MKTP.CD  2017   \n",
       "2471   Zambia          ZMB  GDP (current US$)  NY.GDP.MKTP.CD  2018   \n",
       "2574   Zambia          ZMB  GDP (current US$)  NY.GDP.MKTP.CD  2019   \n",
       "\n",
       "                GDP  \n",
       "0     2392764853.42  \n",
       "103   3199642579.97  \n",
       "206   2258515610.09  \n",
       "309   2545967253.24  \n",
       "412   3212119044.17  \n",
       "...             ...  \n",
       "2162 21243339048.24  \n",
       "2265 20954754378.14  \n",
       "2368 25868165344.82  \n",
       "2471 26312140828.64  \n",
       "2574 23309773922.76  \n",
       "\n",
       "[2575 rows x 6 columns]"
      ]
     },
     "execution_count": 47,
     "metadata": {},
     "output_type": "execute_result"
    }
   ],
   "source": [
    "# change Year so it is not an object.\n",
    "gdp.Year = gdp.Year.astype('int64')\n",
    "gdp"
   ]
  },
  {
   "cell_type": "code",
   "execution_count": 95,
   "metadata": {},
   "outputs": [
    {
     "data": {
      "text/plain": [
       "array(['Ivory Coast', 'US', 'The Netherlands', 'Gambia', 'Yugoslavia',\n",
       "       'Kyrgyzstan', 'Slovakia', 'Congo', 'Egypt', 'Venezuela', 'Syria',\n",
       "       'Equador', 'Hong Kong', 'Russia', 'Bahamas', 'Serbia-Montenegro',\n",
       "       'North Korea', 'Myanmar (Burma)', 'South Korea', 'Macedonia',\n",
       "       'Taiwan', 'Laos'], dtype=object)"
      ]
     },
     "execution_count": 95,
     "metadata": {},
     "output_type": "execute_result"
    }
   ],
   "source": [
    "x = merged_df.loc[~merged_df['Country'].isin(gdp.Country)]\n",
    "x.Country.unique()"
   ]
  },
  {
   "cell_type": "code",
   "execution_count": null,
   "metadata": {},
   "outputs": [],
   "source": []
  },
  {
   "cell_type": "code",
   "execution_count": 50,
   "metadata": {},
   "outputs": [],
   "source": [
    "# merge the two df's\n",
    "gdp = gdp.merge(merged_df, on =['Country', 'Year'], how ='inner')"
   ]
  },
  {
   "cell_type": "code",
   "execution_count": 64,
   "metadata": {},
   "outputs": [],
   "source": [
    "os.chdir(r'C:\\Users\\Quoc\\Desktop\\[ironhack]\\[IronHack]\\github\\Statistically_Significant_Insights\\cleaned_data')"
   ]
  },
  {
   "cell_type": "code",
   "execution_count": 65,
   "metadata": {},
   "outputs": [],
   "source": [
    "gdp.to_csv(r'df_merged5_gdp.csv')"
   ]
  },
  {
   "cell_type": "code",
   "execution_count": 66,
   "metadata": {},
   "outputs": [],
   "source": [
    "# create a copy to work with\n",
    "gdp2 = gdp.copy()"
   ]
  },
  {
   "cell_type": "code",
   "execution_count": 67,
   "metadata": {},
   "outputs": [],
   "source": [
    "# Show GDP in Billion\n",
    "gdp2.GDP = gdp2.GDP.apply(lambda x : x/1000000000)"
   ]
  },
  {
   "cell_type": "code",
   "execution_count": 68,
   "metadata": {},
   "outputs": [
    {
     "data": {
      "text/html": [
       "<div>\n",
       "<style scoped>\n",
       "    .dataframe tbody tr th:only-of-type {\n",
       "        vertical-align: middle;\n",
       "    }\n",
       "\n",
       "    .dataframe tbody tr th {\n",
       "        vertical-align: top;\n",
       "    }\n",
       "\n",
       "    .dataframe thead th {\n",
       "        text-align: right;\n",
       "    }\n",
       "</style>\n",
       "<table border=\"1\" class=\"dataframe\">\n",
       "  <thead>\n",
       "    <tr style=\"text-align: right;\">\n",
       "      <th></th>\n",
       "      <th>Country</th>\n",
       "      <th>Country Code</th>\n",
       "      <th>Indicator Name</th>\n",
       "      <th>Indicator Code</th>\n",
       "      <th>Year</th>\n",
       "      <th>GDP</th>\n",
       "      <th>City</th>\n",
       "      <th>Region</th>\n",
       "      <th>AvgCelsiusTemp</th>\n",
       "      <th>CO2</th>\n",
       "      <th>F-Gas</th>\n",
       "      <th>N2O</th>\n",
       "    </tr>\n",
       "  </thead>\n",
       "  <tbody>\n",
       "    <tr>\n",
       "      <th>0</th>\n",
       "      <td>Albania</td>\n",
       "      <td>ALB</td>\n",
       "      <td>GDP (current US$)</td>\n",
       "      <td>NY.GDP.MKTP.CD</td>\n",
       "      <td>1997</td>\n",
       "      <td>2.26</td>\n",
       "      <td>Tirana</td>\n",
       "      <td>Europe</td>\n",
       "      <td>22.19</td>\n",
       "      <td>1.48</td>\n",
       "      <td>0.07</td>\n",
       "      <td>1.13</td>\n",
       "    </tr>\n",
       "    <tr>\n",
       "      <th>1</th>\n",
       "      <td>Albania</td>\n",
       "      <td>ALB</td>\n",
       "      <td>GDP (current US$)</td>\n",
       "      <td>NY.GDP.MKTP.CD</td>\n",
       "      <td>1998</td>\n",
       "      <td>2.55</td>\n",
       "      <td>Tirana</td>\n",
       "      <td>Europe</td>\n",
       "      <td>16.45</td>\n",
       "      <td>1.80</td>\n",
       "      <td>0.09</td>\n",
       "      <td>1.17</td>\n",
       "    </tr>\n",
       "    <tr>\n",
       "      <th>2</th>\n",
       "      <td>Albania</td>\n",
       "      <td>ALB</td>\n",
       "      <td>GDP (current US$)</td>\n",
       "      <td>NY.GDP.MKTP.CD</td>\n",
       "      <td>1999</td>\n",
       "      <td>3.21</td>\n",
       "      <td>Tirana</td>\n",
       "      <td>Europe</td>\n",
       "      <td>17.29</td>\n",
       "      <td>2.97</td>\n",
       "      <td>0.11</td>\n",
       "      <td>1.12</td>\n",
       "    </tr>\n",
       "    <tr>\n",
       "      <th>3</th>\n",
       "      <td>Albania</td>\n",
       "      <td>ALB</td>\n",
       "      <td>GDP (current US$)</td>\n",
       "      <td>NY.GDP.MKTP.CD</td>\n",
       "      <td>2000</td>\n",
       "      <td>3.48</td>\n",
       "      <td>Tirana</td>\n",
       "      <td>Europe</td>\n",
       "      <td>17.32</td>\n",
       "      <td>3.17</td>\n",
       "      <td>0.12</td>\n",
       "      <td>1.18</td>\n",
       "    </tr>\n",
       "    <tr>\n",
       "      <th>4</th>\n",
       "      <td>Albania</td>\n",
       "      <td>ALB</td>\n",
       "      <td>GDP (current US$)</td>\n",
       "      <td>NY.GDP.MKTP.CD</td>\n",
       "      <td>2001</td>\n",
       "      <td>3.92</td>\n",
       "      <td>Tirana</td>\n",
       "      <td>Europe</td>\n",
       "      <td>16.24</td>\n",
       "      <td>3.22</td>\n",
       "      <td>0.13</td>\n",
       "      <td>1.15</td>\n",
       "    </tr>\n",
       "    <tr>\n",
       "      <th>...</th>\n",
       "      <td>...</td>\n",
       "      <td>...</td>\n",
       "      <td>...</td>\n",
       "      <td>...</td>\n",
       "      <td>...</td>\n",
       "      <td>...</td>\n",
       "      <td>...</td>\n",
       "      <td>...</td>\n",
       "      <td>...</td>\n",
       "      <td>...</td>\n",
       "      <td>...</td>\n",
       "      <td>...</td>\n",
       "    </tr>\n",
       "    <tr>\n",
       "      <th>3361</th>\n",
       "      <td>Zambia</td>\n",
       "      <td>ZMB</td>\n",
       "      <td>GDP (current US$)</td>\n",
       "      <td>NY.GDP.MKTP.CD</td>\n",
       "      <td>2010</td>\n",
       "      <td>20.27</td>\n",
       "      <td>Lusaka</td>\n",
       "      <td>Africa</td>\n",
       "      <td>19.04</td>\n",
       "      <td>2.64</td>\n",
       "      <td>0.25</td>\n",
       "      <td>13.97</td>\n",
       "    </tr>\n",
       "    <tr>\n",
       "      <th>3362</th>\n",
       "      <td>Zambia</td>\n",
       "      <td>ZMB</td>\n",
       "      <td>GDP (current US$)</td>\n",
       "      <td>NY.GDP.MKTP.CD</td>\n",
       "      <td>2011</td>\n",
       "      <td>23.46</td>\n",
       "      <td>Lusaka</td>\n",
       "      <td>Africa</td>\n",
       "      <td>20.77</td>\n",
       "      <td>3.06</td>\n",
       "      <td>0.29</td>\n",
       "      <td>13.81</td>\n",
       "    </tr>\n",
       "    <tr>\n",
       "      <th>3363</th>\n",
       "      <td>Zambia</td>\n",
       "      <td>ZMB</td>\n",
       "      <td>GDP (current US$)</td>\n",
       "      <td>NY.GDP.MKTP.CD</td>\n",
       "      <td>2012</td>\n",
       "      <td>25.50</td>\n",
       "      <td>Lusaka</td>\n",
       "      <td>Africa</td>\n",
       "      <td>20.97</td>\n",
       "      <td>4.02</td>\n",
       "      <td>0.33</td>\n",
       "      <td>14.88</td>\n",
       "    </tr>\n",
       "    <tr>\n",
       "      <th>3364</th>\n",
       "      <td>Zambia</td>\n",
       "      <td>ZMB</td>\n",
       "      <td>GDP (current US$)</td>\n",
       "      <td>NY.GDP.MKTP.CD</td>\n",
       "      <td>2013</td>\n",
       "      <td>28.05</td>\n",
       "      <td>Lusaka</td>\n",
       "      <td>Africa</td>\n",
       "      <td>21.07</td>\n",
       "      <td>4.24</td>\n",
       "      <td>0.37</td>\n",
       "      <td>15.19</td>\n",
       "    </tr>\n",
       "    <tr>\n",
       "      <th>3365</th>\n",
       "      <td>Zambia</td>\n",
       "      <td>ZMB</td>\n",
       "      <td>GDP (current US$)</td>\n",
       "      <td>NY.GDP.MKTP.CD</td>\n",
       "      <td>2014</td>\n",
       "      <td>27.15</td>\n",
       "      <td>Lusaka</td>\n",
       "      <td>Africa</td>\n",
       "      <td>22.52</td>\n",
       "      <td>4.80</td>\n",
       "      <td>0.41</td>\n",
       "      <td>14.93</td>\n",
       "    </tr>\n",
       "  </tbody>\n",
       "</table>\n",
       "<p>3366 rows × 12 columns</p>\n",
       "</div>"
      ],
      "text/plain": [
       "      Country Country Code     Indicator Name  Indicator Code  Year   GDP  \\\n",
       "0     Albania          ALB  GDP (current US$)  NY.GDP.MKTP.CD  1997  2.26   \n",
       "1     Albania          ALB  GDP (current US$)  NY.GDP.MKTP.CD  1998  2.55   \n",
       "2     Albania          ALB  GDP (current US$)  NY.GDP.MKTP.CD  1999  3.21   \n",
       "3     Albania          ALB  GDP (current US$)  NY.GDP.MKTP.CD  2000  3.48   \n",
       "4     Albania          ALB  GDP (current US$)  NY.GDP.MKTP.CD  2001  3.92   \n",
       "...       ...          ...                ...             ...   ...   ...   \n",
       "3361   Zambia          ZMB  GDP (current US$)  NY.GDP.MKTP.CD  2010 20.27   \n",
       "3362   Zambia          ZMB  GDP (current US$)  NY.GDP.MKTP.CD  2011 23.46   \n",
       "3363   Zambia          ZMB  GDP (current US$)  NY.GDP.MKTP.CD  2012 25.50   \n",
       "3364   Zambia          ZMB  GDP (current US$)  NY.GDP.MKTP.CD  2013 28.05   \n",
       "3365   Zambia          ZMB  GDP (current US$)  NY.GDP.MKTP.CD  2014 27.15   \n",
       "\n",
       "        City  Region  AvgCelsiusTemp  CO2  F-Gas   N2O  \n",
       "0     Tirana  Europe           22.19 1.48   0.07  1.13  \n",
       "1     Tirana  Europe           16.45 1.80   0.09  1.17  \n",
       "2     Tirana  Europe           17.29 2.97   0.11  1.12  \n",
       "3     Tirana  Europe           17.32 3.17   0.12  1.18  \n",
       "4     Tirana  Europe           16.24 3.22   0.13  1.15  \n",
       "...      ...     ...             ...  ...    ...   ...  \n",
       "3361  Lusaka  Africa           19.04 2.64   0.25 13.97  \n",
       "3362  Lusaka  Africa           20.77 3.06   0.29 13.81  \n",
       "3363  Lusaka  Africa           20.97 4.02   0.33 14.88  \n",
       "3364  Lusaka  Africa           21.07 4.24   0.37 15.19  \n",
       "3365  Lusaka  Africa           22.52 4.80   0.41 14.93  \n",
       "\n",
       "[3366 rows x 12 columns]"
      ]
     },
     "execution_count": 68,
     "metadata": {},
     "output_type": "execute_result"
    }
   ],
   "source": [
    "gdp2"
   ]
  },
  {
   "cell_type": "code",
   "execution_count": 69,
   "metadata": {},
   "outputs": [
    {
     "data": {
      "text/plain": [
       "array(['Albania', 'Algeria', 'Argentina', 'Australia', 'Austria',\n",
       "       'Bahrain', 'Bangladesh', 'Barbados', 'Belarus', 'Belgium',\n",
       "       'Belize', 'Benin', 'Bermuda', 'Bolivia', 'Brazil', 'Bulgaria',\n",
       "       'Burundi', 'Canada', 'Central African Republic', 'China',\n",
       "       'Colombia', 'Costa Rica', 'Croatia', 'Cuba', 'Cyprus',\n",
       "       'Czech Republic', 'Denmark', 'Dominican Republic', 'Ethiopia',\n",
       "       'Finland', 'France', 'Gabon', 'Georgia', 'Germany', 'Greece',\n",
       "       'Guatemala', 'Guinea', 'Guinea-Bissau', 'Guyana', 'Haiti',\n",
       "       'Honduras', 'Hungary', 'Iceland', 'India', 'Indonesia', 'Ireland',\n",
       "       'Israel', 'Italy', 'Japan', 'Jordan', 'Kazakhstan', 'Kenya',\n",
       "       'Kuwait', 'Latvia', 'Lebanon', 'Madagascar', 'Malawi', 'Malaysia',\n",
       "       'Mauritania', 'Mexico', 'Mongolia', 'Morocco', 'Mozambique',\n",
       "       'Namibia', 'Nepal', 'New Zealand', 'Nicaragua', 'Nigeria',\n",
       "       'Norway', 'Oman', 'Pakistan', 'Panama', 'Peru', 'Philippines',\n",
       "       'Poland', 'Portugal', 'Qatar', 'Romania', 'Saudi Arabia',\n",
       "       'Senegal', 'Sierra Leone', 'Singapore', 'South Africa', 'Spain',\n",
       "       'Sri Lanka', 'Suriname', 'Sweden', 'Switzerland', 'Tajikistan',\n",
       "       'Tanzania', 'Thailand', 'Togo', 'Tunisia', 'Turkey',\n",
       "       'Turkmenistan', 'Uganda', 'Ukraine', 'United Arab Emirates',\n",
       "       'United Kingdom', 'Uruguay', 'Uzbekistan', 'Vietnam', 'Zambia'],\n",
       "      dtype=object)"
      ]
     },
     "execution_count": 69,
     "metadata": {},
     "output_type": "execute_result"
    }
   ],
   "source": [
    "gdp.Country.unique()"
   ]
  },
  {
   "cell_type": "code",
   "execution_count": 70,
   "metadata": {},
   "outputs": [
    {
     "data": {
      "text/html": [
       "<div>\n",
       "<style scoped>\n",
       "    .dataframe tbody tr th:only-of-type {\n",
       "        vertical-align: middle;\n",
       "    }\n",
       "\n",
       "    .dataframe tbody tr th {\n",
       "        vertical-align: top;\n",
       "    }\n",
       "\n",
       "    .dataframe thead th {\n",
       "        text-align: right;\n",
       "    }\n",
       "</style>\n",
       "<table border=\"1\" class=\"dataframe\">\n",
       "  <thead>\n",
       "    <tr style=\"text-align: right;\">\n",
       "      <th></th>\n",
       "      <th>Year</th>\n",
       "      <th>GDP</th>\n",
       "      <th>AvgCelsiusTemp</th>\n",
       "      <th>CO2</th>\n",
       "      <th>F-Gas</th>\n",
       "      <th>N2O</th>\n",
       "    </tr>\n",
       "  </thead>\n",
       "  <tbody>\n",
       "    <tr>\n",
       "      <th>Year</th>\n",
       "      <td>1.00</td>\n",
       "      <td>0.20</td>\n",
       "      <td>0.04</td>\n",
       "      <td>0.10</td>\n",
       "      <td>0.16</td>\n",
       "      <td>0.05</td>\n",
       "    </tr>\n",
       "    <tr>\n",
       "      <th>GDP</th>\n",
       "      <td>0.20</td>\n",
       "      <td>1.00</td>\n",
       "      <td>-0.19</td>\n",
       "      <td>0.81</td>\n",
       "      <td>0.85</td>\n",
       "      <td>0.66</td>\n",
       "    </tr>\n",
       "    <tr>\n",
       "      <th>AvgCelsiusTemp</th>\n",
       "      <td>0.04</td>\n",
       "      <td>-0.19</td>\n",
       "      <td>1.00</td>\n",
       "      <td>-0.07</td>\n",
       "      <td>-0.07</td>\n",
       "      <td>-0.00</td>\n",
       "    </tr>\n",
       "    <tr>\n",
       "      <th>CO2</th>\n",
       "      <td>0.10</td>\n",
       "      <td>0.81</td>\n",
       "      <td>-0.07</td>\n",
       "      <td>1.00</td>\n",
       "      <td>0.96</td>\n",
       "      <td>0.91</td>\n",
       "    </tr>\n",
       "    <tr>\n",
       "      <th>F-Gas</th>\n",
       "      <td>0.16</td>\n",
       "      <td>0.85</td>\n",
       "      <td>-0.07</td>\n",
       "      <td>0.96</td>\n",
       "      <td>1.00</td>\n",
       "      <td>0.80</td>\n",
       "    </tr>\n",
       "    <tr>\n",
       "      <th>N2O</th>\n",
       "      <td>0.05</td>\n",
       "      <td>0.66</td>\n",
       "      <td>-0.00</td>\n",
       "      <td>0.91</td>\n",
       "      <td>0.80</td>\n",
       "      <td>1.00</td>\n",
       "    </tr>\n",
       "  </tbody>\n",
       "</table>\n",
       "</div>"
      ],
      "text/plain": [
       "                Year   GDP  AvgCelsiusTemp   CO2  F-Gas   N2O\n",
       "Year            1.00  0.20            0.04  0.10   0.16  0.05\n",
       "GDP             0.20  1.00           -0.19  0.81   0.85  0.66\n",
       "AvgCelsiusTemp  0.04 -0.19            1.00 -0.07  -0.07 -0.00\n",
       "CO2             0.10  0.81           -0.07  1.00   0.96  0.91\n",
       "F-Gas           0.16  0.85           -0.07  0.96   1.00  0.80\n",
       "N2O             0.05  0.66           -0.00  0.91   0.80  1.00"
      ]
     },
     "execution_count": 70,
     "metadata": {},
     "output_type": "execute_result"
    }
   ],
   "source": [
    "# Check for any correlation of df\n",
    "gdp2.corr()"
   ]
  },
  {
   "cell_type": "code",
   "execution_count": 71,
   "metadata": {},
   "outputs": [
    {
     "data": {
      "text/plain": [
       "<matplotlib.axes._subplots.AxesSubplot at 0xf749cb8>"
      ]
     },
     "execution_count": 71,
     "metadata": {},
     "output_type": "execute_result"
    },
    {
     "data": {
      "image/png": "[encoded data removed]",
      "text/plain": [
       "<Figure size 432x288 with 2 Axes>"
      ]
     },
     "metadata": {
      "needs_background": "light"
     },
     "output_type": "display_data"
    }
   ],
   "source": [
    "# visualize any correlation of df\n",
    "sns.heatmap(gdp2.corr(), annot=True)"
   ]
  },
  {
   "cell_type": "code",
   "execution_count": 72,
   "metadata": {},
   "outputs": [
    {
     "data": {
      "text/html": [
       "<table class=\"simpletable\">\n",
       "<caption>OLS Regression Results</caption>\n",
       "<tr>\n",
       "  <th>Dep. Variable:</th>           <td>CO2</td>       <th>  R-squared:         </th> <td>   0.661</td> \n",
       "</tr>\n",
       "<tr>\n",
       "  <th>Model:</th>                   <td>OLS</td>       <th>  Adj. R-squared:    </th> <td>   0.661</td> \n",
       "</tr>\n",
       "<tr>\n",
       "  <th>Method:</th>             <td>Least Squares</td>  <th>  F-statistic:       </th> <td>   6302.</td> \n",
       "</tr>\n",
       "<tr>\n",
       "  <th>Date:</th>             <td>Fri, 21 May 2021</td> <th>  Prob (F-statistic):</th>  <td>  0.00</td>  \n",
       "</tr>\n",
       "<tr>\n",
       "  <th>Time:</th>                 <td>12:17:58</td>     <th>  Log-Likelihood:    </th> <td> -26136.</td> \n",
       "</tr>\n",
       "<tr>\n",
       "  <th>No. Observations:</th>      <td>  3232</td>      <th>  AIC:               </th> <td>5.228e+04</td>\n",
       "</tr>\n",
       "<tr>\n",
       "  <th>Df Residuals:</th>          <td>  3230</td>      <th>  BIC:               </th> <td>5.229e+04</td>\n",
       "</tr>\n",
       "<tr>\n",
       "  <th>Df Model:</th>              <td>     1</td>      <th>                     </th>     <td> </td>    \n",
       "</tr>\n",
       "<tr>\n",
       "  <th>Covariance Type:</th>      <td>nonrobust</td>    <th>                     </th>     <td> </td>    \n",
       "</tr>\n",
       "</table>\n",
       "<table class=\"simpletable\">\n",
       "<tr>\n",
       "      <td></td>         <th>coef</th>     <th>std err</th>      <th>t</th>      <th>P>|t|</th>  <th>[0.025</th>    <th>0.975]</th>  \n",
       "</tr>\n",
       "<tr>\n",
       "  <th>Intercept</th> <td>  -79.1906</td> <td>   15.430</td> <td>   -5.132</td> <td> 0.000</td> <td> -109.444</td> <td>  -48.937</td>\n",
       "</tr>\n",
       "<tr>\n",
       "  <th>GDP</th>       <td>    0.7252</td> <td>    0.009</td> <td>   79.383</td> <td> 0.000</td> <td>    0.707</td> <td>    0.743</td>\n",
       "</tr>\n",
       "</table>\n",
       "<table class=\"simpletable\">\n",
       "<tr>\n",
       "  <th>Omnibus:</th>       <td>1497.939</td> <th>  Durbin-Watson:     </th> <td>   0.021</td> \n",
       "</tr>\n",
       "<tr>\n",
       "  <th>Prob(Omnibus):</th>  <td> 0.000</td>  <th>  Jarque-Bera (JB):  </th> <td>21581.789</td>\n",
       "</tr>\n",
       "<tr>\n",
       "  <th>Skew:</th>           <td> 1.823</td>  <th>  Prob(JB):          </th> <td>    0.00</td> \n",
       "</tr>\n",
       "<tr>\n",
       "  <th>Kurtosis:</th>       <td>15.123</td>  <th>  Cond. No.          </th> <td>1.88e+03</td> \n",
       "</tr>\n",
       "</table><br/><br/>Warnings:<br/>[1] Standard Errors assume that the covariance matrix of the errors is correctly specified.<br/>[2] The condition number is large, 1.88e+03. This might indicate that there are<br/>strong multicollinearity or other numerical problems."
      ],
      "text/plain": [
       "<class 'statsmodels.iolib.summary.Summary'>\n",
       "\"\"\"\n",
       "                            OLS Regression Results                            \n",
       "==============================================================================\n",
       "Dep. Variable:                    CO2   R-squared:                       0.661\n",
       "Model:                            OLS   Adj. R-squared:                  0.661\n",
       "Method:                 Least Squares   F-statistic:                     6302.\n",
       "Date:                Fri, 21 May 2021   Prob (F-statistic):               0.00\n",
       "Time:                        12:17:58   Log-Likelihood:                -26136.\n",
       "No. Observations:                3232   AIC:                         5.228e+04\n",
       "Df Residuals:                    3230   BIC:                         5.229e+04\n",
       "Df Model:                           1                                         \n",
       "Covariance Type:            nonrobust                                         \n",
       "==============================================================================\n",
       "                 coef    std err          t      P>|t|      [0.025      0.975]\n",
       "------------------------------------------------------------------------------\n",
       "Intercept    -79.1906     15.430     -5.132      0.000    -109.444     -48.937\n",
       "GDP            0.7252      0.009     79.383      0.000       0.707       0.743\n",
       "==============================================================================\n",
       "Omnibus:                     1497.939   Durbin-Watson:                   0.021\n",
       "Prob(Omnibus):                  0.000   Jarque-Bera (JB):            21581.789\n",
       "Skew:                           1.823   Prob(JB):                         0.00\n",
       "Kurtosis:                      15.123   Cond. No.                     1.88e+03\n",
       "==============================================================================\n",
       "\n",
       "Warnings:\n",
       "[1] Standard Errors assume that the covariance matrix of the errors is correctly specified.\n",
       "[2] The condition number is large, 1.88e+03. This might indicate that there are\n",
       "strong multicollinearity or other numerical problems.\n",
       "\"\"\""
      ]
     },
     "execution_count": 72,
     "metadata": {},
     "output_type": "execute_result"
    }
   ],
   "source": [
    "# check overall model. \n",
    "from statsmodels.formula.api import ols\n",
    "model = ols('CO2 ~ GDP', gdp2).fit()\n",
    "model.summary()"
   ]
  },
  {
   "cell_type": "code",
   "execution_count": 73,
   "metadata": {},
   "outputs": [
    {
     "data": {
      "text/plain": [
       "0       2258515610.09\n",
       "1       2545967253.24\n",
       "2       3212119044.17\n",
       "3       3480355188.60\n",
       "4       3922099470.97\n",
       "            ...      \n",
       "3361   20265559483.85\n",
       "3362   23459515275.58\n",
       "3363   25503060420.03\n",
       "3364   28045553105.14\n",
       "3365   27150728123.78\n",
       "Name: GDP, Length: 3366, dtype: float64"
      ]
     },
     "execution_count": 73,
     "metadata": {},
     "output_type": "execute_result"
    }
   ],
   "source": [
    "gdp.GDP"
   ]
  },
  {
   "cell_type": "code",
   "execution_count": 74,
   "metadata": {},
   "outputs": [
    {
     "data": {
      "text/html": [
       "<div>\n",
       "<style scoped>\n",
       "    .dataframe tbody tr th:only-of-type {\n",
       "        vertical-align: middle;\n",
       "    }\n",
       "\n",
       "    .dataframe tbody tr th {\n",
       "        vertical-align: top;\n",
       "    }\n",
       "\n",
       "    .dataframe thead th {\n",
       "        text-align: right;\n",
       "    }\n",
       "</style>\n",
       "<table border=\"1\" class=\"dataframe\">\n",
       "  <thead>\n",
       "    <tr style=\"text-align: right;\">\n",
       "      <th></th>\n",
       "      <th>count</th>\n",
       "      <th>mean</th>\n",
       "      <th>std</th>\n",
       "      <th>min</th>\n",
       "      <th>25%</th>\n",
       "      <th>50%</th>\n",
       "      <th>75%</th>\n",
       "      <th>max</th>\n",
       "    </tr>\n",
       "  </thead>\n",
       "  <tbody>\n",
       "    <tr>\n",
       "      <th>Year</th>\n",
       "      <td>3366.00</td>\n",
       "      <td>2006.62</td>\n",
       "      <td>7.11</td>\n",
       "      <td>1995.00</td>\n",
       "      <td>2000.00</td>\n",
       "      <td>2006.00</td>\n",
       "      <td>2013.00</td>\n",
       "      <td>2019.00</td>\n",
       "    </tr>\n",
       "    <tr>\n",
       "      <th>GDP</th>\n",
       "      <td>3364.00</td>\n",
       "      <td>764.97</td>\n",
       "      <td>1587.94</td>\n",
       "      <td>0.21</td>\n",
       "      <td>20.20</td>\n",
       "      <td>175.33</td>\n",
       "      <td>776.97</td>\n",
       "      <td>14279.94</td>\n",
       "    </tr>\n",
       "    <tr>\n",
       "      <th>AvgCelsiusTemp</th>\n",
       "      <td>3366.00</td>\n",
       "      <td>18.02</td>\n",
       "      <td>7.73</td>\n",
       "      <td>-6.00</td>\n",
       "      <td>11.31</td>\n",
       "      <td>18.00</td>\n",
       "      <td>25.96</td>\n",
       "      <td>32.64</td>\n",
       "    </tr>\n",
       "    <tr>\n",
       "      <th>CO2</th>\n",
       "      <td>3232.00</td>\n",
       "      <td>462.49</td>\n",
       "      <td>1351.31</td>\n",
       "      <td>0.16</td>\n",
       "      <td>11.52</td>\n",
       "      <td>76.64</td>\n",
       "      <td>381.18</td>\n",
       "      <td>10313.46</td>\n",
       "    </tr>\n",
       "    <tr>\n",
       "      <th>F-Gas</th>\n",
       "      <td>3232.00</td>\n",
       "      <td>9.71</td>\n",
       "      <td>30.52</td>\n",
       "      <td>0.00</td>\n",
       "      <td>0.29</td>\n",
       "      <td>1.48</td>\n",
       "      <td>9.06</td>\n",
       "      <td>264.36</td>\n",
       "    </tr>\n",
       "    <tr>\n",
       "      <th>N2O</th>\n",
       "      <td>3232.00</td>\n",
       "      <td>42.89</td>\n",
       "      <td>92.06</td>\n",
       "      <td>0.03</td>\n",
       "      <td>3.20</td>\n",
       "      <td>10.59</td>\n",
       "      <td>38.62</td>\n",
       "      <td>546.99</td>\n",
       "    </tr>\n",
       "  </tbody>\n",
       "</table>\n",
       "</div>"
      ],
      "text/plain": [
       "                 count    mean     std     min     25%     50%     75%  \\\n",
       "Year           3366.00 2006.62    7.11 1995.00 2000.00 2006.00 2013.00   \n",
       "GDP            3364.00  764.97 1587.94    0.21   20.20  175.33  776.97   \n",
       "AvgCelsiusTemp 3366.00   18.02    7.73   -6.00   11.31   18.00   25.96   \n",
       "CO2            3232.00  462.49 1351.31    0.16   11.52   76.64  381.18   \n",
       "F-Gas          3232.00    9.71   30.52    0.00    0.29    1.48    9.06   \n",
       "N2O            3232.00   42.89   92.06    0.03    3.20   10.59   38.62   \n",
       "\n",
       "                    max  \n",
       "Year            2019.00  \n",
       "GDP            14279.94  \n",
       "AvgCelsiusTemp    32.64  \n",
       "CO2            10313.46  \n",
       "F-Gas            264.36  \n",
       "N2O              546.99  "
      ]
     },
     "execution_count": 74,
     "metadata": {},
     "output_type": "execute_result"
    }
   ],
   "source": [
    "gdp2.describe().T"
   ]
  },
  {
   "cell_type": "code",
   "execution_count": 75,
   "metadata": {},
   "outputs": [
    {
     "data": {
      "image/png": "[encoded data removed]",
      "text/plain": [
       "<Figure size 360x360 with 1 Axes>"
      ]
     },
     "metadata": {
      "needs_background": "light"
     },
     "output_type": "display_data"
    }
   ],
   "source": [
    "fig = plt.figure(figsize= (5,5))\n",
    "sns.lineplot(data = gdp2, x ='Year', y='GDP')\n",
    "plt.show()"
   ]
  },
  {
   "cell_type": "code",
   "execution_count": 79,
   "metadata": {},
   "outputs": [
    {
     "data": {
      "image/png": "[encoded data removed]",
      "text/plain": [
       "<Figure size 360x360 with 1 Axes>"
      ]
     },
     "metadata": {
      "needs_background": "light"
     },
     "output_type": "display_data"
    }
   ],
   "source": [
    "fig = plt.figure(figsize= (5,5))\n",
    "sns.lineplot(data = gdp2, x ='Year', y='CO2')\n",
    "plt.show()"
   ]
  },
  {
   "cell_type": "code",
   "execution_count": 100,
   "metadata": {},
   "outputs": [
    {
     "data": {
      "text/plain": [
       "<matplotlib.axes._subplots.AxesSubplot at 0x5dfbaf0>"
      ]
     },
     "execution_count": 100,
     "metadata": {},
     "output_type": "execute_result"
    },
    {
     "data": {
      "image/png": "[encoded data removed]",
      "text/plain": [
       "<Figure size 432x288 with 1 Axes>"
      ]
     },
     "metadata": {
      "needs_background": "light"
     },
     "output_type": "display_data"
    }
   ],
   "source": [
    "gdp2[['Country', 'Year', 'GDP', 'CO2']].groupby(['Year']).mean().plot()"
   ]
  },
  {
   "cell_type": "code",
   "execution_count": 78,
   "metadata": {},
   "outputs": [],
   "source": [
    "# all countries GDP / CO2 growth rate\n",
    "all_growth = gdp2[['Country', 'Year', 'GDP', 'CO2']].groupby(['Year']).mean().pct_change().dropna()\n",
    "all_growth\n"
   ]
  },
  {
   "cell_type": "code",
   "execution_count": 81,
   "metadata": {},
   "outputs": [
    {
     "data": {
      "image/png": "[encoded data removed]",
      "text/plain": [
       "<Figure size 1440x720 with 1 Axes>"
      ]
     },
     "metadata": {
      "needs_background": "light"
     },
     "output_type": "display_data"
    }
   ],
   "source": [
    "# plot the relationship between GDP and CO2\n",
    "all_growth.plot(figsize= (20,10))\n",
    "plt.title('% growth rate per year')\n",
    "plt.ylabel('% growth')\n",
    "\n",
    "plt.savefig('.\\gdp_co2_growthrate.png', bbox_inches='tight')\n",
    "plt.show()"
   ]
  },
  {
   "cell_type": "code",
   "execution_count": 115,
   "metadata": {},
   "outputs": [
    {
     "data": {
      "image/png": "[encoded data removed]",
      "text/plain": [
       "<Figure size 1080x720 with 1 Axes>"
      ]
     },
     "metadata": {
      "needs_background": "light"
     },
     "output_type": "display_data"
    }
   ],
   "source": [
    "# visualize the relationship between GDP and CO2\n",
    "fig = plt.figure(figsize= (15,10))\n",
    "sns.regplot(data=all_growth , x = 'GDP', y = 'CO2')\n",
    "plt.show()"
   ]
  },
  {
   "cell_type": "code",
   "execution_count": 83,
   "metadata": {},
   "outputs": [
    {
     "data": {
      "text/html": [
       "<div>\n",
       "<style scoped>\n",
       "    .dataframe tbody tr th:only-of-type {\n",
       "        vertical-align: middle;\n",
       "    }\n",
       "\n",
       "    .dataframe tbody tr th {\n",
       "        vertical-align: top;\n",
       "    }\n",
       "\n",
       "    .dataframe thead th {\n",
       "        text-align: right;\n",
       "    }\n",
       "</style>\n",
       "<table border=\"1\" class=\"dataframe\">\n",
       "  <thead>\n",
       "    <tr style=\"text-align: right;\">\n",
       "      <th></th>\n",
       "      <th>GDP</th>\n",
       "      <th>CO2</th>\n",
       "    </tr>\n",
       "  </thead>\n",
       "  <tbody>\n",
       "    <tr>\n",
       "      <th>GDP</th>\n",
       "      <td>1.00</td>\n",
       "      <td>0.73</td>\n",
       "    </tr>\n",
       "    <tr>\n",
       "      <th>CO2</th>\n",
       "      <td>0.73</td>\n",
       "      <td>1.00</td>\n",
       "    </tr>\n",
       "  </tbody>\n",
       "</table>\n",
       "</div>"
      ],
      "text/plain": [
       "     GDP  CO2\n",
       "GDP 1.00 0.73\n",
       "CO2 0.73 1.00"
      ]
     },
     "execution_count": 83,
     "metadata": {},
     "output_type": "execute_result"
    }
   ],
   "source": [
    "all_growth.corr()"
   ]
  },
  {
   "cell_type": "code",
   "execution_count": 84,
   "metadata": {},
   "outputs": [
    {
     "data": {
      "text/html": [
       "<table class=\"simpletable\">\n",
       "<caption>OLS Regression Results</caption>\n",
       "<tr>\n",
       "  <th>Dep. Variable:</th>           <td>CO2</td>       <th>  R-squared:         </th> <td>   0.533</td>\n",
       "</tr>\n",
       "<tr>\n",
       "  <th>Model:</th>                   <td>OLS</td>       <th>  Adj. R-squared:    </th> <td>   0.512</td>\n",
       "</tr>\n",
       "<tr>\n",
       "  <th>Method:</th>             <td>Least Squares</td>  <th>  F-statistic:       </th> <td>   25.12</td>\n",
       "</tr>\n",
       "<tr>\n",
       "  <th>Date:</th>             <td>Fri, 21 May 2021</td> <th>  Prob (F-statistic):</th> <td>5.11e-05</td>\n",
       "</tr>\n",
       "<tr>\n",
       "  <th>Time:</th>                 <td>12:20:59</td>     <th>  Log-Likelihood:    </th> <td>  62.428</td>\n",
       "</tr>\n",
       "<tr>\n",
       "  <th>No. Observations:</th>      <td>    24</td>      <th>  AIC:               </th> <td>  -120.9</td>\n",
       "</tr>\n",
       "<tr>\n",
       "  <th>Df Residuals:</th>          <td>    22</td>      <th>  BIC:               </th> <td>  -118.5</td>\n",
       "</tr>\n",
       "<tr>\n",
       "  <th>Df Model:</th>              <td>     1</td>      <th>                     </th>     <td> </td>   \n",
       "</tr>\n",
       "<tr>\n",
       "  <th>Covariance Type:</th>      <td>nonrobust</td>    <th>                     </th>     <td> </td>   \n",
       "</tr>\n",
       "</table>\n",
       "<table class=\"simpletable\">\n",
       "<tr>\n",
       "      <td></td>         <th>coef</th>     <th>std err</th>      <th>t</th>      <th>P>|t|</th>  <th>[0.025</th>    <th>0.975]</th>  \n",
       "</tr>\n",
       "<tr>\n",
       "  <th>Intercept</th> <td>    0.0194</td> <td>    0.005</td> <td>    3.906</td> <td> 0.001</td> <td>    0.009</td> <td>    0.030</td>\n",
       "</tr>\n",
       "<tr>\n",
       "  <th>GDP</th>       <td>    0.3055</td> <td>    0.061</td> <td>    5.012</td> <td> 0.000</td> <td>    0.179</td> <td>    0.432</td>\n",
       "</tr>\n",
       "</table>\n",
       "<table class=\"simpletable\">\n",
       "<tr>\n",
       "  <th>Omnibus:</th>       <td> 2.910</td> <th>  Durbin-Watson:     </th> <td>   1.823</td>\n",
       "</tr>\n",
       "<tr>\n",
       "  <th>Prob(Omnibus):</th> <td> 0.233</td> <th>  Jarque-Bera (JB):  </th> <td>   1.798</td>\n",
       "</tr>\n",
       "<tr>\n",
       "  <th>Skew:</th>          <td>-0.436</td> <th>  Prob(JB):          </th> <td>   0.407</td>\n",
       "</tr>\n",
       "<tr>\n",
       "  <th>Kurtosis:</th>      <td> 1.981</td> <th>  Cond. No.          </th> <td>    16.0</td>\n",
       "</tr>\n",
       "</table><br/><br/>Warnings:<br/>[1] Standard Errors assume that the covariance matrix of the errors is correctly specified."
      ],
      "text/plain": [
       "<class 'statsmodels.iolib.summary.Summary'>\n",
       "\"\"\"\n",
       "                            OLS Regression Results                            \n",
       "==============================================================================\n",
       "Dep. Variable:                    CO2   R-squared:                       0.533\n",
       "Model:                            OLS   Adj. R-squared:                  0.512\n",
       "Method:                 Least Squares   F-statistic:                     25.12\n",
       "Date:                Fri, 21 May 2021   Prob (F-statistic):           5.11e-05\n",
       "Time:                        12:20:59   Log-Likelihood:                 62.428\n",
       "No. Observations:                  24   AIC:                            -120.9\n",
       "Df Residuals:                      22   BIC:                            -118.5\n",
       "Df Model:                           1                                         \n",
       "Covariance Type:            nonrobust                                         \n",
       "==============================================================================\n",
       "                 coef    std err          t      P>|t|      [0.025      0.975]\n",
       "------------------------------------------------------------------------------\n",
       "Intercept      0.0194      0.005      3.906      0.001       0.009       0.030\n",
       "GDP            0.3055      0.061      5.012      0.000       0.179       0.432\n",
       "==============================================================================\n",
       "Omnibus:                        2.910   Durbin-Watson:                   1.823\n",
       "Prob(Omnibus):                  0.233   Jarque-Bera (JB):                1.798\n",
       "Skew:                          -0.436   Prob(JB):                        0.407\n",
       "Kurtosis:                       1.981   Cond. No.                         16.0\n",
       "==============================================================================\n",
       "\n",
       "Warnings:\n",
       "[1] Standard Errors assume that the covariance matrix of the errors is correctly specified.\n",
       "\"\"\""
      ]
     },
     "execution_count": 84,
     "metadata": {},
     "output_type": "execute_result"
    }
   ],
   "source": [
    "# growth rate CO2 and GDP model.\n",
    "from statsmodels.formula.api import ols\n",
    "model = ols('CO2 ~ GDP', all_growth).fit()\n",
    "model.summary()"
   ]
  },
  {
   "cell_type": "code",
   "execution_count": 96,
   "metadata": {},
   "outputs": [],
   "source": [
    "from scipy import stats"
   ]
  },
  {
   "cell_type": "code",
   "execution_count": 99,
   "metadata": {},
   "outputs": [
    {
     "name": "stdout",
     "output_type": "stream",
     "text": [
      "The slope is:0.3055103703853399\n",
      "The intercept is:0.019441385078895822\n"
     ]
    }
   ],
   "source": [
    "# double checking the slope & intercept. \n",
    "x = all_growth['GDP']\n",
    "y = all_growth['CO2']\n",
    "\n",
    "slope, intercept, r_value, p_value, std_err = stats.linregress(x,y)\n",
    "\n",
    "print('The slope is:' + str(slope))\n",
    "print('The intercept is:' + str(intercept))"
   ]
  },
  {
   "cell_type": "code",
   "execution_count": null,
   "metadata": {},
   "outputs": [],
   "source": [
    "#  Y  = bo + b1x1\n",
    "#  y  = CO2*x + GDP\n",
    "#  y = .0194*x + .3055 "
   ]
  },
  {
   "cell_type": "code",
   "execution_count": 102,
   "metadata": {},
   "outputs": [
    {
     "data": {
      "text/plain": [
       "array([0.01887081, 0.00746359, 0.0185156 , 0.02917784, 0.02891502,\n",
       "       0.01017707, 0.02868859, 0.06394673, 0.05691035, 0.04616342,\n",
       "       0.04218372, 0.06676843, 0.06278773, 0.00965407, 0.05268882,\n",
       "       0.06871778, 0.0302226 , 0.03057435, 0.03136237, 0.00076007,\n",
       "       0.02500789, 0.04267432, 0.04296425, 0.03414957])"
      ]
     },
     "execution_count": 102,
     "metadata": {},
     "output_type": "execute_result"
    }
   ],
   "source": [
    "y_pred = model.predict()\n",
    "y_pred"
   ]
  },
  {
   "cell_type": "code",
   "execution_count": 111,
   "metadata": {},
   "outputs": [],
   "source": [
    "all_growth['y_pred'] = y_pred"
   ]
  },
  {
   "cell_type": "code",
   "execution_count": 108,
   "metadata": {
    "collapsed": true
   },
   "outputs": [
    {
     "data": {
      "text/plain": [
       "Year\n",
       "1996   -0.01\n",
       "1997   -0.01\n",
       "1998    0.01\n",
       "1999   -0.03\n",
       "2000    0.02\n",
       "2001    0.01\n",
       "2002    0.01\n",
       "2003    0.01\n",
       "2004    0.02\n",
       "2005    0.03\n",
       "2006    0.00\n",
       "2007    0.02\n",
       "2008   -0.03\n",
       "2009    0.02\n",
       "2010   -0.00\n",
       "2011    0.01\n",
       "2012    0.02\n",
       "2013    0.01\n",
       "2014   -0.02\n",
       "2015    0.01\n",
       "2016   -0.02\n",
       "2017   -0.02\n",
       "2018   -0.02\n",
       "2019   -0.03\n",
       "dtype: float64"
      ]
     },
     "execution_count": 108,
     "metadata": {},
     "output_type": "execute_result"
    }
   ],
   "source": [
    "resids= model.resid\n",
    "resids"
   ]
  },
  {
   "cell_type": "code",
   "execution_count": null,
   "metadata": {},
   "outputs": [],
   "source": []
  }
 ],
 "metadata": {
  "kernelspec": {
   "display_name": "Python 3",
   "language": "python",
   "name": "python3"
  },
  "language_info": {
   "codemirror_mode": {
    "name": "ipython",
    "version": 3
   },
   "file_extension": ".py",
   "mimetype": "text/x-python",
   "name": "python",
   "nbconvert_exporter": "python",
   "pygments_lexer": "ipython3",
   "version": "3.8.3"
  }
 },
 "nbformat": 4,
 "nbformat_minor": 4
}
