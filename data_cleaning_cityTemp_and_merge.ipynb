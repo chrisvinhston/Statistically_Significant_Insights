{
 "cells": [
  {
   "cell_type": "code",
   "execution_count": 1,
   "metadata": {},
   "outputs": [],
   "source": [
    "import pandas as pd\n",
    "import numpy as np\n",
    "import os"
   ]
  },
  {
   "cell_type": "code",
   "execution_count": null,
   "metadata": {},
   "outputs": [],
   "source": [
    "# source : https://www.kaggle.com/sudalairajkumar/daily-temperature-of-major-cities"
   ]
  },
  {
   "cell_type": "code",
   "execution_count": 2,
   "metadata": {},
   "outputs": [
    {
     "name": "stderr",
     "output_type": "stream",
     "text": [
      "C:\\Users\\lilie\\anaconda3\\lib\\site-packages\\IPython\\core\\interactiveshell.py:3071: DtypeWarning: Columns (2) have mixed types.Specify dtype option on import or set low_memory=False.\n",
      "  has_raised = await self.run_ast_nodes(code_ast.body, cell_name,\n"
     ]
    },
    {
     "data": {
      "text/html": [
       "<div>\n",
       "<style scoped>\n",
       "    .dataframe tbody tr th:only-of-type {\n",
       "        vertical-align: middle;\n",
       "    }\n",
       "\n",
       "    .dataframe tbody tr th {\n",
       "        vertical-align: top;\n",
       "    }\n",
       "\n",
       "    .dataframe thead th {\n",
       "        text-align: right;\n",
       "    }\n",
       "</style>\n",
       "<table border=\"1\" class=\"dataframe\">\n",
       "  <thead>\n",
       "    <tr style=\"text-align: right;\">\n",
       "      <th></th>\n",
       "      <th>Region</th>\n",
       "      <th>Country</th>\n",
       "      <th>State</th>\n",
       "      <th>City</th>\n",
       "      <th>Month</th>\n",
       "      <th>Day</th>\n",
       "      <th>Year</th>\n",
       "      <th>AvgTemperature</th>\n",
       "    </tr>\n",
       "  </thead>\n",
       "  <tbody>\n",
       "    <tr>\n",
       "      <th>0</th>\n",
       "      <td>Africa</td>\n",
       "      <td>Algeria</td>\n",
       "      <td>NaN</td>\n",
       "      <td>Algiers</td>\n",
       "      <td>1</td>\n",
       "      <td>1</td>\n",
       "      <td>1995</td>\n",
       "      <td>64.2</td>\n",
       "    </tr>\n",
       "    <tr>\n",
       "      <th>1</th>\n",
       "      <td>Africa</td>\n",
       "      <td>Algeria</td>\n",
       "      <td>NaN</td>\n",
       "      <td>Algiers</td>\n",
       "      <td>1</td>\n",
       "      <td>2</td>\n",
       "      <td>1995</td>\n",
       "      <td>49.4</td>\n",
       "    </tr>\n",
       "    <tr>\n",
       "      <th>2</th>\n",
       "      <td>Africa</td>\n",
       "      <td>Algeria</td>\n",
       "      <td>NaN</td>\n",
       "      <td>Algiers</td>\n",
       "      <td>1</td>\n",
       "      <td>3</td>\n",
       "      <td>1995</td>\n",
       "      <td>48.8</td>\n",
       "    </tr>\n",
       "    <tr>\n",
       "      <th>3</th>\n",
       "      <td>Africa</td>\n",
       "      <td>Algeria</td>\n",
       "      <td>NaN</td>\n",
       "      <td>Algiers</td>\n",
       "      <td>1</td>\n",
       "      <td>4</td>\n",
       "      <td>1995</td>\n",
       "      <td>46.4</td>\n",
       "    </tr>\n",
       "    <tr>\n",
       "      <th>4</th>\n",
       "      <td>Africa</td>\n",
       "      <td>Algeria</td>\n",
       "      <td>NaN</td>\n",
       "      <td>Algiers</td>\n",
       "      <td>1</td>\n",
       "      <td>5</td>\n",
       "      <td>1995</td>\n",
       "      <td>47.9</td>\n",
       "    </tr>\n",
       "  </tbody>\n",
       "</table>\n",
       "</div>"
      ],
      "text/plain": [
       "   Region  Country State     City  Month  Day  Year  AvgTemperature\n",
       "0  Africa  Algeria   NaN  Algiers      1    1  1995            64.2\n",
       "1  Africa  Algeria   NaN  Algiers      1    2  1995            49.4\n",
       "2  Africa  Algeria   NaN  Algiers      1    3  1995            48.8\n",
       "3  Africa  Algeria   NaN  Algiers      1    4  1995            46.4\n",
       "4  Africa  Algeria   NaN  Algiers      1    5  1995            47.9"
      ]
     },
     "execution_count": 2,
     "metadata": {},
     "output_type": "execute_result"
    }
   ],
   "source": [
    "os.chdir(r'C:\\Users\\lilie\\Downloads\\climate_change')\n",
    "df = pd.read_csv('city_temperature.csv')\n",
    "df.head()"
   ]
  },
  {
   "cell_type": "code",
   "execution_count": 3,
   "metadata": {},
   "outputs": [
    {
     "data": {
      "text/plain": [
       "Region                  0\n",
       "Country                 0\n",
       "State             1450990\n",
       "City                    0\n",
       "Month                   0\n",
       "Day                     0\n",
       "Year                    0\n",
       "AvgTemperature          0\n",
       "dtype: int64"
      ]
     },
     "execution_count": 3,
     "metadata": {},
     "output_type": "execute_result"
    }
   ],
   "source": [
    "df.isna().sum()"
   ]
  },
  {
   "cell_type": "code",
   "execution_count": 4,
   "metadata": {},
   "outputs": [
    {
     "data": {
      "text/plain": [
       "Texas                     129711\n",
       "Ohio                       64855\n",
       "Florida                    61341\n",
       "Pennsylvania               52076\n",
       "Michigan                   46325\n",
       "New York                   46325\n",
       "California                 46325\n",
       "Indiana                    37060\n",
       "Illinois                   37060\n",
       "Oregon                     37060\n",
       "Alabama                    37060\n",
       "Georgia                    37060\n",
       "Tennessee                  37060\n",
       "North Carolina             37060\n",
       "Colorado                   37060\n",
       "Louisiana                  33593\n",
       "Maryland                   27795\n",
       "Washington                 27795\n",
       "Kansas                     27795\n",
       "Nebraska                   27795\n",
       "Alaska                     27795\n",
       "Missouri                   27795\n",
       "Kentucky                   27795\n",
       "Wisconsin                  27795\n",
       "Virginia                   27795\n",
       "Montana                    27794\n",
       "Arizona                    26484\n",
       "West Virginia              18530\n",
       "Oklahoma                   18530\n",
       "District of Columbia       18530\n",
       "Connecticut                18530\n",
       "Iowa                       18530\n",
       "Arkansas                   18530\n",
       "South Dakota               18530\n",
       "New Jersey                 18530\n",
       "North Dakota               18530\n",
       "Maine                      18530\n",
       "Minnesota                  18530\n",
       "Wyoming                    18530\n",
       "Idaho                      18530\n",
       "Mississippi                18530\n",
       "South Carolina             18530\n",
       "Nevada                     18530\n",
       "Rhode Island                9265\n",
       "Massachusetts               9265\n",
       "New Hampshire               9265\n",
       "Hawaii                      9265\n",
       "Vermont                     9265\n",
       "New Mexico                  9265\n",
       "Utah                        9265\n",
       "Additional Territories      6787\n",
       "Delaware                    5751\n",
       "Name: State, dtype: int64"
      ]
     },
     "execution_count": 4,
     "metadata": {},
     "output_type": "execute_result"
    }
   ],
   "source": [
    "df.State.value_counts()\n",
    "#missing states values because it's only concerning USA"
   ]
  },
  {
   "cell_type": "code",
   "execution_count": 5,
   "metadata": {},
   "outputs": [
    {
     "data": {
      "text/html": [
       "<div>\n",
       "<style scoped>\n",
       "    .dataframe tbody tr th:only-of-type {\n",
       "        vertical-align: middle;\n",
       "    }\n",
       "\n",
       "    .dataframe tbody tr th {\n",
       "        vertical-align: top;\n",
       "    }\n",
       "\n",
       "    .dataframe thead th {\n",
       "        text-align: right;\n",
       "    }\n",
       "</style>\n",
       "<table border=\"1\" class=\"dataframe\">\n",
       "  <thead>\n",
       "    <tr style=\"text-align: right;\">\n",
       "      <th></th>\n",
       "      <th>Region</th>\n",
       "      <th>Country</th>\n",
       "      <th>State</th>\n",
       "      <th>City</th>\n",
       "      <th>Month</th>\n",
       "      <th>Day</th>\n",
       "      <th>Year</th>\n",
       "      <th>AvgTemperature</th>\n",
       "    </tr>\n",
       "  </thead>\n",
       "  <tbody>\n",
       "    <tr>\n",
       "      <th>0</th>\n",
       "      <td>Africa</td>\n",
       "      <td>Algeria</td>\n",
       "      <td>NaN</td>\n",
       "      <td>Algiers</td>\n",
       "      <td>1</td>\n",
       "      <td>1</td>\n",
       "      <td>1995</td>\n",
       "      <td>64.2</td>\n",
       "    </tr>\n",
       "    <tr>\n",
       "      <th>1</th>\n",
       "      <td>Africa</td>\n",
       "      <td>Algeria</td>\n",
       "      <td>NaN</td>\n",
       "      <td>Algiers</td>\n",
       "      <td>1</td>\n",
       "      <td>2</td>\n",
       "      <td>1995</td>\n",
       "      <td>49.4</td>\n",
       "    </tr>\n",
       "    <tr>\n",
       "      <th>2</th>\n",
       "      <td>Africa</td>\n",
       "      <td>Algeria</td>\n",
       "      <td>NaN</td>\n",
       "      <td>Algiers</td>\n",
       "      <td>1</td>\n",
       "      <td>3</td>\n",
       "      <td>1995</td>\n",
       "      <td>48.8</td>\n",
       "    </tr>\n",
       "    <tr>\n",
       "      <th>3</th>\n",
       "      <td>Africa</td>\n",
       "      <td>Algeria</td>\n",
       "      <td>NaN</td>\n",
       "      <td>Algiers</td>\n",
       "      <td>1</td>\n",
       "      <td>4</td>\n",
       "      <td>1995</td>\n",
       "      <td>46.4</td>\n",
       "    </tr>\n",
       "    <tr>\n",
       "      <th>4</th>\n",
       "      <td>Africa</td>\n",
       "      <td>Algeria</td>\n",
       "      <td>NaN</td>\n",
       "      <td>Algiers</td>\n",
       "      <td>1</td>\n",
       "      <td>5</td>\n",
       "      <td>1995</td>\n",
       "      <td>47.9</td>\n",
       "    </tr>\n",
       "    <tr>\n",
       "      <th>...</th>\n",
       "      <td>...</td>\n",
       "      <td>...</td>\n",
       "      <td>...</td>\n",
       "      <td>...</td>\n",
       "      <td>...</td>\n",
       "      <td>...</td>\n",
       "      <td>...</td>\n",
       "      <td>...</td>\n",
       "    </tr>\n",
       "    <tr>\n",
       "      <th>1450985</th>\n",
       "      <td>South/Central America &amp; Carribean</td>\n",
       "      <td>Venezuela</td>\n",
       "      <td>NaN</td>\n",
       "      <td>Caracas</td>\n",
       "      <td>5</td>\n",
       "      <td>8</td>\n",
       "      <td>2020</td>\n",
       "      <td>80.5</td>\n",
       "    </tr>\n",
       "    <tr>\n",
       "      <th>1450986</th>\n",
       "      <td>South/Central America &amp; Carribean</td>\n",
       "      <td>Venezuela</td>\n",
       "      <td>NaN</td>\n",
       "      <td>Caracas</td>\n",
       "      <td>5</td>\n",
       "      <td>9</td>\n",
       "      <td>2020</td>\n",
       "      <td>81.3</td>\n",
       "    </tr>\n",
       "    <tr>\n",
       "      <th>1450987</th>\n",
       "      <td>South/Central America &amp; Carribean</td>\n",
       "      <td>Venezuela</td>\n",
       "      <td>NaN</td>\n",
       "      <td>Caracas</td>\n",
       "      <td>5</td>\n",
       "      <td>10</td>\n",
       "      <td>2020</td>\n",
       "      <td>80.2</td>\n",
       "    </tr>\n",
       "    <tr>\n",
       "      <th>1450988</th>\n",
       "      <td>South/Central America &amp; Carribean</td>\n",
       "      <td>Venezuela</td>\n",
       "      <td>NaN</td>\n",
       "      <td>Caracas</td>\n",
       "      <td>5</td>\n",
       "      <td>11</td>\n",
       "      <td>2020</td>\n",
       "      <td>81.1</td>\n",
       "    </tr>\n",
       "    <tr>\n",
       "      <th>1450989</th>\n",
       "      <td>South/Central America &amp; Carribean</td>\n",
       "      <td>Venezuela</td>\n",
       "      <td>NaN</td>\n",
       "      <td>Caracas</td>\n",
       "      <td>5</td>\n",
       "      <td>12</td>\n",
       "      <td>2020</td>\n",
       "      <td>81.0</td>\n",
       "    </tr>\n",
       "  </tbody>\n",
       "</table>\n",
       "<p>1450990 rows × 8 columns</p>\n",
       "</div>"
      ],
      "text/plain": [
       "                                    Region    Country State     City  Month  \\\n",
       "0                                   Africa    Algeria   NaN  Algiers      1   \n",
       "1                                   Africa    Algeria   NaN  Algiers      1   \n",
       "2                                   Africa    Algeria   NaN  Algiers      1   \n",
       "3                                   Africa    Algeria   NaN  Algiers      1   \n",
       "4                                   Africa    Algeria   NaN  Algiers      1   \n",
       "...                                    ...        ...   ...      ...    ...   \n",
       "1450985  South/Central America & Carribean  Venezuela   NaN  Caracas      5   \n",
       "1450986  South/Central America & Carribean  Venezuela   NaN  Caracas      5   \n",
       "1450987  South/Central America & Carribean  Venezuela   NaN  Caracas      5   \n",
       "1450988  South/Central America & Carribean  Venezuela   NaN  Caracas      5   \n",
       "1450989  South/Central America & Carribean  Venezuela   NaN  Caracas      5   \n",
       "\n",
       "         Day  Year  AvgTemperature  \n",
       "0          1  1995            64.2  \n",
       "1          2  1995            49.4  \n",
       "2          3  1995            48.8  \n",
       "3          4  1995            46.4  \n",
       "4          5  1995            47.9  \n",
       "...      ...   ...             ...  \n",
       "1450985    8  2020            80.5  \n",
       "1450986    9  2020            81.3  \n",
       "1450987   10  2020            80.2  \n",
       "1450988   11  2020            81.1  \n",
       "1450989   12  2020            81.0  \n",
       "\n",
       "[1450990 rows x 8 columns]"
      ]
     },
     "execution_count": 5,
     "metadata": {},
     "output_type": "execute_result"
    }
   ],
   "source": [
    "df.loc[df.State.isna()]"
   ]
  },
  {
   "cell_type": "code",
   "execution_count": 6,
   "metadata": {},
   "outputs": [
    {
     "data": {
      "text/plain": [
       "2000    119682\n",
       "1999    119355\n",
       "2001    119355\n",
       "2002    119355\n",
       "2003    119140\n",
       "1998    119082\n",
       "1996    118951\n",
       "1997    118656\n",
       "2004    118645\n",
       "1995    118616\n",
       "2005    117895\n",
       "2006    117647\n",
       "2010    115627\n",
       "2007    115428\n",
       "2008    114908\n",
       "2009    114247\n",
       "2011    113740\n",
       "2012    111993\n",
       "2013    111021\n",
       "2014    109018\n",
       "2015    107498\n",
       "2016    107237\n",
       "2017    106946\n",
       "2018    106698\n",
       "2019    106337\n",
       "2020     38810\n",
       "201        351\n",
       "200         89\n",
       "Name: Year, dtype: int64"
      ]
     },
     "execution_count": 6,
     "metadata": {},
     "output_type": "execute_result"
    }
   ],
   "source": [
    "df.Year.value_counts()"
   ]
  },
  {
   "cell_type": "code",
   "execution_count": 7,
   "metadata": {},
   "outputs": [
    {
     "data": {
      "text/plain": [
       "(2906327, 8)"
      ]
     },
     "execution_count": 7,
     "metadata": {},
     "output_type": "execute_result"
    }
   ],
   "source": [
    "df.shape"
   ]
  },
  {
   "cell_type": "code",
   "execution_count": 3,
   "metadata": {},
   "outputs": [
    {
     "data": {
      "text/plain": [
       "Int64Index([  58178,   58179,   58180,   58181,   58182,   58183,   58184,\n",
       "              58185,   58186,   58187,\n",
       "            ...\n",
       "            1212422, 1212423, 1212424, 1212425, 1212426, 1212427, 1212428,\n",
       "            1212429, 1212430, 1212431],\n",
       "           dtype='int64', length=440)"
      ]
     },
     "execution_count": 3,
     "metadata": {},
     "output_type": "execute_result"
    }
   ],
   "source": [
    "#drop year 200 & year 201\n",
    "row_to_drop = df.index[(df.Year==200) | (df.Year==201)]\n",
    "row_to_drop"
   ]
  },
  {
   "cell_type": "code",
   "execution_count": 4,
   "metadata": {},
   "outputs": [
    {
     "data": {
      "text/html": [
       "<div>\n",
       "<style scoped>\n",
       "    .dataframe tbody tr th:only-of-type {\n",
       "        vertical-align: middle;\n",
       "    }\n",
       "\n",
       "    .dataframe tbody tr th {\n",
       "        vertical-align: top;\n",
       "    }\n",
       "\n",
       "    .dataframe thead th {\n",
       "        text-align: right;\n",
       "    }\n",
       "</style>\n",
       "<table border=\"1\" class=\"dataframe\">\n",
       "  <thead>\n",
       "    <tr style=\"text-align: right;\">\n",
       "      <th></th>\n",
       "      <th>Region</th>\n",
       "      <th>Country</th>\n",
       "      <th>State</th>\n",
       "      <th>City</th>\n",
       "      <th>Month</th>\n",
       "      <th>Day</th>\n",
       "      <th>Year</th>\n",
       "      <th>AvgTemperature</th>\n",
       "    </tr>\n",
       "  </thead>\n",
       "  <tbody>\n",
       "    <tr>\n",
       "      <th>0</th>\n",
       "      <td>Africa</td>\n",
       "      <td>Algeria</td>\n",
       "      <td>NaN</td>\n",
       "      <td>Algiers</td>\n",
       "      <td>1</td>\n",
       "      <td>1</td>\n",
       "      <td>1995</td>\n",
       "      <td>64.2</td>\n",
       "    </tr>\n",
       "    <tr>\n",
       "      <th>1</th>\n",
       "      <td>Africa</td>\n",
       "      <td>Algeria</td>\n",
       "      <td>NaN</td>\n",
       "      <td>Algiers</td>\n",
       "      <td>1</td>\n",
       "      <td>2</td>\n",
       "      <td>1995</td>\n",
       "      <td>49.4</td>\n",
       "    </tr>\n",
       "    <tr>\n",
       "      <th>2</th>\n",
       "      <td>Africa</td>\n",
       "      <td>Algeria</td>\n",
       "      <td>NaN</td>\n",
       "      <td>Algiers</td>\n",
       "      <td>1</td>\n",
       "      <td>3</td>\n",
       "      <td>1995</td>\n",
       "      <td>48.8</td>\n",
       "    </tr>\n",
       "    <tr>\n",
       "      <th>3</th>\n",
       "      <td>Africa</td>\n",
       "      <td>Algeria</td>\n",
       "      <td>NaN</td>\n",
       "      <td>Algiers</td>\n",
       "      <td>1</td>\n",
       "      <td>4</td>\n",
       "      <td>1995</td>\n",
       "      <td>46.4</td>\n",
       "    </tr>\n",
       "    <tr>\n",
       "      <th>4</th>\n",
       "      <td>Africa</td>\n",
       "      <td>Algeria</td>\n",
       "      <td>NaN</td>\n",
       "      <td>Algiers</td>\n",
       "      <td>1</td>\n",
       "      <td>5</td>\n",
       "      <td>1995</td>\n",
       "      <td>47.9</td>\n",
       "    </tr>\n",
       "  </tbody>\n",
       "</table>\n",
       "</div>"
      ],
      "text/plain": [
       "   Region  Country State     City  Month  Day  Year  AvgTemperature\n",
       "0  Africa  Algeria   NaN  Algiers      1    1  1995            64.2\n",
       "1  Africa  Algeria   NaN  Algiers      1    2  1995            49.4\n",
       "2  Africa  Algeria   NaN  Algiers      1    3  1995            48.8\n",
       "3  Africa  Algeria   NaN  Algiers      1    4  1995            46.4\n",
       "4  Africa  Algeria   NaN  Algiers      1    5  1995            47.9"
      ]
     },
     "execution_count": 4,
     "metadata": {},
     "output_type": "execute_result"
    }
   ],
   "source": [
    "df2 = df.copy()\n",
    "df2.drop(row_to_drop, axis=0, inplace=True)\n",
    "df2.head()"
   ]
  },
  {
   "cell_type": "code",
   "execution_count": 10,
   "metadata": {},
   "outputs": [
    {
     "data": {
      "text/plain": [
       "2000    119682\n",
       "1999    119355\n",
       "2001    119355\n",
       "2002    119355\n",
       "2003    119140\n",
       "1998    119082\n",
       "1996    118951\n",
       "1997    118656\n",
       "2004    118645\n",
       "1995    118616\n",
       "2005    117895\n",
       "2006    117647\n",
       "2010    115627\n",
       "2007    115428\n",
       "2008    114908\n",
       "2009    114247\n",
       "2011    113740\n",
       "2012    111993\n",
       "2013    111021\n",
       "2014    109018\n",
       "2015    107498\n",
       "2016    107237\n",
       "2017    106946\n",
       "2018    106698\n",
       "2019    106337\n",
       "2020     38810\n",
       "Name: Year, dtype: int64"
      ]
     },
     "execution_count": 10,
     "metadata": {},
     "output_type": "execute_result"
    }
   ],
   "source": [
    "df2.Year.value_counts()\n",
    "#year is ok now"
   ]
  },
  {
   "cell_type": "code",
   "execution_count": 11,
   "metadata": {},
   "outputs": [
    {
     "data": {
      "text/plain": [
       "North America                        1556652\n",
       "Europe                                381695\n",
       "Asia                                  316663\n",
       "Africa                                251002\n",
       "South/Central America & Carribean     219530\n",
       "Middle East                           124749\n",
       "Australia/South Pacific                55596\n",
       "Name: Region, dtype: int64"
      ]
     },
     "execution_count": 11,
     "metadata": {},
     "output_type": "execute_result"
    }
   ],
   "source": [
    "df2.Region.value_counts()"
   ]
  },
  {
   "cell_type": "code",
   "execution_count": 12,
   "metadata": {},
   "outputs": [
    {
     "data": {
      "text/plain": [
       "US                   1455337\n",
       "Canada                 74245\n",
       "Australia              46330\n",
       "China                  46329\n",
       "India                  37063\n",
       "                      ...   \n",
       "Guyana                  5065\n",
       "Israel                  4641\n",
       "Burundi                 4543\n",
       "Georgia                 4378\n",
       "Serbia-Montenegro       3427\n",
       "Name: Country, Length: 125, dtype: int64"
      ]
     },
     "execution_count": 12,
     "metadata": {},
     "output_type": "execute_result"
    }
   ],
   "source": [
    "df2.Country.value_counts()"
   ]
  },
  {
   "cell_type": "code",
   "execution_count": 13,
   "metadata": {},
   "outputs": [
    {
     "data": {
      "text/plain": [
       "Index(['Region', 'Country', 'State', 'City', 'Month', 'Day', 'Year',\n",
       "       'AvgTemperature'],\n",
       "      dtype='object')"
      ]
     },
     "execution_count": 13,
     "metadata": {},
     "output_type": "execute_result"
    }
   ],
   "source": [
    "df2.columns"
   ]
  },
  {
   "cell_type": "code",
   "execution_count": 14,
   "metadata": {},
   "outputs": [
    {
     "data": {
      "text/plain": [
       "1     252698\n",
       "2     230401\n",
       "3     252689\n",
       "4     244491\n",
       "5     247332\n",
       "6     235530\n",
       "7     243287\n",
       "8     243177\n",
       "9     235274\n",
       "10    243022\n",
       "11    235061\n",
       "12    242925\n",
       "Name: Month, dtype: int64"
      ]
     },
     "execution_count": 14,
     "metadata": {},
     "output_type": "execute_result"
    }
   ],
   "source": [
    "df2.Month.value_counts().sort_index(ascending=True)"
   ]
  },
  {
   "cell_type": "code",
   "execution_count": 15,
   "metadata": {},
   "outputs": [
    {
     "data": {
      "text/plain": [
       "0         8\n",
       "1     95649\n",
       "2     95654\n",
       "3     95656\n",
       "4     95655\n",
       "5     95653\n",
       "6     95653\n",
       "7     95653\n",
       "8     95653\n",
       "9     95653\n",
       "10    95652\n",
       "11    95647\n",
       "12    95644\n",
       "13    95616\n",
       "14    95355\n",
       "15    95356\n",
       "16    95352\n",
       "17    95352\n",
       "18    95351\n",
       "19    95352\n",
       "20    95349\n",
       "21    95349\n",
       "22    95349\n",
       "23    95344\n",
       "24    95344\n",
       "25    95343\n",
       "26    95345\n",
       "27    95343\n",
       "28    95344\n",
       "29    89367\n",
       "30    87335\n",
       "31    55511\n",
       "Name: Day, dtype: int64"
      ]
     },
     "execution_count": 15,
     "metadata": {},
     "output_type": "execute_result"
    }
   ],
   "source": [
    "df2.Day.value_counts().sort_index(ascending=True)"
   ]
  },
  {
   "cell_type": "code",
   "execution_count": 5,
   "metadata": {},
   "outputs": [],
   "source": [
    "#drop day 0\n",
    "df2.drop(df2.index[(df2.Day==0)], axis=0, inplace=True)"
   ]
  },
  {
   "cell_type": "code",
   "execution_count": 6,
   "metadata": {},
   "outputs": [
    {
     "data": {
      "text/plain": [
       "1     95649\n",
       "2     95654\n",
       "3     95656\n",
       "4     95655\n",
       "5     95653\n",
       "6     95653\n",
       "7     95653\n",
       "8     95653\n",
       "9     95653\n",
       "10    95652\n",
       "11    95647\n",
       "12    95644\n",
       "13    95616\n",
       "14    95355\n",
       "15    95356\n",
       "16    95352\n",
       "17    95352\n",
       "18    95351\n",
       "19    95352\n",
       "20    95349\n",
       "21    95349\n",
       "22    95349\n",
       "23    95344\n",
       "24    95344\n",
       "25    95343\n",
       "26    95345\n",
       "27    95343\n",
       "28    95344\n",
       "29    89367\n",
       "30    87335\n",
       "31    55511\n",
       "Name: Day, dtype: int64"
      ]
     },
     "execution_count": 6,
     "metadata": {},
     "output_type": "execute_result"
    }
   ],
   "source": [
    "df2.Day.value_counts().sort_index(ascending=True)\n",
    "#now it's ok"
   ]
  },
  {
   "cell_type": "code",
   "execution_count": 7,
   "metadata": {},
   "outputs": [
    {
     "data": {
      "text/plain": [
       "-99.0     79224\n",
       "-50.0         1\n",
       "-49.1         1\n",
       "-47.7         1\n",
       "-46.9         1\n",
       "          ...  \n",
       " 109.5        1\n",
       " 109.7        1\n",
       " 109.8        1\n",
       " 109.9        4\n",
       " 110.0        1\n",
       "Name: AvgTemperature, Length: 1517, dtype: int64"
      ]
     },
     "execution_count": 7,
     "metadata": {},
     "output_type": "execute_result"
    }
   ],
   "source": [
    "df2.AvgTemperature.value_counts().sort_index(ascending=True)"
   ]
  },
  {
   "cell_type": "code",
   "execution_count": null,
   "metadata": {},
   "outputs": [],
   "source": [
    "#about temperature (https://academic.udayton.edu/kissock/http/Weather/source.htm)\n",
    "#The data fields in each file posted on this site are: month, day, year, average daily temperature (F).  \n",
    "#We use \"-99\" as a no-data flag when data are not available.\n",
    "\n",
    "# => drop -99 rows"
   ]
  },
  {
   "cell_type": "code",
   "execution_count": 7,
   "metadata": {},
   "outputs": [
    {
     "data": {
      "text/plain": [
       "Africa                               30077\n",
       "Europe                               12993\n",
       "South/Central America & Carribean    12838\n",
       "Asia                                 10500\n",
       "North America                         8491\n",
       "Middle East                           3938\n",
       "Australia/South Pacific                387\n",
       "Name: Region, dtype: int64"
      ]
     },
     "execution_count": 7,
     "metadata": {},
     "output_type": "execute_result"
    }
   ],
   "source": [
    "df2.loc[df2.AvgTemperature==-99].Region.value_counts()"
   ]
  },
  {
   "cell_type": "code",
   "execution_count": 8,
   "metadata": {},
   "outputs": [],
   "source": [
    "#drop avg temp = -99\n",
    "df2.drop(df2.index[df2.AvgTemperature==-99], axis=0, inplace=True)"
   ]
  },
  {
   "cell_type": "code",
   "execution_count": 21,
   "metadata": {},
   "outputs": [
    {
     "data": {
      "text/plain": [
       "-50.0     1\n",
       "-49.1     1\n",
       "-47.7     1\n",
       "-46.9     1\n",
       "-46.2     1\n",
       "         ..\n",
       " 109.5    1\n",
       " 109.7    1\n",
       " 109.8    1\n",
       " 109.9    4\n",
       " 110.0    1\n",
       "Name: AvgTemperature, Length: 1516, dtype: int64"
      ]
     },
     "execution_count": 21,
     "metadata": {},
     "output_type": "execute_result"
    }
   ],
   "source": [
    "df2.AvgTemperature.value_counts().sort_index(ascending=True)\n",
    "#it's ok now"
   ]
  },
  {
   "cell_type": "code",
   "execution_count": 22,
   "metadata": {},
   "outputs": [
    {
     "data": {
      "text/plain": [
       "(2826655, 8)"
      ]
     },
     "execution_count": 22,
     "metadata": {},
     "output_type": "execute_result"
    }
   ],
   "source": [
    "df2.shape"
   ]
  },
  {
   "cell_type": "code",
   "execution_count": 9,
   "metadata": {},
   "outputs": [
    {
     "data": {
      "text/html": [
       "<div>\n",
       "<style scoped>\n",
       "    .dataframe tbody tr th:only-of-type {\n",
       "        vertical-align: middle;\n",
       "    }\n",
       "\n",
       "    .dataframe tbody tr th {\n",
       "        vertical-align: top;\n",
       "    }\n",
       "\n",
       "    .dataframe thead th {\n",
       "        text-align: right;\n",
       "    }\n",
       "</style>\n",
       "<table border=\"1\" class=\"dataframe\">\n",
       "  <thead>\n",
       "    <tr style=\"text-align: right;\">\n",
       "      <th></th>\n",
       "      <th>Region</th>\n",
       "      <th>Country</th>\n",
       "      <th>State</th>\n",
       "      <th>City</th>\n",
       "      <th>Month</th>\n",
       "      <th>Day</th>\n",
       "      <th>Year</th>\n",
       "      <th>AvgTemperature</th>\n",
       "      <th>AvgCelsiusTemp</th>\n",
       "    </tr>\n",
       "  </thead>\n",
       "  <tbody>\n",
       "    <tr>\n",
       "      <th>0</th>\n",
       "      <td>Africa</td>\n",
       "      <td>Algeria</td>\n",
       "      <td>NaN</td>\n",
       "      <td>Algiers</td>\n",
       "      <td>1</td>\n",
       "      <td>1</td>\n",
       "      <td>1995</td>\n",
       "      <td>64.2</td>\n",
       "      <td>17.89</td>\n",
       "    </tr>\n",
       "    <tr>\n",
       "      <th>1</th>\n",
       "      <td>Africa</td>\n",
       "      <td>Algeria</td>\n",
       "      <td>NaN</td>\n",
       "      <td>Algiers</td>\n",
       "      <td>1</td>\n",
       "      <td>2</td>\n",
       "      <td>1995</td>\n",
       "      <td>49.4</td>\n",
       "      <td>9.67</td>\n",
       "    </tr>\n",
       "    <tr>\n",
       "      <th>2</th>\n",
       "      <td>Africa</td>\n",
       "      <td>Algeria</td>\n",
       "      <td>NaN</td>\n",
       "      <td>Algiers</td>\n",
       "      <td>1</td>\n",
       "      <td>3</td>\n",
       "      <td>1995</td>\n",
       "      <td>48.8</td>\n",
       "      <td>9.33</td>\n",
       "    </tr>\n",
       "    <tr>\n",
       "      <th>3</th>\n",
       "      <td>Africa</td>\n",
       "      <td>Algeria</td>\n",
       "      <td>NaN</td>\n",
       "      <td>Algiers</td>\n",
       "      <td>1</td>\n",
       "      <td>4</td>\n",
       "      <td>1995</td>\n",
       "      <td>46.4</td>\n",
       "      <td>8.00</td>\n",
       "    </tr>\n",
       "    <tr>\n",
       "      <th>4</th>\n",
       "      <td>Africa</td>\n",
       "      <td>Algeria</td>\n",
       "      <td>NaN</td>\n",
       "      <td>Algiers</td>\n",
       "      <td>1</td>\n",
       "      <td>5</td>\n",
       "      <td>1995</td>\n",
       "      <td>47.9</td>\n",
       "      <td>8.83</td>\n",
       "    </tr>\n",
       "  </tbody>\n",
       "</table>\n",
       "</div>"
      ],
      "text/plain": [
       "   Region  Country State     City  Month  Day  Year  AvgTemperature  \\\n",
       "0  Africa  Algeria   NaN  Algiers      1    1  1995            64.2   \n",
       "1  Africa  Algeria   NaN  Algiers      1    2  1995            49.4   \n",
       "2  Africa  Algeria   NaN  Algiers      1    3  1995            48.8   \n",
       "3  Africa  Algeria   NaN  Algiers      1    4  1995            46.4   \n",
       "4  Africa  Algeria   NaN  Algiers      1    5  1995            47.9   \n",
       "\n",
       "   AvgCelsiusTemp  \n",
       "0           17.89  \n",
       "1            9.67  \n",
       "2            9.33  \n",
       "3            8.00  \n",
       "4            8.83  "
      ]
     },
     "execution_count": 9,
     "metadata": {},
     "output_type": "execute_result"
    }
   ],
   "source": [
    "# farenheit to celsius\n",
    "#(T(°F) - 32) × 5/9\n",
    "df2['AvgCelsiusTemp'] = [round((i-32)*(5/9),2) for i in df2.AvgTemperature]\n",
    "df2.head()"
   ]
  },
  {
   "cell_type": "code",
   "execution_count": 10,
   "metadata": {},
   "outputs": [],
   "source": [
    "df2.drop('AvgTemperature', axis=1, inplace=True)"
   ]
  },
  {
   "cell_type": "code",
   "execution_count": 25,
   "metadata": {},
   "outputs": [
    {
     "data": {
      "text/html": [
       "<div>\n",
       "<style scoped>\n",
       "    .dataframe tbody tr th:only-of-type {\n",
       "        vertical-align: middle;\n",
       "    }\n",
       "\n",
       "    .dataframe tbody tr th {\n",
       "        vertical-align: top;\n",
       "    }\n",
       "\n",
       "    .dataframe thead th {\n",
       "        text-align: right;\n",
       "    }\n",
       "</style>\n",
       "<table border=\"1\" class=\"dataframe\">\n",
       "  <thead>\n",
       "    <tr style=\"text-align: right;\">\n",
       "      <th></th>\n",
       "      <th>Region</th>\n",
       "      <th>Country</th>\n",
       "      <th>State</th>\n",
       "      <th>City</th>\n",
       "      <th>Month</th>\n",
       "      <th>Day</th>\n",
       "      <th>Year</th>\n",
       "      <th>AvgCelsiusTemp</th>\n",
       "    </tr>\n",
       "  </thead>\n",
       "  <tbody>\n",
       "    <tr>\n",
       "      <th>0</th>\n",
       "      <td>Africa</td>\n",
       "      <td>Algeria</td>\n",
       "      <td>NaN</td>\n",
       "      <td>Algiers</td>\n",
       "      <td>1</td>\n",
       "      <td>1</td>\n",
       "      <td>1995</td>\n",
       "      <td>17.89</td>\n",
       "    </tr>\n",
       "    <tr>\n",
       "      <th>1</th>\n",
       "      <td>Africa</td>\n",
       "      <td>Algeria</td>\n",
       "      <td>NaN</td>\n",
       "      <td>Algiers</td>\n",
       "      <td>1</td>\n",
       "      <td>2</td>\n",
       "      <td>1995</td>\n",
       "      <td>9.67</td>\n",
       "    </tr>\n",
       "    <tr>\n",
       "      <th>2</th>\n",
       "      <td>Africa</td>\n",
       "      <td>Algeria</td>\n",
       "      <td>NaN</td>\n",
       "      <td>Algiers</td>\n",
       "      <td>1</td>\n",
       "      <td>3</td>\n",
       "      <td>1995</td>\n",
       "      <td>9.33</td>\n",
       "    </tr>\n",
       "    <tr>\n",
       "      <th>3</th>\n",
       "      <td>Africa</td>\n",
       "      <td>Algeria</td>\n",
       "      <td>NaN</td>\n",
       "      <td>Algiers</td>\n",
       "      <td>1</td>\n",
       "      <td>4</td>\n",
       "      <td>1995</td>\n",
       "      <td>8.00</td>\n",
       "    </tr>\n",
       "    <tr>\n",
       "      <th>4</th>\n",
       "      <td>Africa</td>\n",
       "      <td>Algeria</td>\n",
       "      <td>NaN</td>\n",
       "      <td>Algiers</td>\n",
       "      <td>1</td>\n",
       "      <td>5</td>\n",
       "      <td>1995</td>\n",
       "      <td>8.83</td>\n",
       "    </tr>\n",
       "  </tbody>\n",
       "</table>\n",
       "</div>"
      ],
      "text/plain": [
       "   Region  Country State     City  Month  Day  Year  AvgCelsiusTemp\n",
       "0  Africa  Algeria   NaN  Algiers      1    1  1995           17.89\n",
       "1  Africa  Algeria   NaN  Algiers      1    2  1995            9.67\n",
       "2  Africa  Algeria   NaN  Algiers      1    3  1995            9.33\n",
       "3  Africa  Algeria   NaN  Algiers      1    4  1995            8.00\n",
       "4  Africa  Algeria   NaN  Algiers      1    5  1995            8.83"
      ]
     },
     "execution_count": 25,
     "metadata": {},
     "output_type": "execute_result"
    }
   ],
   "source": [
    "df2.head()"
   ]
  },
  {
   "cell_type": "code",
   "execution_count": 26,
   "metadata": {},
   "outputs": [
    {
     "data": {
      "text/plain": [
       "-45.56    1\n",
       "-45.06    1\n",
       "-44.28    1\n",
       "-43.83    1\n",
       "-43.44    1\n",
       "         ..\n",
       " 43.06    1\n",
       " 43.17    1\n",
       " 43.22    1\n",
       " 43.28    4\n",
       " 43.33    1\n",
       "Name: AvgCelsiusTemp, Length: 1516, dtype: int64"
      ]
     },
     "execution_count": 26,
     "metadata": {},
     "output_type": "execute_result"
    }
   ],
   "source": [
    "df2.AvgCelsiusTemp.value_counts().sort_index(ascending=True)"
   ]
  },
  {
   "cell_type": "code",
   "execution_count": 27,
   "metadata": {
    "scrolled": true
   },
   "outputs": [
    {
     "data": {
      "text/html": [
       "<div>\n",
       "<style scoped>\n",
       "    .dataframe tbody tr th:only-of-type {\n",
       "        vertical-align: middle;\n",
       "    }\n",
       "\n",
       "    .dataframe tbody tr th {\n",
       "        vertical-align: top;\n",
       "    }\n",
       "\n",
       "    .dataframe thead th {\n",
       "        text-align: right;\n",
       "    }\n",
       "</style>\n",
       "<table border=\"1\" class=\"dataframe\">\n",
       "  <thead>\n",
       "    <tr style=\"text-align: right;\">\n",
       "      <th></th>\n",
       "      <th></th>\n",
       "      <th>mean</th>\n",
       "      <th>min</th>\n",
       "      <th>max</th>\n",
       "    </tr>\n",
       "    <tr>\n",
       "      <th>Region</th>\n",
       "      <th>Year</th>\n",
       "      <th></th>\n",
       "      <th></th>\n",
       "      <th></th>\n",
       "    </tr>\n",
       "  </thead>\n",
       "  <tbody>\n",
       "    <tr>\n",
       "      <th rowspan=\"5\" valign=\"top\">Africa</th>\n",
       "      <th>1995</th>\n",
       "      <td>23.272240</td>\n",
       "      <td>4.67</td>\n",
       "      <td>37.67</td>\n",
       "    </tr>\n",
       "    <tr>\n",
       "      <th>1996</th>\n",
       "      <td>23.085922</td>\n",
       "      <td>5.06</td>\n",
       "      <td>37.50</td>\n",
       "    </tr>\n",
       "    <tr>\n",
       "      <th>1997</th>\n",
       "      <td>23.022888</td>\n",
       "      <td>5.78</td>\n",
       "      <td>37.78</td>\n",
       "    </tr>\n",
       "    <tr>\n",
       "      <th>1998</th>\n",
       "      <td>23.193781</td>\n",
       "      <td>7.83</td>\n",
       "      <td>39.33</td>\n",
       "    </tr>\n",
       "    <tr>\n",
       "      <th>1999</th>\n",
       "      <td>23.274549</td>\n",
       "      <td>2.56</td>\n",
       "      <td>37.33</td>\n",
       "    </tr>\n",
       "    <tr>\n",
       "      <th>...</th>\n",
       "      <th>...</th>\n",
       "      <td>...</td>\n",
       "      <td>...</td>\n",
       "      <td>...</td>\n",
       "    </tr>\n",
       "    <tr>\n",
       "      <th rowspan=\"5\" valign=\"top\">South/Central America &amp; Carribean</th>\n",
       "      <th>2016</th>\n",
       "      <td>23.121594</td>\n",
       "      <td>3.06</td>\n",
       "      <td>33.56</td>\n",
       "    </tr>\n",
       "    <tr>\n",
       "      <th>2017</th>\n",
       "      <td>23.009442</td>\n",
       "      <td>2.67</td>\n",
       "      <td>32.83</td>\n",
       "    </tr>\n",
       "    <tr>\n",
       "      <th>2018</th>\n",
       "      <td>22.598388</td>\n",
       "      <td>2.22</td>\n",
       "      <td>34.50</td>\n",
       "    </tr>\n",
       "    <tr>\n",
       "      <th>2019</th>\n",
       "      <td>22.887587</td>\n",
       "      <td>2.28</td>\n",
       "      <td>34.67</td>\n",
       "    </tr>\n",
       "    <tr>\n",
       "      <th>2020</th>\n",
       "      <td>23.342595</td>\n",
       "      <td>5.00</td>\n",
       "      <td>32.50</td>\n",
       "    </tr>\n",
       "  </tbody>\n",
       "</table>\n",
       "<p>182 rows × 3 columns</p>\n",
       "</div>"
      ],
      "text/plain": [
       "                                             mean   min    max\n",
       "Region                            Year                        \n",
       "Africa                            1995  23.272240  4.67  37.67\n",
       "                                  1996  23.085922  5.06  37.50\n",
       "                                  1997  23.022888  5.78  37.78\n",
       "                                  1998  23.193781  7.83  39.33\n",
       "                                  1999  23.274549  2.56  37.33\n",
       "...                                           ...   ...    ...\n",
       "South/Central America & Carribean 2016  23.121594  3.06  33.56\n",
       "                                  2017  23.009442  2.67  32.83\n",
       "                                  2018  22.598388  2.22  34.50\n",
       "                                  2019  22.887587  2.28  34.67\n",
       "                                  2020  23.342595  5.00  32.50\n",
       "\n",
       "[182 rows x 3 columns]"
      ]
     },
     "execution_count": 27,
     "metadata": {},
     "output_type": "execute_result"
    }
   ],
   "source": [
    "df2.groupby(['Region','Year'])['AvgCelsiusTemp'].agg(['mean','min','max'])"
   ]
  },
  {
   "cell_type": "code",
   "execution_count": 28,
   "metadata": {},
   "outputs": [],
   "source": [
    "df2.to_csv(r'C:\\Users\\lilie\\GitHubProjects\\IronEstelle\\project4_ClimateChange\\Statistically_Significant_Insights\\city_temp_cleaned.csv', index = False)"
   ]
  },
  {
   "cell_type": "code",
   "execution_count": 34,
   "metadata": {
    "scrolled": true
   },
   "outputs": [
    {
     "data": {
      "text/plain": [
       "array(['Algeria', 'Burundi', 'Benin', 'Central African Republic', 'Congo',\n",
       "       'Egypt', 'Ethiopia', 'Gabon', 'Gambia', 'Guinea', 'Guinea-Bissau',\n",
       "       'Ivory Coast', 'Kenya', 'Morocco', 'Madagascar', 'Mauritania',\n",
       "       'Malawi', 'Mozambique', 'Namibia', 'Nigeria', 'Senegal',\n",
       "       'Sierra Leone', 'South Africa', 'Togo', 'Tunisia', 'Tanzania',\n",
       "       'Uganda', 'Zambia', 'Bangladesh', 'China', 'Hong Kong', 'India',\n",
       "       'Indonesia', 'Japan', 'Kazakhstan', 'Kyrgyzstan', 'Laos',\n",
       "       'Malaysia', 'Mongolia', 'Myanmar (Burma)', 'Nepal', 'North Korea',\n",
       "       'Pakistan', 'Philippines', 'Singapore', 'South Korea', 'Sri Lanka',\n",
       "       'Taiwan', 'Tajikistan', 'Thailand', 'Turkmenistan', 'Uzbekistan',\n",
       "       'Vietnam', 'Australia', 'New Zealand', 'Albania', 'Austria',\n",
       "       'Belarus', 'Belgium', 'Bulgaria', 'Croatia', 'Cyprus',\n",
       "       'Czech Republic', 'Denmark', 'Finland', 'France', 'Germany',\n",
       "       'Georgia', 'Greece', 'Hungary', 'Iceland', 'Ireland', 'Italy',\n",
       "       'Latvia', 'Macedonia', 'The Netherlands', 'Norway', 'Poland',\n",
       "       'Portugal', 'Romania', 'Russia', 'Serbia-Montenegro', 'Slovakia',\n",
       "       'Spain', 'Sweden', 'Switzerland', 'Ukraine', 'United Kingdom',\n",
       "       'Yugoslavia', 'Bahrain', 'Israel', 'Jordan', 'Kuwait', 'Lebanon',\n",
       "       'Oman', 'Qatar', 'Saudi Arabia', 'Syria', 'Turkey',\n",
       "       'United Arab Emirates', 'Canada', 'Mexico', 'Argentina', 'Bahamas',\n",
       "       'Bermuda', 'Belize', 'Bolivia', 'Barbados', 'Brazil', 'Colombia',\n",
       "       'Costa Rica', 'Cuba', 'Dominican Republic', 'Equador', 'Guatemala',\n",
       "       'Guyana', 'Haiti', 'Honduras', 'Nicaragua', 'Panama', 'Peru',\n",
       "       'Suriname', 'Uruguay', 'Venezuela', 'US'], dtype=object)"
      ]
     },
     "execution_count": 34,
     "metadata": {},
     "output_type": "execute_result"
    }
   ],
   "source": [
    "df2.Country.unique()"
   ]
  },
  {
   "cell_type": "code",
   "execution_count": 12,
   "metadata": {
    "scrolled": true
   },
   "outputs": [],
   "source": [
    "country_tokeep = ['Argentina','Australia','Brazil','Canada','China','India','Indonesia','Japan',\n",
    "                  'South Korea','Mexico','Russia','Saudi Arabia','South Africa','United Kingdom','US','Turkey']\n",
    "ue_country_tokeep = ['Austria','Belgium','Bulgaria','Croatia','Cyprus','Czech Republic','Denmark','Finland',\n",
    "                    'France','Germany','Greece','Hungary','Ireland','Italy','Latvia','The Netherlands',\n",
    "                    'Poland','Portugal','Romania','Slovakia','Spain','Sweden']\n",
    "\n",
    "#Lithuania NOT IN DF\n",
    "#Luxembourg NOT IN DF\n",
    "#Slovenia NOT IN DF\n",
    "#ESTONIA NOT IN DF\n",
    "#Malta NOT IN DF"
   ]
  },
  {
   "cell_type": "code",
   "execution_count": 13,
   "metadata": {},
   "outputs": [],
   "source": [
    "# selecting rows based on countries we'll study\n",
    "df3 = df2.loc[(df2['Country'].isin(country_tokeep)) | (df2['Country'].isin(ue_country_tokeep))]"
   ]
  },
  {
   "cell_type": "code",
   "execution_count": 14,
   "metadata": {},
   "outputs": [
    {
     "data": {
      "text/plain": [
       "106210"
      ]
     },
     "execution_count": 14,
     "metadata": {},
     "output_type": "execute_result"
    }
   ],
   "source": [
    "# selecting year from 1995 to 2018  to compare with gaz emission dataset\n",
    "yr_todrop = df3.index[(df3.Year==2020) | (df3.Year==2019)]\n",
    "len(yr_todrop)"
   ]
  },
  {
   "cell_type": "code",
   "execution_count": 15,
   "metadata": {},
   "outputs": [
    {
     "name": "stderr",
     "output_type": "stream",
     "text": [
      "C:\\Users\\lilie\\anaconda3\\lib\\site-packages\\pandas\\core\\frame.py:4308: SettingWithCopyWarning: \n",
      "A value is trying to be set on a copy of a slice from a DataFrame\n",
      "\n",
      "See the caveats in the documentation: https://pandas.pydata.org/pandas-docs/stable/user_guide/indexing.html#returning-a-view-versus-a-copy\n",
      "  return super().drop(\n"
     ]
    }
   ],
   "source": [
    "df3.drop(yr_todrop, axis=0, inplace=True)"
   ]
  },
  {
   "cell_type": "code",
   "execution_count": 16,
   "metadata": {},
   "outputs": [
    {
     "name": "stdout",
     "output_type": "stream",
     "text": [
      "(2826655, 8)\n",
      "(1968123, 8)\n"
     ]
    }
   ],
   "source": [
    "print(df2.shape)\n",
    "print(df3.shape)"
   ]
  },
  {
   "cell_type": "code",
   "execution_count": 17,
   "metadata": {},
   "outputs": [],
   "source": [
    "df3.drop(['Month','Day'], axis=1, inplace=True)"
   ]
  },
  {
   "cell_type": "code",
   "execution_count": 18,
   "metadata": {},
   "outputs": [
    {
     "data": {
      "text/html": [
       "<div>\n",
       "<style scoped>\n",
       "    .dataframe tbody tr th:only-of-type {\n",
       "        vertical-align: middle;\n",
       "    }\n",
       "\n",
       "    .dataframe tbody tr th {\n",
       "        vertical-align: top;\n",
       "    }\n",
       "\n",
       "    .dataframe thead th {\n",
       "        text-align: right;\n",
       "    }\n",
       "</style>\n",
       "<table border=\"1\" class=\"dataframe\">\n",
       "  <thead>\n",
       "    <tr style=\"text-align: right;\">\n",
       "      <th></th>\n",
       "      <th>City</th>\n",
       "      <th>Country</th>\n",
       "      <th>Region</th>\n",
       "      <th>Year</th>\n",
       "      <th>AvgCelsiusTemp</th>\n",
       "    </tr>\n",
       "  </thead>\n",
       "  <tbody>\n",
       "    <tr>\n",
       "      <th>0</th>\n",
       "      <td>Abilene</td>\n",
       "      <td>US</td>\n",
       "      <td>North America</td>\n",
       "      <td>1995</td>\n",
       "      <td>17.443178</td>\n",
       "    </tr>\n",
       "    <tr>\n",
       "      <th>1</th>\n",
       "      <td>Abilene</td>\n",
       "      <td>US</td>\n",
       "      <td>North America</td>\n",
       "      <td>1996</td>\n",
       "      <td>17.442745</td>\n",
       "    </tr>\n",
       "    <tr>\n",
       "      <th>2</th>\n",
       "      <td>Abilene</td>\n",
       "      <td>US</td>\n",
       "      <td>North America</td>\n",
       "      <td>1997</td>\n",
       "      <td>16.982521</td>\n",
       "    </tr>\n",
       "    <tr>\n",
       "      <th>3</th>\n",
       "      <td>Abilene</td>\n",
       "      <td>US</td>\n",
       "      <td>North America</td>\n",
       "      <td>1998</td>\n",
       "      <td>19.228670</td>\n",
       "    </tr>\n",
       "    <tr>\n",
       "      <th>4</th>\n",
       "      <td>Abilene</td>\n",
       "      <td>US</td>\n",
       "      <td>North America</td>\n",
       "      <td>1999</td>\n",
       "      <td>18.919121</td>\n",
       "    </tr>\n",
       "    <tr>\n",
       "      <th>...</th>\n",
       "      <td>...</td>\n",
       "      <td>...</td>\n",
       "      <td>...</td>\n",
       "      <td>...</td>\n",
       "      <td>...</td>\n",
       "    </tr>\n",
       "    <tr>\n",
       "      <th>5302</th>\n",
       "      <td>Zagreb</td>\n",
       "      <td>Croatia</td>\n",
       "      <td>Europe</td>\n",
       "      <td>2014</td>\n",
       "      <td>13.456181</td>\n",
       "    </tr>\n",
       "    <tr>\n",
       "      <th>5303</th>\n",
       "      <td>Zagreb</td>\n",
       "      <td>Croatia</td>\n",
       "      <td>Europe</td>\n",
       "      <td>2015</td>\n",
       "      <td>13.169451</td>\n",
       "    </tr>\n",
       "    <tr>\n",
       "      <th>5304</th>\n",
       "      <td>Zagreb</td>\n",
       "      <td>Croatia</td>\n",
       "      <td>Europe</td>\n",
       "      <td>2016</td>\n",
       "      <td>12.684626</td>\n",
       "    </tr>\n",
       "    <tr>\n",
       "      <th>5305</th>\n",
       "      <td>Zagreb</td>\n",
       "      <td>Croatia</td>\n",
       "      <td>Europe</td>\n",
       "      <td>2017</td>\n",
       "      <td>13.095644</td>\n",
       "    </tr>\n",
       "    <tr>\n",
       "      <th>5306</th>\n",
       "      <td>Zagreb</td>\n",
       "      <td>Croatia</td>\n",
       "      <td>Europe</td>\n",
       "      <td>2018</td>\n",
       "      <td>13.607354</td>\n",
       "    </tr>\n",
       "  </tbody>\n",
       "</table>\n",
       "<p>5307 rows × 5 columns</p>\n",
       "</div>"
      ],
      "text/plain": [
       "         City  Country         Region  Year  AvgCelsiusTemp\n",
       "0     Abilene       US  North America  1995       17.443178\n",
       "1     Abilene       US  North America  1996       17.442745\n",
       "2     Abilene       US  North America  1997       16.982521\n",
       "3     Abilene       US  North America  1998       19.228670\n",
       "4     Abilene       US  North America  1999       18.919121\n",
       "...       ...      ...            ...   ...             ...\n",
       "5302   Zagreb  Croatia         Europe  2014       13.456181\n",
       "5303   Zagreb  Croatia         Europe  2015       13.169451\n",
       "5304   Zagreb  Croatia         Europe  2016       12.684626\n",
       "5305   Zagreb  Croatia         Europe  2017       13.095644\n",
       "5306   Zagreb  Croatia         Europe  2018       13.607354\n",
       "\n",
       "[5307 rows x 5 columns]"
      ]
     },
     "execution_count": 18,
     "metadata": {},
     "output_type": "execute_result"
    }
   ],
   "source": [
    "df4 = df3.groupby(['City','Country','Region','Year'], as_index=False)[['AvgCelsiusTemp']].mean()\n",
    "df4"
   ]
  },
  {
   "cell_type": "code",
   "execution_count": 162,
   "metadata": {},
   "outputs": [
    {
     "data": {
      "text/plain": [
       "<matplotlib.axes._subplots.AxesSubplot at 0x195247b2df0>"
      ]
     },
     "execution_count": 162,
     "metadata": {},
     "output_type": "execute_result"
    },
    {
     "data": {
      "image/png": "[encoded data removed]",
      "text/plain": [
       "<Figure size 432x288 with 1 Axes>"
      ]
     },
     "metadata": {
      "needs_background": "light"
     },
     "output_type": "display_data"
    }
   ],
   "source": [
    "df4[['Year','AvgCelsiusTemp']].groupby('Year').mean().plot()"
   ]
  },
  {
   "cell_type": "code",
   "execution_count": 19,
   "metadata": {},
   "outputs": [],
   "source": [
    "df4['State'] = [\"EU\" if i in (ue_country_tokeep) else '' for i in df4.Country]"
   ]
  },
  {
   "cell_type": "code",
   "execution_count": 20,
   "metadata": {},
   "outputs": [
    {
     "data": {
      "text/html": [
       "<div>\n",
       "<style scoped>\n",
       "    .dataframe tbody tr th:only-of-type {\n",
       "        vertical-align: middle;\n",
       "    }\n",
       "\n",
       "    .dataframe tbody tr th {\n",
       "        vertical-align: top;\n",
       "    }\n",
       "\n",
       "    .dataframe thead th {\n",
       "        text-align: right;\n",
       "    }\n",
       "</style>\n",
       "<table border=\"1\" class=\"dataframe\">\n",
       "  <thead>\n",
       "    <tr style=\"text-align: right;\">\n",
       "      <th></th>\n",
       "      <th>City</th>\n",
       "      <th>Country</th>\n",
       "      <th>Region</th>\n",
       "      <th>Year</th>\n",
       "      <th>AvgCelsiusTemp</th>\n",
       "      <th>State</th>\n",
       "    </tr>\n",
       "  </thead>\n",
       "  <tbody>\n",
       "    <tr>\n",
       "      <th>0</th>\n",
       "      <td>Abilene</td>\n",
       "      <td>US</td>\n",
       "      <td>North America</td>\n",
       "      <td>1995</td>\n",
       "      <td>17.443178</td>\n",
       "      <td></td>\n",
       "    </tr>\n",
       "    <tr>\n",
       "      <th>1</th>\n",
       "      <td>Abilene</td>\n",
       "      <td>US</td>\n",
       "      <td>North America</td>\n",
       "      <td>1996</td>\n",
       "      <td>17.442745</td>\n",
       "      <td></td>\n",
       "    </tr>\n",
       "    <tr>\n",
       "      <th>2</th>\n",
       "      <td>Abilene</td>\n",
       "      <td>US</td>\n",
       "      <td>North America</td>\n",
       "      <td>1997</td>\n",
       "      <td>16.982521</td>\n",
       "      <td></td>\n",
       "    </tr>\n",
       "    <tr>\n",
       "      <th>3</th>\n",
       "      <td>Abilene</td>\n",
       "      <td>US</td>\n",
       "      <td>North America</td>\n",
       "      <td>1998</td>\n",
       "      <td>19.228670</td>\n",
       "      <td></td>\n",
       "    </tr>\n",
       "    <tr>\n",
       "      <th>4</th>\n",
       "      <td>Abilene</td>\n",
       "      <td>US</td>\n",
       "      <td>North America</td>\n",
       "      <td>1999</td>\n",
       "      <td>18.919121</td>\n",
       "      <td></td>\n",
       "    </tr>\n",
       "    <tr>\n",
       "      <th>...</th>\n",
       "      <td>...</td>\n",
       "      <td>...</td>\n",
       "      <td>...</td>\n",
       "      <td>...</td>\n",
       "      <td>...</td>\n",
       "      <td>...</td>\n",
       "    </tr>\n",
       "    <tr>\n",
       "      <th>5302</th>\n",
       "      <td>Zagreb</td>\n",
       "      <td>Croatia</td>\n",
       "      <td>Europe</td>\n",
       "      <td>2014</td>\n",
       "      <td>13.456181</td>\n",
       "      <td>EU</td>\n",
       "    </tr>\n",
       "    <tr>\n",
       "      <th>5303</th>\n",
       "      <td>Zagreb</td>\n",
       "      <td>Croatia</td>\n",
       "      <td>Europe</td>\n",
       "      <td>2015</td>\n",
       "      <td>13.169451</td>\n",
       "      <td>EU</td>\n",
       "    </tr>\n",
       "    <tr>\n",
       "      <th>5304</th>\n",
       "      <td>Zagreb</td>\n",
       "      <td>Croatia</td>\n",
       "      <td>Europe</td>\n",
       "      <td>2016</td>\n",
       "      <td>12.684626</td>\n",
       "      <td>EU</td>\n",
       "    </tr>\n",
       "    <tr>\n",
       "      <th>5305</th>\n",
       "      <td>Zagreb</td>\n",
       "      <td>Croatia</td>\n",
       "      <td>Europe</td>\n",
       "      <td>2017</td>\n",
       "      <td>13.095644</td>\n",
       "      <td>EU</td>\n",
       "    </tr>\n",
       "    <tr>\n",
       "      <th>5306</th>\n",
       "      <td>Zagreb</td>\n",
       "      <td>Croatia</td>\n",
       "      <td>Europe</td>\n",
       "      <td>2018</td>\n",
       "      <td>13.607354</td>\n",
       "      <td>EU</td>\n",
       "    </tr>\n",
       "  </tbody>\n",
       "</table>\n",
       "<p>5307 rows × 6 columns</p>\n",
       "</div>"
      ],
      "text/plain": [
       "         City  Country         Region  Year  AvgCelsiusTemp State\n",
       "0     Abilene       US  North America  1995       17.443178      \n",
       "1     Abilene       US  North America  1996       17.442745      \n",
       "2     Abilene       US  North America  1997       16.982521      \n",
       "3     Abilene       US  North America  1998       19.228670      \n",
       "4     Abilene       US  North America  1999       18.919121      \n",
       "...       ...      ...            ...   ...             ...   ...\n",
       "5302   Zagreb  Croatia         Europe  2014       13.456181    EU\n",
       "5303   Zagreb  Croatia         Europe  2015       13.169451    EU\n",
       "5304   Zagreb  Croatia         Europe  2016       12.684626    EU\n",
       "5305   Zagreb  Croatia         Europe  2017       13.095644    EU\n",
       "5306   Zagreb  Croatia         Europe  2018       13.607354    EU\n",
       "\n",
       "[5307 rows x 6 columns]"
      ]
     },
     "execution_count": 20,
     "metadata": {},
     "output_type": "execute_result"
    }
   ],
   "source": [
    "df4"
   ]
  },
  {
   "cell_type": "code",
   "execution_count": 21,
   "metadata": {},
   "outputs": [],
   "source": [
    "df4.to_csv(r'C:\\Users\\lilie\\GitHubProjects\\IronEstelle\\Statistically_Significant_Insights\\cleaned_data\\city_temp_cleaned.csv', index = False)"
   ]
  },
  {
   "cell_type": "code",
   "execution_count": 113,
   "metadata": {},
   "outputs": [
    {
     "data": {
      "text/html": [
       "<div>\n",
       "<style scoped>\n",
       "    .dataframe tbody tr th:only-of-type {\n",
       "        vertical-align: middle;\n",
       "    }\n",
       "\n",
       "    .dataframe tbody tr th {\n",
       "        vertical-align: top;\n",
       "    }\n",
       "\n",
       "    .dataframe thead th {\n",
       "        text-align: right;\n",
       "    }\n",
       "</style>\n",
       "<table border=\"1\" class=\"dataframe\">\n",
       "  <thead>\n",
       "    <tr style=\"text-align: right;\">\n",
       "      <th></th>\n",
       "      <th>Country</th>\n",
       "      <th>Region</th>\n",
       "      <th>Year</th>\n",
       "      <th>AvgCelsiusTemp</th>\n",
       "      <th>State</th>\n",
       "    </tr>\n",
       "  </thead>\n",
       "  <tbody>\n",
       "    <tr>\n",
       "      <th>0</th>\n",
       "      <td>Argentina</td>\n",
       "      <td>South/Central America &amp; Carribean</td>\n",
       "      <td>1995</td>\n",
       "      <td>16.500712</td>\n",
       "      <td>Not EU</td>\n",
       "    </tr>\n",
       "    <tr>\n",
       "      <th>1</th>\n",
       "      <td>Argentina</td>\n",
       "      <td>South/Central America &amp; Carribean</td>\n",
       "      <td>1996</td>\n",
       "      <td>17.061120</td>\n",
       "      <td>Not EU</td>\n",
       "    </tr>\n",
       "    <tr>\n",
       "      <th>2</th>\n",
       "      <td>Argentina</td>\n",
       "      <td>South/Central America &amp; Carribean</td>\n",
       "      <td>1997</td>\n",
       "      <td>17.302137</td>\n",
       "      <td>Not EU</td>\n",
       "    </tr>\n",
       "    <tr>\n",
       "      <th>3</th>\n",
       "      <td>Argentina</td>\n",
       "      <td>South/Central America &amp; Carribean</td>\n",
       "      <td>1998</td>\n",
       "      <td>16.534056</td>\n",
       "      <td>Not EU</td>\n",
       "    </tr>\n",
       "    <tr>\n",
       "      <th>4</th>\n",
       "      <td>Argentina</td>\n",
       "      <td>South/Central America &amp; Carribean</td>\n",
       "      <td>1999</td>\n",
       "      <td>16.575412</td>\n",
       "      <td>Not EU</td>\n",
       "    </tr>\n",
       "    <tr>\n",
       "      <th>...</th>\n",
       "      <td>...</td>\n",
       "      <td>...</td>\n",
       "      <td>...</td>\n",
       "      <td>...</td>\n",
       "      <td>...</td>\n",
       "    </tr>\n",
       "    <tr>\n",
       "      <th>891</th>\n",
       "      <td>United Kingdom</td>\n",
       "      <td>Europe</td>\n",
       "      <td>2014</td>\n",
       "      <td>11.860564</td>\n",
       "      <td>Not EU</td>\n",
       "    </tr>\n",
       "    <tr>\n",
       "      <th>892</th>\n",
       "      <td>United Kingdom</td>\n",
       "      <td>Europe</td>\n",
       "      <td>2015</td>\n",
       "      <td>11.166575</td>\n",
       "      <td>Not EU</td>\n",
       "    </tr>\n",
       "    <tr>\n",
       "      <th>893</th>\n",
       "      <td>United Kingdom</td>\n",
       "      <td>Europe</td>\n",
       "      <td>2016</td>\n",
       "      <td>11.235228</td>\n",
       "      <td>Not EU</td>\n",
       "    </tr>\n",
       "    <tr>\n",
       "      <th>894</th>\n",
       "      <td>United Kingdom</td>\n",
       "      <td>Europe</td>\n",
       "      <td>2017</td>\n",
       "      <td>11.450945</td>\n",
       "      <td>Not EU</td>\n",
       "    </tr>\n",
       "    <tr>\n",
       "      <th>895</th>\n",
       "      <td>United Kingdom</td>\n",
       "      <td>Europe</td>\n",
       "      <td>2018</td>\n",
       "      <td>11.213440</td>\n",
       "      <td>Not EU</td>\n",
       "    </tr>\n",
       "  </tbody>\n",
       "</table>\n",
       "<p>896 rows × 5 columns</p>\n",
       "</div>"
      ],
      "text/plain": [
       "            Country                             Region  Year  AvgCelsiusTemp  \\\n",
       "0         Argentina  South/Central America & Carribean  1995       16.500712   \n",
       "1         Argentina  South/Central America & Carribean  1996       17.061120   \n",
       "2         Argentina  South/Central America & Carribean  1997       17.302137   \n",
       "3         Argentina  South/Central America & Carribean  1998       16.534056   \n",
       "4         Argentina  South/Central America & Carribean  1999       16.575412   \n",
       "..              ...                                ...   ...             ...   \n",
       "891  United Kingdom                             Europe  2014       11.860564   \n",
       "892  United Kingdom                             Europe  2015       11.166575   \n",
       "893  United Kingdom                             Europe  2016       11.235228   \n",
       "894  United Kingdom                             Europe  2017       11.450945   \n",
       "895  United Kingdom                             Europe  2018       11.213440   \n",
       "\n",
       "      State  \n",
       "0    Not EU  \n",
       "1    Not EU  \n",
       "2    Not EU  \n",
       "3    Not EU  \n",
       "4    Not EU  \n",
       "..      ...  \n",
       "891  Not EU  \n",
       "892  Not EU  \n",
       "893  Not EU  \n",
       "894  Not EU  \n",
       "895  Not EU  \n",
       "\n",
       "[896 rows x 5 columns]"
      ]
     },
     "execution_count": 113,
     "metadata": {},
     "output_type": "execute_result"
    }
   ],
   "source": [
    "df5 = df3.groupby(['Country','Region','Year'], as_index=False)[['AvgCelsiusTemp']].mean()\n",
    "df5['State'] = [\"EU\" if i in (ue_country_tokeep) else 'Not EU' for i in df5.Country]\n",
    "df5"
   ]
  },
  {
   "cell_type": "code",
   "execution_count": 115,
   "metadata": {},
   "outputs": [
    {
     "data": {
      "text/html": [
       "<div>\n",
       "<style scoped>\n",
       "    .dataframe tbody tr th:only-of-type {\n",
       "        vertical-align: middle;\n",
       "    }\n",
       "\n",
       "    .dataframe tbody tr th {\n",
       "        vertical-align: top;\n",
       "    }\n",
       "\n",
       "    .dataframe thead th {\n",
       "        text-align: right;\n",
       "    }\n",
       "</style>\n",
       "<table border=\"1\" class=\"dataframe\">\n",
       "  <thead>\n",
       "    <tr style=\"text-align: right;\">\n",
       "      <th></th>\n",
       "      <th>Country</th>\n",
       "      <th>Region</th>\n",
       "      <th>Year</th>\n",
       "      <th>AvgCelsiusTemp</th>\n",
       "      <th>State</th>\n",
       "    </tr>\n",
       "  </thead>\n",
       "  <tbody>\n",
       "    <tr>\n",
       "      <th>0</th>\n",
       "      <td>Argentina</td>\n",
       "      <td>South/Central America &amp; Carribean</td>\n",
       "      <td>1995</td>\n",
       "      <td>16.500712</td>\n",
       "      <td>Not EU</td>\n",
       "    </tr>\n",
       "    <tr>\n",
       "      <th>1</th>\n",
       "      <td>Argentina</td>\n",
       "      <td>South/Central America &amp; Carribean</td>\n",
       "      <td>1996</td>\n",
       "      <td>17.061120</td>\n",
       "      <td>Not EU</td>\n",
       "    </tr>\n",
       "    <tr>\n",
       "      <th>2</th>\n",
       "      <td>Argentina</td>\n",
       "      <td>South/Central America &amp; Carribean</td>\n",
       "      <td>1997</td>\n",
       "      <td>17.302137</td>\n",
       "      <td>Not EU</td>\n",
       "    </tr>\n",
       "    <tr>\n",
       "      <th>3</th>\n",
       "      <td>Argentina</td>\n",
       "      <td>South/Central America &amp; Carribean</td>\n",
       "      <td>1998</td>\n",
       "      <td>16.534056</td>\n",
       "      <td>Not EU</td>\n",
       "    </tr>\n",
       "    <tr>\n",
       "      <th>4</th>\n",
       "      <td>Argentina</td>\n",
       "      <td>South/Central America &amp; Carribean</td>\n",
       "      <td>1999</td>\n",
       "      <td>16.575412</td>\n",
       "      <td>Not EU</td>\n",
       "    </tr>\n",
       "    <tr>\n",
       "      <th>...</th>\n",
       "      <td>...</td>\n",
       "      <td>...</td>\n",
       "      <td>...</td>\n",
       "      <td>...</td>\n",
       "      <td>...</td>\n",
       "    </tr>\n",
       "    <tr>\n",
       "      <th>891</th>\n",
       "      <td>United Kingdom</td>\n",
       "      <td>Europe</td>\n",
       "      <td>2014</td>\n",
       "      <td>11.860564</td>\n",
       "      <td>Not EU</td>\n",
       "    </tr>\n",
       "    <tr>\n",
       "      <th>892</th>\n",
       "      <td>United Kingdom</td>\n",
       "      <td>Europe</td>\n",
       "      <td>2015</td>\n",
       "      <td>11.166575</td>\n",
       "      <td>Not EU</td>\n",
       "    </tr>\n",
       "    <tr>\n",
       "      <th>893</th>\n",
       "      <td>United Kingdom</td>\n",
       "      <td>Europe</td>\n",
       "      <td>2016</td>\n",
       "      <td>11.235228</td>\n",
       "      <td>Not EU</td>\n",
       "    </tr>\n",
       "    <tr>\n",
       "      <th>894</th>\n",
       "      <td>United Kingdom</td>\n",
       "      <td>Europe</td>\n",
       "      <td>2017</td>\n",
       "      <td>11.450945</td>\n",
       "      <td>Not EU</td>\n",
       "    </tr>\n",
       "    <tr>\n",
       "      <th>895</th>\n",
       "      <td>United Kingdom</td>\n",
       "      <td>Europe</td>\n",
       "      <td>2018</td>\n",
       "      <td>11.213440</td>\n",
       "      <td>Not EU</td>\n",
       "    </tr>\n",
       "  </tbody>\n",
       "</table>\n",
       "<p>384 rows × 5 columns</p>\n",
       "</div>"
      ],
      "text/plain": [
       "            Country                             Region  Year  AvgCelsiusTemp  \\\n",
       "0         Argentina  South/Central America & Carribean  1995       16.500712   \n",
       "1         Argentina  South/Central America & Carribean  1996       17.061120   \n",
       "2         Argentina  South/Central America & Carribean  1997       17.302137   \n",
       "3         Argentina  South/Central America & Carribean  1998       16.534056   \n",
       "4         Argentina  South/Central America & Carribean  1999       16.575412   \n",
       "..              ...                                ...   ...             ...   \n",
       "891  United Kingdom                             Europe  2014       11.860564   \n",
       "892  United Kingdom                             Europe  2015       11.166575   \n",
       "893  United Kingdom                             Europe  2016       11.235228   \n",
       "894  United Kingdom                             Europe  2017       11.450945   \n",
       "895  United Kingdom                             Europe  2018       11.213440   \n",
       "\n",
       "      State  \n",
       "0    Not EU  \n",
       "1    Not EU  \n",
       "2    Not EU  \n",
       "3    Not EU  \n",
       "4    Not EU  \n",
       "..      ...  \n",
       "891  Not EU  \n",
       "892  Not EU  \n",
       "893  Not EU  \n",
       "894  Not EU  \n",
       "895  Not EU  \n",
       "\n",
       "[384 rows x 5 columns]"
      ]
     },
     "execution_count": 115,
     "metadata": {},
     "output_type": "execute_result"
    }
   ],
   "source": [
    "df5.loc[df5.State=='Not EU']"
   ]
  },
  {
   "cell_type": "code",
   "execution_count": 116,
   "metadata": {},
   "outputs": [],
   "source": [
    "df5.to_csv(r'C:\\Users\\lilie\\GitHubProjects\\IronEstelle\\Statistically_Significant_Insights\\cleaned_data\\country_temp_cleaned.csv', index = False)"
   ]
  },
  {
   "cell_type": "code",
   "execution_count": null,
   "metadata": {},
   "outputs": [],
   "source": []
  },
  {
   "cell_type": "code",
   "execution_count": null,
   "metadata": {},
   "outputs": [],
   "source": [
    "#MERGE"
   ]
  },
  {
   "cell_type": "code",
   "execution_count": 44,
   "metadata": {},
   "outputs": [
    {
     "data": {
      "text/html": [
       "<div>\n",
       "<style scoped>\n",
       "    .dataframe tbody tr th:only-of-type {\n",
       "        vertical-align: middle;\n",
       "    }\n",
       "\n",
       "    .dataframe tbody tr th {\n",
       "        vertical-align: top;\n",
       "    }\n",
       "\n",
       "    .dataframe thead th {\n",
       "        text-align: right;\n",
       "    }\n",
       "</style>\n",
       "<table border=\"1\" class=\"dataframe\">\n",
       "  <thead>\n",
       "    <tr style=\"text-align: right;\">\n",
       "      <th></th>\n",
       "      <th>Unnamed: 0</th>\n",
       "      <th>Country</th>\n",
       "      <th>Date</th>\n",
       "      <th>CO2</th>\n",
       "      <th>F-Gas</th>\n",
       "      <th>N2O</th>\n",
       "      <th>State</th>\n",
       "    </tr>\n",
       "  </thead>\n",
       "  <tbody>\n",
       "    <tr>\n",
       "      <th>0</th>\n",
       "      <td>0</td>\n",
       "      <td>Argentina</td>\n",
       "      <td>1995</td>\n",
       "      <td>113.81</td>\n",
       "      <td>1.22</td>\n",
       "      <td>36.72</td>\n",
       "      <td>Not EU</td>\n",
       "    </tr>\n",
       "    <tr>\n",
       "      <th>1</th>\n",
       "      <td>1</td>\n",
       "      <td>Argentina</td>\n",
       "      <td>1996</td>\n",
       "      <td>126.56</td>\n",
       "      <td>1.67</td>\n",
       "      <td>37.02</td>\n",
       "      <td>Not EU</td>\n",
       "    </tr>\n",
       "    <tr>\n",
       "      <th>2</th>\n",
       "      <td>2</td>\n",
       "      <td>Argentina</td>\n",
       "      <td>1997</td>\n",
       "      <td>127.32</td>\n",
       "      <td>2.11</td>\n",
       "      <td>37.41</td>\n",
       "      <td>Not EU</td>\n",
       "    </tr>\n",
       "    <tr>\n",
       "      <th>3</th>\n",
       "      <td>3</td>\n",
       "      <td>Argentina</td>\n",
       "      <td>1998</td>\n",
       "      <td>133.17</td>\n",
       "      <td>2.53</td>\n",
       "      <td>37.04</td>\n",
       "      <td>Not EU</td>\n",
       "    </tr>\n",
       "    <tr>\n",
       "      <th>4</th>\n",
       "      <td>4</td>\n",
       "      <td>Argentina</td>\n",
       "      <td>1999</td>\n",
       "      <td>134.19</td>\n",
       "      <td>2.95</td>\n",
       "      <td>37.32</td>\n",
       "      <td>Not EU</td>\n",
       "    </tr>\n",
       "  </tbody>\n",
       "</table>\n",
       "</div>"
      ],
      "text/plain": [
       "   Unnamed: 0    Country  Date     CO2  F-Gas    N2O   State\n",
       "0           0  Argentina  1995  113.81   1.22  36.72  Not EU\n",
       "1           1  Argentina  1996  126.56   1.67  37.02  Not EU\n",
       "2           2  Argentina  1997  127.32   2.11  37.41  Not EU\n",
       "3           3  Argentina  1998  133.17   2.53  37.04  Not EU\n",
       "4           4  Argentina  1999  134.19   2.95  37.32  Not EU"
      ]
     },
     "execution_count": 44,
     "metadata": {},
     "output_type": "execute_result"
    }
   ],
   "source": [
    "os.chdir(r'C:\\Users\\lilie\\GitHubProjects\\IronEstelle\\Statistically_Significant_Insights\\cleaned_data')\n",
    "df_gaz = pd.read_csv('Gas_global.csv')\n",
    "df_gaz.head()"
   ]
  },
  {
   "cell_type": "code",
   "execution_count": 51,
   "metadata": {},
   "outputs": [
    {
     "data": {
      "text/html": [
       "<div>\n",
       "<style scoped>\n",
       "    .dataframe tbody tr th:only-of-type {\n",
       "        vertical-align: middle;\n",
       "    }\n",
       "\n",
       "    .dataframe tbody tr th {\n",
       "        vertical-align: top;\n",
       "    }\n",
       "\n",
       "    .dataframe thead th {\n",
       "        text-align: right;\n",
       "    }\n",
       "</style>\n",
       "<table border=\"1\" class=\"dataframe\">\n",
       "  <thead>\n",
       "    <tr style=\"text-align: right;\">\n",
       "      <th></th>\n",
       "      <th>Country</th>\n",
       "      <th>Year</th>\n",
       "      <th>CO2</th>\n",
       "      <th>F-Gas</th>\n",
       "      <th>N2O</th>\n",
       "      <th>State</th>\n",
       "    </tr>\n",
       "  </thead>\n",
       "  <tbody>\n",
       "    <tr>\n",
       "      <th>0</th>\n",
       "      <td>Argentina</td>\n",
       "      <td>1995</td>\n",
       "      <td>113.81</td>\n",
       "      <td>1.22</td>\n",
       "      <td>36.72</td>\n",
       "      <td>Not EU</td>\n",
       "    </tr>\n",
       "    <tr>\n",
       "      <th>1</th>\n",
       "      <td>Argentina</td>\n",
       "      <td>1996</td>\n",
       "      <td>126.56</td>\n",
       "      <td>1.67</td>\n",
       "      <td>37.02</td>\n",
       "      <td>Not EU</td>\n",
       "    </tr>\n",
       "    <tr>\n",
       "      <th>2</th>\n",
       "      <td>Argentina</td>\n",
       "      <td>1997</td>\n",
       "      <td>127.32</td>\n",
       "      <td>2.11</td>\n",
       "      <td>37.41</td>\n",
       "      <td>Not EU</td>\n",
       "    </tr>\n",
       "    <tr>\n",
       "      <th>3</th>\n",
       "      <td>Argentina</td>\n",
       "      <td>1998</td>\n",
       "      <td>133.17</td>\n",
       "      <td>2.53</td>\n",
       "      <td>37.04</td>\n",
       "      <td>Not EU</td>\n",
       "    </tr>\n",
       "    <tr>\n",
       "      <th>4</th>\n",
       "      <td>Argentina</td>\n",
       "      <td>1999</td>\n",
       "      <td>134.19</td>\n",
       "      <td>2.95</td>\n",
       "      <td>37.32</td>\n",
       "      <td>Not EU</td>\n",
       "    </tr>\n",
       "  </tbody>\n",
       "</table>\n",
       "</div>"
      ],
      "text/plain": [
       "     Country  Year     CO2  F-Gas    N2O   State\n",
       "0  Argentina  1995  113.81   1.22  36.72  Not EU\n",
       "1  Argentina  1996  126.56   1.67  37.02  Not EU\n",
       "2  Argentina  1997  127.32   2.11  37.41  Not EU\n",
       "3  Argentina  1998  133.17   2.53  37.04  Not EU\n",
       "4  Argentina  1999  134.19   2.95  37.32  Not EU"
      ]
     },
     "execution_count": 51,
     "metadata": {},
     "output_type": "execute_result"
    }
   ],
   "source": [
    "df_gaz.rename(columns={'Date': 'Year'}, inplace=True)\n",
    "del df_gaz['Unnamed: 0']\n",
    "df_gaz.head()"
   ]
  },
  {
   "cell_type": "code",
   "execution_count": 48,
   "metadata": {},
   "outputs": [
    {
     "name": "stdout",
     "output_type": "stream",
     "text": [
      "Index(['Country', 'Region', 'Year', 'AvgCelsiusTemp', 'State'], dtype='object')\n",
      "(896, 5)\n"
     ]
    }
   ],
   "source": [
    "print(df5.columns)\n",
    "print(df5.shape)"
   ]
  },
  {
   "cell_type": "code",
   "execution_count": 141,
   "metadata": {
    "scrolled": true
   },
   "outputs": [],
   "source": [
    "df_gaz['Country'] = df_gaz['Country'].replace(['Netherlands'],'The Netherlands')"
   ]
  },
  {
   "cell_type": "code",
   "execution_count": 145,
   "metadata": {},
   "outputs": [],
   "source": [
    "df_gaz['Country'] = df_gaz['Country'].replace(['United States'],'US')"
   ]
  },
  {
   "cell_type": "code",
   "execution_count": 52,
   "metadata": {},
   "outputs": [
    {
     "name": "stdout",
     "output_type": "stream",
     "text": [
      "Index(['Country', 'Year', 'CO2', 'F-Gas', 'N2O', 'State'], dtype='object')\n",
      "(960, 6)\n"
     ]
    }
   ],
   "source": [
    "print(df_gaz.columns)\n",
    "print(df_gaz.shape)"
   ]
  },
  {
   "cell_type": "code",
   "execution_count": 157,
   "metadata": {},
   "outputs": [
    {
     "data": {
      "text/html": [
       "<div>\n",
       "<style scoped>\n",
       "    .dataframe tbody tr th:only-of-type {\n",
       "        vertical-align: middle;\n",
       "    }\n",
       "\n",
       "    .dataframe tbody tr th {\n",
       "        vertical-align: top;\n",
       "    }\n",
       "\n",
       "    .dataframe thead th {\n",
       "        text-align: right;\n",
       "    }\n",
       "</style>\n",
       "<table border=\"1\" class=\"dataframe\">\n",
       "  <thead>\n",
       "    <tr style=\"text-align: right;\">\n",
       "      <th></th>\n",
       "      <th>Country</th>\n",
       "      <th>Region</th>\n",
       "      <th>Year</th>\n",
       "      <th>AvgCelsiusTemp</th>\n",
       "      <th>State</th>\n",
       "      <th>CO2</th>\n",
       "      <th>F-Gas</th>\n",
       "      <th>N2O</th>\n",
       "    </tr>\n",
       "  </thead>\n",
       "  <tbody>\n",
       "    <tr>\n",
       "      <th>0</th>\n",
       "      <td>Argentina</td>\n",
       "      <td>South/Central America &amp; Carribean</td>\n",
       "      <td>1995</td>\n",
       "      <td>16.500712</td>\n",
       "      <td>Not EU</td>\n",
       "      <td>113.81</td>\n",
       "      <td>1.22</td>\n",
       "      <td>36.72</td>\n",
       "    </tr>\n",
       "    <tr>\n",
       "      <th>1</th>\n",
       "      <td>Argentina</td>\n",
       "      <td>South/Central America &amp; Carribean</td>\n",
       "      <td>1996</td>\n",
       "      <td>17.061120</td>\n",
       "      <td>Not EU</td>\n",
       "      <td>126.56</td>\n",
       "      <td>1.67</td>\n",
       "      <td>37.02</td>\n",
       "    </tr>\n",
       "    <tr>\n",
       "      <th>2</th>\n",
       "      <td>Argentina</td>\n",
       "      <td>South/Central America &amp; Carribean</td>\n",
       "      <td>1997</td>\n",
       "      <td>17.302137</td>\n",
       "      <td>Not EU</td>\n",
       "      <td>127.32</td>\n",
       "      <td>2.11</td>\n",
       "      <td>37.41</td>\n",
       "    </tr>\n",
       "    <tr>\n",
       "      <th>3</th>\n",
       "      <td>Argentina</td>\n",
       "      <td>South/Central America &amp; Carribean</td>\n",
       "      <td>1998</td>\n",
       "      <td>16.534056</td>\n",
       "      <td>Not EU</td>\n",
       "      <td>133.17</td>\n",
       "      <td>2.53</td>\n",
       "      <td>37.04</td>\n",
       "    </tr>\n",
       "    <tr>\n",
       "      <th>4</th>\n",
       "      <td>Argentina</td>\n",
       "      <td>South/Central America &amp; Carribean</td>\n",
       "      <td>1999</td>\n",
       "      <td>16.575412</td>\n",
       "      <td>Not EU</td>\n",
       "      <td>134.19</td>\n",
       "      <td>2.95</td>\n",
       "      <td>37.32</td>\n",
       "    </tr>\n",
       "    <tr>\n",
       "      <th>...</th>\n",
       "      <td>...</td>\n",
       "      <td>...</td>\n",
       "      <td>...</td>\n",
       "      <td>...</td>\n",
       "      <td>...</td>\n",
       "      <td>...</td>\n",
       "      <td>...</td>\n",
       "      <td>...</td>\n",
       "    </tr>\n",
       "    <tr>\n",
       "      <th>891</th>\n",
       "      <td>United Kingdom</td>\n",
       "      <td>Europe</td>\n",
       "      <td>2014</td>\n",
       "      <td>11.860564</td>\n",
       "      <td>Not EU</td>\n",
       "      <td>414.85</td>\n",
       "      <td>16.84</td>\n",
       "      <td>28.34</td>\n",
       "    </tr>\n",
       "    <tr>\n",
       "      <th>892</th>\n",
       "      <td>United Kingdom</td>\n",
       "      <td>Europe</td>\n",
       "      <td>2015</td>\n",
       "      <td>11.166575</td>\n",
       "      <td>Not EU</td>\n",
       "      <td>400.37</td>\n",
       "      <td>16.76</td>\n",
       "      <td>28.46</td>\n",
       "    </tr>\n",
       "    <tr>\n",
       "      <th>893</th>\n",
       "      <td>United Kingdom</td>\n",
       "      <td>Europe</td>\n",
       "      <td>2016</td>\n",
       "      <td>11.235228</td>\n",
       "      <td>Not EU</td>\n",
       "      <td>378.89</td>\n",
       "      <td>16.02</td>\n",
       "      <td>28.28</td>\n",
       "    </tr>\n",
       "    <tr>\n",
       "      <th>894</th>\n",
       "      <td>United Kingdom</td>\n",
       "      <td>Europe</td>\n",
       "      <td>2017</td>\n",
       "      <td>11.450945</td>\n",
       "      <td>Not EU</td>\n",
       "      <td>366.38</td>\n",
       "      <td>14.91</td>\n",
       "      <td>28.28</td>\n",
       "    </tr>\n",
       "    <tr>\n",
       "      <th>895</th>\n",
       "      <td>United Kingdom</td>\n",
       "      <td>Europe</td>\n",
       "      <td>2018</td>\n",
       "      <td>11.213440</td>\n",
       "      <td>Not EU</td>\n",
       "      <td>358.80</td>\n",
       "      <td>13.79</td>\n",
       "      <td>28.29</td>\n",
       "    </tr>\n",
       "  </tbody>\n",
       "</table>\n",
       "<p>896 rows × 8 columns</p>\n",
       "</div>"
      ],
      "text/plain": [
       "            Country                             Region  Year  AvgCelsiusTemp  \\\n",
       "0         Argentina  South/Central America & Carribean  1995       16.500712   \n",
       "1         Argentina  South/Central America & Carribean  1996       17.061120   \n",
       "2         Argentina  South/Central America & Carribean  1997       17.302137   \n",
       "3         Argentina  South/Central America & Carribean  1998       16.534056   \n",
       "4         Argentina  South/Central America & Carribean  1999       16.575412   \n",
       "..              ...                                ...   ...             ...   \n",
       "891  United Kingdom                             Europe  2014       11.860564   \n",
       "892  United Kingdom                             Europe  2015       11.166575   \n",
       "893  United Kingdom                             Europe  2016       11.235228   \n",
       "894  United Kingdom                             Europe  2017       11.450945   \n",
       "895  United Kingdom                             Europe  2018       11.213440   \n",
       "\n",
       "      State     CO2  F-Gas    N2O  \n",
       "0    Not EU  113.81   1.22  36.72  \n",
       "1    Not EU  126.56   1.67  37.02  \n",
       "2    Not EU  127.32   2.11  37.41  \n",
       "3    Not EU  133.17   2.53  37.04  \n",
       "4    Not EU  134.19   2.95  37.32  \n",
       "..      ...     ...    ...    ...  \n",
       "891  Not EU  414.85  16.84  28.34  \n",
       "892  Not EU  400.37  16.76  28.46  \n",
       "893  Not EU  378.89  16.02  28.28  \n",
       "894  Not EU  366.38  14.91  28.28  \n",
       "895  Not EU  358.80  13.79  28.29  \n",
       "\n",
       "[896 rows x 8 columns]"
      ]
     },
     "execution_count": 157,
     "metadata": {},
     "output_type": "execute_result"
    }
   ],
   "source": [
    "df_merged = df5.merge(df_gaz, on=['Country','Year','State'], how='left').fillna(0)\n",
    "df_merged"
   ]
  },
  {
   "cell_type": "code",
   "execution_count": 163,
   "metadata": {},
   "outputs": [
    {
     "data": {
      "text/plain": [
       "<matplotlib.axes._subplots.AxesSubplot at 0x19524b1dbb0>"
      ]
     },
     "execution_count": 163,
     "metadata": {},
     "output_type": "execute_result"
    },
    {
     "data": {
      "image/png": "[encoded data removed]",
      "text/plain": [
       "<Figure size 432x288 with 1 Axes>"
      ]
     },
     "metadata": {
      "needs_background": "light"
     },
     "output_type": "display_data"
    }
   ],
   "source": [
    "df_merged[['Year','AvgCelsiusTemp']].groupby('Year').mean().plot()"
   ]
  },
  {
   "cell_type": "code",
   "execution_count": 154,
   "metadata": {},
   "outputs": [
    {
     "data": {
      "text/plain": [
       "EU        512\n",
       "Not EU    384\n",
       "Name: State, dtype: int64"
      ]
     },
     "execution_count": 154,
     "metadata": {},
     "output_type": "execute_result"
    }
   ],
   "source": [
    "df_merged.State.value_counts()"
   ]
  },
  {
   "cell_type": "code",
   "execution_count": 155,
   "metadata": {},
   "outputs": [],
   "source": [
    "df_merged.to_csv(r'C:\\Users\\lilie\\GitHubProjects\\IronEstelle\\Statistically_Significant_Insights\\cleaned_data\\df_merged3.csv', index = False)"
   ]
  },
  {
   "cell_type": "code",
   "execution_count": null,
   "metadata": {},
   "outputs": [],
   "source": []
  },
  {
   "cell_type": "code",
   "execution_count": 17,
   "metadata": {},
   "outputs": [],
   "source": [
    "#redoing without the selection on countries in G20\n",
    "\n",
    "df_all = df2.copy()\n",
    "df_all.drop(['Month','Day'], axis=1, inplace=True)\n",
    "yr_todrop = df_all.index[df_all.Year==2020]\n",
    "df_all.drop(yr_todrop, axis=0, inplace=True)\n",
    "df_all = df_all.groupby(['City','Country','Region','Year'], as_index=False)[['AvgCelsiusTemp']].mean()"
   ]
  },
  {
   "cell_type": "code",
   "execution_count": 18,
   "metadata": {},
   "outputs": [
    {
     "data": {
      "text/html": [
       "<div>\n",
       "<style scoped>\n",
       "    .dataframe tbody tr th:only-of-type {\n",
       "        vertical-align: middle;\n",
       "    }\n",
       "\n",
       "    .dataframe tbody tr th {\n",
       "        vertical-align: top;\n",
       "    }\n",
       "\n",
       "    .dataframe thead th {\n",
       "        text-align: right;\n",
       "    }\n",
       "</style>\n",
       "<table border=\"1\" class=\"dataframe\">\n",
       "  <thead>\n",
       "    <tr style=\"text-align: right;\">\n",
       "      <th></th>\n",
       "      <th>City</th>\n",
       "      <th>Country</th>\n",
       "      <th>Region</th>\n",
       "      <th>Year</th>\n",
       "      <th>AvgCelsiusTemp</th>\n",
       "    </tr>\n",
       "  </thead>\n",
       "  <tbody>\n",
       "    <tr>\n",
       "      <th>0</th>\n",
       "      <td>Abidjan</td>\n",
       "      <td>Ivory Coast</td>\n",
       "      <td>Africa</td>\n",
       "      <td>1995</td>\n",
       "      <td>26.987170</td>\n",
       "    </tr>\n",
       "    <tr>\n",
       "      <th>1</th>\n",
       "      <td>Abidjan</td>\n",
       "      <td>Ivory Coast</td>\n",
       "      <td>Africa</td>\n",
       "      <td>1996</td>\n",
       "      <td>26.952314</td>\n",
       "    </tr>\n",
       "    <tr>\n",
       "      <th>2</th>\n",
       "      <td>Abidjan</td>\n",
       "      <td>Ivory Coast</td>\n",
       "      <td>Africa</td>\n",
       "      <td>1997</td>\n",
       "      <td>26.825084</td>\n",
       "    </tr>\n",
       "    <tr>\n",
       "      <th>3</th>\n",
       "      <td>Abidjan</td>\n",
       "      <td>Ivory Coast</td>\n",
       "      <td>Africa</td>\n",
       "      <td>1998</td>\n",
       "      <td>27.285346</td>\n",
       "    </tr>\n",
       "    <tr>\n",
       "      <th>4</th>\n",
       "      <td>Abidjan</td>\n",
       "      <td>Ivory Coast</td>\n",
       "      <td>Africa</td>\n",
       "      <td>1999</td>\n",
       "      <td>26.985061</td>\n",
       "    </tr>\n",
       "  </tbody>\n",
       "</table>\n",
       "</div>"
      ],
      "text/plain": [
       "      City      Country  Region  Year  AvgCelsiusTemp\n",
       "0  Abidjan  Ivory Coast  Africa  1995       26.987170\n",
       "1  Abidjan  Ivory Coast  Africa  1996       26.952314\n",
       "2  Abidjan  Ivory Coast  Africa  1997       26.825084\n",
       "3  Abidjan  Ivory Coast  Africa  1998       27.285346\n",
       "4  Abidjan  Ivory Coast  Africa  1999       26.985061"
      ]
     },
     "execution_count": 18,
     "metadata": {},
     "output_type": "execute_result"
    }
   ],
   "source": [
    "df_all.head()"
   ]
  },
  {
   "cell_type": "code",
   "execution_count": 19,
   "metadata": {},
   "outputs": [
    {
     "data": {
      "text/plain": [
       "<matplotlib.axes._subplots.AxesSubplot at 0x1fb066aa490>"
      ]
     },
     "execution_count": 19,
     "metadata": {},
     "output_type": "execute_result"
    },
    {
     "data": {
      "image/png": "[encoded data removed]",
      "text/plain": [
       "<Figure size 432x288 with 1 Axes>"
      ]
     },
     "metadata": {
      "needs_background": "light"
     },
     "output_type": "display_data"
    }
   ],
   "source": [
    "df_all[['Year','AvgCelsiusTemp']].groupby('Year').mean().plot()"
   ]
  },
  {
   "cell_type": "code",
   "execution_count": 20,
   "metadata": {},
   "outputs": [],
   "source": [
    "df_all.to_csv(r'C:\\Users\\lilie\\GitHubProjects\\IronEstelle\\Statistically_Significant_Insights\\cleaned_data\\df_all_temp.csv', index = False)"
   ]
  },
  {
   "cell_type": "code",
   "execution_count": 22,
   "metadata": {},
   "outputs": [
    {
     "data": {
      "text/html": [
       "<div>\n",
       "<style scoped>\n",
       "    .dataframe tbody tr th:only-of-type {\n",
       "        vertical-align: middle;\n",
       "    }\n",
       "\n",
       "    .dataframe tbody tr th {\n",
       "        vertical-align: top;\n",
       "    }\n",
       "\n",
       "    .dataframe thead th {\n",
       "        text-align: right;\n",
       "    }\n",
       "</style>\n",
       "<table border=\"1\" class=\"dataframe\">\n",
       "  <thead>\n",
       "    <tr style=\"text-align: right;\">\n",
       "      <th></th>\n",
       "      <th>Country</th>\n",
       "      <th>Year</th>\n",
       "      <th>CO2</th>\n",
       "      <th>F-Gas</th>\n",
       "      <th>N2O</th>\n",
       "    </tr>\n",
       "  </thead>\n",
       "  <tbody>\n",
       "    <tr>\n",
       "      <th>0</th>\n",
       "      <td>Afghanistan</td>\n",
       "      <td>1995</td>\n",
       "      <td>1.25</td>\n",
       "      <td>0.02</td>\n",
       "      <td>3.06</td>\n",
       "    </tr>\n",
       "    <tr>\n",
       "      <th>1</th>\n",
       "      <td>Afghanistan</td>\n",
       "      <td>1996</td>\n",
       "      <td>1.18</td>\n",
       "      <td>0.03</td>\n",
       "      <td>3.29</td>\n",
       "    </tr>\n",
       "    <tr>\n",
       "      <th>2</th>\n",
       "      <td>Afghanistan</td>\n",
       "      <td>1997</td>\n",
       "      <td>1.10</td>\n",
       "      <td>0.05</td>\n",
       "      <td>3.59</td>\n",
       "    </tr>\n",
       "    <tr>\n",
       "      <th>3</th>\n",
       "      <td>Afghanistan</td>\n",
       "      <td>1998</td>\n",
       "      <td>1.05</td>\n",
       "      <td>0.06</td>\n",
       "      <td>3.88</td>\n",
       "    </tr>\n",
       "    <tr>\n",
       "      <th>4</th>\n",
       "      <td>Afghanistan</td>\n",
       "      <td>1999</td>\n",
       "      <td>0.82</td>\n",
       "      <td>0.08</td>\n",
       "      <td>4.15</td>\n",
       "    </tr>\n",
       "  </tbody>\n",
       "</table>\n",
       "</div>"
      ],
      "text/plain": [
       "       Country  Year   CO2  F-Gas   N2O\n",
       "0  Afghanistan  1995  1.25   0.02  3.06\n",
       "1  Afghanistan  1996  1.18   0.03  3.29\n",
       "2  Afghanistan  1997  1.10   0.05  3.59\n",
       "3  Afghanistan  1998  1.05   0.06  3.88\n",
       "4  Afghanistan  1999  0.82   0.08  4.15"
      ]
     },
     "execution_count": 22,
     "metadata": {},
     "output_type": "execute_result"
    }
   ],
   "source": [
    "os.chdir(r'C:\\Users\\lilie\\GitHubProjects\\IronEstelle\\Statistically_Significant_Insights\\cleaned_data')\n",
    "\n",
    "df_gaz = pd.read_csv('df_all_gaz.csv')\n",
    "df_gaz.head()"
   ]
  },
  {
   "cell_type": "code",
   "execution_count": 24,
   "metadata": {},
   "outputs": [],
   "source": [
    "df_gaz['Country'] = df_gaz['Country'].replace(['Netherlands'],'The Netherlands')\n",
    "df_gaz['Country'] = df_gaz['Country'].replace(['United States'],'US')"
   ]
  },
  {
   "cell_type": "code",
   "execution_count": 25,
   "metadata": {
    "scrolled": true
   },
   "outputs": [
    {
     "data": {
      "text/html": [
       "<div>\n",
       "<style scoped>\n",
       "    .dataframe tbody tr th:only-of-type {\n",
       "        vertical-align: middle;\n",
       "    }\n",
       "\n",
       "    .dataframe tbody tr th {\n",
       "        vertical-align: top;\n",
       "    }\n",
       "\n",
       "    .dataframe thead th {\n",
       "        text-align: right;\n",
       "    }\n",
       "</style>\n",
       "<table border=\"1\" class=\"dataframe\">\n",
       "  <thead>\n",
       "    <tr style=\"text-align: right;\">\n",
       "      <th></th>\n",
       "      <th>City</th>\n",
       "      <th>Country</th>\n",
       "      <th>Region</th>\n",
       "      <th>Year</th>\n",
       "      <th>AvgCelsiusTemp</th>\n",
       "      <th>CO2</th>\n",
       "      <th>F-Gas</th>\n",
       "      <th>N2O</th>\n",
       "    </tr>\n",
       "  </thead>\n",
       "  <tbody>\n",
       "    <tr>\n",
       "      <th>0</th>\n",
       "      <td>Abidjan</td>\n",
       "      <td>Ivory Coast</td>\n",
       "      <td>Africa</td>\n",
       "      <td>1995</td>\n",
       "      <td>26.987170</td>\n",
       "      <td>0.00</td>\n",
       "      <td>0.00</td>\n",
       "      <td>0.00</td>\n",
       "    </tr>\n",
       "    <tr>\n",
       "      <th>1</th>\n",
       "      <td>Abidjan</td>\n",
       "      <td>Ivory Coast</td>\n",
       "      <td>Africa</td>\n",
       "      <td>1996</td>\n",
       "      <td>26.952314</td>\n",
       "      <td>0.00</td>\n",
       "      <td>0.00</td>\n",
       "      <td>0.00</td>\n",
       "    </tr>\n",
       "    <tr>\n",
       "      <th>2</th>\n",
       "      <td>Abidjan</td>\n",
       "      <td>Ivory Coast</td>\n",
       "      <td>Africa</td>\n",
       "      <td>1997</td>\n",
       "      <td>26.825084</td>\n",
       "      <td>0.00</td>\n",
       "      <td>0.00</td>\n",
       "      <td>0.00</td>\n",
       "    </tr>\n",
       "    <tr>\n",
       "      <th>3</th>\n",
       "      <td>Abidjan</td>\n",
       "      <td>Ivory Coast</td>\n",
       "      <td>Africa</td>\n",
       "      <td>1998</td>\n",
       "      <td>27.285346</td>\n",
       "      <td>0.00</td>\n",
       "      <td>0.00</td>\n",
       "      <td>0.00</td>\n",
       "    </tr>\n",
       "    <tr>\n",
       "      <th>4</th>\n",
       "      <td>Abidjan</td>\n",
       "      <td>Ivory Coast</td>\n",
       "      <td>Africa</td>\n",
       "      <td>1999</td>\n",
       "      <td>26.985061</td>\n",
       "      <td>0.00</td>\n",
       "      <td>0.00</td>\n",
       "      <td>0.00</td>\n",
       "    </tr>\n",
       "    <tr>\n",
       "      <th>...</th>\n",
       "      <td>...</td>\n",
       "      <td>...</td>\n",
       "      <td>...</td>\n",
       "      <td>...</td>\n",
       "      <td>...</td>\n",
       "      <td>...</td>\n",
       "      <td>...</td>\n",
       "      <td>...</td>\n",
       "    </tr>\n",
       "    <tr>\n",
       "      <th>7675</th>\n",
       "      <td>Zurich</td>\n",
       "      <td>Switzerland</td>\n",
       "      <td>Europe</td>\n",
       "      <td>2015</td>\n",
       "      <td>10.612940</td>\n",
       "      <td>39.03</td>\n",
       "      <td>1.60</td>\n",
       "      <td>2.18</td>\n",
       "    </tr>\n",
       "    <tr>\n",
       "      <th>7676</th>\n",
       "      <td>Zurich</td>\n",
       "      <td>Switzerland</td>\n",
       "      <td>Europe</td>\n",
       "      <td>2016</td>\n",
       "      <td>9.939475</td>\n",
       "      <td>39.61</td>\n",
       "      <td>1.53</td>\n",
       "      <td>2.19</td>\n",
       "    </tr>\n",
       "    <tr>\n",
       "      <th>7677</th>\n",
       "      <td>Zurich</td>\n",
       "      <td>Switzerland</td>\n",
       "      <td>Europe</td>\n",
       "      <td>2017</td>\n",
       "      <td>10.194822</td>\n",
       "      <td>38.62</td>\n",
       "      <td>1.57</td>\n",
       "      <td>2.18</td>\n",
       "    </tr>\n",
       "    <tr>\n",
       "      <th>7678</th>\n",
       "      <td>Zurich</td>\n",
       "      <td>Switzerland</td>\n",
       "      <td>Europe</td>\n",
       "      <td>2018</td>\n",
       "      <td>11.163139</td>\n",
       "      <td>37.48</td>\n",
       "      <td>1.62</td>\n",
       "      <td>2.14</td>\n",
       "    </tr>\n",
       "    <tr>\n",
       "      <th>7679</th>\n",
       "      <td>Zurich</td>\n",
       "      <td>Switzerland</td>\n",
       "      <td>Europe</td>\n",
       "      <td>2019</td>\n",
       "      <td>10.603928</td>\n",
       "      <td>0.00</td>\n",
       "      <td>0.00</td>\n",
       "      <td>0.00</td>\n",
       "    </tr>\n",
       "  </tbody>\n",
       "</table>\n",
       "<p>7680 rows × 8 columns</p>\n",
       "</div>"
      ],
      "text/plain": [
       "         City      Country  Region  Year  AvgCelsiusTemp    CO2  F-Gas   N2O\n",
       "0     Abidjan  Ivory Coast  Africa  1995       26.987170   0.00   0.00  0.00\n",
       "1     Abidjan  Ivory Coast  Africa  1996       26.952314   0.00   0.00  0.00\n",
       "2     Abidjan  Ivory Coast  Africa  1997       26.825084   0.00   0.00  0.00\n",
       "3     Abidjan  Ivory Coast  Africa  1998       27.285346   0.00   0.00  0.00\n",
       "4     Abidjan  Ivory Coast  Africa  1999       26.985061   0.00   0.00  0.00\n",
       "...       ...          ...     ...   ...             ...    ...    ...   ...\n",
       "7675   Zurich  Switzerland  Europe  2015       10.612940  39.03   1.60  2.18\n",
       "7676   Zurich  Switzerland  Europe  2016        9.939475  39.61   1.53  2.19\n",
       "7677   Zurich  Switzerland  Europe  2017       10.194822  38.62   1.57  2.18\n",
       "7678   Zurich  Switzerland  Europe  2018       11.163139  37.48   1.62  2.14\n",
       "7679   Zurich  Switzerland  Europe  2019       10.603928   0.00   0.00  0.00\n",
       "\n",
       "[7680 rows x 8 columns]"
      ]
     },
     "execution_count": 25,
     "metadata": {},
     "output_type": "execute_result"
    }
   ],
   "source": [
    "df_merged4 = df_all.merge(df_gaz, on=['Country','Year'], how='left').fillna(0)\n",
    "df_merged4"
   ]
  },
  {
   "cell_type": "code",
   "execution_count": 26,
   "metadata": {},
   "outputs": [],
   "source": [
    "df_merged4.to_csv(r'C:\\Users\\lilie\\GitHubProjects\\IronEstelle\\Statistically_Significant_Insights\\cleaned_data\\df_merged4.csv', index = False)"
   ]
  },
  {
   "cell_type": "code",
   "execution_count": null,
   "metadata": {},
   "outputs": [],
   "source": [
    "df_mer"
   ]
  }
 ],
 "metadata": {
  "kernelspec": {
   "display_name": "Python 3",
   "language": "python",
   "name": "python3"
  },
  "language_info": {
   "codemirror_mode": {
    "name": "ipython",
    "version": 3
   },
   "file_extension": ".py",
   "mimetype": "text/x-python",
   "name": "python",
   "nbconvert_exporter": "python",
   "pygments_lexer": "ipython3",
   "version": "3.8.5"
  }
 },
 "nbformat": 4,
 "nbformat_minor": 4
}
