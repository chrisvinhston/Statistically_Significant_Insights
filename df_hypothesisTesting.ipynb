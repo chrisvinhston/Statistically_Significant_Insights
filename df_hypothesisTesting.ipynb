{
 "cells": [
  {
   "cell_type": "code",
   "execution_count": 1,
   "metadata": {},
   "outputs": [],
   "source": [
    "import seaborn as sns\n",
    "import matplotlib.pyplot as plt\n",
    "import pandas as pd\n",
    "import numpy as np\n",
    "import os"
   ]
  },
  {
   "cell_type": "code",
   "execution_count": 2,
   "metadata": {},
   "outputs": [],
   "source": [
    "import matplotlib.pyplot as plt\n",
    "import seaborn as sns\n",
    "%matplotlib inline\n",
    "sns.set()"
   ]
  },
  {
   "cell_type": "code",
   "execution_count": 7,
   "metadata": {},
   "outputs": [],
   "source": [
    "os.chdir(r'C:\\Users\\lilie\\GitHubProjects\\IronEstelle\\Statistically_Significant_Insights\\cleaned_data')\n",
    "df = pd.read_csv('df_all.csv')"
   ]
  },
  {
   "cell_type": "code",
   "execution_count": 165,
   "metadata": {},
   "outputs": [],
   "source": [
    "dropNA=df.index[df.CO2.isna()]\n",
    "df.drop(dropNA, axis=0, inplace=True)"
   ]
  },
  {
   "cell_type": "code",
   "execution_count": 166,
   "metadata": {},
   "outputs": [
    {
     "data": {
      "text/plain": [
       "Country           0\n",
       "Region            0\n",
       "Year              0\n",
       "AvgCelsiusTemp    0\n",
       "CO2               0\n",
       "F-Gas             0\n",
       "N2O               0\n",
       "dtype: int64"
      ]
     },
     "execution_count": 166,
     "metadata": {},
     "output_type": "execute_result"
    }
   ],
   "source": [
    "df.isna().sum()"
   ]
  },
  {
   "cell_type": "code",
   "execution_count": 177,
   "metadata": {},
   "outputs": [
    {
     "data": {
      "text/html": [
       "<div>\n",
       "<style scoped>\n",
       "    .dataframe tbody tr th:only-of-type {\n",
       "        vertical-align: middle;\n",
       "    }\n",
       "\n",
       "    .dataframe tbody tr th {\n",
       "        vertical-align: top;\n",
       "    }\n",
       "\n",
       "    .dataframe thead th {\n",
       "        text-align: right;\n",
       "    }\n",
       "</style>\n",
       "<table border=\"1\" class=\"dataframe\">\n",
       "  <thead>\n",
       "    <tr style=\"text-align: right;\">\n",
       "      <th></th>\n",
       "      <th>Country</th>\n",
       "      <th>Region</th>\n",
       "      <th>Year</th>\n",
       "      <th>AvgCelsiusTemp</th>\n",
       "      <th>CO2</th>\n",
       "      <th>F-Gas</th>\n",
       "      <th>N2O</th>\n",
       "    </tr>\n",
       "  </thead>\n",
       "  <tbody>\n",
       "    <tr>\n",
       "      <th>23</th>\n",
       "      <td>Algeria</td>\n",
       "      <td>Africa</td>\n",
       "      <td>1995</td>\n",
       "      <td>18.01</td>\n",
       "      <td>73.05</td>\n",
       "      <td>0.11</td>\n",
       "      <td>4.16</td>\n",
       "    </tr>\n",
       "    <tr>\n",
       "      <th>48</th>\n",
       "      <td>Argentina</td>\n",
       "      <td>South/Central America &amp; Carribean</td>\n",
       "      <td>1995</td>\n",
       "      <td>16.50</td>\n",
       "      <td>113.81</td>\n",
       "      <td>1.22</td>\n",
       "      <td>36.72</td>\n",
       "    </tr>\n",
       "    <tr>\n",
       "      <th>73</th>\n",
       "      <td>Australia</td>\n",
       "      <td>Australia/South Pacific</td>\n",
       "      <td>1995</td>\n",
       "      <td>16.39</td>\n",
       "      <td>289.01</td>\n",
       "      <td>2.84</td>\n",
       "      <td>75.72</td>\n",
       "    </tr>\n",
       "    <tr>\n",
       "      <th>98</th>\n",
       "      <td>Austria</td>\n",
       "      <td>Europe</td>\n",
       "      <td>1995</td>\n",
       "      <td>10.14</td>\n",
       "      <td>61.18</td>\n",
       "      <td>1.28</td>\n",
       "      <td>4.59</td>\n",
       "    </tr>\n",
       "    <tr>\n",
       "      <th>123</th>\n",
       "      <td>Bahamas</td>\n",
       "      <td>South/Central America &amp; Carribean</td>\n",
       "      <td>1995</td>\n",
       "      <td>25.06</td>\n",
       "      <td>2.08</td>\n",
       "      <td>0.01</td>\n",
       "      <td>0.05</td>\n",
       "    </tr>\n",
       "    <tr>\n",
       "      <th>...</th>\n",
       "      <td>...</td>\n",
       "      <td>...</td>\n",
       "      <td>...</td>\n",
       "      <td>...</td>\n",
       "      <td>...</td>\n",
       "      <td>...</td>\n",
       "      <td>...</td>\n",
       "    </tr>\n",
       "    <tr>\n",
       "      <th>2811</th>\n",
       "      <td>Uruguay</td>\n",
       "      <td>South/Central America &amp; Carribean</td>\n",
       "      <td>1995</td>\n",
       "      <td>15.35</td>\n",
       "      <td>4.69</td>\n",
       "      <td>0.04</td>\n",
       "      <td>7.08</td>\n",
       "    </tr>\n",
       "    <tr>\n",
       "      <th>2836</th>\n",
       "      <td>Uzbekistan</td>\n",
       "      <td>Asia</td>\n",
       "      <td>1995</td>\n",
       "      <td>15.05</td>\n",
       "      <td>96.13</td>\n",
       "      <td>0.18</td>\n",
       "      <td>7.94</td>\n",
       "    </tr>\n",
       "    <tr>\n",
       "      <th>2861</th>\n",
       "      <td>Venezuela</td>\n",
       "      <td>South/Central America &amp; Carribean</td>\n",
       "      <td>1995</td>\n",
       "      <td>25.82</td>\n",
       "      <td>116.94</td>\n",
       "      <td>4.92</td>\n",
       "      <td>10.63</td>\n",
       "    </tr>\n",
       "    <tr>\n",
       "      <th>2886</th>\n",
       "      <td>Vietnam</td>\n",
       "      <td>Asia</td>\n",
       "      <td>1995</td>\n",
       "      <td>23.55</td>\n",
       "      <td>30.32</td>\n",
       "      <td>0.15</td>\n",
       "      <td>14.74</td>\n",
       "    </tr>\n",
       "    <tr>\n",
       "      <th>2936</th>\n",
       "      <td>Zambia</td>\n",
       "      <td>Africa</td>\n",
       "      <td>1995</td>\n",
       "      <td>22.73</td>\n",
       "      <td>2.13</td>\n",
       "      <td>0.04</td>\n",
       "      <td>23.42</td>\n",
       "    </tr>\n",
       "  </tbody>\n",
       "</table>\n",
       "<p>111 rows × 7 columns</p>\n",
       "</div>"
      ],
      "text/plain": [
       "         Country                             Region  Year  AvgCelsiusTemp  \\\n",
       "23       Algeria                             Africa  1995           18.01   \n",
       "48     Argentina  South/Central America & Carribean  1995           16.50   \n",
       "73     Australia            Australia/South Pacific  1995           16.39   \n",
       "98       Austria                             Europe  1995           10.14   \n",
       "123      Bahamas  South/Central America & Carribean  1995           25.06   \n",
       "...          ...                                ...   ...             ...   \n",
       "2811     Uruguay  South/Central America & Carribean  1995           15.35   \n",
       "2836  Uzbekistan                               Asia  1995           15.05   \n",
       "2861   Venezuela  South/Central America & Carribean  1995           25.82   \n",
       "2886     Vietnam                               Asia  1995           23.55   \n",
       "2936      Zambia                             Africa  1995           22.73   \n",
       "\n",
       "         CO2  F-Gas    N2O  \n",
       "23     73.05   0.11   4.16  \n",
       "48    113.81   1.22  36.72  \n",
       "73    289.01   2.84  75.72  \n",
       "98     61.18   1.28   4.59  \n",
       "123     2.08   0.01   0.05  \n",
       "...      ...    ...    ...  \n",
       "2811    4.69   0.04   7.08  \n",
       "2836   96.13   0.18   7.94  \n",
       "2861  116.94   4.92  10.63  \n",
       "2886   30.32   0.15  14.74  \n",
       "2936    2.13   0.04  23.42  \n",
       "\n",
       "[111 rows x 7 columns]"
      ]
     },
     "execution_count": 177,
     "metadata": {},
     "output_type": "execute_result"
    }
   ],
   "source": [
    "df.loc[df.Year==1995]"
   ]
  },
  {
   "cell_type": "markdown",
   "metadata": {},
   "source": [
    "# Comparing 1995 vs 2015's averages"
   ]
  },
  {
   "cell_type": "markdown",
   "metadata": {},
   "source": [
    "### region vs. world"
   ]
  },
  {
   "cell_type": "code",
   "execution_count": 225,
   "metadata": {},
   "outputs": [
    {
     "data": {
      "text/html": [
       "<div>\n",
       "<style scoped>\n",
       "    .dataframe tbody tr th:only-of-type {\n",
       "        vertical-align: middle;\n",
       "    }\n",
       "\n",
       "    .dataframe tbody tr th {\n",
       "        vertical-align: top;\n",
       "    }\n",
       "\n",
       "    .dataframe thead th {\n",
       "        text-align: right;\n",
       "    }\n",
       "</style>\n",
       "<table border=\"1\" class=\"dataframe\">\n",
       "  <thead>\n",
       "    <tr style=\"text-align: right;\">\n",
       "      <th></th>\n",
       "      <th>Country</th>\n",
       "      <th>Region</th>\n",
       "      <th>Year</th>\n",
       "      <th>AvgCelsiusTemp</th>\n",
       "      <th>CO2</th>\n",
       "      <th>F-Gas</th>\n",
       "      <th>N2O</th>\n",
       "    </tr>\n",
       "  </thead>\n",
       "  <tbody>\n",
       "    <tr>\n",
       "      <th>23</th>\n",
       "      <td>Algeria</td>\n",
       "      <td>Africa</td>\n",
       "      <td>1995</td>\n",
       "      <td>18.01</td>\n",
       "      <td>73.05</td>\n",
       "      <td>0.11</td>\n",
       "      <td>4.16</td>\n",
       "    </tr>\n",
       "    <tr>\n",
       "      <th>48</th>\n",
       "      <td>Argentina</td>\n",
       "      <td>South/Central America &amp; Carribean</td>\n",
       "      <td>1995</td>\n",
       "      <td>16.50</td>\n",
       "      <td>113.81</td>\n",
       "      <td>1.22</td>\n",
       "      <td>36.72</td>\n",
       "    </tr>\n",
       "    <tr>\n",
       "      <th>73</th>\n",
       "      <td>Australia</td>\n",
       "      <td>Australia/South Pacific</td>\n",
       "      <td>1995</td>\n",
       "      <td>16.39</td>\n",
       "      <td>289.01</td>\n",
       "      <td>2.84</td>\n",
       "      <td>75.72</td>\n",
       "    </tr>\n",
       "    <tr>\n",
       "      <th>98</th>\n",
       "      <td>Austria</td>\n",
       "      <td>Europe</td>\n",
       "      <td>1995</td>\n",
       "      <td>10.14</td>\n",
       "      <td>61.18</td>\n",
       "      <td>1.28</td>\n",
       "      <td>4.59</td>\n",
       "    </tr>\n",
       "    <tr>\n",
       "      <th>123</th>\n",
       "      <td>Bahamas</td>\n",
       "      <td>South/Central America &amp; Carribean</td>\n",
       "      <td>1995</td>\n",
       "      <td>25.06</td>\n",
       "      <td>2.08</td>\n",
       "      <td>0.01</td>\n",
       "      <td>0.05</td>\n",
       "    </tr>\n",
       "    <tr>\n",
       "      <th>...</th>\n",
       "      <td>...</td>\n",
       "      <td>...</td>\n",
       "      <td>...</td>\n",
       "      <td>...</td>\n",
       "      <td>...</td>\n",
       "      <td>...</td>\n",
       "      <td>...</td>\n",
       "    </tr>\n",
       "    <tr>\n",
       "      <th>2811</th>\n",
       "      <td>Uruguay</td>\n",
       "      <td>South/Central America &amp; Carribean</td>\n",
       "      <td>1995</td>\n",
       "      <td>15.35</td>\n",
       "      <td>4.69</td>\n",
       "      <td>0.04</td>\n",
       "      <td>7.08</td>\n",
       "    </tr>\n",
       "    <tr>\n",
       "      <th>2836</th>\n",
       "      <td>Uzbekistan</td>\n",
       "      <td>Asia</td>\n",
       "      <td>1995</td>\n",
       "      <td>15.05</td>\n",
       "      <td>96.13</td>\n",
       "      <td>0.18</td>\n",
       "      <td>7.94</td>\n",
       "    </tr>\n",
       "    <tr>\n",
       "      <th>2861</th>\n",
       "      <td>Venezuela</td>\n",
       "      <td>South/Central America &amp; Carribean</td>\n",
       "      <td>1995</td>\n",
       "      <td>25.82</td>\n",
       "      <td>116.94</td>\n",
       "      <td>4.92</td>\n",
       "      <td>10.63</td>\n",
       "    </tr>\n",
       "    <tr>\n",
       "      <th>2886</th>\n",
       "      <td>Vietnam</td>\n",
       "      <td>Asia</td>\n",
       "      <td>1995</td>\n",
       "      <td>23.55</td>\n",
       "      <td>30.32</td>\n",
       "      <td>0.15</td>\n",
       "      <td>14.74</td>\n",
       "    </tr>\n",
       "    <tr>\n",
       "      <th>2936</th>\n",
       "      <td>Zambia</td>\n",
       "      <td>Africa</td>\n",
       "      <td>1995</td>\n",
       "      <td>22.73</td>\n",
       "      <td>2.13</td>\n",
       "      <td>0.04</td>\n",
       "      <td>23.42</td>\n",
       "    </tr>\n",
       "  </tbody>\n",
       "</table>\n",
       "<p>111 rows × 7 columns</p>\n",
       "</div>"
      ],
      "text/plain": [
       "         Country                             Region  Year  AvgCelsiusTemp  \\\n",
       "23       Algeria                             Africa  1995           18.01   \n",
       "48     Argentina  South/Central America & Carribean  1995           16.50   \n",
       "73     Australia            Australia/South Pacific  1995           16.39   \n",
       "98       Austria                             Europe  1995           10.14   \n",
       "123      Bahamas  South/Central America & Carribean  1995           25.06   \n",
       "...          ...                                ...   ...             ...   \n",
       "2811     Uruguay  South/Central America & Carribean  1995           15.35   \n",
       "2836  Uzbekistan                               Asia  1995           15.05   \n",
       "2861   Venezuela  South/Central America & Carribean  1995           25.82   \n",
       "2886     Vietnam                               Asia  1995           23.55   \n",
       "2936      Zambia                             Africa  1995           22.73   \n",
       "\n",
       "         CO2  F-Gas    N2O  \n",
       "23     73.05   0.11   4.16  \n",
       "48    113.81   1.22  36.72  \n",
       "73    289.01   2.84  75.72  \n",
       "98     61.18   1.28   4.59  \n",
       "123     2.08   0.01   0.05  \n",
       "...      ...    ...    ...  \n",
       "2811    4.69   0.04   7.08  \n",
       "2836   96.13   0.18   7.94  \n",
       "2861  116.94   4.92  10.63  \n",
       "2886   30.32   0.15  14.74  \n",
       "2936    2.13   0.04  23.42  \n",
       "\n",
       "[111 rows x 7 columns]"
      ]
     },
     "execution_count": 225,
     "metadata": {},
     "output_type": "execute_result"
    }
   ],
   "source": [
    "df_1995 = df.loc[df.Year==1995]\n",
    "df_2015 = df.loc[df.Year==2015]\n",
    "df_1995"
   ]
  },
  {
   "cell_type": "markdown",
   "metadata": {},
   "source": [
    "### Sample"
   ]
  },
  {
   "cell_type": "code",
   "execution_count": 282,
   "metadata": {},
   "outputs": [
    {
     "data": {
      "text/plain": [
       "array([1.65500e+01, 3.08487e+03, 7.41100e+02, 2.22840e+02, 1.17279e+03,\n",
       "       1.72480e+02, 6.70000e-01, 8.38800e+01, 1.02800e+01, 1.89000e+00,\n",
       "       8.34200e+01, 8.27300e+01, 6.18000e+01, 3.88800e+01, 3.84310e+02,\n",
       "       5.82000e+00, 2.51000e+00, 3.34300e+01, 9.61300e+01, 3.03200e+01])"
      ]
     },
     "execution_count": 282,
     "metadata": {},
     "output_type": "execute_result"
    }
   ],
   "source": [
    "asia95_t=df_1995.AvgCelsiusTemp.values[df_1995.Region=='Asia']\n",
    "asia15_t=df_2015.AvgCelsiusTemp.values[df_2015.Region=='Asia']\n",
    "\n",
    "asia95_c=df_1995.CO2.values[df_1995.Region=='Asia']\n",
    "asia15_c=df_2015.CO2.values[df_2015.Region=='Asia']\n",
    "asia95_c"
   ]
  },
  {
   "cell_type": "code",
   "execution_count": 284,
   "metadata": {},
   "outputs": [
    {
     "data": {
      "text/plain": [
       "array([   5.07,   63.15,   54.89,   95.2 ,   44.69,   16.68,  100.98,\n",
       "         33.6 ,   42.82,  310.52,  742.31,   43.38,    2.06,   36.99,\n",
       "        337.86,    7.32,    7.48,   38.64,  289.05,   49.85,   72.9 ,\n",
       "       1557.53,   30.75,  256.28,   39.2 ,   39.03,  158.11,  190.87,\n",
       "        400.37])"
      ]
     },
     "execution_count": 284,
     "metadata": {},
     "output_type": "execute_result"
    }
   ],
   "source": [
    "europe95_t=df_1995.AvgCelsiusTemp.values[df_1995.Region=='Europe']\n",
    "europe15_t=df_2015.AvgCelsiusTemp.values[df_2015.Region=='Europe']\n",
    "\n",
    "europe95_c=df_1995.CO2.values[df_1995.Region=='Europe']\n",
    "europe15_c=df_2015.CO2.values[df_2015.Region=='Europe']\n",
    "europe15_c"
   ]
  },
  {
   "cell_type": "code",
   "execution_count": 285,
   "metadata": {},
   "outputs": [
    {
     "data": {
      "text/plain": [
       "array([186.09,   2.37,   1.29,   0.66,  20.41, 479.97,  81.03,   7.54,\n",
       "        27.49,  23.45,  16.34,   3.32,   9.87,   5.27,  10.7 ,  53.82,\n",
       "         2.75,   6.59, 173.88])"
      ]
     },
     "execution_count": 285,
     "metadata": {},
     "output_type": "execute_result"
    }
   ],
   "source": [
    "samerica95_t=df_1995.AvgCelsiusTemp.values[df_1995.Region=='South/Central America & Carribean']\n",
    "samerica15_t=df_2015.AvgCelsiusTemp.values[df_2015.Region=='South/Central America & Carribean']\n",
    "\n",
    "samerica95_c=df_1995.CO2.values[df_1995.Region=='South/Central America & Carribean']\n",
    "samerica15_c=df_2015.CO2.values[df_2015.Region=='South/Central America & Carribean']\n",
    "samerica15_c"
   ]
  },
  {
   "cell_type": "markdown",
   "metadata": {},
   "source": [
    "### Population"
   ]
  },
  {
   "cell_type": "code",
   "execution_count": 287,
   "metadata": {},
   "outputs": [
    {
     "data": {
      "text/plain": [
       "291.83142857142855"
      ]
     },
     "execution_count": 287,
     "metadata": {},
     "output_type": "execute_result"
    }
   ],
   "source": [
    "pop95_t = df_1995.AvgCelsiusTemp.mean()\n",
    "pop15_t = df_2015.AvgCelsiusTemp.mean()\n",
    "\n",
    "pop95_c = df_1995.CO2.mean()\n",
    "pop15_c = df_2015.CO2.mean()\n",
    "pop15_c"
   ]
  },
  {
   "cell_type": "markdown",
   "metadata": {},
   "source": [
    "# Temperature & CO2 emission\n",
    "Hypothesis: \n",
    "    - temperature is increasing everywhere, no matter which country you live in\n",
    "    - CO2 emission is increasing everywhere, but not significantly with T°"
   ]
  },
  {
   "cell_type": "markdown",
   "metadata": {},
   "source": [
    "### t-test"
   ]
  },
  {
   "cell_type": "code",
   "execution_count": 82,
   "metadata": {},
   "outputs": [],
   "source": [
    "from scipy.stats import ttest_1samp"
   ]
  },
  {
   "cell_type": "markdown",
   "metadata": {},
   "source": [
    "**statistic** - observed t-value. According to the 5% significance level, we can further calculate the t-critical (circa 1.96). \n",
    "\n",
    "if t-critical(1.96) > t-observed ==> fail to reject  𝐻0\n",
    "\n",
    "**pvalue** - Probability of being wrong by rejecting the Null Hypothesis.  \n",
    "\n",
    "if pvalue > significance level of 0.05 ==> fail to reject  𝐻0 "
   ]
  },
  {
   "cell_type": "code",
   "execution_count": 289,
   "metadata": {},
   "outputs": [
    {
     "name": "stdout",
     "output_type": "stream",
     "text": [
      "Ttest_1sampResult(statistic=0.44490155366964784, pvalue=0.6614178023228809)\n",
      "Ttest_1sampResult(statistic=0.4893574157653113, pvalue=0.6301903841349304) \n",
      "\n",
      "Ttest_1sampResult(statistic=0.8319203926066712, pvalue=0.4157878398054654)\n",
      "Ttest_1sampResult(statistic=0.9846116746496237, pvalue=0.33718795634270793)\n"
     ]
    }
   ],
   "source": [
    "#ASIA\n",
    "print(ttest_1samp(asia95_t, pop95_t))\n",
    "print(ttest_1samp(asia15_t, pop15_t),'\\n')\n",
    "\n",
    "print(ttest_1samp(asia95_c, pop95_c))\n",
    "print(ttest_1samp(asia15_c, pop15_c))"
   ]
  },
  {
   "cell_type": "code",
   "execution_count": 290,
   "metadata": {},
   "outputs": [
    {
     "name": "stdout",
     "output_type": "stream",
     "text": [
      "Ttest_1sampResult(statistic=-11.672826177871386, pvalue=1.768061793972844e-12)\n",
      "Ttest_1sampResult(statistic=-14.485696064991737, pvalue=1.556369202721982e-14) \n",
      "\n",
      "Ttest_1sampResult(statistic=0.25852553286746216, pvalue=0.797827433023562)\n",
      "Ttest_1sampResult(statistic=-2.022622739534032, pvalue=0.05275694734586252)\n"
     ]
    }
   ],
   "source": [
    "#EUROPE\n",
    "print(ttest_1samp(europe95_t, pop95_t))\n",
    "print(ttest_1samp(europe15_t, pop15_t),'\\n')\n",
    "\n",
    "print(ttest_1samp(europe95_c, pop95_c))\n",
    "print(ttest_1samp(europe15_c, pop15_c))"
   ]
  },
  {
   "cell_type": "code",
   "execution_count": 291,
   "metadata": {},
   "outputs": [
    {
     "name": "stdout",
     "output_type": "stream",
     "text": [
      "Ttest_1sampResult(statistic=2.774621803833925, pvalue=0.012497513746777541)\n",
      "Ttest_1sampResult(statistic=3.2704201404018027, pvalue=0.00424977888043462) \n",
      "\n",
      "Ttest_1sampResult(statistic=-10.575462124237598, pvalue=3.749819946953457e-09)\n",
      "Ttest_1sampResult(statistic=-8.77124272717527, pvalue=6.450600780876276e-08)\n"
     ]
    }
   ],
   "source": [
    "#SOUTH AMERICA\n",
    "print(ttest_1samp(samerica95_t, pop95_t)) \n",
    "print(ttest_1samp(samerica15_t, pop15_t),'\\n')\n",
    "\n",
    "print(ttest_1samp(samerica95_c, pop95_c))\n",
    "print(ttest_1samp(samerica15_c, pop15_c))"
   ]
  },
  {
   "cell_type": "markdown",
   "metadata": {},
   "source": [
    "### cities vs region"
   ]
  },
  {
   "cell_type": "markdown",
   "metadata": {},
   "source": [
    "### sample"
   ]
  },
  {
   "cell_type": "code",
   "execution_count": null,
   "metadata": {},
   "outputs": [],
   "source": [
    "#Asia => Singapore & South Korea\n",
    "#Europe =>France & Germany\n",
    "#South/Central America & Carribean => Brazil & Barbados"
   ]
  },
  {
   "cell_type": "code",
   "execution_count": 378,
   "metadata": {},
   "outputs": [
    {
     "data": {
      "text/plain": [
       "array([0.14549451, 0.36635835])"
      ]
     },
     "execution_count": 378,
     "metadata": {},
     "output_type": "execute_result"
    }
   ],
   "source": [
    "asia95_t2=df_1995.AvgCelsiusTemp.values[(df_1995.Country=='Singapore')|(df_1995.Country=='South Korea')]\n",
    "asia15_t2=df_2015.AvgCelsiusTemp.values[(df_2015.Country=='Singapore')|(df_2015.Country=='South Korea')]\n",
    "\n",
    "asia95_c2=df_1995.CO2.values[(df_1995.Country=='Singapore')|(df_1995.Country=='South Korea')]\n",
    "asia15_c2=df_2015.CO2.values[(df_2015.Country=='Singapore')|(df_2015.Country=='South Korea')]\n",
    "asia15_c2\n",
    "\n",
    "#ratio\n",
    "r_asia_t = (asia15_t2 - asia95_t2)/asia15_t2\n",
    "r_asia_c = (asia15_c2 - asia95_c2)/asia15_c2\n",
    "r_asia_c"
   ]
  },
  {
   "cell_type": "code",
   "execution_count": 362,
   "metadata": {},
   "outputs": [
    {
     "data": {
      "text/plain": [
       "array([-0.03040669, -0.08810241])"
      ]
     },
     "execution_count": 362,
     "metadata": {},
     "output_type": "execute_result"
    }
   ],
   "source": [
    "europe95_t2=df_1995.AvgCelsiusTemp.values[(df_1995.Country=='France')|(df_1995.Country=='Germany')]\n",
    "europe15_t2=df_2015.AvgCelsiusTemp.values[(df_2015.Country=='France')|(df_2015.Country=='Germany')]\n",
    "\n",
    "europe95_c2=df_1995.CO2.values[(df_1995.Country=='France')|(df_1995.Country=='Germany')]\n",
    "europe15_c2=df_2015.CO2.values[(df_2015.Country=='France')|(df_2015.Country=='Germany')]\n",
    "\n",
    "r_europe_t = (europe15_t2 - europe95_t2)/europe15_t2\n",
    "r_europe_c = (europe15_c2 - europe95_c2)/europe15_c2\n",
    "\n",
    "r_europe_t"
   ]
  },
  {
   "cell_type": "code",
   "execution_count": 364,
   "metadata": {},
   "outputs": [
    {
     "data": {
      "text/plain": [
       "array([0.00327749, 0.02210759])"
      ]
     },
     "execution_count": 364,
     "metadata": {},
     "output_type": "execute_result"
    }
   ],
   "source": [
    "samerica95_t2=df_1995.AvgCelsiusTemp.values[(df_1995.Country=='Brazil')|(df_1995.Country=='Barbados')]\n",
    "samerica15_t2=df_2015.AvgCelsiusTemp.values[(df_2015.Country=='Brazil')|(df_2015.Country=='Barbados')]\n",
    "\n",
    "samerica95_c2=df_1995.CO2.values[(df_1995.Country=='Brazil')|(df_1995.Country=='Barbados')]\n",
    "samerica15_c2=df_2015.CO2.values[(df_2015.Country=='Brazil')|(df_2015.Country=='Barbados')]\n",
    "\n",
    "r_a_t = (samerica15_t2 - samerica95_t2)/samerica15_t2\n",
    "r_a_c = (samerica15_c2 - samerica95_c2)/samerica15_c2\n",
    "r_a_t"
   ]
  },
  {
   "cell_type": "markdown",
   "metadata": {},
   "source": [
    "### population"
   ]
  },
  {
   "cell_type": "code",
   "execution_count": 379,
   "metadata": {},
   "outputs": [
    {
     "data": {
      "text/plain": [
       "0.5917565367543008"
      ]
     },
     "execution_count": 379,
     "metadata": {},
     "output_type": "execute_result"
    }
   ],
   "source": [
    "pop95_asiat = df_1995[df_1995.Region=='Asia'].AvgCelsiusTemp.mean()\n",
    "pop15_asiat = df_2015[df_2015.Region=='Asia'].AvgCelsiusTemp.mean()\n",
    "\n",
    "pop95_asiac = df_1995[df_1995.Region=='Asia'].CO2.mean()\n",
    "pop15_asiac = df_2015[df_2015.Region=='Asia'].CO2.mean()\n",
    "\n",
    "r_popasia_t = (pop15_asiat - pop95_asiat)/pop15_asiat\n",
    "r_popasia_c = (pop15_asiac - pop95_asiac)/pop15_asiac\n",
    "r_popasia_c"
   ]
  },
  {
   "cell_type": "code",
   "execution_count": 372,
   "metadata": {},
   "outputs": [
    {
     "data": {
      "text/plain": [
       "0.03692438960357078"
      ]
     },
     "execution_count": 372,
     "metadata": {},
     "output_type": "execute_result"
    }
   ],
   "source": [
    "pop95_europet = df_1995[df_1995.Region=='Europe'].AvgCelsiusTemp.mean()\n",
    "pop15_europet = df_2015[df_2015.Region=='Europe'].AvgCelsiusTemp.mean()\n",
    "\n",
    "pop95_europec = df_1995[df_1995.Region=='Europe'].CO2.mean()\n",
    "pop15_europec = df_2015[df_2015.Region=='Europe'].CO2.mean()\n",
    "\n",
    "r_popeurope_t = (pop15_europet - pop95_europet)/pop15_europet\n",
    "r_popeurope_c = (pop15_europec - pop95_europec)/pop15_europec\n",
    "r_popeurope_t"
   ]
  },
  {
   "cell_type": "code",
   "execution_count": 373,
   "metadata": {},
   "outputs": [],
   "source": [
    "pop95_samericat = df_1995[df_1995.Region=='South/Central America & Carribean'].AvgCelsiusTemp.mean()\n",
    "pop15_samericat = df_2015[df_2015.Region=='South/Central America & Carribean'].AvgCelsiusTemp.mean()\n",
    "\n",
    "pop95_samericac = df_1995[df_1995.Region=='South/Central America & Carribean'].CO2.mean()\n",
    "pop15_samericac = df_2015[df_2015.Region=='South/Central America & Carribean'].CO2.mean()\n",
    "\n",
    "r_popa_t = (pop15_samericat - pop95_samericat)/pop15_samericat\n",
    "r_popa_c = (pop15_samericac - pop95_samericac)/pop15_samericac"
   ]
  },
  {
   "cell_type": "markdown",
   "metadata": {},
   "source": [
    "### t-test "
   ]
  },
  {
   "cell_type": "code",
   "execution_count": 328,
   "metadata": {},
   "outputs": [
    {
     "name": "stdout",
     "output_type": "stream",
     "text": [
      "Ttest_1sampResult(statistic=-2.763621076233187, pvalue=0.2210262050972403)\n",
      "Ttest_1sampResult(statistic=-2.7834532374100736, pvalue=0.21957372828346286) \n",
      "\n",
      "Ttest_1sampResult(statistic=1.0503414106703794, pvalue=0.48437240763367573)\n",
      "Ttest_1sampResult(statistic=0.9634952384669426, pvalue=0.5118344956815006)\n"
     ]
    }
   ],
   "source": [
    "#ASIA\n",
    "print(ttest_1samp(asia95_t2, pop95_asiat))\n",
    "print(ttest_1samp(asia15_t2, pop15_asiat),'\\n')\n",
    "\n",
    "print(ttest_1samp(asia95_c2, pop95_asiac))\n",
    "print(ttest_1samp(asia15_c2, pop15_asiac))"
   ]
  },
  {
   "cell_type": "code",
   "execution_count": 321,
   "metadata": {},
   "outputs": [
    {
     "name": "stdout",
     "output_type": "stream",
     "text": [
      "Ttest_1sampResult(statistic=1.2180312787488512, pvalue=0.4376210227227528)\n",
      "Ttest_1sampResult(statistic=0.3831597503282788, pvalue=0.7670575382936331) \n",
      "\n",
      "Ttest_1sampResult(statistic=1.589874746388638, pvalue=0.3574342977689998)\n",
      "Ttest_1sampResult(statistic=1.6288976681672365, pvalue=0.35051408558889796)\n"
     ]
    }
   ],
   "source": [
    "#EUROPE\n",
    "print(ttest_1samp(europe95_t2, pop95_europet))\n",
    "print(ttest_1samp(europe15_t2, pop15_europet),'\\n')\n",
    "\n",
    "print(ttest_1samp(europe95_c2, pop95_europec))\n",
    "print(ttest_1samp(europe15_c2, pop15_europec))"
   ]
  },
  {
   "cell_type": "code",
   "execution_count": 322,
   "metadata": {},
   "outputs": [
    {
     "name": "stdout",
     "output_type": "stream",
     "text": [
      "Ttest_1sampResult(statistic=0.978159230563717, pvalue=0.5070286054348507)\n",
      "Ttest_1sampResult(statistic=0.7717970080052176, pvalue=0.5815460838001354) \n",
      "\n",
      "Ttest_1sampResult(statistic=0.7316474649586158, pvalue=0.597878069299653)\n",
      "Ttest_1sampResult(statistic=0.7606729910763371, pvalue=0.5860081337475223)\n"
     ]
    }
   ],
   "source": [
    "#SOUTH AMERICA\n",
    "print(ttest_1samp(samerica95_t2, pop95_samericat))\n",
    "print(ttest_1samp(samerica15_t2, pop15_samericat),'\\n')\n",
    "\n",
    "print(ttest_1samp(samerica95_c2, pop95_samericac))\n",
    "print(ttest_1samp(samerica15_c2, pop15_samericac))"
   ]
  },
  {
   "cell_type": "code",
   "execution_count": 380,
   "metadata": {},
   "outputs": [
    {
     "name": "stdout",
     "output_type": "stream",
     "text": [
      "Ttest_1sampResult(statistic=1.0976154106768057, pvalue=0.4703953841602433)\n",
      "Ttest_1sampResult(statistic=-3.3340060191818863, pvalue=0.18551180501277548)\n",
      "Ttest_1sampResult(statistic=-3.214383836700157, pvalue=0.19201113613702395) \n",
      "\n",
      "Ttest_1sampResult(statistic=-3.041060154338778, pvalue=0.20225061545670003)\n",
      "Ttest_1sampResult(statistic=-0.8821801320787171, pvalue=0.5397989098598501)\n",
      "Ttest_1sampResult(statistic=-0.5960716275461353, pvalue=0.6578003301655522) \n",
      "\n"
     ]
    }
   ],
   "source": [
    "#RATIO\n",
    "print(ttest_1samp(r_asia_t, r_popasia_t))\n",
    "print(ttest_1samp(r_europe_t, r_popeurope_t))\n",
    "print(ttest_1samp(r_a_t, r_popa_t),'\\n')\n",
    "\n",
    "print(ttest_1samp(r_asia_c, r_popasia_c))\n",
    "print(ttest_1samp(r_europe_c, r_popeurope_c))\n",
    "print(ttest_1samp(r_a_c, r_popa_c),'\\n')"
   ]
  },
  {
   "cell_type": "markdown",
   "metadata": {},
   "source": [
    "# Conclusion:\n",
    "\n",
    "#Asia => Singapore & South Korea\n",
    "#Europe =>France & Germany\n",
    "#South/Central America & Carribean => Brazil & Barbados\n",
    "\n",
    "For each cities:\n",
    "    * t-critical(1.96) > t-observed ==> fail to reject 𝐻0\n",
    "    * pvalue > 0.05 ==> fail to reject 𝐻0\n",
    "    \n",
    "1. no matter which country you live in (France, Brazil or China), temperature is increasing comparing with region => temperatures are increasing everywhere\n",
    "2. CO2 emission is growing everywhere, even if not correlated with T°"
   ]
  },
  {
   "cell_type": "code",
   "execution_count": null,
   "metadata": {},
   "outputs": [],
   "source": []
  },
  {
   "cell_type": "code",
   "execution_count": null,
   "metadata": {},
   "outputs": [],
   "source": []
  },
  {
   "cell_type": "code",
   "execution_count": null,
   "metadata": {},
   "outputs": [],
   "source": []
  },
  {
   "cell_type": "code",
   "execution_count": null,
   "metadata": {},
   "outputs": [],
   "source": []
  },
  {
   "cell_type": "code",
   "execution_count": null,
   "metadata": {},
   "outputs": [],
   "source": []
  },
  {
   "cell_type": "code",
   "execution_count": 324,
   "metadata": {},
   "outputs": [
    {
     "data": {
      "text/plain": [
       "array(['Albania', 'Algeria', 'Argentina', 'Australia', 'Austria',\n",
       "       'Bahamas', 'Bahrain', 'Bangladesh', 'Barbados', 'Belarus',\n",
       "       'Belgium', 'Belize', 'Benin', 'Bolivia', 'Brazil', 'Bulgaria',\n",
       "       'Burundi', 'Canada', 'Central African Republic', 'China',\n",
       "       'Colombia', 'Costa Rica', 'Croatia', 'Cuba', 'Cyprus',\n",
       "       'Czech Republic', 'Denmark', 'Dominican Republic', 'Egypt',\n",
       "       'Ethiopia', 'Finland', 'France', 'Gabon', 'Gambia', 'Georgia',\n",
       "       'Germany', 'Greece', 'Guatemala', 'Guinea', 'Guinea-Bissau',\n",
       "       'Guyana', 'Haiti', 'Honduras', 'Hungary', 'Iceland', 'India',\n",
       "       'Indonesia', 'Ireland', 'Israel', 'Italy', 'Japan', 'Jordan',\n",
       "       'Kazakhstan', 'Kenya', 'Kuwait', 'Kyrgyzstan', 'Laos', 'Latvia',\n",
       "       'Lebanon', 'Macedonia', 'Madagascar', 'Malawi', 'Malaysia',\n",
       "       'Mauritania', 'Mexico', 'Mongolia', 'Morocco', 'Mozambique',\n",
       "       'Namibia', 'Nepal', 'New Zealand', 'Nicaragua', 'Nigeria',\n",
       "       'North Korea', 'Norway', 'Oman', 'Pakistan', 'Panama', 'Peru',\n",
       "       'Philippines', 'Poland', 'Portugal', 'Qatar', 'Romania', 'Russia',\n",
       "       'Saudi Arabia', 'Senegal', 'Sierra Leone', 'Singapore', 'Slovakia',\n",
       "       'South Africa', 'South Korea', 'Spain', 'Sri Lanka', 'Suriname',\n",
       "       'Sweden', 'Switzerland', 'Syria', 'Tajikistan', 'Tanzania',\n",
       "       'Thailand', 'The Netherlands', 'Togo', 'Tunisia', 'Turkey',\n",
       "       'Turkmenistan', 'US', 'Uganda', 'Ukraine', 'United Arab Emirates',\n",
       "       'United Kingdom', 'Uruguay', 'Uzbekistan', 'Venezuela', 'Vietnam',\n",
       "       'Zambia'], dtype=object)"
      ]
     },
     "execution_count": 324,
     "metadata": {},
     "output_type": "execute_result"
    }
   ],
   "source": [
    "df.Country.unique()"
   ]
  },
  {
   "cell_type": "code",
   "execution_count": 107,
   "metadata": {},
   "outputs": [
    {
     "data": {
      "text/plain": [
       "Region\n",
       "Africa                               0.943999\n",
       "South/Central America & Carribean    0.864506\n",
       "Asia                                 0.809297\n",
       "Middle East                          0.794985\n",
       "Europe                               0.778827\n",
       "Australia/South Pacific              0.352030\n",
       "North America                        0.092177\n",
       "Name: Temp, dtype: float64"
      ]
     },
     "execution_count": 107,
     "metadata": {},
     "output_type": "execute_result"
    }
   ],
   "source": [
    "df.groupby('Region').Temp.corr(df.CO2).sort_values(ascending=False)"
   ]
  },
  {
   "cell_type": "code",
   "execution_count": 174,
   "metadata": {},
   "outputs": [
    {
     "data": {
      "text/plain": [
       "309           Turkey\n",
       "295         Thailand\n",
       "288            Syria\n",
       "257     Sierra Leone\n",
       "249           Russia\n",
       "221             Oman\n",
       "220             Oman\n",
       "192         Mongolia\n",
       "190         Mongolia\n",
       "180           Malawi\n",
       "160       Kyrgyzstan\n",
       "156            Kenya\n",
       "127          Hungary\n",
       "119            Haiti\n",
       "116           Guyana\n",
       "115    Guinea-Bissau\n",
       "100           Gambia\n",
       "65           Croatia\n",
       "61          Colombia\n",
       "47          Bulgaria\n",
       "45          Bulgaria\n",
       "44            Brazil\n",
       "41           Bolivia\n",
       "29           Belarus\n",
       "0            Albania\n",
       "Name: Country, dtype: object"
      ]
     },
     "execution_count": 174,
     "metadata": {},
     "output_type": "execute_result"
    }
   ],
   "source": [
    "todrop=df.Country[df.Temp>0.19].sort_values(ascending=False)\n",
    "todrop2=df.Country[df.Temp<-0.19].sort_values(ascending=False)\n",
    "drop = list(todrop)+list(todrop2)"
   ]
  },
  {
   "cell_type": "code",
   "execution_count": 177,
   "metadata": {},
   "outputs": [
    {
     "data": {
      "text/plain": [
       "0     True\n",
       "1     True\n",
       "2     True\n",
       "3    False\n",
       "4    False\n",
       "Name: Country, dtype: bool"
      ]
     },
     "execution_count": 177,
     "metadata": {},
     "output_type": "execute_result"
    }
   ],
   "source": [
    "df_drop = df['Country'].isin(list(drop))\n",
    "df_drop.head()"
   ]
  },
  {
   "cell_type": "code",
   "execution_count": 178,
   "metadata": {},
   "outputs": [
    {
     "data": {
      "text/html": [
       "<div>\n",
       "<style scoped>\n",
       "    .dataframe tbody tr th:only-of-type {\n",
       "        vertical-align: middle;\n",
       "    }\n",
       "\n",
       "    .dataframe tbody tr th {\n",
       "        vertical-align: top;\n",
       "    }\n",
       "\n",
       "    .dataframe thead th {\n",
       "        text-align: right;\n",
       "    }\n",
       "</style>\n",
       "<table border=\"1\" class=\"dataframe\">\n",
       "  <thead>\n",
       "    <tr style=\"text-align: right;\">\n",
       "      <th></th>\n",
       "      <th>Country</th>\n",
       "      <th>Region</th>\n",
       "      <th>Ratio</th>\n",
       "      <th>Temp</th>\n",
       "      <th>CO2</th>\n",
       "    </tr>\n",
       "  </thead>\n",
       "  <tbody>\n",
       "    <tr>\n",
       "      <th>3</th>\n",
       "      <td>Algeria</td>\n",
       "      <td>Africa</td>\n",
       "      <td>1</td>\n",
       "      <td>0.007086</td>\n",
       "      <td>0.082311</td>\n",
       "    </tr>\n",
       "    <tr>\n",
       "      <th>4</th>\n",
       "      <td>Algeria</td>\n",
       "      <td>Africa</td>\n",
       "      <td>2</td>\n",
       "      <td>-0.015288</td>\n",
       "      <td>0.195032</td>\n",
       "    </tr>\n",
       "    <tr>\n",
       "      <th>5</th>\n",
       "      <td>Algeria</td>\n",
       "      <td>Africa</td>\n",
       "      <td>3</td>\n",
       "      <td>0.182203</td>\n",
       "      <td>0.352817</td>\n",
       "    </tr>\n",
       "    <tr>\n",
       "      <th>6</th>\n",
       "      <td>Argentina</td>\n",
       "      <td>South/Central America &amp; Carribean</td>\n",
       "      <td>1</td>\n",
       "      <td>0.013974</td>\n",
       "      <td>0.014601</td>\n",
       "    </tr>\n",
       "    <tr>\n",
       "      <th>7</th>\n",
       "      <td>Argentina</td>\n",
       "      <td>South/Central America &amp; Carribean</td>\n",
       "      <td>2</td>\n",
       "      <td>-0.003890</td>\n",
       "      <td>0.185166</td>\n",
       "    </tr>\n",
       "    <tr>\n",
       "      <th>...</th>\n",
       "      <td>...</td>\n",
       "      <td>...</td>\n",
       "      <td>...</td>\n",
       "      <td>...</td>\n",
       "      <td>...</td>\n",
       "    </tr>\n",
       "    <tr>\n",
       "      <th>338</th>\n",
       "      <td>Vietnam</td>\n",
       "      <td>Asia</td>\n",
       "      <td>2</td>\n",
       "      <td>0.014710</td>\n",
       "      <td>0.396465</td>\n",
       "    </tr>\n",
       "    <tr>\n",
       "      <th>339</th>\n",
       "      <td>Vietnam</td>\n",
       "      <td>Asia</td>\n",
       "      <td>3</td>\n",
       "      <td>0.170367</td>\n",
       "      <td>0.444776</td>\n",
       "    </tr>\n",
       "    <tr>\n",
       "      <th>340</th>\n",
       "      <td>Zambia</td>\n",
       "      <td>Africa</td>\n",
       "      <td>1</td>\n",
       "      <td>-0.048587</td>\n",
       "      <td>-0.034836</td>\n",
       "    </tr>\n",
       "    <tr>\n",
       "      <th>341</th>\n",
       "      <td>Zambia</td>\n",
       "      <td>Africa</td>\n",
       "      <td>2</td>\n",
       "      <td>-0.082384</td>\n",
       "      <td>0.120721</td>\n",
       "    </tr>\n",
       "    <tr>\n",
       "      <th>342</th>\n",
       "      <td>Zambia</td>\n",
       "      <td>Africa</td>\n",
       "      <td>3</td>\n",
       "      <td>0.041679</td>\n",
       "      <td>0.408316</td>\n",
       "    </tr>\n",
       "  </tbody>\n",
       "</table>\n",
       "<p>264 rows × 5 columns</p>\n",
       "</div>"
      ],
      "text/plain": [
       "       Country                             Region  Ratio      Temp       CO2\n",
       "3      Algeria                             Africa      1  0.007086  0.082311\n",
       "4      Algeria                             Africa      2 -0.015288  0.195032\n",
       "5      Algeria                             Africa      3  0.182203  0.352817\n",
       "6    Argentina  South/Central America & Carribean      1  0.013974  0.014601\n",
       "7    Argentina  South/Central America & Carribean      2 -0.003890  0.185166\n",
       "..         ...                                ...    ...       ...       ...\n",
       "338    Vietnam                               Asia      2  0.014710  0.396465\n",
       "339    Vietnam                               Asia      3  0.170367  0.444776\n",
       "340     Zambia                             Africa      1 -0.048587 -0.034836\n",
       "341     Zambia                             Africa      2 -0.082384  0.120721\n",
       "342     Zambia                             Africa      3  0.041679  0.408316\n",
       "\n",
       "[264 rows x 5 columns]"
      ]
     },
     "execution_count": 178,
     "metadata": {},
     "output_type": "execute_result"
    }
   ],
   "source": [
    "df2 = df[~df_drop]\n",
    "df2"
   ]
  },
  {
   "cell_type": "code",
   "execution_count": 179,
   "metadata": {},
   "outputs": [
    {
     "name": "stderr",
     "output_type": "stream",
     "text": [
      "<ipython-input-179-dbcbf4e1316a>:1: SettingWithCopyWarning: \n",
      "A value is trying to be set on a copy of a slice from a DataFrame.\n",
      "Try using .loc[row_indexer,col_indexer] = value instead\n",
      "\n",
      "See the caveats in the documentation: https://pandas.pydata.org/pandas-docs/stable/user_guide/indexing.html#returning-a-view-versus-a-copy\n",
      "  df2['Temp'] = [round(i,3) for i in df2.Temp]\n",
      "<ipython-input-179-dbcbf4e1316a>:2: SettingWithCopyWarning: \n",
      "A value is trying to be set on a copy of a slice from a DataFrame.\n",
      "Try using .loc[row_indexer,col_indexer] = value instead\n",
      "\n",
      "See the caveats in the documentation: https://pandas.pydata.org/pandas-docs/stable/user_guide/indexing.html#returning-a-view-versus-a-copy\n",
      "  df2['CO2'] = [round(i,3) for i in df2.CO2]\n"
     ]
    }
   ],
   "source": [
    "df2['Temp'] = [round(i,3) for i in df2.Temp]\n",
    "df2['CO2'] = [round(i,3) for i in df2.CO2]"
   ]
  },
  {
   "cell_type": "code",
   "execution_count": null,
   "metadata": {},
   "outputs": [],
   "source": []
  },
  {
   "cell_type": "code",
   "execution_count": 354,
   "metadata": {},
   "outputs": [
    {
     "data": {
      "text/plain": [
       "<matplotlib.axes._subplots.AxesSubplot at 0x206f4969b80>"
      ]
     },
     "execution_count": 354,
     "metadata": {},
     "output_type": "execute_result"
    },
    {
     "data": {
      "image/png": "[encoded data removed]",
      "text/plain": [
       "<Figure size 432x288 with 1 Axes>"
      ]
     },
     "metadata": {},
     "output_type": "display_data"
    }
   ],
   "source": [
    "sns.distplot(df.CO2)"
   ]
  },
  {
   "cell_type": "code",
   "execution_count": 353,
   "metadata": {},
   "outputs": [
    {
     "data": {
      "text/plain": [
       "<matplotlib.axes._subplots.AxesSubplot at 0x206f4a54370>"
      ]
     },
     "execution_count": 353,
     "metadata": {},
     "output_type": "execute_result"
    },
    {
     "data": {
      "image/png": "[encoded data removed]",
      "text/plain": [
       "<Figure size 432x288 with 1 Axes>"
      ]
     },
     "metadata": {},
     "output_type": "display_data"
    }
   ],
   "source": [
    "sns.distplot(df.AvgCelsiusTemp)"
   ]
  },
  {
   "cell_type": "code",
   "execution_count": 348,
   "metadata": {},
   "outputs": [],
   "source": [
    "df.rename(columns={'F-Gas': 'FGas'}, inplace=True)"
   ]
  },
  {
   "cell_type": "code",
   "execution_count": 343,
   "metadata": {
    "scrolled": true
   },
   "outputs": [
    {
     "data": {
      "text/plain": [
       "<matplotlib.axes._subplots.AxesSubplot at 0x206f47cb340>"
      ]
     },
     "execution_count": 343,
     "metadata": {},
     "output_type": "execute_result"
    },
    {
     "data": {
      "image/png": "[encoded data removed]",
      "text/plain": [
       "<Figure size 432x288 with 1 Axes>"
      ]
     },
     "metadata": {},
     "output_type": "display_data"
    }
   ],
   "source": [
    "sns.scatterplot(data = df, x='AvgCelsiusTemp', y='CO2')\n",
    "sns.regplot(data = df, x='AvgCelsiusTemp', y='CO2')"
   ]
  },
  {
   "cell_type": "code",
   "execution_count": 350,
   "metadata": {},
   "outputs": [
    {
     "data": {
      "text/html": [
       "<table class=\"simpletable\">\n",
       "<caption>OLS Regression Results</caption>\n",
       "<tr>\n",
       "  <th>Dep. Variable:</th>           <td>CO2</td>       <th>  R-squared:         </th> <td>   0.965</td> \n",
       "</tr>\n",
       "<tr>\n",
       "  <th>Model:</th>                   <td>OLS</td>       <th>  Adj. R-squared:    </th> <td>   0.965</td> \n",
       "</tr>\n",
       "<tr>\n",
       "  <th>Method:</th>             <td>Least Squares</td>  <th>  F-statistic:       </th> <td>3.679e+04</td>\n",
       "</tr>\n",
       "<tr>\n",
       "  <th>Date:</th>             <td>Thu, 20 May 2021</td> <th>  Prob (F-statistic):</th>  <td>  0.00</td>  \n",
       "</tr>\n",
       "<tr>\n",
       "  <th>Time:</th>                 <td>21:13:15</td>     <th>  Log-Likelihood:    </th> <td> -17257.</td> \n",
       "</tr>\n",
       "<tr>\n",
       "  <th>No. Observations:</th>      <td>  2654</td>      <th>  AIC:               </th> <td>3.452e+04</td>\n",
       "</tr>\n",
       "<tr>\n",
       "  <th>Df Residuals:</th>          <td>  2651</td>      <th>  BIC:               </th> <td>3.454e+04</td>\n",
       "</tr>\n",
       "<tr>\n",
       "  <th>Df Model:</th>              <td>     2</td>      <th>                     </th>     <td> </td>    \n",
       "</tr>\n",
       "<tr>\n",
       "  <th>Covariance Type:</th>      <td>nonrobust</td>    <th>                     </th>     <td> </td>    \n",
       "</tr>\n",
       "</table>\n",
       "<table class=\"simpletable\">\n",
       "<tr>\n",
       "      <td></td>         <th>coef</th>     <th>std err</th>      <th>t</th>      <th>P>|t|</th>  <th>[0.025</th>    <th>0.975]</th>  \n",
       "</tr>\n",
       "<tr>\n",
       "  <th>Intercept</th> <td>  -37.4740</td> <td>    3.357</td> <td>  -11.162</td> <td> 0.000</td> <td>  -44.057</td> <td>  -30.891</td>\n",
       "</tr>\n",
       "<tr>\n",
       "  <th>FGas</th>      <td>   27.3302</td> <td>    0.242</td> <td>  112.910</td> <td> 0.000</td> <td>   26.856</td> <td>   27.805</td>\n",
       "</tr>\n",
       "<tr>\n",
       "  <th>N2O</th>       <td>    5.7605</td> <td>    0.093</td> <td>   62.089</td> <td> 0.000</td> <td>    5.579</td> <td>    5.942</td>\n",
       "</tr>\n",
       "</table>\n",
       "<table class=\"simpletable\">\n",
       "<tr>\n",
       "  <th>Omnibus:</th>       <td>958.778</td> <th>  Durbin-Watson:     </th> <td>   0.192</td> \n",
       "</tr>\n",
       "<tr>\n",
       "  <th>Prob(Omnibus):</th> <td> 0.000</td>  <th>  Jarque-Bera (JB):  </th> <td>23932.535</td>\n",
       "</tr>\n",
       "<tr>\n",
       "  <th>Skew:</th>          <td>-1.141</td>  <th>  Prob(JB):          </th> <td>    0.00</td> \n",
       "</tr>\n",
       "<tr>\n",
       "  <th>Kurtosis:</th>      <td>17.533</td>  <th>  Cond. No.          </th> <td>    66.0</td> \n",
       "</tr>\n",
       "</table><br/><br/>Warnings:<br/>[1] Standard Errors assume that the covariance matrix of the errors is correctly specified."
      ],
      "text/plain": [
       "<class 'statsmodels.iolib.summary.Summary'>\n",
       "\"\"\"\n",
       "                            OLS Regression Results                            \n",
       "==============================================================================\n",
       "Dep. Variable:                    CO2   R-squared:                       0.965\n",
       "Model:                            OLS   Adj. R-squared:                  0.965\n",
       "Method:                 Least Squares   F-statistic:                 3.679e+04\n",
       "Date:                Thu, 20 May 2021   Prob (F-statistic):               0.00\n",
       "Time:                        21:13:15   Log-Likelihood:                -17257.\n",
       "No. Observations:                2654   AIC:                         3.452e+04\n",
       "Df Residuals:                    2651   BIC:                         3.454e+04\n",
       "Df Model:                           2                                         \n",
       "Covariance Type:            nonrobust                                         \n",
       "==============================================================================\n",
       "                 coef    std err          t      P>|t|      [0.025      0.975]\n",
       "------------------------------------------------------------------------------\n",
       "Intercept    -37.4740      3.357    -11.162      0.000     -44.057     -30.891\n",
       "FGas          27.3302      0.242    112.910      0.000      26.856      27.805\n",
       "N2O            5.7605      0.093     62.089      0.000       5.579       5.942\n",
       "==============================================================================\n",
       "Omnibus:                      958.778   Durbin-Watson:                   0.192\n",
       "Prob(Omnibus):                  0.000   Jarque-Bera (JB):            23932.535\n",
       "Skew:                          -1.141   Prob(JB):                         0.00\n",
       "Kurtosis:                      17.533   Cond. No.                         66.0\n",
       "==============================================================================\n",
       "\n",
       "Warnings:\n",
       "[1] Standard Errors assume that the covariance matrix of the errors is correctly specified.\n",
       "\"\"\""
      ]
     },
     "execution_count": 350,
     "metadata": {},
     "output_type": "execute_result"
    }
   ],
   "source": [
    "from statsmodels.formula.api import ols\n",
    "\n",
    "model_fit = ols('CO2 ~ FGas + N2O', data=df).fit()\n",
    "model_fit.summary()"
   ]
  }
 ],
 "metadata": {
  "kernelspec": {
   "display_name": "Python 3",
   "language": "python",
   "name": "python3"
  },
  "language_info": {
   "codemirror_mode": {
    "name": "ipython",
    "version": 3
   },
   "file_extension": ".py",
   "mimetype": "text/x-python",
   "name": "python",
   "nbconvert_exporter": "python",
   "pygments_lexer": "ipython3",
   "version": "3.8.3"
  }
 },
 "nbformat": 4,
 "nbformat_minor": 4
}
