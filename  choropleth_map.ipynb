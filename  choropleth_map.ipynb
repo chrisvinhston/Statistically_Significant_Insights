{
 "cells": [
  {
   "cell_type": "code",
   "execution_count": 143,
   "metadata": {},
   "outputs": [],
   "source": [
    "import os\n",
    "import pandas as pd\n",
    "\n",
    "import plotly as py\n",
    "from plotly.offline import download_plotlyjs, init_notebook_mode, plot, iplot\n",
    "import plotly.graph_objects as go\n",
    "import plotly.express as px\n",
    "import chart_studio.plotly \n",
    "from chart_studio.grid_objs import Grid, Column\n",
    "import plotly.figure_factory as ff\n",
    "import folium\n",
    "\n",
    "\n",
    "import pandas as pd\n",
    "import requests as r\n",
    "from bs4 import BeautifulSoup"
   ]
  },
  {
   "cell_type": "code",
   "execution_count": 145,
   "metadata": {},
   "outputs": [],
   "source": [
    "url = 'https://en.wikipedia.org/wiki/ISO_3166-1_alpha-3'\n",
    "resp = r.get(url)\n",
    "soup = BeautifulSoup(resp.content)"
   ]
  },
  {
   "cell_type": "code",
   "execution_count": 146,
   "metadata": {},
   "outputs": [],
   "source": [
    "x = [i.text.split('\\xa0\\xa0') for i in soup.select('.div-col li')]"
   ]
  },
  {
   "cell_type": "code",
   "execution_count": null,
   "metadata": {},
   "outputs": [],
   "source": [
    "df = pd.DataFrame(x)"
   ]
  },
  {
   "cell_type": "code",
   "execution_count": 148,
   "metadata": {},
   "outputs": [],
   "source": [
    "os.chdir(r'C:\\Users\\Quoc\\Desktop\\[ironhack]\\[IronHack]\\github\\Statistically_Significant_Insights\\cleaned_data')"
   ]
  },
  {
   "cell_type": "code",
   "execution_count": 149,
   "metadata": {},
   "outputs": [],
   "source": [
    "df.to_csv(r'.\\country_iso.csv', index=False)"
   ]
  },
  {
   "cell_type": "code",
   "execution_count": null,
   "metadata": {},
   "outputs": [],
   "source": []
  },
  {
   "cell_type": "code",
   "execution_count": 166,
   "metadata": {},
   "outputs": [],
   "source": [
    "os.chdir(r'C:\\Users\\Quoc\\Desktop\\[ironhack]\\[IronHack]\\github\\Statistically_Significant_Insights\\cleaned_data')"
   ]
  },
  {
   "cell_type": "code",
   "execution_count": 167,
   "metadata": {},
   "outputs": [],
   "source": [
    "df = pd.read_csv(r'df_merged2.csv')"
   ]
  },
  {
   "cell_type": "code",
   "execution_count": 168,
   "metadata": {},
   "outputs": [
    {
     "data": {
      "text/plain": [
       "array(['Argentina', 'Australia', 'Austria', 'Belgium', 'Brazil',\n",
       "       'Bulgaria', 'Canada', 'China', 'Croatia', 'Cyprus',\n",
       "       'Czech Republic', 'Denmark', 'Finland', 'France', 'Germany',\n",
       "       'Greece', 'Hungary', 'India', 'Indonesia', 'Ireland', 'Italy',\n",
       "       'Japan', 'Latvia', 'Mexico', 'Poland', 'Portugal', 'Romania',\n",
       "       'Russia', 'Saudi Arabia', 'Slovakia', 'South Africa',\n",
       "       'South Korea', 'Spain', 'Sweden', 'The Netherlands', 'Turkey',\n",
       "       'US', 'United Kingdom'], dtype=object)"
      ]
     },
     "execution_count": 168,
     "metadata": {},
     "output_type": "execute_result"
    }
   ],
   "source": [
    "df.Country.unique()"
   ]
  },
  {
   "cell_type": "code",
   "execution_count": 169,
   "metadata": {},
   "outputs": [],
   "source": [
    "os.chdir(r'C:\\Users\\Quoc\\Desktop')"
   ]
  },
  {
   "cell_type": "code",
   "execution_count": 170,
   "metadata": {},
   "outputs": [],
   "source": [
    "iso = pd.read_csv(r'country_iso.csv')"
   ]
  },
  {
   "cell_type": "code",
   "execution_count": 171,
   "metadata": {
    "scrolled": true
   },
   "outputs": [
    {
     "data": {
      "text/html": [
       "<div>\n",
       "<style scoped>\n",
       "    .dataframe tbody tr th:only-of-type {\n",
       "        vertical-align: middle;\n",
       "    }\n",
       "\n",
       "    .dataframe tbody tr th {\n",
       "        vertical-align: top;\n",
       "    }\n",
       "\n",
       "    .dataframe thead th {\n",
       "        text-align: right;\n",
       "    }\n",
       "</style>\n",
       "<table border=\"1\" class=\"dataframe\">\n",
       "  <thead>\n",
       "    <tr style=\"text-align: right;\">\n",
       "      <th></th>\n",
       "      <th>iso</th>\n",
       "      <th>country</th>\n",
       "    </tr>\n",
       "  </thead>\n",
       "  <tbody>\n",
       "    <tr>\n",
       "      <th>0</th>\n",
       "      <td>ABW</td>\n",
       "      <td>Aruba</td>\n",
       "    </tr>\n",
       "    <tr>\n",
       "      <th>1</th>\n",
       "      <td>AFG</td>\n",
       "      <td>Afghanistan</td>\n",
       "    </tr>\n",
       "    <tr>\n",
       "      <th>2</th>\n",
       "      <td>AGO</td>\n",
       "      <td>Angola</td>\n",
       "    </tr>\n",
       "    <tr>\n",
       "      <th>3</th>\n",
       "      <td>AIA</td>\n",
       "      <td>Anguilla</td>\n",
       "    </tr>\n",
       "    <tr>\n",
       "      <th>4</th>\n",
       "      <td>ALA</td>\n",
       "      <td>Åland Islands</td>\n",
       "    </tr>\n",
       "    <tr>\n",
       "      <th>...</th>\n",
       "      <td>...</td>\n",
       "      <td>...</td>\n",
       "    </tr>\n",
       "    <tr>\n",
       "      <th>244</th>\n",
       "      <td>WSM</td>\n",
       "      <td>Samoa</td>\n",
       "    </tr>\n",
       "    <tr>\n",
       "      <th>245</th>\n",
       "      <td>YEM</td>\n",
       "      <td>Yemen</td>\n",
       "    </tr>\n",
       "    <tr>\n",
       "      <th>246</th>\n",
       "      <td>ZAF</td>\n",
       "      <td>South Africa</td>\n",
       "    </tr>\n",
       "    <tr>\n",
       "      <th>247</th>\n",
       "      <td>ZMB</td>\n",
       "      <td>Zambia</td>\n",
       "    </tr>\n",
       "    <tr>\n",
       "      <th>248</th>\n",
       "      <td>ZWE</td>\n",
       "      <td>Zimbabwe</td>\n",
       "    </tr>\n",
       "  </tbody>\n",
       "</table>\n",
       "<p>249 rows × 2 columns</p>\n",
       "</div>"
      ],
      "text/plain": [
       "     iso        country\n",
       "0    ABW          Aruba\n",
       "1    AFG    Afghanistan\n",
       "2    AGO         Angola\n",
       "3    AIA       Anguilla\n",
       "4    ALA  Åland Islands\n",
       "..   ...            ...\n",
       "244  WSM          Samoa\n",
       "245  YEM          Yemen\n",
       "246  ZAF   South Africa\n",
       "247  ZMB         Zambia\n",
       "248  ZWE       Zimbabwe\n",
       "\n",
       "[249 rows x 2 columns]"
      ]
     },
     "execution_count": 171,
     "metadata": {},
     "output_type": "execute_result"
    }
   ],
   "source": [
    "iso.rename(columns = {'0': 'iso', '1':'country'}, inplace = True)\n",
    "iso"
   ]
  },
  {
   "cell_type": "code",
   "execution_count": 164,
   "metadata": {},
   "outputs": [
    {
     "data": {
      "text/plain": [
       "array(['Argentina', 'Australia', 'Austria', 'Belgium', 'Brazil',\n",
       "       'Bulgaria', 'Canada', 'China', 'Croatia', 'Cyprus',\n",
       "       'Czech Republic', 'Denmark', 'Finland', 'France', 'Germany',\n",
       "       'Greece', 'Hungary', 'India', 'Indonesia', 'Ireland', 'Italy',\n",
       "       'Japan', 'Latvia', 'Mexico', 'Poland', 'Portugal', 'Romania',\n",
       "       'Russia', 'Saudi Arabia', 'Slovakia', 'South Africa',\n",
       "       'South Korea', 'Spain', 'Sweden', 'The Netherlands', 'Turkey',\n",
       "       'US', 'United Kingdom'], dtype=object)"
      ]
     },
     "execution_count": 164,
     "metadata": {},
     "output_type": "execute_result"
    }
   ],
   "source": [
    "df.Country.unique()"
   ]
  },
  {
   "cell_type": "code",
   "execution_count": 176,
   "metadata": {},
   "outputs": [],
   "source": [
    "df2 = df.copy()"
   ]
  },
  {
   "cell_type": "code",
   "execution_count": 177,
   "metadata": {},
   "outputs": [],
   "source": [
    "df2.loc[(df2.Country == 'Argentina'), 'iso'] = 'ARG'\n",
    "df2.loc[(df2.Country == 'Australia'), 'iso'] = 'AUS'\n",
    "df2.loc[(df2.Country == 'Austria'), 'iso'] = 'AUT'\n",
    "df2.loc[(df2.Country == 'Belgium'), 'iso'] = 'BEL'\n",
    "df2.loc[(df2.Country == 'Brazil'), 'iso'] = 'BRA'\n",
    "df2.loc[(df2.Country == 'Bulgaria'), 'iso'] = 'BGR'\n",
    "df2.loc[(df2.Country == 'Canada'), 'iso'] = 'CAN'\n",
    "df2.loc[(df2.Country == 'China'), 'iso'] = 'CHN'\n",
    "df2.loc[(df2.Country == 'Croatia'), 'iso'] = 'HRV'\n",
    "df2.loc[(df2.Country == 'Cyprus'), 'iso'] = 'CYP'\n",
    "df2.loc[(df2.Country == 'Czech Republic'), 'iso'] = 'CZE'\n",
    "df2.loc[(df2.Country == 'Denmark'), 'iso'] = 'DNK'\n",
    "df2.loc[(df2.Country == 'Finland'), 'iso'] = 'FIN'\n",
    "df2.loc[(df2.Country == 'France'), 'iso'] = 'FRA'\n",
    "df2.loc[(df2.Country == 'Germany'), 'iso'] = 'DEU'\n",
    "df2.loc[(df2.Country == 'Greece'), 'iso'] = 'GRC'\n",
    "df2.loc[(df2.Country == 'Hungary'), 'iso'] = 'HUN'\n",
    "df2.loc[(df2.Country == 'India'), 'iso'] = 'IND'\n",
    "df2.loc[(df2.Country == 'Indonesia'), 'iso'] = 'IDN'\n",
    "df2.loc[(df2.Country == 'Ireland'), 'iso'] = 'IRL'\n",
    "df2.loc[(df2.Country == 'Italy'), 'iso'] = 'ITA'\n",
    "df2.loc[(df2.Country == 'Japan'), 'iso'] = 'JPN'\n",
    "df2.loc[(df2.Country == 'Latvia'), 'iso'] = 'LVA'\n",
    "df2.loc[(df2.Country == 'Mexico'), 'iso'] = 'MEX'\n",
    "df2.loc[(df2.Country == 'Poland'), 'iso'] = 'POL'\n",
    "df2.loc[(df2.Country == 'Portugal'), 'iso'] = 'PRT'\n",
    "df2.loc[(df2.Country == 'Romania'), 'iso'] = 'ROU'\n",
    "df2.loc[(df2.Country == 'Russia'), 'iso'] = 'RUS'\n",
    "df2.loc[(df2.Country == 'Saudi Arabia'), 'iso'] = 'SAU'\n",
    "df2.loc[(df2.Country == 'Slovakia'), 'iso'] = 'SVK'\n",
    "df2.loc[(df2.Country == 'South Africa'), 'iso'] = 'ZAF'\n",
    "df2.loc[(df2.Country == 'South Korea'), 'iso'] = 'KOR'\n",
    "df2.loc[(df2.Country == 'Spain'), 'iso'] = 'ESP'\n",
    "df2.loc[(df2.Country == 'Sweden'), 'iso'] = 'SWE'\n",
    "df2.loc[(df2.Country == 'The Netherlands'), 'iso'] = 'NLD'\n",
    "df2.loc[(df2.Country == 'Turkey'), 'iso'] = 'TUR'\n",
    "df2.loc[(df2.Country == 'US'), 'iso'] = 'USA'\n",
    "df2.loc[(df2.Country == 'United Kingdom'), 'iso'] = 'GBR'"
   ]
  },
  {
   "cell_type": "code",
   "execution_count": 178,
   "metadata": {},
   "outputs": [
    {
     "data": {
      "text/plain": [
       "0"
      ]
     },
     "execution_count": 178,
     "metadata": {},
     "output_type": "execute_result"
    }
   ],
   "source": [
    "df2.iso.isna().sum()"
   ]
  },
  {
   "cell_type": "code",
   "execution_count": 180,
   "metadata": {},
   "outputs": [
    {
     "data": {
      "text/plain": [
       "'C:\\\\Users\\\\Quoc\\\\Desktop'"
      ]
     },
     "execution_count": 180,
     "metadata": {},
     "output_type": "execute_result"
    }
   ],
   "source": [
    "os.getcwd()"
   ]
  },
  {
   "cell_type": "code",
   "execution_count": 182,
   "metadata": {},
   "outputs": [],
   "source": []
  },
  {
   "cell_type": "code",
   "execution_count": 183,
   "metadata": {},
   "outputs": [],
   "source": [
    "df2.to_csv(r'.\\df_merged2_iso.csv')"
   ]
  },
  {
   "cell_type": "code",
   "execution_count": 184,
   "metadata": {},
   "outputs": [
    {
     "data": {
      "application/vnd.plotly.v1+json": {
       "config": {
        "plotlyServerURL": "https://plot.ly"
       },
       "data": [
        {
         "coloraxis": "coloraxis",
         "geo": "geo",
         "hovertemplate": "<b>%{hovertext}</b><br><br>Year=1995<br>iso=%{location}<br>AvgCelsiusTemp=%{z}<extra></extra>",
         "hovertext": [
          "Argentina",
          "Australia",
          "Austria",
          "Belgium",
          "Brazil",
          "Bulgaria",
          "Canada",
          "China",
          "Cyprus",
          "Czech Republic",
          "Denmark",
          "Finland",
          "France",
          "Germany",
          "Greece",
          "Hungary",
          "India",
          "Indonesia",
          "Ireland",
          "Italy",
          "Japan",
          "Latvia",
          "Mexico",
          "Poland",
          "Portugal",
          "Romania",
          "Russia",
          "Saudi Arabia",
          "Slovakia",
          "South Africa",
          "South Korea",
          "Spain",
          "Sweden",
          "The Netherlands",
          "Turkey",
          "US",
          "United Kingdom"
         ],
         "locations": [
          "ARG",
          "AUS",
          "AUT",
          "BEL",
          "BRA",
          "BGR",
          "CAN",
          "CHN",
          "CYP",
          "CZE",
          "DNK",
          "FIN",
          "FRA",
          "DEU",
          "GRC",
          "HUN",
          "IND",
          "IDN",
          "IRL",
          "ITA",
          "JPN",
          "LVA",
          "MEX",
          "POL",
          "PRT",
          "ROU",
          "RUS",
          "SAU",
          "SVK",
          "ZAF",
          "KOR",
          "ESP",
          "SWE",
          "NLD",
          "TUR",
          "USA",
          "GBR"
         ],
         "name": "",
         "type": "choropleth",
         "z": [
          16.500712328767126,
          16.389906849315064,
          10.139342465753428,
          10.944876712328766,
          22.12045662100457,
          9.683150684931505,
          5.556791780821919,
          15.429145205479449,
          18.329962121212127,
          8.20375342465754,
          7.911671232876712,
          5.689972602739733,
          13.559752066115708,
          10.4020989010989,
          18.304027397260263,
          10.151753424657532,
          26.655099793530617,
          27.952315436241594,
          9.983342465753427,
          13.427472527472547,
          13.068648401826492,
          7.232582417582421,
          21.31209876543213,
          8.282273972602738,
          17.995205479452057,
          10.560383561643826,
          9.34027624309393,
          25.855301369863003,
          10.355232876712336,
          16.299452054794532,
          10.974109589041104,
          15.840648401826463,
          6.972602739726026,
          10.495917808219176,
          12.440863013698642,
          13.447818721171371,
          11.889437585733877
         ]
        }
       ],
       "frames": [
        {
         "data": [
          {
           "coloraxis": "coloraxis",
           "geo": "geo",
           "hovertemplate": "<b>%{hovertext}</b><br><br>Year=1995<br>iso=%{location}<br>AvgCelsiusTemp=%{z}<extra></extra>",
           "hovertext": [
            "Argentina",
            "Australia",
            "Austria",
            "Belgium",
            "Brazil",
            "Bulgaria",
            "Canada",
            "China",
            "Cyprus",
            "Czech Republic",
            "Denmark",
            "Finland",
            "France",
            "Germany",
            "Greece",
            "Hungary",
            "India",
            "Indonesia",
            "Ireland",
            "Italy",
            "Japan",
            "Latvia",
            "Mexico",
            "Poland",
            "Portugal",
            "Romania",
            "Russia",
            "Saudi Arabia",
            "Slovakia",
            "South Africa",
            "South Korea",
            "Spain",
            "Sweden",
            "The Netherlands",
            "Turkey",
            "US",
            "United Kingdom"
           ],
           "locations": [
            "ARG",
            "AUS",
            "AUT",
            "BEL",
            "BRA",
            "BGR",
            "CAN",
            "CHN",
            "CYP",
            "CZE",
            "DNK",
            "FIN",
            "FRA",
            "DEU",
            "GRC",
            "HUN",
            "IND",
            "IDN",
            "IRL",
            "ITA",
            "JPN",
            "LVA",
            "MEX",
            "POL",
            "PRT",
            "ROU",
            "RUS",
            "SAU",
            "SVK",
            "ZAF",
            "KOR",
            "ESP",
            "SWE",
            "NLD",
            "TUR",
            "USA",
            "GBR"
           ],
           "name": "",
           "type": "choropleth",
           "z": [
            16.500712328767126,
            16.389906849315064,
            10.139342465753428,
            10.944876712328766,
            22.12045662100457,
            9.683150684931505,
            5.556791780821919,
            15.429145205479449,
            18.329962121212127,
            8.20375342465754,
            7.911671232876712,
            5.689972602739733,
            13.559752066115708,
            10.4020989010989,
            18.304027397260263,
            10.151753424657532,
            26.655099793530617,
            27.952315436241594,
            9.983342465753427,
            13.427472527472547,
            13.068648401826492,
            7.232582417582421,
            21.31209876543213,
            8.282273972602738,
            17.995205479452057,
            10.560383561643826,
            9.34027624309393,
            25.855301369863003,
            10.355232876712336,
            16.299452054794532,
            10.974109589041104,
            15.840648401826463,
            6.972602739726026,
            10.495917808219176,
            12.440863013698642,
            13.447818721171371,
            11.889437585733877
           ]
          }
         ],
         "name": "1995"
        },
        {
         "data": [
          {
           "coloraxis": "coloraxis",
           "geo": "geo",
           "hovertemplate": "<b>%{hovertext}</b><br><br>Year=1996<br>iso=%{location}<br>AvgCelsiusTemp=%{z}<extra></extra>",
           "hovertext": [
            "Argentina",
            "Australia",
            "Austria",
            "Belgium",
            "Brazil",
            "Canada",
            "China",
            "Croatia",
            "Cyprus",
            "Czech Republic",
            "Denmark",
            "Finland",
            "France",
            "Germany",
            "Greece",
            "Hungary",
            "India",
            "Indonesia",
            "Ireland",
            "Italy",
            "Japan",
            "Latvia",
            "Mexico",
            "Poland",
            "Portugal",
            "Romania",
            "Russia",
            "Saudi Arabia",
            "Slovakia",
            "South Africa",
            "South Korea",
            "Spain",
            "Sweden",
            "The Netherlands",
            "Turkey",
            "US",
            "United Kingdom"
           ],
           "locations": [
            "ARG",
            "AUS",
            "AUT",
            "BEL",
            "BRA",
            "CAN",
            "CHN",
            "HRV",
            "CYP",
            "CZE",
            "DNK",
            "FIN",
            "FRA",
            "DEU",
            "GRC",
            "HUN",
            "IND",
            "IDN",
            "IRL",
            "ITA",
            "JPN",
            "LVA",
            "MEX",
            "POL",
            "PRT",
            "ROU",
            "RUS",
            "SAU",
            "SVK",
            "ZAF",
            "KOR",
            "ESP",
            "SWE",
            "NLD",
            "TUR",
            "USA",
            "GBR"
           ],
           "name": "",
           "type": "choropleth",
           "z": [
            17.061120218579234,
            16.253315098468278,
            8.709398907103827,
            8.995765027322404,
            21.85847905282328,
            4.541683060109284,
            15.04937704918032,
            11.210510510510511,
            20.94193979933109,
            6.39133879781421,
            6.3629508196721325,
            4.470300546448087,
            12.401942544459631,
            8.449676616915418,
            18.078661202185803,
            9.233005464480875,
            26.578518518518525,
            27.717037037037027,
            9.004699453551908,
            13.23960382513662,
            12.468105646630235,
            5.549289617486337,
            20.723262711864383,
            6.88475409836066,
            17.136885245901624,
            10.24191256830601,
            9.0112602739726,
            26.41640109890109,
            9.091748633879789,
            15.877868852459008,
            10.907896174863394,
            15.067422586520935,
            6.296448087431699,
            8.582759562841524,
            12.302909836065586,
            12.645650804149614,
            10.996798905608756
           ]
          }
         ],
         "name": "1996"
        },
        {
         "data": [
          {
           "coloraxis": "coloraxis",
           "geo": "geo",
           "hovertemplate": "<b>%{hovertext}</b><br><br>Year=1997<br>iso=%{location}<br>AvgCelsiusTemp=%{z}<extra></extra>",
           "hovertext": [
            "Argentina",
            "Australia",
            "Austria",
            "Belgium",
            "Brazil",
            "Bulgaria",
            "Canada",
            "China",
            "Croatia",
            "Cyprus",
            "Czech Republic",
            "Denmark",
            "Finland",
            "France",
            "Germany",
            "Greece",
            "Hungary",
            "India",
            "Indonesia",
            "Ireland",
            "Italy",
            "Japan",
            "Latvia",
            "Mexico",
            "Poland",
            "Portugal",
            "Romania",
            "Russia",
            "Saudi Arabia",
            "Slovakia",
            "South Africa",
            "South Korea",
            "Spain",
            "Sweden",
            "The Netherlands",
            "Turkey",
            "US",
            "United Kingdom"
           ],
           "locations": [
            "ARG",
            "AUS",
            "AUT",
            "BEL",
            "BRA",
            "BGR",
            "CAN",
            "CHN",
            "HRV",
            "CYP",
            "CZE",
            "DNK",
            "FIN",
            "FRA",
            "DEU",
            "GRC",
            "HUN",
            "IND",
            "IDN",
            "IRL",
            "ITA",
            "JPN",
            "LVA",
            "MEX",
            "POL",
            "PRT",
            "ROU",
            "RUS",
            "SAU",
            "SVK",
            "ZAF",
            "KOR",
            "ESP",
            "SWE",
            "NLD",
            "TUR",
            "USA",
            "GBR"
           ],
           "name": "",
           "type": "choropleth",
           "z": [
            17.302136986301374,
            16.751084931506874,
            9.823917808219178,
            10.629041095890408,
            21.9748688046647,
            9.322109589041094,
            5.552515068493158,
            15.864307948860466,
            11.011888888888889,
            17.458043478260862,
            7.90915068493151,
            8.377260273972604,
            5.597315068493152,
            13.819301369863034,
            9.540566750629726,
            17.742082191780813,
            10.214273972602731,
            26.43839726027393,
            28.103037037037037,
            10.049534246575348,
            14.21408219178082,
            13.299543378995432,
            7.50087671232877,
            20.2472148541114,
            7.91906849315068,
            18.22250000000001,
            10.19249315068494,
            8.568397260273969,
            25.784109589041083,
            10.055698630136988,
            16.528465753424655,
            11.44586301369864,
            16.014082191780815,
            7.393534246575341,
            10.271123287671236,
            11.560986301369848,
            12.991416598107872,
            11.485500685871056
           ]
          }
         ],
         "name": "1997"
        },
        {
         "data": [
          {
           "coloraxis": "coloraxis",
           "geo": "geo",
           "hovertemplate": "<b>%{hovertext}</b><br><br>Year=1998<br>iso=%{location}<br>AvgCelsiusTemp=%{z}<extra></extra>",
           "hovertext": [
            "Argentina",
            "Australia",
            "Austria",
            "Belgium",
            "Brazil",
            "Bulgaria",
            "Canada",
            "China",
            "Croatia",
            "Cyprus",
            "Czech Republic",
            "Denmark",
            "Finland",
            "France",
            "Germany",
            "Greece",
            "Hungary",
            "India",
            "Indonesia",
            "Ireland",
            "Italy",
            "Japan",
            "Latvia",
            "Mexico",
            "Poland",
            "Portugal",
            "Romania",
            "Russia",
            "Saudi Arabia",
            "Slovakia",
            "South Africa",
            "South Korea",
            "Spain",
            "Sweden",
            "The Netherlands",
            "Turkey",
            "US",
            "United Kingdom"
           ],
           "locations": [
            "ARG",
            "AUS",
            "AUT",
            "BEL",
            "BRA",
            "BGR",
            "CAN",
            "CHN",
            "HRV",
            "CYP",
            "CZE",
            "DNK",
            "FIN",
            "FRA",
            "DEU",
            "GRC",
            "HUN",
            "IND",
            "IDN",
            "IRL",
            "ITA",
            "JPN",
            "LVA",
            "MEX",
            "POL",
            "PRT",
            "ROU",
            "RUS",
            "SAU",
            "SVK",
            "ZAF",
            "KOR",
            "ESP",
            "SWE",
            "NLD",
            "TUR",
            "USA",
            "GBR"
           ],
           "name": "",
           "type": "choropleth",
           "z": [
            16.534055555555543,
            16.778259818731115,
            10.743296398891966,
            10.721301939058163,
            22.613027806385144,
            10.409584487534628,
            7.367759002770096,
            16.555848115299344,
            11.305589887640451,
            21.842703703703695,
            8.76653739612188,
            8.152576177285319,
            5.139279778393352,
            13.040879888268147,
            10.270863309352505,
            18.612348066298352,
            10.853314917127074,
            26.97095766828584,
            28.389479999999995,
            9.927423822714683,
            14.118573407202234,
            13.624051565377547,
            5.797147435897437,
            21.71918620689657,
            8.333628808864265,
            17.637214484679674,
            11.027486187845296,
            9.11692520775623,
            27.06804709141276,
            11.007166666666675,
            16.58808864265929,
            12.674834254143637,
            15.36849492151428,
            6.698555555555558,
            10.623656509695287,
            13.135387811634349,
            14.49727602548289,
            10.986329639889195
           ]
          }
         ],
         "name": "1998"
        },
        {
         "data": [
          {
           "coloraxis": "coloraxis",
           "geo": "geo",
           "hovertemplate": "<b>%{hovertext}</b><br><br>Year=1999<br>iso=%{location}<br>AvgCelsiusTemp=%{z}<extra></extra>",
           "hovertext": [
            "Argentina",
            "Australia",
            "Austria",
            "Belgium",
            "Brazil",
            "Bulgaria",
            "Canada",
            "China",
            "Croatia",
            "Cyprus",
            "Czech Republic",
            "Denmark",
            "Finland",
            "France",
            "Germany",
            "Greece",
            "Hungary",
            "India",
            "Indonesia",
            "Ireland",
            "Italy",
            "Japan",
            "Latvia",
            "Mexico",
            "Poland",
            "Portugal",
            "Romania",
            "Russia",
            "Saudi Arabia",
            "Slovakia",
            "South Africa",
            "South Korea",
            "Spain",
            "Sweden",
            "The Netherlands",
            "Turkey",
            "US",
            "United Kingdom"
           ],
           "locations": [
            "ARG",
            "AUS",
            "AUT",
            "BEL",
            "BRA",
            "BGR",
            "CAN",
            "CHN",
            "HRV",
            "CYP",
            "CZE",
            "DNK",
            "FIN",
            "FRA",
            "DEU",
            "GRC",
            "HUN",
            "IND",
            "IDN",
            "IRL",
            "ITA",
            "JPN",
            "LVA",
            "MEX",
            "POL",
            "PRT",
            "ROU",
            "RUS",
            "SAU",
            "SVK",
            "ZAF",
            "KOR",
            "ESP",
            "SWE",
            "NLD",
            "TUR",
            "USA",
            "GBR"
           ],
           "name": "",
           "type": "choropleth",
           "z": [
            16.5754120879121,
            16.92907142857143,
            10.530549450549454,
            11.18118131868132,
            21.880193370165745,
            10.561291208791202,
            6.9934038461538695,
            15.972549450549424,
            12.032011019283742,
            18.776776315789466,
            8.850631868131869,
            8.709285714285711,
            6.2658791208791165,
            13.387390109890118,
            10.556302616609775,
            19.287115384615387,
            10.360192307692303,
            26.91021320495182,
            28.042091836734688,
            9.899587912087906,
            14.338008241758253,
            13.65911172161173,
            8.311208791208788,
            20.797987355110653,
            9.140851648351653,
            17.372644628099184,
            11.842500000000005,
            9.728241758241763,
            27.216002747252716,
            10.8328021978022,
            17.295274725274723,
            12.10255494505494,
            15.201071428571442,
            8.381675824175819,
            11.142829670329675,
            13.345068681318663,
            13.949521665148437,
            11.170261707988985
           ]
          }
         ],
         "name": "1999"
        },
        {
         "data": [
          {
           "coloraxis": "coloraxis",
           "geo": "geo",
           "hovertemplate": "<b>%{hovertext}</b><br><br>Year=2000<br>iso=%{location}<br>AvgCelsiusTemp=%{z}<extra></extra>",
           "hovertext": [
            "Argentina",
            "Australia",
            "Austria",
            "Belgium",
            "Brazil",
            "Bulgaria",
            "Canada",
            "China",
            "Croatia",
            "Cyprus",
            "Czech Republic",
            "Denmark",
            "Finland",
            "France",
            "Germany",
            "Greece",
            "Hungary",
            "India",
            "Indonesia",
            "Ireland",
            "Italy",
            "Japan",
            "Latvia",
            "Mexico",
            "Poland",
            "Portugal",
            "Romania",
            "Russia",
            "Saudi Arabia",
            "Slovakia",
            "South Africa",
            "South Korea",
            "Spain",
            "Sweden",
            "The Netherlands",
            "Turkey",
            "US",
            "United Kingdom"
           ],
           "locations": [
            "ARG",
            "AUS",
            "AUT",
            "BEL",
            "BRA",
            "BGR",
            "CAN",
            "CHN",
            "HRV",
            "CYP",
            "CZE",
            "DNK",
            "FIN",
            "FRA",
            "DEU",
            "GRC",
            "HUN",
            "IND",
            "IDN",
            "IRL",
            "ITA",
            "JPN",
            "LVA",
            "MEX",
            "POL",
            "PRT",
            "ROU",
            "RUS",
            "SAU",
            "SVK",
            "ZAF",
            "KOR",
            "ESP",
            "SWE",
            "NLD",
            "TUR",
            "USA",
            "GBR"
           ],
           "name": "",
           "type": "choropleth",
           "z": [
            16.88676712328768,
            16.80577049180328,
            11.532841530054634,
            11.286420765027326,
            22.31708675799084,
            10.959918032786886,
            5.640980016424861,
            15.64732640787316,
            13.252362637362657,
            22.670143884892077,
            9.490027322404371,
            9.063770491803288,
            6.964644808743173,
            13.202322404371566,
            11.165399768250287,
            18.77877049180329,
            11.737295081967211,
            26.78275154004104,
            28.348615384615385,
            9.412404371584705,
            14.46543091655266,
            13.267094717668469,
            8.687178082191775,
            20.533129388164483,
            9.651830601092891,
            16.82032786885247,
            12.12666666666667,
            9.452404371584702,
            26.62648907103825,
            11.778688524590171,
            17.01019125683059,
            11.319808743169402,
            14.82425318761386,
            8.488032786885245,
            11.02150273224043,
            12.369685792349728,
            13.402687809881913,
            10.798917808219176
           ]
          }
         ],
         "name": "2000"
        },
        {
         "data": [
          {
           "coloraxis": "coloraxis",
           "geo": "geo",
           "hovertemplate": "<b>%{hovertext}</b><br><br>Year=2001<br>iso=%{location}<br>AvgCelsiusTemp=%{z}<extra></extra>",
           "hovertext": [
            "Argentina",
            "Australia",
            "Austria",
            "Belgium",
            "Brazil",
            "Bulgaria",
            "Canada",
            "China",
            "Croatia",
            "Cyprus",
            "Czech Republic",
            "Denmark",
            "Finland",
            "France",
            "Germany",
            "Greece",
            "Hungary",
            "India",
            "Indonesia",
            "Ireland",
            "Italy",
            "Japan",
            "Latvia",
            "Mexico",
            "Poland",
            "Portugal",
            "Romania",
            "Russia",
            "Saudi Arabia",
            "Slovakia",
            "South Africa",
            "South Korea",
            "Spain",
            "Sweden",
            "The Netherlands",
            "Turkey",
            "US",
            "United Kingdom"
           ],
           "locations": [
            "ARG",
            "AUS",
            "AUT",
            "BEL",
            "BRA",
            "BGR",
            "CAN",
            "CHN",
            "HRV",
            "CYP",
            "CZE",
            "DNK",
            "FIN",
            "FRA",
            "DEU",
            "GRC",
            "HUN",
            "IND",
            "IDN",
            "IRL",
            "ITA",
            "JPN",
            "LVA",
            "MEX",
            "POL",
            "PRT",
            "ROU",
            "RUS",
            "SAU",
            "SVK",
            "ZAF",
            "KOR",
            "ESP",
            "SWE",
            "NLD",
            "TUR",
            "USA",
            "GBR"
           ],
           "name": "",
           "type": "choropleth",
           "z": [
            17.410769230769223,
            16.793923076923054,
            10.457013698630146,
            10.881917808219178,
            22.68464285714285,
            10.402219178082197,
            6.809939726027389,
            15.726169863013691,
            12.31210958904111,
            19.98306849315069,
            8.31698630136987,
            8.153534246575337,
            5.562109589041097,
            12.89569863013699,
            9.75784577723377,
            18.966739726027395,
            10.799972602739734,
            26.57448252227552,
            28.18375,
            9.3814794520548,
            14.208465753424658,
            12.718557077625569,
            7.761726027397257,
            20.421464646464653,
            8.388246575342468,
            16.788465753424664,
            11.66016438356164,
            9.202260273972602,
            26.821769547325108,
            10.622219178082196,
            16.74709589041097,
            11.356593406593406,
            14.78547031963472,
            7.629698630136978,
            10.64065753424658,
            13.741726027397249,
            13.808181475387151,
            10.590137174211248
           ]
          }
         ],
         "name": "2001"
        },
        {
         "data": [
          {
           "coloraxis": "coloraxis",
           "geo": "geo",
           "hovertemplate": "<b>%{hovertext}</b><br><br>Year=2002<br>iso=%{location}<br>AvgCelsiusTemp=%{z}<extra></extra>",
           "hovertext": [
            "Argentina",
            "Australia",
            "Austria",
            "Belgium",
            "Brazil",
            "Bulgaria",
            "Canada",
            "China",
            "Croatia",
            "Cyprus",
            "Czech Republic",
            "Denmark",
            "Finland",
            "France",
            "Germany",
            "Greece",
            "Hungary",
            "India",
            "Indonesia",
            "Ireland",
            "Italy",
            "Japan",
            "Latvia",
            "Mexico",
            "Poland",
            "Portugal",
            "Romania",
            "Russia",
            "Saudi Arabia",
            "Slovakia",
            "South Africa",
            "South Korea",
            "Spain",
            "Sweden",
            "The Netherlands",
            "Turkey",
            "US",
            "United Kingdom"
           ],
           "locations": [
            "ARG",
            "AUS",
            "AUT",
            "BEL",
            "BRA",
            "BGR",
            "CAN",
            "CHN",
            "HRV",
            "CYP",
            "CZE",
            "DNK",
            "FIN",
            "FRA",
            "DEU",
            "GRC",
            "HUN",
            "IND",
            "IDN",
            "IRL",
            "ITA",
            "JPN",
            "LVA",
            "MEX",
            "POL",
            "PRT",
            "ROU",
            "RUS",
            "SAU",
            "SVK",
            "ZAF",
            "KOR",
            "ESP",
            "SWE",
            "NLD",
            "TUR",
            "USA",
            "GBR"
           ],
           "name": "",
           "type": "choropleth",
           "z": [
            17.226000000000013,
            17.050166666666673,
            11.0385595567867,
            11.296232686980616,
            22.79597209302327,
            10.241218836565096,
            5.764725761772845,
            15.951219512195092,
            12.641611111111123,
            19.669534050179216,
            9.022216066481992,
            8.874210526315787,
            5.739252077562322,
            13.201980609418271,
            10.677068126520682,
            18.441717451523537,
            11.553407202216068,
            27.04343511450381,
            29.70380952380952,
            9.976177285318569,
            14.08073407202215,
            13.218734995383192,
            8.171163434903045,
            20.5347225501771,
            9.20581717451523,
            16.844792243767312,
            11.576897506925206,
            8.598795013850415,
            26.471966759002736,
            11.321329639889198,
            16.591024930747928,
            11.71135734072022,
            15.27527239150505,
            8.106333333333337,
            10.890027700831029,
            12.698379501385054,
            13.679871247614251,
            11.032219140083216
           ]
          }
         ],
         "name": "2002"
        },
        {
         "data": [
          {
           "coloraxis": "coloraxis",
           "geo": "geo",
           "hovertemplate": "<b>%{hovertext}</b><br><br>Year=2003<br>iso=%{location}<br>AvgCelsiusTemp=%{z}<extra></extra>",
           "hovertext": [
            "Argentina",
            "Australia",
            "Austria",
            "Belgium",
            "Brazil",
            "Bulgaria",
            "Canada",
            "China",
            "Croatia",
            "Cyprus",
            "Czech Republic",
            "Denmark",
            "Finland",
            "France",
            "Germany",
            "Greece",
            "Hungary",
            "India",
            "Indonesia",
            "Ireland",
            "Italy",
            "Japan",
            "Latvia",
            "Mexico",
            "Poland",
            "Portugal",
            "Romania",
            "Russia",
            "Saudi Arabia",
            "Slovakia",
            "South Africa",
            "South Korea",
            "Spain",
            "Sweden",
            "The Netherlands",
            "Turkey",
            "US",
            "United Kingdom"
           ],
           "locations": [
            "ARG",
            "AUS",
            "AUT",
            "BEL",
            "BRA",
            "BGR",
            "CAN",
            "CHN",
            "HRV",
            "CYP",
            "CZE",
            "DNK",
            "FIN",
            "FRA",
            "DEU",
            "GRC",
            "HUN",
            "IND",
            "IDN",
            "IRL",
            "ITA",
            "JPN",
            "LVA",
            "MEX",
            "POL",
            "PRT",
            "ROU",
            "RUS",
            "SAU",
            "SVK",
            "ZAF",
            "KOR",
            "ESP",
            "SWE",
            "NLD",
            "TUR",
            "USA",
            "GBR"
           ],
           "name": "",
           "type": "choropleth",
           "z": [
            16.624435261708,
            16.879260893546604,
            10.830630136986294,
            11.290739726027397,
            22.132176308539915,
            10.09556164383562,
            5.722003288572199,
            15.91761382336808,
            12.47734246575343,
            14.512142857142855,
            8.951232876712329,
            8.39534246575343,
            5.216136986301368,
            13.550479452054788,
            9.22574666666666,
            18.288246575342445,
            10.96447802197802,
            26.745921864290565,
            29.139000000000003,
            9.983561643835616,
            14.64387671232878,
            12.888666666666689,
            7.5957260273972675,
            20.455360824742243,
            8.371287671232873,
            17.254767123287667,
            11.077802197802194,
            8.82365740740741,
            26.647764060356653,
            11.258484848484851,
            16.754890109890113,
            11.746438356164363,
            16.391106032906794,
            7.822341597796138,
            10.706027397260272,
            12.699615912208518,
            13.459208070530993,
            11.019230769230765
           ]
          }
         ],
         "name": "2003"
        },
        {
         "data": [
          {
           "coloraxis": "coloraxis",
           "geo": "geo",
           "hovertemplate": "<b>%{hovertext}</b><br><br>Year=2004<br>iso=%{location}<br>AvgCelsiusTemp=%{z}<extra></extra>",
           "hovertext": [
            "Argentina",
            "Australia",
            "Austria",
            "Belgium",
            "Brazil",
            "Bulgaria",
            "Canada",
            "China",
            "Croatia",
            "Cyprus",
            "Czech Republic",
            "Denmark",
            "Finland",
            "France",
            "Germany",
            "Greece",
            "Hungary",
            "India",
            "Indonesia",
            "Ireland",
            "Italy",
            "Japan",
            "Latvia",
            "Mexico",
            "Poland",
            "Portugal",
            "Romania",
            "Russia",
            "Saudi Arabia",
            "Slovakia",
            "South Africa",
            "South Korea",
            "Spain",
            "Sweden",
            "The Netherlands",
            "Turkey",
            "US",
            "United Kingdom"
           ],
           "locations": [
            "ARG",
            "AUS",
            "AUT",
            "BEL",
            "BRA",
            "BGR",
            "CAN",
            "CHN",
            "HRV",
            "CYP",
            "CZE",
            "DNK",
            "FIN",
            "FRA",
            "DEU",
            "GRC",
            "HUN",
            "IND",
            "IDN",
            "IRL",
            "ITA",
            "JPN",
            "LVA",
            "MEX",
            "POL",
            "PRT",
            "ROU",
            "RUS",
            "SAU",
            "SVK",
            "ZAF",
            "KOR",
            "ESP",
            "SWE",
            "NLD",
            "TUR",
            "USA",
            "GBR"
           ],
           "name": "",
           "type": "choropleth",
           "z": [
            17.01420765027321,
            16.954726775956313,
            10.334808743169395,
            10.905136612021856,
            21.942003642987277,
            10.300109289617486,
            5.666415300546442,
            16.07320765027321,
            11.69284153005464,
            22.751829787234065,
            8.538825136612019,
            8.37062841530055,
            5.394672131147539,
            12.740000000000018,
            10.291315136476433,
            18.14147540983606,
            9.276065573770492,
            26.780218579234923,
            29.324854368932044,
            9.934562841530056,
            13.787486338797809,
            13.981912568306033,
            7.31844262295082,
            20.24895922746781,
            8.465628415300545,
            17.03076712328767,
            11.065874316939889,
            5.271639344262294,
            26.411434426229512,
            10.5412568306011,
            17.040163934426236,
            12.68934426229508,
            15.668397085610202,
            7.248524590163937,
            10.710519125683067,
            12.51609289617486,
            13.57056530080832,
            10.803474692202466
           ]
          }
         ],
         "name": "2004"
        },
        {
         "data": [
          {
           "coloraxis": "coloraxis",
           "geo": "geo",
           "hovertemplate": "<b>%{hovertext}</b><br><br>Year=2005<br>iso=%{location}<br>AvgCelsiusTemp=%{z}<extra></extra>",
           "hovertext": [
            "Argentina",
            "Australia",
            "Austria",
            "Belgium",
            "Brazil",
            "Bulgaria",
            "Canada",
            "China",
            "Croatia",
            "Cyprus",
            "Czech Republic",
            "Denmark",
            "Finland",
            "France",
            "Germany",
            "Greece",
            "Hungary",
            "India",
            "Indonesia",
            "Ireland",
            "Italy",
            "Japan",
            "Latvia",
            "Mexico",
            "Poland",
            "Portugal",
            "Romania",
            "Russia",
            "Saudi Arabia",
            "Slovakia",
            "South Africa",
            "South Korea",
            "Spain",
            "Sweden",
            "The Netherlands",
            "Turkey",
            "US",
            "United Kingdom"
           ],
           "locations": [
            "ARG",
            "AUS",
            "AUT",
            "BEL",
            "BRA",
            "BGR",
            "CAN",
            "CHN",
            "HRV",
            "CYP",
            "CZE",
            "DNK",
            "FIN",
            "FRA",
            "DEU",
            "GRC",
            "HUN",
            "IND",
            "IDN",
            "IRL",
            "ITA",
            "JPN",
            "LVA",
            "MEX",
            "POL",
            "PRT",
            "ROU",
            "RUS",
            "SAU",
            "SVK",
            "ZAF",
            "KOR",
            "ESP",
            "SWE",
            "NLD",
            "TUR",
            "USA",
            "GBR"
           ],
           "name": "",
           "type": "choropleth",
           "z": [
            16.839780821917813,
            17.062789041095904,
            10.167890410958908,
            11.189068493150684,
            21.928091324200917,
            9.522054794520548,
            6.633837209302316,
            15.678142465753414,
            11.243369863013696,
            19.1274794520548,
            8.530082191780822,
            8.397780821917808,
            5.935315068493152,
            12.813401920438954,
            10.113260073260063,
            17.929753424657527,
            9.084328767123283,
            26.620753424657536,
            28.933469387755103,
            10.137123287671228,
            13.46090410958903,
            13.050986301369877,
            7.282438356164382,
            21.00040862656072,
            8.667369863013704,
            17.07609890109889,
            10.828438356164389,
            5.607506849315072,
            26.46736986301374,
            10.385726027397256,
            16.720273972602747,
            11.274438356164389,
            15.757698630136984,
            7.572630136986303,
            10.971397260273982,
            12.682547945205467,
            13.863339207048456,
            10.7612208504801
           ]
          }
         ],
         "name": "2005"
        },
        {
         "data": [
          {
           "coloraxis": "coloraxis",
           "geo": "geo",
           "hovertemplate": "<b>%{hovertext}</b><br><br>Year=2006<br>iso=%{location}<br>AvgCelsiusTemp=%{z}<extra></extra>",
           "hovertext": [
            "Argentina",
            "Australia",
            "Austria",
            "Belgium",
            "Brazil",
            "Bulgaria",
            "Canada",
            "China",
            "Croatia",
            "Cyprus",
            "Czech Republic",
            "Denmark",
            "Finland",
            "France",
            "Germany",
            "Greece",
            "Hungary",
            "India",
            "Indonesia",
            "Ireland",
            "Italy",
            "Japan",
            "Latvia",
            "Mexico",
            "Poland",
            "Portugal",
            "Romania",
            "Russia",
            "Saudi Arabia",
            "Slovakia",
            "South Africa",
            "South Korea",
            "Spain",
            "Sweden",
            "The Netherlands",
            "Turkey",
            "US",
            "United Kingdom"
           ],
           "locations": [
            "ARG",
            "AUS",
            "AUT",
            "BEL",
            "BRA",
            "BGR",
            "CAN",
            "CHN",
            "HRV",
            "CYP",
            "CZE",
            "DNK",
            "FIN",
            "FRA",
            "DEU",
            "GRC",
            "HUN",
            "IND",
            "IDN",
            "IRL",
            "ITA",
            "JPN",
            "LVA",
            "MEX",
            "POL",
            "PRT",
            "ROU",
            "RUS",
            "SAU",
            "SVK",
            "ZAF",
            "KOR",
            "ESP",
            "SWE",
            "NLD",
            "TUR",
            "USA",
            "GBR"
           ],
           "name": "",
           "type": "choropleth",
           "z": [
            17.0488493150685,
            17.041665753424653,
            10.686328767123284,
            11.142136986301368,
            21.63921461187217,
            10.232328767123294,
            7.1047616438356025,
            16.208657534246576,
            12.345068493150688,
            19.07134246575343,
            9.07515068493151,
            9.014986301369865,
            6.216575342465752,
            13.280602739726037,
            9.539375886524814,
            17.872975206611567,
            10.017479452054795,
            26.947479452054797,
            29.17852713178295,
            10.271506849315069,
            14.020684931506851,
            13.462739726027404,
            7.594410958904113,
            20.7447748815166,
            9.046164383561644,
            17.49892857142859,
            11.360958904109587,
            4.990575342465756,
            26.91161643835616,
            11.004136986301368,
            16.906000000000013,
            12.234356164383572,
            16.01173515981737,
            8.093698630136991,
            11.35676712328767,
            12.676821917808224,
            14.3005622850825,
            10.809876543209878
           ]
          }
         ],
         "name": "2006"
        },
        {
         "data": [
          {
           "coloraxis": "coloraxis",
           "geo": "geo",
           "hovertemplate": "<b>%{hovertext}</b><br><br>Year=2007<br>iso=%{location}<br>AvgCelsiusTemp=%{z}<extra></extra>",
           "hovertext": [
            "Argentina",
            "Australia",
            "Austria",
            "Belgium",
            "Brazil",
            "Bulgaria",
            "Canada",
            "China",
            "Croatia",
            "Cyprus",
            "Czech Republic",
            "Denmark",
            "Finland",
            "France",
            "Germany",
            "Greece",
            "Hungary",
            "India",
            "Indonesia",
            "Ireland",
            "Italy",
            "Japan",
            "Latvia",
            "Mexico",
            "Poland",
            "Portugal",
            "Romania",
            "Russia",
            "Saudi Arabia",
            "Slovakia",
            "South Africa",
            "South Korea",
            "Spain",
            "Sweden",
            "The Netherlands",
            "Turkey",
            "US",
            "United Kingdom"
           ],
           "locations": [
            "ARG",
            "AUS",
            "AUT",
            "BEL",
            "BRA",
            "BGR",
            "CAN",
            "CHN",
            "HRV",
            "CYP",
            "CZE",
            "DNK",
            "FIN",
            "FRA",
            "DEU",
            "GRC",
            "HUN",
            "IND",
            "IDN",
            "IRL",
            "ITA",
            "JPN",
            "LVA",
            "MEX",
            "POL",
            "PRT",
            "ROU",
            "RUS",
            "SAU",
            "SVK",
            "ZAF",
            "KOR",
            "ESP",
            "SWE",
            "NLD",
            "TUR",
            "USA",
            "GBR"
           ],
           "name": "",
           "type": "choropleth",
           "z": [
            16.289697802197804,
            17.36936813186813,
            11.671923076923084,
            11.191538461538464,
            21.80777472527472,
            11.96868131868132,
            6.0279631665750255,
            16.50996147495869,
            13.212829131652663,
            19.5454189944134,
            9.894148351648353,
            9.218379120879124,
            6.432390109890111,
            12.84924450549451,
            10.509578606158838,
            18.75900277008312,
            11.8257967032967,
            26.745279889426367,
            28.477267441860494,
            10.254490358126716,
            14.297898351648351,
            14.083287545787558,
            7.827499999999993,
            20.24336746302617,
            9.737087912087912,
            16.913287292817675,
            12.624203296703294,
            6.609450549450547,
            27.0869093406593,
            11.93346153846153,
            16.978429752066123,
            12.26471074380165,
            14.706703296703276,
            7.941593406593411,
            11.4440934065934,
            13.755027472527471,
            13.94458345665692,
            10.981375515818431
           ]
          }
         ],
         "name": "2007"
        },
        {
         "data": [
          {
           "coloraxis": "coloraxis",
           "geo": "geo",
           "hovertemplate": "<b>%{hovertext}</b><br><br>Year=2008<br>iso=%{location}<br>AvgCelsiusTemp=%{z}<extra></extra>",
           "hovertext": [
            "Argentina",
            "Australia",
            "Austria",
            "Belgium",
            "Brazil",
            "Bulgaria",
            "Canada",
            "China",
            "Croatia",
            "Cyprus",
            "Czech Republic",
            "Denmark",
            "Finland",
            "France",
            "Germany",
            "Greece",
            "Hungary",
            "India",
            "Indonesia",
            "Ireland",
            "Italy",
            "Japan",
            "Latvia",
            "Mexico",
            "Poland",
            "Portugal",
            "Romania",
            "Russia",
            "Saudi Arabia",
            "Slovakia",
            "South Africa",
            "South Korea",
            "Spain",
            "Sweden",
            "The Netherlands",
            "Turkey",
            "US",
            "United Kingdom"
           ],
           "locations": [
            "ARG",
            "AUS",
            "AUT",
            "BEL",
            "BRA",
            "BGR",
            "CAN",
            "CHN",
            "HRV",
            "CYP",
            "CZE",
            "DNK",
            "FIN",
            "FRA",
            "DEU",
            "GRC",
            "HUN",
            "IND",
            "IDN",
            "IRL",
            "ITA",
            "JPN",
            "LVA",
            "MEX",
            "POL",
            "PRT",
            "ROU",
            "RUS",
            "SAU",
            "SVK",
            "ZAF",
            "KOR",
            "ESP",
            "SWE",
            "NLD",
            "TUR",
            "USA",
            "GBR"
           ],
           "name": "",
           "type": "choropleth",
           "z": [
            17.420027472527476,
            16.74263070996145,
            11.439835616438366,
            10.594289617486334,
            21.31123048668505,
            11.88635616438355,
            5.6956845320744405,
            15.730983516483528,
            12.900631868131883,
            20.031095890410963,
            9.36956043956044,
            9.11617486338798,
            7.01289617486339,
            12.527325102880653,
            10.437056074766351,
            18.832939560439577,
            11.466821917808224,
            26.624471879286727,
            28.411589595375744,
            9.543589041095888,
            14.33085164835166,
            13.712680695333956,
            8.068324175824179,
            20.40079889807164,
            9.840906593406588,
            16.846383561643847,
            12.008873626373628,
            6.765769230769231,
            26.85740384615383,
            11.724027397260285,
            16.982609890109885,
            12.18796703296704,
            14.943946886446843,
            8.260109589041098,
            10.826657534246571,
            13.191881868131867,
            13.315323572984688,
            10.405788751714669
           ]
          }
         ],
         "name": "2008"
        },
        {
         "data": [
          {
           "coloraxis": "coloraxis",
           "geo": "geo",
           "hovertemplate": "<b>%{hovertext}</b><br><br>Year=2009<br>iso=%{location}<br>AvgCelsiusTemp=%{z}<extra></extra>",
           "hovertext": [
            "Argentina",
            "Australia",
            "Austria",
            "Belgium",
            "Brazil",
            "Bulgaria",
            "Canada",
            "China",
            "Croatia",
            "Cyprus",
            "Czech Republic",
            "Denmark",
            "Finland",
            "France",
            "Germany",
            "Greece",
            "Hungary",
            "India",
            "Indonesia",
            "Ireland",
            "Italy",
            "Japan",
            "Latvia",
            "Mexico",
            "Poland",
            "Portugal",
            "Romania",
            "Russia",
            "Saudi Arabia",
            "Slovakia",
            "South Africa",
            "South Korea",
            "Spain",
            "Sweden",
            "The Netherlands",
            "Turkey",
            "US",
            "United Kingdom"
           ],
           "locations": [
            "ARG",
            "AUS",
            "AUT",
            "BEL",
            "BRA",
            "BGR",
            "CAN",
            "CHN",
            "HRV",
            "CYP",
            "CZE",
            "DNK",
            "FIN",
            "FRA",
            "DEU",
            "GRC",
            "HUN",
            "IND",
            "IDN",
            "IRL",
            "ITA",
            "JPN",
            "LVA",
            "MEX",
            "POL",
            "PRT",
            "ROU",
            "RUS",
            "SAU",
            "SVK",
            "ZAF",
            "KOR",
            "ESP",
            "SWE",
            "NLD",
            "TUR",
            "USA",
            "GBR"
           ],
           "name": "",
           "type": "choropleth",
           "z": [
            17.23052197802197,
            17.446302197802193,
            10.98535714285714,
            10.700494505494516,
            21.92695054945056,
            11.47516483516485,
            5.432203902170927,
            15.869070918086832,
            12.914752747252743,
            20.57082031249999,
            9.141208791208792,
            8.61870879120879,
            5.580796703296704,
            12.909546703296698,
            10.141159196290571,
            18.748787878787883,
            11.388543956043964,
            27.43197938144326,
            28.653074712643665,
            9.622362637362633,
            14.505013736263743,
            13.834853479853487,
            7.022829670329675,
            21.131881868131867,
            8.800219780219784,
            17.822554945054943,
            12.097032967032971,
            5.843791208791206,
            27.23796703296707,
            11.23733516483516,
            17.357637362637362,
            12.081016483516478,
            15.681364468864494,
            7.344038461538464,
            10.72706043956044,
            13.4384478021978,
            13.266815539387933,
            10.583603851444291
           ]
          }
         ],
         "name": "2009"
        },
        {
         "data": [
          {
           "coloraxis": "coloraxis",
           "geo": "geo",
           "hovertemplate": "<b>%{hovertext}</b><br><br>Year=2010<br>iso=%{location}<br>AvgCelsiusTemp=%{z}<extra></extra>",
           "hovertext": [
            "Argentina",
            "Australia",
            "Austria",
            "Belgium",
            "Brazil",
            "Bulgaria",
            "Canada",
            "China",
            "Croatia",
            "Cyprus",
            "Czech Republic",
            "Denmark",
            "Finland",
            "France",
            "Germany",
            "Greece",
            "Hungary",
            "India",
            "Indonesia",
            "Ireland",
            "Italy",
            "Japan",
            "Latvia",
            "Mexico",
            "Poland",
            "Portugal",
            "Romania",
            "Russia",
            "Saudi Arabia",
            "Slovakia",
            "South Africa",
            "South Korea",
            "Spain",
            "Sweden",
            "The Netherlands",
            "Turkey",
            "US",
            "United Kingdom"
           ],
           "locations": [
            "ARG",
            "AUS",
            "AUT",
            "BEL",
            "BRA",
            "BGR",
            "CAN",
            "CHN",
            "HRV",
            "CYP",
            "CZE",
            "DNK",
            "FIN",
            "FRA",
            "DEU",
            "GRC",
            "HUN",
            "IND",
            "IDN",
            "IRL",
            "ITA",
            "JPN",
            "LVA",
            "MEX",
            "POL",
            "PRT",
            "ROU",
            "RUS",
            "SAU",
            "SVK",
            "ZAF",
            "KOR",
            "ESP",
            "SWE",
            "NLD",
            "TUR",
            "USA",
            "GBR"
           ],
           "name": "",
           "type": "choropleth",
           "z": [
            17.225863013698625,
            17.06341917808216,
            9.583780821917808,
            9.353013698630136,
            22.444255707762554,
            11.58936986301369,
            6.886675191815871,
            15.370739726027413,
            11.787041095890409,
            32.28,
            7.770054794520546,
            6.881369863013701,
            4.505780821917807,
            11.888506849315077,
            8.77297529538131,
            19.51599999999999,
            10.055397260273974,
            27.25117445054944,
            28.49008287292817,
            8.484575342465764,
            13.764027397260264,
            14.133872146118716,
            5.922191780821911,
            20.278047945205483,
            7.964356164383563,
            17.322356164383567,
            11.547452054794515,
            6.366630136986303,
            27.42730136986307,
            10.029726027397269,
            17.090602739726048,
            11.714328767123286,
            14.877936073059365,
            5.578164383561645,
            9.228657534246576,
            14.421150684931492,
            13.77246720853975,
            10.111141678129297
           ]
          }
         ],
         "name": "2010"
        },
        {
         "data": [
          {
           "coloraxis": "coloraxis",
           "geo": "geo",
           "hovertemplate": "<b>%{hovertext}</b><br><br>Year=2011<br>iso=%{location}<br>AvgCelsiusTemp=%{z}<extra></extra>",
           "hovertext": [
            "Argentina",
            "Australia",
            "Austria",
            "Belgium",
            "Brazil",
            "Bulgaria",
            "Canada",
            "China",
            "Croatia",
            "Czech Republic",
            "Denmark",
            "Finland",
            "France",
            "Germany",
            "Greece",
            "Hungary",
            "India",
            "Indonesia",
            "Ireland",
            "Italy",
            "Japan",
            "Latvia",
            "Mexico",
            "Poland",
            "Portugal",
            "Romania",
            "Russia",
            "Saudi Arabia",
            "Slovakia",
            "South Africa",
            "South Korea",
            "Spain",
            "Sweden",
            "The Netherlands",
            "Turkey",
            "US",
            "United Kingdom"
           ],
           "locations": [
            "ARG",
            "AUS",
            "AUT",
            "BEL",
            "BRA",
            "BGR",
            "CAN",
            "CHN",
            "HRV",
            "CZE",
            "DNK",
            "FIN",
            "FRA",
            "DEU",
            "GRC",
            "HUN",
            "IND",
            "IDN",
            "IRL",
            "ITA",
            "JPN",
            "LVA",
            "MEX",
            "POL",
            "PRT",
            "ROU",
            "RUS",
            "SAU",
            "SVK",
            "ZAF",
            "KOR",
            "ESP",
            "SWE",
            "NLD",
            "TUR",
            "USA",
            "GBR"
           ],
           "name": "",
           "type": "choropleth",
           "z": [
            17.352821917808217,
            16.966032876712326,
            10.711041095890414,
            11.375369863013692,
            21.74457534246577,
            10.808712328767122,
            6.273478791577661,
            15.51826849315069,
            12.62632876712328,
            9.258849315068494,
            8.745808219178079,
            6.784328767123293,
            13.709260273972603,
            10.469533333333324,
            19.01210958904109,
            10.853561643835617,
            26.8166872852234,
            28.64579670329668,
            10.066027397260276,
            14.60083561643836,
            13.664730593607306,
            7.489506849315075,
            21.10687977099238,
            9.093616438356165,
            17.407252747252752,
            11.12780821917809,
            6.345534246575341,
            26.46833791208796,
            11.105397260273978,
            16.926904109589028,
            11.458630136986296,
            16.110639269406413,
            8.117150684931497,
            11.045589041095887,
            12.36575342465754,
            13.93264830433078,
            11.416735253772297
           ]
          }
         ],
         "name": "2011"
        },
        {
         "data": [
          {
           "coloraxis": "coloraxis",
           "geo": "geo",
           "hovertemplate": "<b>%{hovertext}</b><br><br>Year=2012<br>iso=%{location}<br>AvgCelsiusTemp=%{z}<extra></extra>",
           "hovertext": [
            "Argentina",
            "Australia",
            "Austria",
            "Belgium",
            "Brazil",
            "Bulgaria",
            "Canada",
            "China",
            "Croatia",
            "Czech Republic",
            "Denmark",
            "Finland",
            "France",
            "Germany",
            "Greece",
            "Hungary",
            "India",
            "Indonesia",
            "Ireland",
            "Italy",
            "Japan",
            "Latvia",
            "Mexico",
            "Poland",
            "Portugal",
            "Romania",
            "Russia",
            "Saudi Arabia",
            "Slovakia",
            "South Africa",
            "South Korea",
            "Spain",
            "Sweden",
            "The Netherlands",
            "Turkey",
            "US",
            "United Kingdom"
           ],
           "locations": [
            "ARG",
            "AUS",
            "AUT",
            "BEL",
            "BRA",
            "BGR",
            "CAN",
            "CHN",
            "HRV",
            "CZE",
            "DNK",
            "FIN",
            "FRA",
            "DEU",
            "GRC",
            "HUN",
            "IND",
            "IDN",
            "IRL",
            "ITA",
            "JPN",
            "LVA",
            "MEX",
            "POL",
            "PRT",
            "ROU",
            "RUS",
            "SAU",
            "SVK",
            "ZAF",
            "KOR",
            "ESP",
            "SWE",
            "NLD",
            "TUR",
            "USA",
            "GBR"
           ],
           "name": "",
           "type": "choropleth",
           "z": [
            17.624945355191247,
            16.80867213114752,
            11.061994535519124,
            10.420928961748633,
            22.31923497267759,
            11.77953551912569,
            6.8978347057029525,
            15.324311475409852,
            13.090765027322403,
            9.067923497267762,
            8.219562841530054,
            5.28180327868852,
            12.670901639344278,
            9.206393442622952,
            15.64528301886793,
            11.42306010928961,
            27.037404371584675,
            28.703636363636345,
            9.447076502732244,
            14.479562841530043,
            13.417295081967216,
            6.404972677595629,
            20.892384105960268,
            8.699590163934422,
            16.138328767123276,
            12.088005464480878,
            5.348633879781424,
            26.78161379310345,
            11.602185792349724,
            17.009153005464483,
            11.515355191256829,
            15.636129326047364,
            6.818934426229507,
            10.404562841530051,
            13.503046448087431,
            14.821051959113897,
            10.651143250688698
           ]
          }
         ],
         "name": "2012"
        },
        {
         "data": [
          {
           "coloraxis": "coloraxis",
           "geo": "geo",
           "hovertemplate": "<b>%{hovertext}</b><br><br>Year=2013<br>iso=%{location}<br>AvgCelsiusTemp=%{z}<extra></extra>",
           "hovertext": [
            "Argentina",
            "Australia",
            "Austria",
            "Belgium",
            "Brazil",
            "Bulgaria",
            "Canada",
            "China",
            "Croatia",
            "Czech Republic",
            "Denmark",
            "Finland",
            "France",
            "Germany",
            "Hungary",
            "India",
            "Indonesia",
            "Ireland",
            "Italy",
            "Japan",
            "Latvia",
            "Mexico",
            "Poland",
            "Portugal",
            "Romania",
            "Russia",
            "Saudi Arabia",
            "Slovakia",
            "South Africa",
            "South Korea",
            "Spain",
            "Sweden",
            "The Netherlands",
            "Turkey",
            "US",
            "United Kingdom"
           ],
           "locations": [
            "ARG",
            "AUS",
            "AUT",
            "BEL",
            "BRA",
            "BGR",
            "CAN",
            "CHN",
            "HRV",
            "CZE",
            "DNK",
            "FIN",
            "FRA",
            "DEU",
            "HUN",
            "IND",
            "IDN",
            "IRL",
            "ITA",
            "JPN",
            "LVA",
            "MEX",
            "POL",
            "PRT",
            "ROU",
            "RUS",
            "SAU",
            "SVK",
            "ZAF",
            "KOR",
            "ESP",
            "SWE",
            "NLD",
            "TUR",
            "USA",
            "GBR"
           ],
           "name": "",
           "type": "choropleth",
           "z": [
            17.15624657534248,
            17.43479692645447,
            10.792328767123292,
            9.919808219178083,
            22.26091324200913,
            11.935945205479454,
            5.552112633181136,
            15.979484931506862,
            12.427616438356166,
            8.32999999999999,
            8.278493150684938,
            6.466493150684934,
            12.34379972565156,
            8.620986301369857,
            11.276328767123289,
            26.77740918437287,
            28.438016528925623,
            9.557726027397264,
            14.276082191780798,
            13.93507762557078,
            7.304164383561647,
            20.51375478927206,
            8.895643835616442,
            16.32826446280992,
            11.999013698630131,
            6.292410958904103,
            26.55115068493151,
            11.21186301369863,
            17.056383561643827,
            11.726630136986287,
            15.35467579908679,
            7.322575342465748,
            9.962684931506857,
            13.663082191780823,
            13.315673915758264,
            10.665102880658443
           ]
          }
         ],
         "name": "2013"
        },
        {
         "data": [
          {
           "coloraxis": "coloraxis",
           "geo": "geo",
           "hovertemplate": "<b>%{hovertext}</b><br><br>Year=2014<br>iso=%{location}<br>AvgCelsiusTemp=%{z}<extra></extra>",
           "hovertext": [
            "Argentina",
            "Australia",
            "Austria",
            "Belgium",
            "Brazil",
            "Bulgaria",
            "Canada",
            "China",
            "Croatia",
            "Czech Republic",
            "Denmark",
            "Finland",
            "France",
            "Germany",
            "Hungary",
            "India",
            "Indonesia",
            "Ireland",
            "Italy",
            "Japan",
            "Latvia",
            "Mexico",
            "Poland",
            "Portugal",
            "Romania",
            "Russia",
            "Saudi Arabia",
            "Slovakia",
            "South Africa",
            "South Korea",
            "Spain",
            "Sweden",
            "The Netherlands",
            "Turkey",
            "US",
            "United Kingdom"
           ],
           "locations": [
            "ARG",
            "AUS",
            "AUT",
            "BEL",
            "BRA",
            "BGR",
            "CAN",
            "CHN",
            "HRV",
            "CZE",
            "DNK",
            "FIN",
            "FRA",
            "DEU",
            "HUN",
            "IND",
            "IDN",
            "IRL",
            "ITA",
            "JPN",
            "LVA",
            "MEX",
            "POL",
            "PRT",
            "ROU",
            "RUS",
            "SAU",
            "SVK",
            "ZAF",
            "KOR",
            "ESP",
            "SWE",
            "NLD",
            "TUR",
            "USA",
            "GBR"
           ],
           "name": "",
           "type": "choropleth",
           "z": [
            17.56306849315068,
            17.491087912087888,
            11.86288461538461,
            11.73678571428571,
            22.9462534435262,
            11.742307692307708,
            2.1622590068159675,
            16.347526113249035,
            13.456181318681317,
            9.958873626373627,
            9.934368131868128,
            6.72442307692307,
            13.045892857142842,
            10.062747252747243,
            12.051098901098902,
            27.07754120879121,
            28.593278236914603,
            10.137967032967037,
            15.05575549450548,
            13.664120879120876,
            7.844148351648355,
            20.05992292870905,
            9.784862637362629,
            16.545027472527472,
            11.793571428571438,
            6.504835164835163,
            27.04462707182325,
            12.195659340659349,
            17.38766483516483,
            12.549972527472525,
            16.37653846153844,
            8.367884615384613,
            11.849917582417582,
            14.322046703296712,
            13.161012678629133,
            11.86056396148556
           ]
          }
         ],
         "name": "2014"
        },
        {
         "data": [
          {
           "coloraxis": "coloraxis",
           "geo": "geo",
           "hovertemplate": "<b>%{hovertext}</b><br><br>Year=2015<br>iso=%{location}<br>AvgCelsiusTemp=%{z}<extra></extra>",
           "hovertext": [
            "Argentina",
            "Australia",
            "Austria",
            "Belgium",
            "Brazil",
            "Bulgaria",
            "Canada",
            "China",
            "Croatia",
            "Czech Republic",
            "Denmark",
            "Finland",
            "France",
            "Germany",
            "Hungary",
            "India",
            "Indonesia",
            "Ireland",
            "Italy",
            "Japan",
            "Latvia",
            "Mexico",
            "Poland",
            "Portugal",
            "Romania",
            "Russia",
            "Saudi Arabia",
            "Slovakia",
            "South Africa",
            "South Korea",
            "Spain",
            "Sweden",
            "The Netherlands",
            "Turkey",
            "US",
            "United Kingdom"
           ],
           "locations": [
            "ARG",
            "AUS",
            "AUT",
            "BEL",
            "BRA",
            "BGR",
            "CAN",
            "CHN",
            "HRV",
            "CZE",
            "DNK",
            "FIN",
            "FRA",
            "DEU",
            "HUN",
            "IND",
            "IDN",
            "IRL",
            "ITA",
            "JPN",
            "LVA",
            "MEX",
            "POL",
            "PRT",
            "ROU",
            "RUS",
            "SAU",
            "SVK",
            "ZAF",
            "KOR",
            "ESP",
            "SWE",
            "NLD",
            "TUR",
            "USA",
            "GBR"
           ],
           "name": "",
           "type": "choropleth",
           "z": [
            17.680796703296696,
            17.257587912087892,
            11.929395604395603,
            11.070302197802196,
            22.615732600732613,
            11.872087912087906,
            3.619779951100245,
            16.49382417582417,
            13.16945054945055,
            10.201730769230762,
            9.097060439560442,
            7.1780769230769215,
            13.154574175824182,
            9.955302197802192,
            12.00115384615384,
            27.46631181318681,
            28.533195592286493,
            9.567390109890107,
            14.810329670329658,
            14.33967032967034,
            8.268434065934072,
            20.16166172106824,
            10.55321428571429,
            16.733057851239668,
            12.517335164835178,
            7.025494505494514,
            28.071891117478543,
            12.02876373626374,
            17.184738292011033,
            12.881813186813194,
            16.15098901098899,
            8.096098901098902,
            11.037087912087912,
            13.695425824175826,
            14.190035105944842,
            11.166574965612112
           ]
          }
         ],
         "name": "2015"
        },
        {
         "data": [
          {
           "coloraxis": "coloraxis",
           "geo": "geo",
           "hovertemplate": "<b>%{hovertext}</b><br><br>Year=2016<br>iso=%{location}<br>AvgCelsiusTemp=%{z}<extra></extra>",
           "hovertext": [
            "Argentina",
            "Australia",
            "Austria",
            "Belgium",
            "Brazil",
            "Bulgaria",
            "Canada",
            "China",
            "Croatia",
            "Czech Republic",
            "Denmark",
            "Finland",
            "France",
            "Germany",
            "Hungary",
            "India",
            "Indonesia",
            "Ireland",
            "Italy",
            "Japan",
            "Latvia",
            "Mexico",
            "Poland",
            "Portugal",
            "Romania",
            "Russia",
            "Saudi Arabia",
            "Slovakia",
            "South Africa",
            "South Korea",
            "Spain",
            "Sweden",
            "The Netherlands",
            "Turkey",
            "US",
            "United Kingdom"
           ],
           "locations": [
            "ARG",
            "AUS",
            "AUT",
            "BEL",
            "BRA",
            "BGR",
            "CAN",
            "CHN",
            "HRV",
            "CZE",
            "DNK",
            "FIN",
            "FRA",
            "DEU",
            "HUN",
            "IND",
            "IDN",
            "IRL",
            "ITA",
            "JPN",
            "LVA",
            "MEX",
            "POL",
            "PRT",
            "ROU",
            "RUS",
            "SAU",
            "SVK",
            "ZAF",
            "KOR",
            "ESP",
            "SWE",
            "NLD",
            "TUR",
            "USA",
            "GBR"
           ],
           "name": "",
           "type": "choropleth",
           "z": [
            16.77462809917357,
            17.448868653421652,
            11.171432506887058,
            10.867348066298344,
            22.36700736648251,
            11.873756906077354,
            5.155532503457816,
            16.440281923714743,
            12.684626038781158,
            9.476215469613257,
            8.93773480662983,
            6.05765193370166,
            12.779296551724135,
            9.503259668508289,
            11.230441988950272,
            27.88644184445969,
            28.65653739612189,
            9.885883977900548,
            14.97112947658403,
            14.225769585253447,
            7.656914600550967,
            20.454342359767907,
            9.92533149171271,
            16.79607734806629,
            12.056795580110494,
            6.186740331491716,
            27.07672651933703,
            11.309198895027624,
            17.42588397790055,
            13.03618784530386,
            15.907430939226494,
            7.709281767955798,
            11.004419889502758,
            13.859406077348073,
            14.620133071358344,
            11.235228215767638
           ]
          }
         ],
         "name": "2016"
        },
        {
         "data": [
          {
           "coloraxis": "coloraxis",
           "geo": "geo",
           "hovertemplate": "<b>%{hovertext}</b><br><br>Year=2017<br>iso=%{location}<br>AvgCelsiusTemp=%{z}<extra></extra>",
           "hovertext": [
            "Argentina",
            "Australia",
            "Austria",
            "Belgium",
            "Brazil",
            "Bulgaria",
            "Canada",
            "China",
            "Croatia",
            "Czech Republic",
            "Denmark",
            "Finland",
            "France",
            "Germany",
            "Hungary",
            "India",
            "Indonesia",
            "Ireland",
            "Italy",
            "Japan",
            "Latvia",
            "Mexico",
            "Poland",
            "Portugal",
            "Romania",
            "Russia",
            "Saudi Arabia",
            "Slovakia",
            "South Africa",
            "South Korea",
            "Spain",
            "Sweden",
            "The Netherlands",
            "Turkey",
            "US",
            "United Kingdom"
           ],
           "locations": [
            "ARG",
            "AUS",
            "AUT",
            "BEL",
            "BRA",
            "BGR",
            "CAN",
            "CHN",
            "HRV",
            "CZE",
            "DNK",
            "FIN",
            "FRA",
            "DEU",
            "HUN",
            "IND",
            "IDN",
            "IRL",
            "ITA",
            "JPN",
            "LVA",
            "MEX",
            "POL",
            "PRT",
            "ROU",
            "RUS",
            "SAU",
            "SVK",
            "ZAF",
            "KOR",
            "ESP",
            "SWE",
            "NLD",
            "TUR",
            "USA",
            "GBR"
           ],
           "name": "",
           "type": "choropleth",
           "z": [
            17.85438356164385,
            17.475279605263193,
            11.30619178082192,
            11.184876712328764,
            22.30964383561647,
            11.474410958904116,
            4.420686813186812,
            16.676158904109613,
            13.095643835616425,
            9.31358904109589,
            8.863589041095889,
            6.009506849315066,
            13.11813698630135,
            9.329643835616446,
            11.233999999999996,
            27.62768861454045,
            28.603214285714284,
            10.11610958904109,
            14.93387671232877,
            13.690575342465756,
            7.311616438356172,
            20.51735211267609,
            9.559068493150685,
            17.127863013698633,
            11.888547945205485,
            5.81712328767123,
            27.457362637362635,
            11.510547945205476,
            17.02553424657534,
            12.297589041095884,
            15.95808219178083,
            7.483589041095883,
            11.172410958904116,
            13.49331506849314,
            14.41299786902569,
            11.450945205479435
           ]
          }
         ],
         "name": "2017"
        },
        {
         "data": [
          {
           "coloraxis": "coloraxis",
           "geo": "geo",
           "hovertemplate": "<b>%{hovertext}</b><br><br>Year=2018<br>iso=%{location}<br>AvgCelsiusTemp=%{z}<extra></extra>",
           "hovertext": [
            "Argentina",
            "Australia",
            "Austria",
            "Belgium",
            "Brazil",
            "Bulgaria",
            "Canada",
            "China",
            "Croatia",
            "Czech Republic",
            "Denmark",
            "Finland",
            "France",
            "Germany",
            "Hungary",
            "India",
            "Indonesia",
            "Ireland",
            "Italy",
            "Japan",
            "Latvia",
            "Mexico",
            "Poland",
            "Portugal",
            "Romania",
            "Russia",
            "Saudi Arabia",
            "Slovakia",
            "South Africa",
            "South Korea",
            "Spain",
            "Sweden",
            "The Netherlands",
            "Turkey",
            "US",
            "United Kingdom"
           ],
           "locations": [
            "ARG",
            "AUS",
            "AUT",
            "BEL",
            "BRA",
            "BGR",
            "CAN",
            "CHN",
            "HRV",
            "CZE",
            "DNK",
            "FIN",
            "FRA",
            "DEU",
            "HUN",
            "IND",
            "IDN",
            "IRL",
            "ITA",
            "JPN",
            "LVA",
            "MEX",
            "POL",
            "PRT",
            "ROU",
            "RUS",
            "SAU",
            "SVK",
            "ZAF",
            "KOR",
            "ESP",
            "SWE",
            "NLD",
            "TUR",
            "USA",
            "GBR"
           ],
           "name": "",
           "type": "choropleth",
           "z": [
            17.48597222222221,
            17.368986149584458,
            12.104696132596676,
            11.698421052631586,
            22.02560592044405,
            11.690387811634356,
            3.718902777777776,
            16.517807991121018,
            13.6073537604457,
            10.559667590027704,
            9.700055401662045,
            6.674238227146816,
            13.3218617771509,
            10.811623188405791,
            12.2429916897507,
            27.541936376210195,
            28.650306406685235,
            9.953839779005524,
            15.560554016620491,
            14.42154343807766,
            8.148176795580113,
            19.983311132255,
            10.720997229916897,
            16.30335180055401,
            12.517845303867391,
            6.160333333333334,
            27.804805555555536,
            12.362105263157888,
            17.122638888888886,
            12.358027777777778,
            15.800681399631676,
            8.37096952908588,
            11.582055555555556,
            14.86961272475799,
            13.910649834362944,
            11.213439667128975
           ]
          }
         ],
         "name": "2018"
        }
       ],
       "layout": {
        "coloraxis": {
         "colorbar": {
          "title": {
           "text": "AvgCelsiusTemp"
          }
         },
         "colorscale": [
          [
           0,
           "rgb(247,251,255)"
          ],
          [
           0.125,
           "rgb(222,235,247)"
          ],
          [
           0.25,
           "rgb(198,219,239)"
          ],
          [
           0.375,
           "rgb(158,202,225)"
          ],
          [
           0.5,
           "rgb(107,174,214)"
          ],
          [
           0.625,
           "rgb(66,146,198)"
          ],
          [
           0.75,
           "rgb(33,113,181)"
          ],
          [
           0.875,
           "rgb(8,81,156)"
          ],
          [
           1,
           "rgb(8,48,107)"
          ]
         ]
        },
        "geo": {
         "center": {},
         "domain": {
          "x": [
           0,
           1
          ],
          "y": [
           0,
           1
          ]
         }
        },
        "legend": {
         "tracegroupgap": 0
        },
        "margin": {
         "t": 60
        },
        "sliders": [
         {
          "active": 0,
          "currentvalue": {
           "prefix": "Year="
          },
          "len": 0.9,
          "pad": {
           "b": 10,
           "t": 60
          },
          "steps": [
           {
            "args": [
             [
              "1995"
             ],
             {
              "frame": {
               "duration": 0,
               "redraw": true
              },
              "fromcurrent": true,
              "mode": "immediate",
              "transition": {
               "duration": 0,
               "easing": "linear"
              }
             }
            ],
            "label": "1995",
            "method": "animate"
           },
           {
            "args": [
             [
              "1996"
             ],
             {
              "frame": {
               "duration": 0,
               "redraw": true
              },
              "fromcurrent": true,
              "mode": "immediate",
              "transition": {
               "duration": 0,
               "easing": "linear"
              }
             }
            ],
            "label": "1996",
            "method": "animate"
           },
           {
            "args": [
             [
              "1997"
             ],
             {
              "frame": {
               "duration": 0,
               "redraw": true
              },
              "fromcurrent": true,
              "mode": "immediate",
              "transition": {
               "duration": 0,
               "easing": "linear"
              }
             }
            ],
            "label": "1997",
            "method": "animate"
           },
           {
            "args": [
             [
              "1998"
             ],
             {
              "frame": {
               "duration": 0,
               "redraw": true
              },
              "fromcurrent": true,
              "mode": "immediate",
              "transition": {
               "duration": 0,
               "easing": "linear"
              }
             }
            ],
            "label": "1998",
            "method": "animate"
           },
           {
            "args": [
             [
              "1999"
             ],
             {
              "frame": {
               "duration": 0,
               "redraw": true
              },
              "fromcurrent": true,
              "mode": "immediate",
              "transition": {
               "duration": 0,
               "easing": "linear"
              }
             }
            ],
            "label": "1999",
            "method": "animate"
           },
           {
            "args": [
             [
              "2000"
             ],
             {
              "frame": {
               "duration": 0,
               "redraw": true
              },
              "fromcurrent": true,
              "mode": "immediate",
              "transition": {
               "duration": 0,
               "easing": "linear"
              }
             }
            ],
            "label": "2000",
            "method": "animate"
           },
           {
            "args": [
             [
              "2001"
             ],
             {
              "frame": {
               "duration": 0,
               "redraw": true
              },
              "fromcurrent": true,
              "mode": "immediate",
              "transition": {
               "duration": 0,
               "easing": "linear"
              }
             }
            ],
            "label": "2001",
            "method": "animate"
           },
           {
            "args": [
             [
              "2002"
             ],
             {
              "frame": {
               "duration": 0,
               "redraw": true
              },
              "fromcurrent": true,
              "mode": "immediate",
              "transition": {
               "duration": 0,
               "easing": "linear"
              }
             }
            ],
            "label": "2002",
            "method": "animate"
           },
           {
            "args": [
             [
              "2003"
             ],
             {
              "frame": {
               "duration": 0,
               "redraw": true
              },
              "fromcurrent": true,
              "mode": "immediate",
              "transition": {
               "duration": 0,
               "easing": "linear"
              }
             }
            ],
            "label": "2003",
            "method": "animate"
           },
           {
            "args": [
             [
              "2004"
             ],
             {
              "frame": {
               "duration": 0,
               "redraw": true
              },
              "fromcurrent": true,
              "mode": "immediate",
              "transition": {
               "duration": 0,
               "easing": "linear"
              }
             }
            ],
            "label": "2004",
            "method": "animate"
           },
           {
            "args": [
             [
              "2005"
             ],
             {
              "frame": {
               "duration": 0,
               "redraw": true
              },
              "fromcurrent": true,
              "mode": "immediate",
              "transition": {
               "duration": 0,
               "easing": "linear"
              }
             }
            ],
            "label": "2005",
            "method": "animate"
           },
           {
            "args": [
             [
              "2006"
             ],
             {
              "frame": {
               "duration": 0,
               "redraw": true
              },
              "fromcurrent": true,
              "mode": "immediate",
              "transition": {
               "duration": 0,
               "easing": "linear"
              }
             }
            ],
            "label": "2006",
            "method": "animate"
           },
           {
            "args": [
             [
              "2007"
             ],
             {
              "frame": {
               "duration": 0,
               "redraw": true
              },
              "fromcurrent": true,
              "mode": "immediate",
              "transition": {
               "duration": 0,
               "easing": "linear"
              }
             }
            ],
            "label": "2007",
            "method": "animate"
           },
           {
            "args": [
             [
              "2008"
             ],
             {
              "frame": {
               "duration": 0,
               "redraw": true
              },
              "fromcurrent": true,
              "mode": "immediate",
              "transition": {
               "duration": 0,
               "easing": "linear"
              }
             }
            ],
            "label": "2008",
            "method": "animate"
           },
           {
            "args": [
             [
              "2009"
             ],
             {
              "frame": {
               "duration": 0,
               "redraw": true
              },
              "fromcurrent": true,
              "mode": "immediate",
              "transition": {
               "duration": 0,
               "easing": "linear"
              }
             }
            ],
            "label": "2009",
            "method": "animate"
           },
           {
            "args": [
             [
              "2010"
             ],
             {
              "frame": {
               "duration": 0,
               "redraw": true
              },
              "fromcurrent": true,
              "mode": "immediate",
              "transition": {
               "duration": 0,
               "easing": "linear"
              }
             }
            ],
            "label": "2010",
            "method": "animate"
           },
           {
            "args": [
             [
              "2011"
             ],
             {
              "frame": {
               "duration": 0,
               "redraw": true
              },
              "fromcurrent": true,
              "mode": "immediate",
              "transition": {
               "duration": 0,
               "easing": "linear"
              }
             }
            ],
            "label": "2011",
            "method": "animate"
           },
           {
            "args": [
             [
              "2012"
             ],
             {
              "frame": {
               "duration": 0,
               "redraw": true
              },
              "fromcurrent": true,
              "mode": "immediate",
              "transition": {
               "duration": 0,
               "easing": "linear"
              }
             }
            ],
            "label": "2012",
            "method": "animate"
           },
           {
            "args": [
             [
              "2013"
             ],
             {
              "frame": {
               "duration": 0,
               "redraw": true
              },
              "fromcurrent": true,
              "mode": "immediate",
              "transition": {
               "duration": 0,
               "easing": "linear"
              }
             }
            ],
            "label": "2013",
            "method": "animate"
           },
           {
            "args": [
             [
              "2014"
             ],
             {
              "frame": {
               "duration": 0,
               "redraw": true
              },
              "fromcurrent": true,
              "mode": "immediate",
              "transition": {
               "duration": 0,
               "easing": "linear"
              }
             }
            ],
            "label": "2014",
            "method": "animate"
           },
           {
            "args": [
             [
              "2015"
             ],
             {
              "frame": {
               "duration": 0,
               "redraw": true
              },
              "fromcurrent": true,
              "mode": "immediate",
              "transition": {
               "duration": 0,
               "easing": "linear"
              }
             }
            ],
            "label": "2015",
            "method": "animate"
           },
           {
            "args": [
             [
              "2016"
             ],
             {
              "frame": {
               "duration": 0,
               "redraw": true
              },
              "fromcurrent": true,
              "mode": "immediate",
              "transition": {
               "duration": 0,
               "easing": "linear"
              }
             }
            ],
            "label": "2016",
            "method": "animate"
           },
           {
            "args": [
             [
              "2017"
             ],
             {
              "frame": {
               "duration": 0,
               "redraw": true
              },
              "fromcurrent": true,
              "mode": "immediate",
              "transition": {
               "duration": 0,
               "easing": "linear"
              }
             }
            ],
            "label": "2017",
            "method": "animate"
           },
           {
            "args": [
             [
              "2018"
             ],
             {
              "frame": {
               "duration": 0,
               "redraw": true
              },
              "fromcurrent": true,
              "mode": "immediate",
              "transition": {
               "duration": 0,
               "easing": "linear"
              }
             }
            ],
            "label": "2018",
            "method": "animate"
           }
          ],
          "x": 0.1,
          "xanchor": "left",
          "y": 0,
          "yanchor": "top"
         }
        ],
        "template": {
         "data": {
          "bar": [
           {
            "error_x": {
             "color": "#2a3f5f"
            },
            "error_y": {
             "color": "#2a3f5f"
            },
            "marker": {
             "line": {
              "color": "#E5ECF6",
              "width": 0.5
             }
            },
            "type": "bar"
           }
          ],
          "barpolar": [
           {
            "marker": {
             "line": {
              "color": "#E5ECF6",
              "width": 0.5
             }
            },
            "type": "barpolar"
           }
          ],
          "carpet": [
           {
            "aaxis": {
             "endlinecolor": "#2a3f5f",
             "gridcolor": "white",
             "linecolor": "white",
             "minorgridcolor": "white",
             "startlinecolor": "#2a3f5f"
            },
            "baxis": {
             "endlinecolor": "#2a3f5f",
             "gridcolor": "white",
             "linecolor": "white",
             "minorgridcolor": "white",
             "startlinecolor": "#2a3f5f"
            },
            "type": "carpet"
           }
          ],
          "choropleth": [
           {
            "colorbar": {
             "outlinewidth": 0,
             "ticks": ""
            },
            "type": "choropleth"
           }
          ],
          "contour": [
           {
            "colorbar": {
             "outlinewidth": 0,
             "ticks": ""
            },
            "colorscale": [
             [
              0,
              "#0d0887"
             ],
             [
              0.1111111111111111,
              "#46039f"
             ],
             [
              0.2222222222222222,
              "#7201a8"
             ],
             [
              0.3333333333333333,
              "#9c179e"
             ],
             [
              0.4444444444444444,
              "#bd3786"
             ],
             [
              0.5555555555555556,
              "#d8576b"
             ],
             [
              0.6666666666666666,
              "#ed7953"
             ],
             [
              0.7777777777777778,
              "#fb9f3a"
             ],
             [
              0.8888888888888888,
              "#fdca26"
             ],
             [
              1,
              "#f0f921"
             ]
            ],
            "type": "contour"
           }
          ],
          "contourcarpet": [
           {
            "colorbar": {
             "outlinewidth": 0,
             "ticks": ""
            },
            "type": "contourcarpet"
           }
          ],
          "heatmap": [
           {
            "colorbar": {
             "outlinewidth": 0,
             "ticks": ""
            },
            "colorscale": [
             [
              0,
              "#0d0887"
             ],
             [
              0.1111111111111111,
              "#46039f"
             ],
             [
              0.2222222222222222,
              "#7201a8"
             ],
             [
              0.3333333333333333,
              "#9c179e"
             ],
             [
              0.4444444444444444,
              "#bd3786"
             ],
             [
              0.5555555555555556,
              "#d8576b"
             ],
             [
              0.6666666666666666,
              "#ed7953"
             ],
             [
              0.7777777777777778,
              "#fb9f3a"
             ],
             [
              0.8888888888888888,
              "#fdca26"
             ],
             [
              1,
              "#f0f921"
             ]
            ],
            "type": "heatmap"
           }
          ],
          "heatmapgl": [
           {
            "colorbar": {
             "outlinewidth": 0,
             "ticks": ""
            },
            "colorscale": [
             [
              0,
              "#0d0887"
             ],
             [
              0.1111111111111111,
              "#46039f"
             ],
             [
              0.2222222222222222,
              "#7201a8"
             ],
             [
              0.3333333333333333,
              "#9c179e"
             ],
             [
              0.4444444444444444,
              "#bd3786"
             ],
             [
              0.5555555555555556,
              "#d8576b"
             ],
             [
              0.6666666666666666,
              "#ed7953"
             ],
             [
              0.7777777777777778,
              "#fb9f3a"
             ],
             [
              0.8888888888888888,
              "#fdca26"
             ],
             [
              1,
              "#f0f921"
             ]
            ],
            "type": "heatmapgl"
           }
          ],
          "histogram": [
           {
            "marker": {
             "colorbar": {
              "outlinewidth": 0,
              "ticks": ""
             }
            },
            "type": "histogram"
           }
          ],
          "histogram2d": [
           {
            "colorbar": {
             "outlinewidth": 0,
             "ticks": ""
            },
            "colorscale": [
             [
              0,
              "#0d0887"
             ],
             [
              0.1111111111111111,
              "#46039f"
             ],
             [
              0.2222222222222222,
              "#7201a8"
             ],
             [
              0.3333333333333333,
              "#9c179e"
             ],
             [
              0.4444444444444444,
              "#bd3786"
             ],
             [
              0.5555555555555556,
              "#d8576b"
             ],
             [
              0.6666666666666666,
              "#ed7953"
             ],
             [
              0.7777777777777778,
              "#fb9f3a"
             ],
             [
              0.8888888888888888,
              "#fdca26"
             ],
             [
              1,
              "#f0f921"
             ]
            ],
            "type": "histogram2d"
           }
          ],
          "histogram2dcontour": [
           {
            "colorbar": {
             "outlinewidth": 0,
             "ticks": ""
            },
            "colorscale": [
             [
              0,
              "#0d0887"
             ],
             [
              0.1111111111111111,
              "#46039f"
             ],
             [
              0.2222222222222222,
              "#7201a8"
             ],
             [
              0.3333333333333333,
              "#9c179e"
             ],
             [
              0.4444444444444444,
              "#bd3786"
             ],
             [
              0.5555555555555556,
              "#d8576b"
             ],
             [
              0.6666666666666666,
              "#ed7953"
             ],
             [
              0.7777777777777778,
              "#fb9f3a"
             ],
             [
              0.8888888888888888,
              "#fdca26"
             ],
             [
              1,
              "#f0f921"
             ]
            ],
            "type": "histogram2dcontour"
           }
          ],
          "mesh3d": [
           {
            "colorbar": {
             "outlinewidth": 0,
             "ticks": ""
            },
            "type": "mesh3d"
           }
          ],
          "parcoords": [
           {
            "line": {
             "colorbar": {
              "outlinewidth": 0,
              "ticks": ""
             }
            },
            "type": "parcoords"
           }
          ],
          "pie": [
           {
            "automargin": true,
            "type": "pie"
           }
          ],
          "scatter": [
           {
            "marker": {
             "colorbar": {
              "outlinewidth": 0,
              "ticks": ""
             }
            },
            "type": "scatter"
           }
          ],
          "scatter3d": [
           {
            "line": {
             "colorbar": {
              "outlinewidth": 0,
              "ticks": ""
             }
            },
            "marker": {
             "colorbar": {
              "outlinewidth": 0,
              "ticks": ""
             }
            },
            "type": "scatter3d"
           }
          ],
          "scattercarpet": [
           {
            "marker": {
             "colorbar": {
              "outlinewidth": 0,
              "ticks": ""
             }
            },
            "type": "scattercarpet"
           }
          ],
          "scattergeo": [
           {
            "marker": {
             "colorbar": {
              "outlinewidth": 0,
              "ticks": ""
             }
            },
            "type": "scattergeo"
           }
          ],
          "scattergl": [
           {
            "marker": {
             "colorbar": {
              "outlinewidth": 0,
              "ticks": ""
             }
            },
            "type": "scattergl"
           }
          ],
          "scattermapbox": [
           {
            "marker": {
             "colorbar": {
              "outlinewidth": 0,
              "ticks": ""
             }
            },
            "type": "scattermapbox"
           }
          ],
          "scatterpolar": [
           {
            "marker": {
             "colorbar": {
              "outlinewidth": 0,
              "ticks": ""
             }
            },
            "type": "scatterpolar"
           }
          ],
          "scatterpolargl": [
           {
            "marker": {
             "colorbar": {
              "outlinewidth": 0,
              "ticks": ""
             }
            },
            "type": "scatterpolargl"
           }
          ],
          "scatterternary": [
           {
            "marker": {
             "colorbar": {
              "outlinewidth": 0,
              "ticks": ""
             }
            },
            "type": "scatterternary"
           }
          ],
          "surface": [
           {
            "colorbar": {
             "outlinewidth": 0,
             "ticks": ""
            },
            "colorscale": [
             [
              0,
              "#0d0887"
             ],
             [
              0.1111111111111111,
              "#46039f"
             ],
             [
              0.2222222222222222,
              "#7201a8"
             ],
             [
              0.3333333333333333,
              "#9c179e"
             ],
             [
              0.4444444444444444,
              "#bd3786"
             ],
             [
              0.5555555555555556,
              "#d8576b"
             ],
             [
              0.6666666666666666,
              "#ed7953"
             ],
             [
              0.7777777777777778,
              "#fb9f3a"
             ],
             [
              0.8888888888888888,
              "#fdca26"
             ],
             [
              1,
              "#f0f921"
             ]
            ],
            "type": "surface"
           }
          ],
          "table": [
           {
            "cells": {
             "fill": {
              "color": "#EBF0F8"
             },
             "line": {
              "color": "white"
             }
            },
            "header": {
             "fill": {
              "color": "#C8D4E3"
             },
             "line": {
              "color": "white"
             }
            },
            "type": "table"
           }
          ]
         },
         "layout": {
          "annotationdefaults": {
           "arrowcolor": "#2a3f5f",
           "arrowhead": 0,
           "arrowwidth": 1
          },
          "coloraxis": {
           "colorbar": {
            "outlinewidth": 0,
            "ticks": ""
           }
          },
          "colorscale": {
           "diverging": [
            [
             0,
             "#8e0152"
            ],
            [
             0.1,
             "#c51b7d"
            ],
            [
             0.2,
             "#de77ae"
            ],
            [
             0.3,
             "#f1b6da"
            ],
            [
             0.4,
             "#fde0ef"
            ],
            [
             0.5,
             "#f7f7f7"
            ],
            [
             0.6,
             "#e6f5d0"
            ],
            [
             0.7,
             "#b8e186"
            ],
            [
             0.8,
             "#7fbc41"
            ],
            [
             0.9,
             "#4d9221"
            ],
            [
             1,
             "#276419"
            ]
           ],
           "sequential": [
            [
             0,
             "#0d0887"
            ],
            [
             0.1111111111111111,
             "#46039f"
            ],
            [
             0.2222222222222222,
             "#7201a8"
            ],
            [
             0.3333333333333333,
             "#9c179e"
            ],
            [
             0.4444444444444444,
             "#bd3786"
            ],
            [
             0.5555555555555556,
             "#d8576b"
            ],
            [
             0.6666666666666666,
             "#ed7953"
            ],
            [
             0.7777777777777778,
             "#fb9f3a"
            ],
            [
             0.8888888888888888,
             "#fdca26"
            ],
            [
             1,
             "#f0f921"
            ]
           ],
           "sequentialminus": [
            [
             0,
             "#0d0887"
            ],
            [
             0.1111111111111111,
             "#46039f"
            ],
            [
             0.2222222222222222,
             "#7201a8"
            ],
            [
             0.3333333333333333,
             "#9c179e"
            ],
            [
             0.4444444444444444,
             "#bd3786"
            ],
            [
             0.5555555555555556,
             "#d8576b"
            ],
            [
             0.6666666666666666,
             "#ed7953"
            ],
            [
             0.7777777777777778,
             "#fb9f3a"
            ],
            [
             0.8888888888888888,
             "#fdca26"
            ],
            [
             1,
             "#f0f921"
            ]
           ]
          },
          "colorway": [
           "#636efa",
           "#EF553B",
           "#00cc96",
           "#ab63fa",
           "#FFA15A",
           "#19d3f3",
           "#FF6692",
           "#B6E880",
           "#FF97FF",
           "#FECB52"
          ],
          "font": {
           "color": "#2a3f5f"
          },
          "geo": {
           "bgcolor": "white",
           "lakecolor": "white",
           "landcolor": "#E5ECF6",
           "showlakes": true,
           "showland": true,
           "subunitcolor": "white"
          },
          "hoverlabel": {
           "align": "left"
          },
          "hovermode": "closest",
          "mapbox": {
           "style": "light"
          },
          "paper_bgcolor": "white",
          "plot_bgcolor": "#E5ECF6",
          "polar": {
           "angularaxis": {
            "gridcolor": "white",
            "linecolor": "white",
            "ticks": ""
           },
           "bgcolor": "#E5ECF6",
           "radialaxis": {
            "gridcolor": "white",
            "linecolor": "white",
            "ticks": ""
           }
          },
          "scene": {
           "xaxis": {
            "backgroundcolor": "#E5ECF6",
            "gridcolor": "white",
            "gridwidth": 2,
            "linecolor": "white",
            "showbackground": true,
            "ticks": "",
            "zerolinecolor": "white"
           },
           "yaxis": {
            "backgroundcolor": "#E5ECF6",
            "gridcolor": "white",
            "gridwidth": 2,
            "linecolor": "white",
            "showbackground": true,
            "ticks": "",
            "zerolinecolor": "white"
           },
           "zaxis": {
            "backgroundcolor": "#E5ECF6",
            "gridcolor": "white",
            "gridwidth": 2,
            "linecolor": "white",
            "showbackground": true,
            "ticks": "",
            "zerolinecolor": "white"
           }
          },
          "shapedefaults": {
           "line": {
            "color": "#2a3f5f"
           }
          },
          "ternary": {
           "aaxis": {
            "gridcolor": "white",
            "linecolor": "white",
            "ticks": ""
           },
           "baxis": {
            "gridcolor": "white",
            "linecolor": "white",
            "ticks": ""
           },
           "bgcolor": "#E5ECF6",
           "caxis": {
            "gridcolor": "white",
            "linecolor": "white",
            "ticks": ""
           }
          },
          "title": {
           "x": 0.05
          },
          "xaxis": {
           "automargin": true,
           "gridcolor": "white",
           "linecolor": "white",
           "ticks": "",
           "title": {
            "standoff": 15
           },
           "zerolinecolor": "white",
           "zerolinewidth": 2
          },
          "yaxis": {
           "automargin": true,
           "gridcolor": "white",
           "linecolor": "white",
           "ticks": "",
           "title": {
            "standoff": 15
           },
           "zerolinecolor": "white",
           "zerolinewidth": 2
          }
         }
        },
        "updatemenus": [
         {
          "buttons": [
           {
            "args": [
             null,
             {
              "frame": {
               "duration": 500,
               "redraw": true
              },
              "fromcurrent": true,
              "mode": "immediate",
              "transition": {
               "duration": 500,
               "easing": "linear"
              }
             }
            ],
            "label": "&#9654;",
            "method": "animate"
           },
           {
            "args": [
             [
              null
             ],
             {
              "frame": {
               "duration": 0,
               "redraw": true
              },
              "fromcurrent": true,
              "mode": "immediate",
              "transition": {
               "duration": 0,
               "easing": "linear"
              }
             }
            ],
            "label": "&#9724;",
            "method": "animate"
           }
          ],
          "direction": "left",
          "pad": {
           "r": 10,
           "t": 70
          },
          "showactive": false,
          "type": "buttons",
          "x": 0.1,
          "xanchor": "right",
          "y": 0,
          "yanchor": "top"
         }
        ]
       }
      },
      "text/html": [
       "<div>\n",
       "        \n",
       "        \n",
       "            <div id=\"abbcf128-59df-473d-82e4-d80c152277f5\" class=\"plotly-graph-div\" style=\"height:525px; width:100%;\"></div>\n",
       "            <script type=\"text/javascript\">\n",
       "                require([\"plotly\"], function(Plotly) {\n",
       "                    window.PLOTLYENV=window.PLOTLYENV || {};\n",
       "                    \n",
       "                if (document.getElementById(\"abbcf128-59df-473d-82e4-d80c152277f5\")) {\n",
       "                    Plotly.newPlot(\n",
       "                        'abbcf128-59df-473d-82e4-d80c152277f5',\n",
       "                        [{\"coloraxis\": \"coloraxis\", \"geo\": \"geo\", \"hovertemplate\": \"<b>%{hovertext}</b><br><br>Year=1995<br>iso=%{location}<br>AvgCelsiusTemp=%{z}<extra></extra>\", \"hovertext\": [\"Argentina\", \"Australia\", \"Austria\", \"Belgium\", \"Brazil\", \"Bulgaria\", \"Canada\", \"China\", \"Cyprus\", \"Czech Republic\", \"Denmark\", \"Finland\", \"France\", \"Germany\", \"Greece\", \"Hungary\", \"India\", \"Indonesia\", \"Ireland\", \"Italy\", \"Japan\", \"Latvia\", \"Mexico\", \"Poland\", \"Portugal\", \"Romania\", \"Russia\", \"Saudi Arabia\", \"Slovakia\", \"South Africa\", \"South Korea\", \"Spain\", \"Sweden\", \"The Netherlands\", \"Turkey\", \"US\", \"United Kingdom\"], \"locations\": [\"ARG\", \"AUS\", \"AUT\", \"BEL\", \"BRA\", \"BGR\", \"CAN\", \"CHN\", \"CYP\", \"CZE\", \"DNK\", \"FIN\", \"FRA\", \"DEU\", \"GRC\", \"HUN\", \"IND\", \"IDN\", \"IRL\", \"ITA\", \"JPN\", \"LVA\", \"MEX\", \"POL\", \"PRT\", \"ROU\", \"RUS\", \"SAU\", \"SVK\", \"ZAF\", \"KOR\", \"ESP\", \"SWE\", \"NLD\", \"TUR\", \"USA\", \"GBR\"], \"name\": \"\", \"type\": \"choropleth\", \"z\": [16.500712328767126, 16.389906849315064, 10.139342465753428, 10.944876712328766, 22.12045662100457, 9.683150684931505, 5.556791780821919, 15.429145205479449, 18.329962121212127, 8.20375342465754, 7.911671232876712, 5.689972602739733, 13.559752066115708, 10.4020989010989, 18.304027397260263, 10.151753424657532, 26.655099793530617, 27.952315436241594, 9.983342465753427, 13.427472527472547, 13.068648401826492, 7.232582417582421, 21.31209876543213, 8.282273972602738, 17.995205479452057, 10.560383561643826, 9.34027624309393, 25.855301369863003, 10.355232876712336, 16.299452054794532, 10.974109589041104, 15.840648401826463, 6.972602739726026, 10.495917808219176, 12.440863013698642, 13.447818721171371, 11.889437585733877]}],\n",
       "                        {\"coloraxis\": {\"colorbar\": {\"title\": {\"text\": \"AvgCelsiusTemp\"}}, \"colorscale\": [[0.0, \"rgb(247,251,255)\"], [0.125, \"rgb(222,235,247)\"], [0.25, \"rgb(198,219,239)\"], [0.375, \"rgb(158,202,225)\"], [0.5, \"rgb(107,174,214)\"], [0.625, \"rgb(66,146,198)\"], [0.75, \"rgb(33,113,181)\"], [0.875, \"rgb(8,81,156)\"], [1.0, \"rgb(8,48,107)\"]]}, \"geo\": {\"center\": {}, \"domain\": {\"x\": [0.0, 1.0], \"y\": [0.0, 1.0]}}, \"legend\": {\"tracegroupgap\": 0}, \"margin\": {\"t\": 60}, \"sliders\": [{\"active\": 0, \"currentvalue\": {\"prefix\": \"Year=\"}, \"len\": 0.9, \"pad\": {\"b\": 10, \"t\": 60}, \"steps\": [{\"args\": [[\"1995\"], {\"frame\": {\"duration\": 0, \"redraw\": true}, \"fromcurrent\": true, \"mode\": \"immediate\", \"transition\": {\"duration\": 0, \"easing\": \"linear\"}}], \"label\": \"1995\", \"method\": \"animate\"}, {\"args\": [[\"1996\"], {\"frame\": {\"duration\": 0, \"redraw\": true}, \"fromcurrent\": true, \"mode\": \"immediate\", \"transition\": {\"duration\": 0, \"easing\": \"linear\"}}], \"label\": \"1996\", \"method\": \"animate\"}, {\"args\": [[\"1997\"], {\"frame\": {\"duration\": 0, \"redraw\": true}, \"fromcurrent\": true, \"mode\": \"immediate\", \"transition\": {\"duration\": 0, \"easing\": \"linear\"}}], \"label\": \"1997\", \"method\": \"animate\"}, {\"args\": [[\"1998\"], {\"frame\": {\"duration\": 0, \"redraw\": true}, \"fromcurrent\": true, \"mode\": \"immediate\", \"transition\": {\"duration\": 0, \"easing\": \"linear\"}}], \"label\": \"1998\", \"method\": \"animate\"}, {\"args\": [[\"1999\"], {\"frame\": {\"duration\": 0, \"redraw\": true}, \"fromcurrent\": true, \"mode\": \"immediate\", \"transition\": {\"duration\": 0, \"easing\": \"linear\"}}], \"label\": \"1999\", \"method\": \"animate\"}, {\"args\": [[\"2000\"], {\"frame\": {\"duration\": 0, \"redraw\": true}, \"fromcurrent\": true, \"mode\": \"immediate\", \"transition\": {\"duration\": 0, \"easing\": \"linear\"}}], \"label\": \"2000\", \"method\": \"animate\"}, {\"args\": [[\"2001\"], {\"frame\": {\"duration\": 0, \"redraw\": true}, \"fromcurrent\": true, \"mode\": \"immediate\", \"transition\": {\"duration\": 0, \"easing\": \"linear\"}}], \"label\": \"2001\", \"method\": \"animate\"}, {\"args\": [[\"2002\"], {\"frame\": {\"duration\": 0, \"redraw\": true}, \"fromcurrent\": true, \"mode\": \"immediate\", \"transition\": {\"duration\": 0, \"easing\": \"linear\"}}], \"label\": \"2002\", \"method\": \"animate\"}, {\"args\": [[\"2003\"], {\"frame\": {\"duration\": 0, \"redraw\": true}, \"fromcurrent\": true, \"mode\": \"immediate\", \"transition\": {\"duration\": 0, \"easing\": \"linear\"}}], \"label\": \"2003\", \"method\": \"animate\"}, {\"args\": [[\"2004\"], {\"frame\": {\"duration\": 0, \"redraw\": true}, \"fromcurrent\": true, \"mode\": \"immediate\", \"transition\": {\"duration\": 0, \"easing\": \"linear\"}}], \"label\": \"2004\", \"method\": \"animate\"}, {\"args\": [[\"2005\"], {\"frame\": {\"duration\": 0, \"redraw\": true}, \"fromcurrent\": true, \"mode\": \"immediate\", \"transition\": {\"duration\": 0, \"easing\": \"linear\"}}], \"label\": \"2005\", \"method\": \"animate\"}, {\"args\": [[\"2006\"], {\"frame\": {\"duration\": 0, \"redraw\": true}, \"fromcurrent\": true, \"mode\": \"immediate\", \"transition\": {\"duration\": 0, \"easing\": \"linear\"}}], \"label\": \"2006\", \"method\": \"animate\"}, {\"args\": [[\"2007\"], {\"frame\": {\"duration\": 0, \"redraw\": true}, \"fromcurrent\": true, \"mode\": \"immediate\", \"transition\": {\"duration\": 0, \"easing\": \"linear\"}}], \"label\": \"2007\", \"method\": \"animate\"}, {\"args\": [[\"2008\"], {\"frame\": {\"duration\": 0, \"redraw\": true}, \"fromcurrent\": true, \"mode\": \"immediate\", \"transition\": {\"duration\": 0, \"easing\": \"linear\"}}], \"label\": \"2008\", \"method\": \"animate\"}, {\"args\": [[\"2009\"], {\"frame\": {\"duration\": 0, \"redraw\": true}, \"fromcurrent\": true, \"mode\": \"immediate\", \"transition\": {\"duration\": 0, \"easing\": \"linear\"}}], \"label\": \"2009\", \"method\": \"animate\"}, {\"args\": [[\"2010\"], {\"frame\": {\"duration\": 0, \"redraw\": true}, \"fromcurrent\": true, \"mode\": \"immediate\", \"transition\": {\"duration\": 0, \"easing\": \"linear\"}}], \"label\": \"2010\", \"method\": \"animate\"}, {\"args\": [[\"2011\"], {\"frame\": {\"duration\": 0, \"redraw\": true}, \"fromcurrent\": true, \"mode\": \"immediate\", \"transition\": {\"duration\": 0, \"easing\": \"linear\"}}], \"label\": \"2011\", \"method\": \"animate\"}, {\"args\": [[\"2012\"], {\"frame\": {\"duration\": 0, \"redraw\": true}, \"fromcurrent\": true, \"mode\": \"immediate\", \"transition\": {\"duration\": 0, \"easing\": \"linear\"}}], \"label\": \"2012\", \"method\": \"animate\"}, {\"args\": [[\"2013\"], {\"frame\": {\"duration\": 0, \"redraw\": true}, \"fromcurrent\": true, \"mode\": \"immediate\", \"transition\": {\"duration\": 0, \"easing\": \"linear\"}}], \"label\": \"2013\", \"method\": \"animate\"}, {\"args\": [[\"2014\"], {\"frame\": {\"duration\": 0, \"redraw\": true}, \"fromcurrent\": true, \"mode\": \"immediate\", \"transition\": {\"duration\": 0, \"easing\": \"linear\"}}], \"label\": \"2014\", \"method\": \"animate\"}, {\"args\": [[\"2015\"], {\"frame\": {\"duration\": 0, \"redraw\": true}, \"fromcurrent\": true, \"mode\": \"immediate\", \"transition\": {\"duration\": 0, \"easing\": \"linear\"}}], \"label\": \"2015\", \"method\": \"animate\"}, {\"args\": [[\"2016\"], {\"frame\": {\"duration\": 0, \"redraw\": true}, \"fromcurrent\": true, \"mode\": \"immediate\", \"transition\": {\"duration\": 0, \"easing\": \"linear\"}}], \"label\": \"2016\", \"method\": \"animate\"}, {\"args\": [[\"2017\"], {\"frame\": {\"duration\": 0, \"redraw\": true}, \"fromcurrent\": true, \"mode\": \"immediate\", \"transition\": {\"duration\": 0, \"easing\": \"linear\"}}], \"label\": \"2017\", \"method\": \"animate\"}, {\"args\": [[\"2018\"], {\"frame\": {\"duration\": 0, \"redraw\": true}, \"fromcurrent\": true, \"mode\": \"immediate\", \"transition\": {\"duration\": 0, \"easing\": \"linear\"}}], \"label\": \"2018\", \"method\": \"animate\"}], \"x\": 0.1, \"xanchor\": \"left\", \"y\": 0, \"yanchor\": \"top\"}], \"template\": {\"data\": {\"bar\": [{\"error_x\": {\"color\": \"#2a3f5f\"}, \"error_y\": {\"color\": \"#2a3f5f\"}, \"marker\": {\"line\": {\"color\": \"#E5ECF6\", \"width\": 0.5}}, \"type\": \"bar\"}], \"barpolar\": [{\"marker\": {\"line\": {\"color\": \"#E5ECF6\", \"width\": 0.5}}, \"type\": \"barpolar\"}], \"carpet\": [{\"aaxis\": {\"endlinecolor\": \"#2a3f5f\", \"gridcolor\": \"white\", \"linecolor\": \"white\", \"minorgridcolor\": \"white\", \"startlinecolor\": \"#2a3f5f\"}, \"baxis\": {\"endlinecolor\": \"#2a3f5f\", \"gridcolor\": \"white\", \"linecolor\": \"white\", \"minorgridcolor\": \"white\", \"startlinecolor\": \"#2a3f5f\"}, \"type\": \"carpet\"}], \"choropleth\": [{\"colorbar\": {\"outlinewidth\": 0, \"ticks\": \"\"}, \"type\": \"choropleth\"}], \"contour\": [{\"colorbar\": {\"outlinewidth\": 0, \"ticks\": \"\"}, \"colorscale\": [[0.0, \"#0d0887\"], [0.1111111111111111, \"#46039f\"], [0.2222222222222222, \"#7201a8\"], [0.3333333333333333, \"#9c179e\"], [0.4444444444444444, \"#bd3786\"], [0.5555555555555556, \"#d8576b\"], [0.6666666666666666, \"#ed7953\"], [0.7777777777777778, \"#fb9f3a\"], [0.8888888888888888, \"#fdca26\"], [1.0, \"#f0f921\"]], \"type\": \"contour\"}], \"contourcarpet\": [{\"colorbar\": {\"outlinewidth\": 0, \"ticks\": \"\"}, \"type\": \"contourcarpet\"}], \"heatmap\": [{\"colorbar\": {\"outlinewidth\": 0, \"ticks\": \"\"}, \"colorscale\": [[0.0, \"#0d0887\"], [0.1111111111111111, \"#46039f\"], [0.2222222222222222, \"#7201a8\"], [0.3333333333333333, \"#9c179e\"], [0.4444444444444444, \"#bd3786\"], [0.5555555555555556, \"#d8576b\"], [0.6666666666666666, \"#ed7953\"], [0.7777777777777778, \"#fb9f3a\"], [0.8888888888888888, \"#fdca26\"], [1.0, \"#f0f921\"]], \"type\": \"heatmap\"}], \"heatmapgl\": [{\"colorbar\": {\"outlinewidth\": 0, \"ticks\": \"\"}, \"colorscale\": [[0.0, \"#0d0887\"], [0.1111111111111111, \"#46039f\"], [0.2222222222222222, \"#7201a8\"], [0.3333333333333333, \"#9c179e\"], [0.4444444444444444, \"#bd3786\"], [0.5555555555555556, \"#d8576b\"], [0.6666666666666666, \"#ed7953\"], [0.7777777777777778, \"#fb9f3a\"], [0.8888888888888888, \"#fdca26\"], [1.0, \"#f0f921\"]], \"type\": \"heatmapgl\"}], \"histogram\": [{\"marker\": {\"colorbar\": {\"outlinewidth\": 0, \"ticks\": \"\"}}, \"type\": \"histogram\"}], \"histogram2d\": [{\"colorbar\": {\"outlinewidth\": 0, \"ticks\": \"\"}, \"colorscale\": [[0.0, \"#0d0887\"], [0.1111111111111111, \"#46039f\"], [0.2222222222222222, \"#7201a8\"], [0.3333333333333333, \"#9c179e\"], [0.4444444444444444, \"#bd3786\"], [0.5555555555555556, \"#d8576b\"], [0.6666666666666666, \"#ed7953\"], [0.7777777777777778, \"#fb9f3a\"], [0.8888888888888888, \"#fdca26\"], [1.0, \"#f0f921\"]], \"type\": \"histogram2d\"}], \"histogram2dcontour\": [{\"colorbar\": {\"outlinewidth\": 0, \"ticks\": \"\"}, \"colorscale\": [[0.0, \"#0d0887\"], [0.1111111111111111, \"#46039f\"], [0.2222222222222222, \"#7201a8\"], [0.3333333333333333, \"#9c179e\"], [0.4444444444444444, \"#bd3786\"], [0.5555555555555556, \"#d8576b\"], [0.6666666666666666, \"#ed7953\"], [0.7777777777777778, \"#fb9f3a\"], [0.8888888888888888, \"#fdca26\"], [1.0, \"#f0f921\"]], \"type\": \"histogram2dcontour\"}], \"mesh3d\": [{\"colorbar\": {\"outlinewidth\": 0, \"ticks\": \"\"}, \"type\": \"mesh3d\"}], \"parcoords\": [{\"line\": {\"colorbar\": {\"outlinewidth\": 0, \"ticks\": \"\"}}, \"type\": \"parcoords\"}], \"pie\": [{\"automargin\": true, \"type\": \"pie\"}], \"scatter\": [{\"marker\": {\"colorbar\": {\"outlinewidth\": 0, \"ticks\": \"\"}}, \"type\": \"scatter\"}], \"scatter3d\": [{\"line\": {\"colorbar\": {\"outlinewidth\": 0, \"ticks\": \"\"}}, \"marker\": {\"colorbar\": {\"outlinewidth\": 0, \"ticks\": \"\"}}, \"type\": \"scatter3d\"}], \"scattercarpet\": [{\"marker\": {\"colorbar\": {\"outlinewidth\": 0, \"ticks\": \"\"}}, \"type\": \"scattercarpet\"}], \"scattergeo\": [{\"marker\": {\"colorbar\": {\"outlinewidth\": 0, \"ticks\": \"\"}}, \"type\": \"scattergeo\"}], \"scattergl\": [{\"marker\": {\"colorbar\": {\"outlinewidth\": 0, \"ticks\": \"\"}}, \"type\": \"scattergl\"}], \"scattermapbox\": [{\"marker\": {\"colorbar\": {\"outlinewidth\": 0, \"ticks\": \"\"}}, \"type\": \"scattermapbox\"}], \"scatterpolar\": [{\"marker\": {\"colorbar\": {\"outlinewidth\": 0, \"ticks\": \"\"}}, \"type\": \"scatterpolar\"}], \"scatterpolargl\": [{\"marker\": {\"colorbar\": {\"outlinewidth\": 0, \"ticks\": \"\"}}, \"type\": \"scatterpolargl\"}], \"scatterternary\": [{\"marker\": {\"colorbar\": {\"outlinewidth\": 0, \"ticks\": \"\"}}, \"type\": \"scatterternary\"}], \"surface\": [{\"colorbar\": {\"outlinewidth\": 0, \"ticks\": \"\"}, \"colorscale\": [[0.0, \"#0d0887\"], [0.1111111111111111, \"#46039f\"], [0.2222222222222222, \"#7201a8\"], [0.3333333333333333, \"#9c179e\"], [0.4444444444444444, \"#bd3786\"], [0.5555555555555556, \"#d8576b\"], [0.6666666666666666, \"#ed7953\"], [0.7777777777777778, \"#fb9f3a\"], [0.8888888888888888, \"#fdca26\"], [1.0, \"#f0f921\"]], \"type\": \"surface\"}], \"table\": [{\"cells\": {\"fill\": {\"color\": \"#EBF0F8\"}, \"line\": {\"color\": \"white\"}}, \"header\": {\"fill\": {\"color\": \"#C8D4E3\"}, \"line\": {\"color\": \"white\"}}, \"type\": \"table\"}]}, \"layout\": {\"annotationdefaults\": {\"arrowcolor\": \"#2a3f5f\", \"arrowhead\": 0, \"arrowwidth\": 1}, \"coloraxis\": {\"colorbar\": {\"outlinewidth\": 0, \"ticks\": \"\"}}, \"colorscale\": {\"diverging\": [[0, \"#8e0152\"], [0.1, \"#c51b7d\"], [0.2, \"#de77ae\"], [0.3, \"#f1b6da\"], [0.4, \"#fde0ef\"], [0.5, \"#f7f7f7\"], [0.6, \"#e6f5d0\"], [0.7, \"#b8e186\"], [0.8, \"#7fbc41\"], [0.9, \"#4d9221\"], [1, \"#276419\"]], \"sequential\": [[0.0, \"#0d0887\"], [0.1111111111111111, \"#46039f\"], [0.2222222222222222, \"#7201a8\"], [0.3333333333333333, \"#9c179e\"], [0.4444444444444444, \"#bd3786\"], [0.5555555555555556, \"#d8576b\"], [0.6666666666666666, \"#ed7953\"], [0.7777777777777778, \"#fb9f3a\"], [0.8888888888888888, \"#fdca26\"], [1.0, \"#f0f921\"]], \"sequentialminus\": [[0.0, \"#0d0887\"], [0.1111111111111111, \"#46039f\"], [0.2222222222222222, \"#7201a8\"], [0.3333333333333333, \"#9c179e\"], [0.4444444444444444, \"#bd3786\"], [0.5555555555555556, \"#d8576b\"], [0.6666666666666666, \"#ed7953\"], [0.7777777777777778, \"#fb9f3a\"], [0.8888888888888888, \"#fdca26\"], [1.0, \"#f0f921\"]]}, \"colorway\": [\"#636efa\", \"#EF553B\", \"#00cc96\", \"#ab63fa\", \"#FFA15A\", \"#19d3f3\", \"#FF6692\", \"#B6E880\", \"#FF97FF\", \"#FECB52\"], \"font\": {\"color\": \"#2a3f5f\"}, \"geo\": {\"bgcolor\": \"white\", \"lakecolor\": \"white\", \"landcolor\": \"#E5ECF6\", \"showlakes\": true, \"showland\": true, \"subunitcolor\": \"white\"}, \"hoverlabel\": {\"align\": \"left\"}, \"hovermode\": \"closest\", \"mapbox\": {\"style\": \"light\"}, \"paper_bgcolor\": \"white\", \"plot_bgcolor\": \"#E5ECF6\", \"polar\": {\"angularaxis\": {\"gridcolor\": \"white\", \"linecolor\": \"white\", \"ticks\": \"\"}, \"bgcolor\": \"#E5ECF6\", \"radialaxis\": {\"gridcolor\": \"white\", \"linecolor\": \"white\", \"ticks\": \"\"}}, \"scene\": {\"xaxis\": {\"backgroundcolor\": \"#E5ECF6\", \"gridcolor\": \"white\", \"gridwidth\": 2, \"linecolor\": \"white\", \"showbackground\": true, \"ticks\": \"\", \"zerolinecolor\": \"white\"}, \"yaxis\": {\"backgroundcolor\": \"#E5ECF6\", \"gridcolor\": \"white\", \"gridwidth\": 2, \"linecolor\": \"white\", \"showbackground\": true, \"ticks\": \"\", \"zerolinecolor\": \"white\"}, \"zaxis\": {\"backgroundcolor\": \"#E5ECF6\", \"gridcolor\": \"white\", \"gridwidth\": 2, \"linecolor\": \"white\", \"showbackground\": true, \"ticks\": \"\", \"zerolinecolor\": \"white\"}}, \"shapedefaults\": {\"line\": {\"color\": \"#2a3f5f\"}}, \"ternary\": {\"aaxis\": {\"gridcolor\": \"white\", \"linecolor\": \"white\", \"ticks\": \"\"}, \"baxis\": {\"gridcolor\": \"white\", \"linecolor\": \"white\", \"ticks\": \"\"}, \"bgcolor\": \"#E5ECF6\", \"caxis\": {\"gridcolor\": \"white\", \"linecolor\": \"white\", \"ticks\": \"\"}}, \"title\": {\"x\": 0.05}, \"xaxis\": {\"automargin\": true, \"gridcolor\": \"white\", \"linecolor\": \"white\", \"ticks\": \"\", \"title\": {\"standoff\": 15}, \"zerolinecolor\": \"white\", \"zerolinewidth\": 2}, \"yaxis\": {\"automargin\": true, \"gridcolor\": \"white\", \"linecolor\": \"white\", \"ticks\": \"\", \"title\": {\"standoff\": 15}, \"zerolinecolor\": \"white\", \"zerolinewidth\": 2}}}, \"updatemenus\": [{\"buttons\": [{\"args\": [null, {\"frame\": {\"duration\": 500, \"redraw\": true}, \"fromcurrent\": true, \"mode\": \"immediate\", \"transition\": {\"duration\": 500, \"easing\": \"linear\"}}], \"label\": \"&#9654;\", \"method\": \"animate\"}, {\"args\": [[null], {\"frame\": {\"duration\": 0, \"redraw\": true}, \"fromcurrent\": true, \"mode\": \"immediate\", \"transition\": {\"duration\": 0, \"easing\": \"linear\"}}], \"label\": \"&#9724;\", \"method\": \"animate\"}], \"direction\": \"left\", \"pad\": {\"r\": 10, \"t\": 70}, \"showactive\": false, \"type\": \"buttons\", \"x\": 0.1, \"xanchor\": \"right\", \"y\": 0, \"yanchor\": \"top\"}]},\n",
       "                        {\"responsive\": true}\n",
       "                    ).then(function(){\n",
       "                            Plotly.addFrames('abbcf128-59df-473d-82e4-d80c152277f5', [{\"data\": [{\"coloraxis\": \"coloraxis\", \"geo\": \"geo\", \"hovertemplate\": \"<b>%{hovertext}</b><br><br>Year=1995<br>iso=%{location}<br>AvgCelsiusTemp=%{z}<extra></extra>\", \"hovertext\": [\"Argentina\", \"Australia\", \"Austria\", \"Belgium\", \"Brazil\", \"Bulgaria\", \"Canada\", \"China\", \"Cyprus\", \"Czech Republic\", \"Denmark\", \"Finland\", \"France\", \"Germany\", \"Greece\", \"Hungary\", \"India\", \"Indonesia\", \"Ireland\", \"Italy\", \"Japan\", \"Latvia\", \"Mexico\", \"Poland\", \"Portugal\", \"Romania\", \"Russia\", \"Saudi Arabia\", \"Slovakia\", \"South Africa\", \"South Korea\", \"Spain\", \"Sweden\", \"The Netherlands\", \"Turkey\", \"US\", \"United Kingdom\"], \"locations\": [\"ARG\", \"AUS\", \"AUT\", \"BEL\", \"BRA\", \"BGR\", \"CAN\", \"CHN\", \"CYP\", \"CZE\", \"DNK\", \"FIN\", \"FRA\", \"DEU\", \"GRC\", \"HUN\", \"IND\", \"IDN\", \"IRL\", \"ITA\", \"JPN\", \"LVA\", \"MEX\", \"POL\", \"PRT\", \"ROU\", \"RUS\", \"SAU\", \"SVK\", \"ZAF\", \"KOR\", \"ESP\", \"SWE\", \"NLD\", \"TUR\", \"USA\", \"GBR\"], \"name\": \"\", \"z\": [16.500712328767126, 16.389906849315064, 10.139342465753428, 10.944876712328766, 22.12045662100457, 9.683150684931505, 5.556791780821919, 15.429145205479449, 18.329962121212127, 8.20375342465754, 7.911671232876712, 5.689972602739733, 13.559752066115708, 10.4020989010989, 18.304027397260263, 10.151753424657532, 26.655099793530617, 27.952315436241594, 9.983342465753427, 13.427472527472547, 13.068648401826492, 7.232582417582421, 21.31209876543213, 8.282273972602738, 17.995205479452057, 10.560383561643826, 9.34027624309393, 25.855301369863003, 10.355232876712336, 16.299452054794532, 10.974109589041104, 15.840648401826463, 6.972602739726026, 10.495917808219176, 12.440863013698642, 13.447818721171371, 11.889437585733877], \"type\": \"choropleth\"}], \"name\": \"1995\"}, {\"data\": [{\"coloraxis\": \"coloraxis\", \"geo\": \"geo\", \"hovertemplate\": \"<b>%{hovertext}</b><br><br>Year=1996<br>iso=%{location}<br>AvgCelsiusTemp=%{z}<extra></extra>\", \"hovertext\": [\"Argentina\", \"Australia\", \"Austria\", \"Belgium\", \"Brazil\", \"Canada\", \"China\", \"Croatia\", \"Cyprus\", \"Czech Republic\", \"Denmark\", \"Finland\", \"France\", \"Germany\", \"Greece\", \"Hungary\", \"India\", \"Indonesia\", \"Ireland\", \"Italy\", \"Japan\", \"Latvia\", \"Mexico\", \"Poland\", \"Portugal\", \"Romania\", \"Russia\", \"Saudi Arabia\", \"Slovakia\", \"South Africa\", \"South Korea\", \"Spain\", \"Sweden\", \"The Netherlands\", \"Turkey\", \"US\", \"United Kingdom\"], \"locations\": [\"ARG\", \"AUS\", \"AUT\", \"BEL\", \"BRA\", \"CAN\", \"CHN\", \"HRV\", \"CYP\", \"CZE\", \"DNK\", \"FIN\", \"FRA\", \"DEU\", \"GRC\", \"HUN\", \"IND\", \"IDN\", \"IRL\", \"ITA\", \"JPN\", \"LVA\", \"MEX\", \"POL\", \"PRT\", \"ROU\", \"RUS\", \"SAU\", \"SVK\", \"ZAF\", \"KOR\", \"ESP\", \"SWE\", \"NLD\", \"TUR\", \"USA\", \"GBR\"], \"name\": \"\", \"z\": [17.061120218579234, 16.253315098468278, 8.709398907103827, 8.995765027322404, 21.85847905282328, 4.541683060109284, 15.04937704918032, 11.210510510510511, 20.94193979933109, 6.39133879781421, 6.3629508196721325, 4.470300546448087, 12.401942544459631, 8.449676616915418, 18.078661202185803, 9.233005464480875, 26.578518518518525, 27.717037037037027, 9.004699453551908, 13.23960382513662, 12.468105646630235, 5.549289617486337, 20.723262711864383, 6.88475409836066, 17.136885245901624, 10.24191256830601, 9.0112602739726, 26.41640109890109, 9.091748633879789, 15.877868852459008, 10.907896174863394, 15.067422586520935, 6.296448087431699, 8.582759562841524, 12.302909836065586, 12.645650804149614, 10.996798905608756], \"type\": \"choropleth\"}], \"name\": \"1996\"}, {\"data\": [{\"coloraxis\": \"coloraxis\", \"geo\": \"geo\", \"hovertemplate\": \"<b>%{hovertext}</b><br><br>Year=1997<br>iso=%{location}<br>AvgCelsiusTemp=%{z}<extra></extra>\", \"hovertext\": [\"Argentina\", \"Australia\", \"Austria\", \"Belgium\", \"Brazil\", \"Bulgaria\", \"Canada\", \"China\", \"Croatia\", \"Cyprus\", \"Czech Republic\", \"Denmark\", \"Finland\", \"France\", \"Germany\", \"Greece\", \"Hungary\", \"India\", \"Indonesia\", \"Ireland\", \"Italy\", \"Japan\", \"Latvia\", \"Mexico\", \"Poland\", \"Portugal\", \"Romania\", \"Russia\", \"Saudi Arabia\", \"Slovakia\", \"South Africa\", \"South Korea\", \"Spain\", \"Sweden\", \"The Netherlands\", \"Turkey\", \"US\", \"United Kingdom\"], \"locations\": [\"ARG\", \"AUS\", \"AUT\", \"BEL\", \"BRA\", \"BGR\", \"CAN\", \"CHN\", \"HRV\", \"CYP\", \"CZE\", \"DNK\", \"FIN\", \"FRA\", \"DEU\", \"GRC\", \"HUN\", \"IND\", \"IDN\", \"IRL\", \"ITA\", \"JPN\", \"LVA\", \"MEX\", \"POL\", \"PRT\", \"ROU\", \"RUS\", \"SAU\", \"SVK\", \"ZAF\", \"KOR\", \"ESP\", \"SWE\", \"NLD\", \"TUR\", \"USA\", \"GBR\"], \"name\": \"\", \"z\": [17.302136986301374, 16.751084931506874, 9.823917808219178, 10.629041095890408, 21.9748688046647, 9.322109589041094, 5.552515068493158, 15.864307948860466, 11.011888888888889, 17.458043478260862, 7.90915068493151, 8.377260273972604, 5.597315068493152, 13.819301369863034, 9.540566750629726, 17.742082191780813, 10.214273972602731, 26.43839726027393, 28.103037037037037, 10.049534246575348, 14.21408219178082, 13.299543378995432, 7.50087671232877, 20.2472148541114, 7.91906849315068, 18.22250000000001, 10.19249315068494, 8.568397260273969, 25.784109589041083, 10.055698630136988, 16.528465753424655, 11.44586301369864, 16.014082191780815, 7.393534246575341, 10.271123287671236, 11.560986301369848, 12.991416598107872, 11.485500685871056], \"type\": \"choropleth\"}], \"name\": \"1997\"}, {\"data\": [{\"coloraxis\": \"coloraxis\", \"geo\": \"geo\", \"hovertemplate\": \"<b>%{hovertext}</b><br><br>Year=1998<br>iso=%{location}<br>AvgCelsiusTemp=%{z}<extra></extra>\", \"hovertext\": [\"Argentina\", \"Australia\", \"Austria\", \"Belgium\", \"Brazil\", \"Bulgaria\", \"Canada\", \"China\", \"Croatia\", \"Cyprus\", \"Czech Republic\", \"Denmark\", \"Finland\", \"France\", \"Germany\", \"Greece\", \"Hungary\", \"India\", \"Indonesia\", \"Ireland\", \"Italy\", \"Japan\", \"Latvia\", \"Mexico\", \"Poland\", \"Portugal\", \"Romania\", \"Russia\", \"Saudi Arabia\", \"Slovakia\", \"South Africa\", \"South Korea\", \"Spain\", \"Sweden\", \"The Netherlands\", \"Turkey\", \"US\", \"United Kingdom\"], \"locations\": [\"ARG\", \"AUS\", \"AUT\", \"BEL\", \"BRA\", \"BGR\", \"CAN\", \"CHN\", \"HRV\", \"CYP\", \"CZE\", \"DNK\", \"FIN\", \"FRA\", \"DEU\", \"GRC\", \"HUN\", \"IND\", \"IDN\", \"IRL\", \"ITA\", \"JPN\", \"LVA\", \"MEX\", \"POL\", \"PRT\", \"ROU\", \"RUS\", \"SAU\", \"SVK\", \"ZAF\", \"KOR\", \"ESP\", \"SWE\", \"NLD\", \"TUR\", \"USA\", \"GBR\"], \"name\": \"\", \"z\": [16.534055555555543, 16.778259818731115, 10.743296398891966, 10.721301939058163, 22.613027806385144, 10.409584487534628, 7.367759002770096, 16.555848115299344, 11.305589887640451, 21.842703703703695, 8.76653739612188, 8.152576177285319, 5.139279778393352, 13.040879888268147, 10.270863309352505, 18.612348066298352, 10.853314917127074, 26.97095766828584, 28.389479999999995, 9.927423822714683, 14.118573407202234, 13.624051565377547, 5.797147435897437, 21.71918620689657, 8.333628808864265, 17.637214484679674, 11.027486187845296, 9.11692520775623, 27.06804709141276, 11.007166666666675, 16.58808864265929, 12.674834254143637, 15.36849492151428, 6.698555555555558, 10.623656509695287, 13.135387811634349, 14.49727602548289, 10.986329639889195], \"type\": \"choropleth\"}], \"name\": \"1998\"}, {\"data\": [{\"coloraxis\": \"coloraxis\", \"geo\": \"geo\", \"hovertemplate\": \"<b>%{hovertext}</b><br><br>Year=1999<br>iso=%{location}<br>AvgCelsiusTemp=%{z}<extra></extra>\", \"hovertext\": [\"Argentina\", \"Australia\", \"Austria\", \"Belgium\", \"Brazil\", \"Bulgaria\", \"Canada\", \"China\", \"Croatia\", \"Cyprus\", \"Czech Republic\", \"Denmark\", \"Finland\", \"France\", \"Germany\", \"Greece\", \"Hungary\", \"India\", \"Indonesia\", \"Ireland\", \"Italy\", \"Japan\", \"Latvia\", \"Mexico\", \"Poland\", \"Portugal\", \"Romania\", \"Russia\", \"Saudi Arabia\", \"Slovakia\", \"South Africa\", \"South Korea\", \"Spain\", \"Sweden\", \"The Netherlands\", \"Turkey\", \"US\", \"United Kingdom\"], \"locations\": [\"ARG\", \"AUS\", \"AUT\", \"BEL\", \"BRA\", \"BGR\", \"CAN\", \"CHN\", \"HRV\", \"CYP\", \"CZE\", \"DNK\", \"FIN\", \"FRA\", \"DEU\", \"GRC\", \"HUN\", \"IND\", \"IDN\", \"IRL\", \"ITA\", \"JPN\", \"LVA\", \"MEX\", \"POL\", \"PRT\", \"ROU\", \"RUS\", \"SAU\", \"SVK\", \"ZAF\", \"KOR\", \"ESP\", \"SWE\", \"NLD\", \"TUR\", \"USA\", \"GBR\"], \"name\": \"\", \"z\": [16.5754120879121, 16.92907142857143, 10.530549450549454, 11.18118131868132, 21.880193370165745, 10.561291208791202, 6.9934038461538695, 15.972549450549424, 12.032011019283742, 18.776776315789466, 8.850631868131869, 8.709285714285711, 6.2658791208791165, 13.387390109890118, 10.556302616609775, 19.287115384615387, 10.360192307692303, 26.91021320495182, 28.042091836734688, 9.899587912087906, 14.338008241758253, 13.65911172161173, 8.311208791208788, 20.797987355110653, 9.140851648351653, 17.372644628099184, 11.842500000000005, 9.728241758241763, 27.216002747252716, 10.8328021978022, 17.295274725274723, 12.10255494505494, 15.201071428571442, 8.381675824175819, 11.142829670329675, 13.345068681318663, 13.949521665148437, 11.170261707988985], \"type\": \"choropleth\"}], \"name\": \"1999\"}, {\"data\": [{\"coloraxis\": \"coloraxis\", \"geo\": \"geo\", \"hovertemplate\": \"<b>%{hovertext}</b><br><br>Year=2000<br>iso=%{location}<br>AvgCelsiusTemp=%{z}<extra></extra>\", \"hovertext\": [\"Argentina\", \"Australia\", \"Austria\", \"Belgium\", \"Brazil\", \"Bulgaria\", \"Canada\", \"China\", \"Croatia\", \"Cyprus\", \"Czech Republic\", \"Denmark\", \"Finland\", \"France\", \"Germany\", \"Greece\", \"Hungary\", \"India\", \"Indonesia\", \"Ireland\", \"Italy\", \"Japan\", \"Latvia\", \"Mexico\", \"Poland\", \"Portugal\", \"Romania\", \"Russia\", \"Saudi Arabia\", \"Slovakia\", \"South Africa\", \"South Korea\", \"Spain\", \"Sweden\", \"The Netherlands\", \"Turkey\", \"US\", \"United Kingdom\"], \"locations\": [\"ARG\", \"AUS\", \"AUT\", \"BEL\", \"BRA\", \"BGR\", \"CAN\", \"CHN\", \"HRV\", \"CYP\", \"CZE\", \"DNK\", \"FIN\", \"FRA\", \"DEU\", \"GRC\", \"HUN\", \"IND\", \"IDN\", \"IRL\", \"ITA\", \"JPN\", \"LVA\", \"MEX\", \"POL\", \"PRT\", \"ROU\", \"RUS\", \"SAU\", \"SVK\", \"ZAF\", \"KOR\", \"ESP\", \"SWE\", \"NLD\", \"TUR\", \"USA\", \"GBR\"], \"name\": \"\", \"z\": [16.88676712328768, 16.80577049180328, 11.532841530054634, 11.286420765027326, 22.31708675799084, 10.959918032786886, 5.640980016424861, 15.64732640787316, 13.252362637362657, 22.670143884892077, 9.490027322404371, 9.063770491803288, 6.964644808743173, 13.202322404371566, 11.165399768250287, 18.77877049180329, 11.737295081967211, 26.78275154004104, 28.348615384615385, 9.412404371584705, 14.46543091655266, 13.267094717668469, 8.687178082191775, 20.533129388164483, 9.651830601092891, 16.82032786885247, 12.12666666666667, 9.452404371584702, 26.62648907103825, 11.778688524590171, 17.01019125683059, 11.319808743169402, 14.82425318761386, 8.488032786885245, 11.02150273224043, 12.369685792349728, 13.402687809881913, 10.798917808219176], \"type\": \"choropleth\"}], \"name\": \"2000\"}, {\"data\": [{\"coloraxis\": \"coloraxis\", \"geo\": \"geo\", \"hovertemplate\": \"<b>%{hovertext}</b><br><br>Year=2001<br>iso=%{location}<br>AvgCelsiusTemp=%{z}<extra></extra>\", \"hovertext\": [\"Argentina\", \"Australia\", \"Austria\", \"Belgium\", \"Brazil\", \"Bulgaria\", \"Canada\", \"China\", \"Croatia\", \"Cyprus\", \"Czech Republic\", \"Denmark\", \"Finland\", \"France\", \"Germany\", \"Greece\", \"Hungary\", \"India\", \"Indonesia\", \"Ireland\", \"Italy\", \"Japan\", \"Latvia\", \"Mexico\", \"Poland\", \"Portugal\", \"Romania\", \"Russia\", \"Saudi Arabia\", \"Slovakia\", \"South Africa\", \"South Korea\", \"Spain\", \"Sweden\", \"The Netherlands\", \"Turkey\", \"US\", \"United Kingdom\"], \"locations\": [\"ARG\", \"AUS\", \"AUT\", \"BEL\", \"BRA\", \"BGR\", \"CAN\", \"CHN\", \"HRV\", \"CYP\", \"CZE\", \"DNK\", \"FIN\", \"FRA\", \"DEU\", \"GRC\", \"HUN\", \"IND\", \"IDN\", \"IRL\", \"ITA\", \"JPN\", \"LVA\", \"MEX\", \"POL\", \"PRT\", \"ROU\", \"RUS\", \"SAU\", \"SVK\", \"ZAF\", \"KOR\", \"ESP\", \"SWE\", \"NLD\", \"TUR\", \"USA\", \"GBR\"], \"name\": \"\", \"z\": [17.410769230769223, 16.793923076923054, 10.457013698630146, 10.881917808219178, 22.68464285714285, 10.402219178082197, 6.809939726027389, 15.726169863013691, 12.31210958904111, 19.98306849315069, 8.31698630136987, 8.153534246575337, 5.562109589041097, 12.89569863013699, 9.75784577723377, 18.966739726027395, 10.799972602739734, 26.57448252227552, 28.18375, 9.3814794520548, 14.208465753424658, 12.718557077625569, 7.761726027397257, 20.421464646464653, 8.388246575342468, 16.788465753424664, 11.66016438356164, 9.202260273972602, 26.821769547325108, 10.622219178082196, 16.74709589041097, 11.356593406593406, 14.78547031963472, 7.629698630136978, 10.64065753424658, 13.741726027397249, 13.808181475387151, 10.590137174211248], \"type\": \"choropleth\"}], \"name\": \"2001\"}, {\"data\": [{\"coloraxis\": \"coloraxis\", \"geo\": \"geo\", \"hovertemplate\": \"<b>%{hovertext}</b><br><br>Year=2002<br>iso=%{location}<br>AvgCelsiusTemp=%{z}<extra></extra>\", \"hovertext\": [\"Argentina\", \"Australia\", \"Austria\", \"Belgium\", \"Brazil\", \"Bulgaria\", \"Canada\", \"China\", \"Croatia\", \"Cyprus\", \"Czech Republic\", \"Denmark\", \"Finland\", \"France\", \"Germany\", \"Greece\", \"Hungary\", \"India\", \"Indonesia\", \"Ireland\", \"Italy\", \"Japan\", \"Latvia\", \"Mexico\", \"Poland\", \"Portugal\", \"Romania\", \"Russia\", \"Saudi Arabia\", \"Slovakia\", \"South Africa\", \"South Korea\", \"Spain\", \"Sweden\", \"The Netherlands\", \"Turkey\", \"US\", \"United Kingdom\"], \"locations\": [\"ARG\", \"AUS\", \"AUT\", \"BEL\", \"BRA\", \"BGR\", \"CAN\", \"CHN\", \"HRV\", \"CYP\", \"CZE\", \"DNK\", \"FIN\", \"FRA\", \"DEU\", \"GRC\", \"HUN\", \"IND\", \"IDN\", \"IRL\", \"ITA\", \"JPN\", \"LVA\", \"MEX\", \"POL\", \"PRT\", \"ROU\", \"RUS\", \"SAU\", \"SVK\", \"ZAF\", \"KOR\", \"ESP\", \"SWE\", \"NLD\", \"TUR\", \"USA\", \"GBR\"], \"name\": \"\", \"z\": [17.226000000000013, 17.050166666666673, 11.0385595567867, 11.296232686980616, 22.79597209302327, 10.241218836565096, 5.764725761772845, 15.951219512195092, 12.641611111111123, 19.669534050179216, 9.022216066481992, 8.874210526315787, 5.739252077562322, 13.201980609418271, 10.677068126520682, 18.441717451523537, 11.553407202216068, 27.04343511450381, 29.70380952380952, 9.976177285318569, 14.08073407202215, 13.218734995383192, 8.171163434903045, 20.5347225501771, 9.20581717451523, 16.844792243767312, 11.576897506925206, 8.598795013850415, 26.471966759002736, 11.321329639889198, 16.591024930747928, 11.71135734072022, 15.27527239150505, 8.106333333333337, 10.890027700831029, 12.698379501385054, 13.679871247614251, 11.032219140083216], \"type\": \"choropleth\"}], \"name\": \"2002\"}, {\"data\": [{\"coloraxis\": \"coloraxis\", \"geo\": \"geo\", \"hovertemplate\": \"<b>%{hovertext}</b><br><br>Year=2003<br>iso=%{location}<br>AvgCelsiusTemp=%{z}<extra></extra>\", \"hovertext\": [\"Argentina\", \"Australia\", \"Austria\", \"Belgium\", \"Brazil\", \"Bulgaria\", \"Canada\", \"China\", \"Croatia\", \"Cyprus\", \"Czech Republic\", \"Denmark\", \"Finland\", \"France\", \"Germany\", \"Greece\", \"Hungary\", \"India\", \"Indonesia\", \"Ireland\", \"Italy\", \"Japan\", \"Latvia\", \"Mexico\", \"Poland\", \"Portugal\", \"Romania\", \"Russia\", \"Saudi Arabia\", \"Slovakia\", \"South Africa\", \"South Korea\", \"Spain\", \"Sweden\", \"The Netherlands\", \"Turkey\", \"US\", \"United Kingdom\"], \"locations\": [\"ARG\", \"AUS\", \"AUT\", \"BEL\", \"BRA\", \"BGR\", \"CAN\", \"CHN\", \"HRV\", \"CYP\", \"CZE\", \"DNK\", \"FIN\", \"FRA\", \"DEU\", \"GRC\", \"HUN\", \"IND\", \"IDN\", \"IRL\", \"ITA\", \"JPN\", \"LVA\", \"MEX\", \"POL\", \"PRT\", \"ROU\", \"RUS\", \"SAU\", \"SVK\", \"ZAF\", \"KOR\", \"ESP\", \"SWE\", \"NLD\", \"TUR\", \"USA\", \"GBR\"], \"name\": \"\", \"z\": [16.624435261708, 16.879260893546604, 10.830630136986294, 11.290739726027397, 22.132176308539915, 10.09556164383562, 5.722003288572199, 15.91761382336808, 12.47734246575343, 14.512142857142855, 8.951232876712329, 8.39534246575343, 5.216136986301368, 13.550479452054788, 9.22574666666666, 18.288246575342445, 10.96447802197802, 26.745921864290565, 29.139000000000003, 9.983561643835616, 14.64387671232878, 12.888666666666689, 7.5957260273972675, 20.455360824742243, 8.371287671232873, 17.254767123287667, 11.077802197802194, 8.82365740740741, 26.647764060356653, 11.258484848484851, 16.754890109890113, 11.746438356164363, 16.391106032906794, 7.822341597796138, 10.706027397260272, 12.699615912208518, 13.459208070530993, 11.019230769230765], \"type\": \"choropleth\"}], \"name\": \"2003\"}, {\"data\": [{\"coloraxis\": \"coloraxis\", \"geo\": \"geo\", \"hovertemplate\": \"<b>%{hovertext}</b><br><br>Year=2004<br>iso=%{location}<br>AvgCelsiusTemp=%{z}<extra></extra>\", \"hovertext\": [\"Argentina\", \"Australia\", \"Austria\", \"Belgium\", \"Brazil\", \"Bulgaria\", \"Canada\", \"China\", \"Croatia\", \"Cyprus\", \"Czech Republic\", \"Denmark\", \"Finland\", \"France\", \"Germany\", \"Greece\", \"Hungary\", \"India\", \"Indonesia\", \"Ireland\", \"Italy\", \"Japan\", \"Latvia\", \"Mexico\", \"Poland\", \"Portugal\", \"Romania\", \"Russia\", \"Saudi Arabia\", \"Slovakia\", \"South Africa\", \"South Korea\", \"Spain\", \"Sweden\", \"The Netherlands\", \"Turkey\", \"US\", \"United Kingdom\"], \"locations\": [\"ARG\", \"AUS\", \"AUT\", \"BEL\", \"BRA\", \"BGR\", \"CAN\", \"CHN\", \"HRV\", \"CYP\", \"CZE\", \"DNK\", \"FIN\", \"FRA\", \"DEU\", \"GRC\", \"HUN\", \"IND\", \"IDN\", \"IRL\", \"ITA\", \"JPN\", \"LVA\", \"MEX\", \"POL\", \"PRT\", \"ROU\", \"RUS\", \"SAU\", \"SVK\", \"ZAF\", \"KOR\", \"ESP\", \"SWE\", \"NLD\", \"TUR\", \"USA\", \"GBR\"], \"name\": \"\", \"z\": [17.01420765027321, 16.954726775956313, 10.334808743169395, 10.905136612021856, 21.942003642987277, 10.300109289617486, 5.666415300546442, 16.07320765027321, 11.69284153005464, 22.751829787234065, 8.538825136612019, 8.37062841530055, 5.394672131147539, 12.740000000000018, 10.291315136476433, 18.14147540983606, 9.276065573770492, 26.780218579234923, 29.324854368932044, 9.934562841530056, 13.787486338797809, 13.981912568306033, 7.31844262295082, 20.24895922746781, 8.465628415300545, 17.03076712328767, 11.065874316939889, 5.271639344262294, 26.411434426229512, 10.5412568306011, 17.040163934426236, 12.68934426229508, 15.668397085610202, 7.248524590163937, 10.710519125683067, 12.51609289617486, 13.57056530080832, 10.803474692202466], \"type\": \"choropleth\"}], \"name\": \"2004\"}, {\"data\": [{\"coloraxis\": \"coloraxis\", \"geo\": \"geo\", \"hovertemplate\": \"<b>%{hovertext}</b><br><br>Year=2005<br>iso=%{location}<br>AvgCelsiusTemp=%{z}<extra></extra>\", \"hovertext\": [\"Argentina\", \"Australia\", \"Austria\", \"Belgium\", \"Brazil\", \"Bulgaria\", \"Canada\", \"China\", \"Croatia\", \"Cyprus\", \"Czech Republic\", \"Denmark\", \"Finland\", \"France\", \"Germany\", \"Greece\", \"Hungary\", \"India\", \"Indonesia\", \"Ireland\", \"Italy\", \"Japan\", \"Latvia\", \"Mexico\", \"Poland\", \"Portugal\", \"Romania\", \"Russia\", \"Saudi Arabia\", \"Slovakia\", \"South Africa\", \"South Korea\", \"Spain\", \"Sweden\", \"The Netherlands\", \"Turkey\", \"US\", \"United Kingdom\"], \"locations\": [\"ARG\", \"AUS\", \"AUT\", \"BEL\", \"BRA\", \"BGR\", \"CAN\", \"CHN\", \"HRV\", \"CYP\", \"CZE\", \"DNK\", \"FIN\", \"FRA\", \"DEU\", \"GRC\", \"HUN\", \"IND\", \"IDN\", \"IRL\", \"ITA\", \"JPN\", \"LVA\", \"MEX\", \"POL\", \"PRT\", \"ROU\", \"RUS\", \"SAU\", \"SVK\", \"ZAF\", \"KOR\", \"ESP\", \"SWE\", \"NLD\", \"TUR\", \"USA\", \"GBR\"], \"name\": \"\", \"z\": [16.839780821917813, 17.062789041095904, 10.167890410958908, 11.189068493150684, 21.928091324200917, 9.522054794520548, 6.633837209302316, 15.678142465753414, 11.243369863013696, 19.1274794520548, 8.530082191780822, 8.397780821917808, 5.935315068493152, 12.813401920438954, 10.113260073260063, 17.929753424657527, 9.084328767123283, 26.620753424657536, 28.933469387755103, 10.137123287671228, 13.46090410958903, 13.050986301369877, 7.282438356164382, 21.00040862656072, 8.667369863013704, 17.07609890109889, 10.828438356164389, 5.607506849315072, 26.46736986301374, 10.385726027397256, 16.720273972602747, 11.274438356164389, 15.757698630136984, 7.572630136986303, 10.971397260273982, 12.682547945205467, 13.863339207048456, 10.7612208504801], \"type\": \"choropleth\"}], \"name\": \"2005\"}, {\"data\": [{\"coloraxis\": \"coloraxis\", \"geo\": \"geo\", \"hovertemplate\": \"<b>%{hovertext}</b><br><br>Year=2006<br>iso=%{location}<br>AvgCelsiusTemp=%{z}<extra></extra>\", \"hovertext\": [\"Argentina\", \"Australia\", \"Austria\", \"Belgium\", \"Brazil\", \"Bulgaria\", \"Canada\", \"China\", \"Croatia\", \"Cyprus\", \"Czech Republic\", \"Denmark\", \"Finland\", \"France\", \"Germany\", \"Greece\", \"Hungary\", \"India\", \"Indonesia\", \"Ireland\", \"Italy\", \"Japan\", \"Latvia\", \"Mexico\", \"Poland\", \"Portugal\", \"Romania\", \"Russia\", \"Saudi Arabia\", \"Slovakia\", \"South Africa\", \"South Korea\", \"Spain\", \"Sweden\", \"The Netherlands\", \"Turkey\", \"US\", \"United Kingdom\"], \"locations\": [\"ARG\", \"AUS\", \"AUT\", \"BEL\", \"BRA\", \"BGR\", \"CAN\", \"CHN\", \"HRV\", \"CYP\", \"CZE\", \"DNK\", \"FIN\", \"FRA\", \"DEU\", \"GRC\", \"HUN\", \"IND\", \"IDN\", \"IRL\", \"ITA\", \"JPN\", \"LVA\", \"MEX\", \"POL\", \"PRT\", \"ROU\", \"RUS\", \"SAU\", \"SVK\", \"ZAF\", \"KOR\", \"ESP\", \"SWE\", \"NLD\", \"TUR\", \"USA\", \"GBR\"], \"name\": \"\", \"z\": [17.0488493150685, 17.041665753424653, 10.686328767123284, 11.142136986301368, 21.63921461187217, 10.232328767123294, 7.1047616438356025, 16.208657534246576, 12.345068493150688, 19.07134246575343, 9.07515068493151, 9.014986301369865, 6.216575342465752, 13.280602739726037, 9.539375886524814, 17.872975206611567, 10.017479452054795, 26.947479452054797, 29.17852713178295, 10.271506849315069, 14.020684931506851, 13.462739726027404, 7.594410958904113, 20.7447748815166, 9.046164383561644, 17.49892857142859, 11.360958904109587, 4.990575342465756, 26.91161643835616, 11.004136986301368, 16.906000000000013, 12.234356164383572, 16.01173515981737, 8.093698630136991, 11.35676712328767, 12.676821917808224, 14.3005622850825, 10.809876543209878], \"type\": \"choropleth\"}], \"name\": \"2006\"}, {\"data\": [{\"coloraxis\": \"coloraxis\", \"geo\": \"geo\", \"hovertemplate\": \"<b>%{hovertext}</b><br><br>Year=2007<br>iso=%{location}<br>AvgCelsiusTemp=%{z}<extra></extra>\", \"hovertext\": [\"Argentina\", \"Australia\", \"Austria\", \"Belgium\", \"Brazil\", \"Bulgaria\", \"Canada\", \"China\", \"Croatia\", \"Cyprus\", \"Czech Republic\", \"Denmark\", \"Finland\", \"France\", \"Germany\", \"Greece\", \"Hungary\", \"India\", \"Indonesia\", \"Ireland\", \"Italy\", \"Japan\", \"Latvia\", \"Mexico\", \"Poland\", \"Portugal\", \"Romania\", \"Russia\", \"Saudi Arabia\", \"Slovakia\", \"South Africa\", \"South Korea\", \"Spain\", \"Sweden\", \"The Netherlands\", \"Turkey\", \"US\", \"United Kingdom\"], \"locations\": [\"ARG\", \"AUS\", \"AUT\", \"BEL\", \"BRA\", \"BGR\", \"CAN\", \"CHN\", \"HRV\", \"CYP\", \"CZE\", \"DNK\", \"FIN\", \"FRA\", \"DEU\", \"GRC\", \"HUN\", \"IND\", \"IDN\", \"IRL\", \"ITA\", \"JPN\", \"LVA\", \"MEX\", \"POL\", \"PRT\", \"ROU\", \"RUS\", \"SAU\", \"SVK\", \"ZAF\", \"KOR\", \"ESP\", \"SWE\", \"NLD\", \"TUR\", \"USA\", \"GBR\"], \"name\": \"\", \"z\": [16.289697802197804, 17.36936813186813, 11.671923076923084, 11.191538461538464, 21.80777472527472, 11.96868131868132, 6.0279631665750255, 16.50996147495869, 13.212829131652663, 19.5454189944134, 9.894148351648353, 9.218379120879124, 6.432390109890111, 12.84924450549451, 10.509578606158838, 18.75900277008312, 11.8257967032967, 26.745279889426367, 28.477267441860494, 10.254490358126716, 14.297898351648351, 14.083287545787558, 7.827499999999993, 20.24336746302617, 9.737087912087912, 16.913287292817675, 12.624203296703294, 6.609450549450547, 27.0869093406593, 11.93346153846153, 16.978429752066123, 12.26471074380165, 14.706703296703276, 7.941593406593411, 11.4440934065934, 13.755027472527471, 13.94458345665692, 10.981375515818431], \"type\": \"choropleth\"}], \"name\": \"2007\"}, {\"data\": [{\"coloraxis\": \"coloraxis\", \"geo\": \"geo\", \"hovertemplate\": \"<b>%{hovertext}</b><br><br>Year=2008<br>iso=%{location}<br>AvgCelsiusTemp=%{z}<extra></extra>\", \"hovertext\": [\"Argentina\", \"Australia\", \"Austria\", \"Belgium\", \"Brazil\", \"Bulgaria\", \"Canada\", \"China\", \"Croatia\", \"Cyprus\", \"Czech Republic\", \"Denmark\", \"Finland\", \"France\", \"Germany\", \"Greece\", \"Hungary\", \"India\", \"Indonesia\", \"Ireland\", \"Italy\", \"Japan\", \"Latvia\", \"Mexico\", \"Poland\", \"Portugal\", \"Romania\", \"Russia\", \"Saudi Arabia\", \"Slovakia\", \"South Africa\", \"South Korea\", \"Spain\", \"Sweden\", \"The Netherlands\", \"Turkey\", \"US\", \"United Kingdom\"], \"locations\": [\"ARG\", \"AUS\", \"AUT\", \"BEL\", \"BRA\", \"BGR\", \"CAN\", \"CHN\", \"HRV\", \"CYP\", \"CZE\", \"DNK\", \"FIN\", \"FRA\", \"DEU\", \"GRC\", \"HUN\", \"IND\", \"IDN\", \"IRL\", \"ITA\", \"JPN\", \"LVA\", \"MEX\", \"POL\", \"PRT\", \"ROU\", \"RUS\", \"SAU\", \"SVK\", \"ZAF\", \"KOR\", \"ESP\", \"SWE\", \"NLD\", \"TUR\", \"USA\", \"GBR\"], \"name\": \"\", \"z\": [17.420027472527476, 16.74263070996145, 11.439835616438366, 10.594289617486334, 21.31123048668505, 11.88635616438355, 5.6956845320744405, 15.730983516483528, 12.900631868131883, 20.031095890410963, 9.36956043956044, 9.11617486338798, 7.01289617486339, 12.527325102880653, 10.437056074766351, 18.832939560439577, 11.466821917808224, 26.624471879286727, 28.411589595375744, 9.543589041095888, 14.33085164835166, 13.712680695333956, 8.068324175824179, 20.40079889807164, 9.840906593406588, 16.846383561643847, 12.008873626373628, 6.765769230769231, 26.85740384615383, 11.724027397260285, 16.982609890109885, 12.18796703296704, 14.943946886446843, 8.260109589041098, 10.826657534246571, 13.191881868131867, 13.315323572984688, 10.405788751714669], \"type\": \"choropleth\"}], \"name\": \"2008\"}, {\"data\": [{\"coloraxis\": \"coloraxis\", \"geo\": \"geo\", \"hovertemplate\": \"<b>%{hovertext}</b><br><br>Year=2009<br>iso=%{location}<br>AvgCelsiusTemp=%{z}<extra></extra>\", \"hovertext\": [\"Argentina\", \"Australia\", \"Austria\", \"Belgium\", \"Brazil\", \"Bulgaria\", \"Canada\", \"China\", \"Croatia\", \"Cyprus\", \"Czech Republic\", \"Denmark\", \"Finland\", \"France\", \"Germany\", \"Greece\", \"Hungary\", \"India\", \"Indonesia\", \"Ireland\", \"Italy\", \"Japan\", \"Latvia\", \"Mexico\", \"Poland\", \"Portugal\", \"Romania\", \"Russia\", \"Saudi Arabia\", \"Slovakia\", \"South Africa\", \"South Korea\", \"Spain\", \"Sweden\", \"The Netherlands\", \"Turkey\", \"US\", \"United Kingdom\"], \"locations\": [\"ARG\", \"AUS\", \"AUT\", \"BEL\", \"BRA\", \"BGR\", \"CAN\", \"CHN\", \"HRV\", \"CYP\", \"CZE\", \"DNK\", \"FIN\", \"FRA\", \"DEU\", \"GRC\", \"HUN\", \"IND\", \"IDN\", \"IRL\", \"ITA\", \"JPN\", \"LVA\", \"MEX\", \"POL\", \"PRT\", \"ROU\", \"RUS\", \"SAU\", \"SVK\", \"ZAF\", \"KOR\", \"ESP\", \"SWE\", \"NLD\", \"TUR\", \"USA\", \"GBR\"], \"name\": \"\", \"z\": [17.23052197802197, 17.446302197802193, 10.98535714285714, 10.700494505494516, 21.92695054945056, 11.47516483516485, 5.432203902170927, 15.869070918086832, 12.914752747252743, 20.57082031249999, 9.141208791208792, 8.61870879120879, 5.580796703296704, 12.909546703296698, 10.141159196290571, 18.748787878787883, 11.388543956043964, 27.43197938144326, 28.653074712643665, 9.622362637362633, 14.505013736263743, 13.834853479853487, 7.022829670329675, 21.131881868131867, 8.800219780219784, 17.822554945054943, 12.097032967032971, 5.843791208791206, 27.23796703296707, 11.23733516483516, 17.357637362637362, 12.081016483516478, 15.681364468864494, 7.344038461538464, 10.72706043956044, 13.4384478021978, 13.266815539387933, 10.583603851444291], \"type\": \"choropleth\"}], \"name\": \"2009\"}, {\"data\": [{\"coloraxis\": \"coloraxis\", \"geo\": \"geo\", \"hovertemplate\": \"<b>%{hovertext}</b><br><br>Year=2010<br>iso=%{location}<br>AvgCelsiusTemp=%{z}<extra></extra>\", \"hovertext\": [\"Argentina\", \"Australia\", \"Austria\", \"Belgium\", \"Brazil\", \"Bulgaria\", \"Canada\", \"China\", \"Croatia\", \"Cyprus\", \"Czech Republic\", \"Denmark\", \"Finland\", \"France\", \"Germany\", \"Greece\", \"Hungary\", \"India\", \"Indonesia\", \"Ireland\", \"Italy\", \"Japan\", \"Latvia\", \"Mexico\", \"Poland\", \"Portugal\", \"Romania\", \"Russia\", \"Saudi Arabia\", \"Slovakia\", \"South Africa\", \"South Korea\", \"Spain\", \"Sweden\", \"The Netherlands\", \"Turkey\", \"US\", \"United Kingdom\"], \"locations\": [\"ARG\", \"AUS\", \"AUT\", \"BEL\", \"BRA\", \"BGR\", \"CAN\", \"CHN\", \"HRV\", \"CYP\", \"CZE\", \"DNK\", \"FIN\", \"FRA\", \"DEU\", \"GRC\", \"HUN\", \"IND\", \"IDN\", \"IRL\", \"ITA\", \"JPN\", \"LVA\", \"MEX\", \"POL\", \"PRT\", \"ROU\", \"RUS\", \"SAU\", \"SVK\", \"ZAF\", \"KOR\", \"ESP\", \"SWE\", \"NLD\", \"TUR\", \"USA\", \"GBR\"], \"name\": \"\", \"z\": [17.225863013698625, 17.06341917808216, 9.583780821917808, 9.353013698630136, 22.444255707762554, 11.58936986301369, 6.886675191815871, 15.370739726027413, 11.787041095890409, 32.28, 7.770054794520546, 6.881369863013701, 4.505780821917807, 11.888506849315077, 8.77297529538131, 19.51599999999999, 10.055397260273974, 27.25117445054944, 28.49008287292817, 8.484575342465764, 13.764027397260264, 14.133872146118716, 5.922191780821911, 20.278047945205483, 7.964356164383563, 17.322356164383567, 11.547452054794515, 6.366630136986303, 27.42730136986307, 10.029726027397269, 17.090602739726048, 11.714328767123286, 14.877936073059365, 5.578164383561645, 9.228657534246576, 14.421150684931492, 13.77246720853975, 10.111141678129297], \"type\": \"choropleth\"}], \"name\": \"2010\"}, {\"data\": [{\"coloraxis\": \"coloraxis\", \"geo\": \"geo\", \"hovertemplate\": \"<b>%{hovertext}</b><br><br>Year=2011<br>iso=%{location}<br>AvgCelsiusTemp=%{z}<extra></extra>\", \"hovertext\": [\"Argentina\", \"Australia\", \"Austria\", \"Belgium\", \"Brazil\", \"Bulgaria\", \"Canada\", \"China\", \"Croatia\", \"Czech Republic\", \"Denmark\", \"Finland\", \"France\", \"Germany\", \"Greece\", \"Hungary\", \"India\", \"Indonesia\", \"Ireland\", \"Italy\", \"Japan\", \"Latvia\", \"Mexico\", \"Poland\", \"Portugal\", \"Romania\", \"Russia\", \"Saudi Arabia\", \"Slovakia\", \"South Africa\", \"South Korea\", \"Spain\", \"Sweden\", \"The Netherlands\", \"Turkey\", \"US\", \"United Kingdom\"], \"locations\": [\"ARG\", \"AUS\", \"AUT\", \"BEL\", \"BRA\", \"BGR\", \"CAN\", \"CHN\", \"HRV\", \"CZE\", \"DNK\", \"FIN\", \"FRA\", \"DEU\", \"GRC\", \"HUN\", \"IND\", \"IDN\", \"IRL\", \"ITA\", \"JPN\", \"LVA\", \"MEX\", \"POL\", \"PRT\", \"ROU\", \"RUS\", \"SAU\", \"SVK\", \"ZAF\", \"KOR\", \"ESP\", \"SWE\", \"NLD\", \"TUR\", \"USA\", \"GBR\"], \"name\": \"\", \"z\": [17.352821917808217, 16.966032876712326, 10.711041095890414, 11.375369863013692, 21.74457534246577, 10.808712328767122, 6.273478791577661, 15.51826849315069, 12.62632876712328, 9.258849315068494, 8.745808219178079, 6.784328767123293, 13.709260273972603, 10.469533333333324, 19.01210958904109, 10.853561643835617, 26.8166872852234, 28.64579670329668, 10.066027397260276, 14.60083561643836, 13.664730593607306, 7.489506849315075, 21.10687977099238, 9.093616438356165, 17.407252747252752, 11.12780821917809, 6.345534246575341, 26.46833791208796, 11.105397260273978, 16.926904109589028, 11.458630136986296, 16.110639269406413, 8.117150684931497, 11.045589041095887, 12.36575342465754, 13.93264830433078, 11.416735253772297], \"type\": \"choropleth\"}], \"name\": \"2011\"}, {\"data\": [{\"coloraxis\": \"coloraxis\", \"geo\": \"geo\", \"hovertemplate\": \"<b>%{hovertext}</b><br><br>Year=2012<br>iso=%{location}<br>AvgCelsiusTemp=%{z}<extra></extra>\", \"hovertext\": [\"Argentina\", \"Australia\", \"Austria\", \"Belgium\", \"Brazil\", \"Bulgaria\", \"Canada\", \"China\", \"Croatia\", \"Czech Republic\", \"Denmark\", \"Finland\", \"France\", \"Germany\", \"Greece\", \"Hungary\", \"India\", \"Indonesia\", \"Ireland\", \"Italy\", \"Japan\", \"Latvia\", \"Mexico\", \"Poland\", \"Portugal\", \"Romania\", \"Russia\", \"Saudi Arabia\", \"Slovakia\", \"South Africa\", \"South Korea\", \"Spain\", \"Sweden\", \"The Netherlands\", \"Turkey\", \"US\", \"United Kingdom\"], \"locations\": [\"ARG\", \"AUS\", \"AUT\", \"BEL\", \"BRA\", \"BGR\", \"CAN\", \"CHN\", \"HRV\", \"CZE\", \"DNK\", \"FIN\", \"FRA\", \"DEU\", \"GRC\", \"HUN\", \"IND\", \"IDN\", \"IRL\", \"ITA\", \"JPN\", \"LVA\", \"MEX\", \"POL\", \"PRT\", \"ROU\", \"RUS\", \"SAU\", \"SVK\", \"ZAF\", \"KOR\", \"ESP\", \"SWE\", \"NLD\", \"TUR\", \"USA\", \"GBR\"], \"name\": \"\", \"z\": [17.624945355191247, 16.80867213114752, 11.061994535519124, 10.420928961748633, 22.31923497267759, 11.77953551912569, 6.8978347057029525, 15.324311475409852, 13.090765027322403, 9.067923497267762, 8.219562841530054, 5.28180327868852, 12.670901639344278, 9.206393442622952, 15.64528301886793, 11.42306010928961, 27.037404371584675, 28.703636363636345, 9.447076502732244, 14.479562841530043, 13.417295081967216, 6.404972677595629, 20.892384105960268, 8.699590163934422, 16.138328767123276, 12.088005464480878, 5.348633879781424, 26.78161379310345, 11.602185792349724, 17.009153005464483, 11.515355191256829, 15.636129326047364, 6.818934426229507, 10.404562841530051, 13.503046448087431, 14.821051959113897, 10.651143250688698], \"type\": \"choropleth\"}], \"name\": \"2012\"}, {\"data\": [{\"coloraxis\": \"coloraxis\", \"geo\": \"geo\", \"hovertemplate\": \"<b>%{hovertext}</b><br><br>Year=2013<br>iso=%{location}<br>AvgCelsiusTemp=%{z}<extra></extra>\", \"hovertext\": [\"Argentina\", \"Australia\", \"Austria\", \"Belgium\", \"Brazil\", \"Bulgaria\", \"Canada\", \"China\", \"Croatia\", \"Czech Republic\", \"Denmark\", \"Finland\", \"France\", \"Germany\", \"Hungary\", \"India\", \"Indonesia\", \"Ireland\", \"Italy\", \"Japan\", \"Latvia\", \"Mexico\", \"Poland\", \"Portugal\", \"Romania\", \"Russia\", \"Saudi Arabia\", \"Slovakia\", \"South Africa\", \"South Korea\", \"Spain\", \"Sweden\", \"The Netherlands\", \"Turkey\", \"US\", \"United Kingdom\"], \"locations\": [\"ARG\", \"AUS\", \"AUT\", \"BEL\", \"BRA\", \"BGR\", \"CAN\", \"CHN\", \"HRV\", \"CZE\", \"DNK\", \"FIN\", \"FRA\", \"DEU\", \"HUN\", \"IND\", \"IDN\", \"IRL\", \"ITA\", \"JPN\", \"LVA\", \"MEX\", \"POL\", \"PRT\", \"ROU\", \"RUS\", \"SAU\", \"SVK\", \"ZAF\", \"KOR\", \"ESP\", \"SWE\", \"NLD\", \"TUR\", \"USA\", \"GBR\"], \"name\": \"\", \"z\": [17.15624657534248, 17.43479692645447, 10.792328767123292, 9.919808219178083, 22.26091324200913, 11.935945205479454, 5.552112633181136, 15.979484931506862, 12.427616438356166, 8.32999999999999, 8.278493150684938, 6.466493150684934, 12.34379972565156, 8.620986301369857, 11.276328767123289, 26.77740918437287, 28.438016528925623, 9.557726027397264, 14.276082191780798, 13.93507762557078, 7.304164383561647, 20.51375478927206, 8.895643835616442, 16.32826446280992, 11.999013698630131, 6.292410958904103, 26.55115068493151, 11.21186301369863, 17.056383561643827, 11.726630136986287, 15.35467579908679, 7.322575342465748, 9.962684931506857, 13.663082191780823, 13.315673915758264, 10.665102880658443], \"type\": \"choropleth\"}], \"name\": \"2013\"}, {\"data\": [{\"coloraxis\": \"coloraxis\", \"geo\": \"geo\", \"hovertemplate\": \"<b>%{hovertext}</b><br><br>Year=2014<br>iso=%{location}<br>AvgCelsiusTemp=%{z}<extra></extra>\", \"hovertext\": [\"Argentina\", \"Australia\", \"Austria\", \"Belgium\", \"Brazil\", \"Bulgaria\", \"Canada\", \"China\", \"Croatia\", \"Czech Republic\", \"Denmark\", \"Finland\", \"France\", \"Germany\", \"Hungary\", \"India\", \"Indonesia\", \"Ireland\", \"Italy\", \"Japan\", \"Latvia\", \"Mexico\", \"Poland\", \"Portugal\", \"Romania\", \"Russia\", \"Saudi Arabia\", \"Slovakia\", \"South Africa\", \"South Korea\", \"Spain\", \"Sweden\", \"The Netherlands\", \"Turkey\", \"US\", \"United Kingdom\"], \"locations\": [\"ARG\", \"AUS\", \"AUT\", \"BEL\", \"BRA\", \"BGR\", \"CAN\", \"CHN\", \"HRV\", \"CZE\", \"DNK\", \"FIN\", \"FRA\", \"DEU\", \"HUN\", \"IND\", \"IDN\", \"IRL\", \"ITA\", \"JPN\", \"LVA\", \"MEX\", \"POL\", \"PRT\", \"ROU\", \"RUS\", \"SAU\", \"SVK\", \"ZAF\", \"KOR\", \"ESP\", \"SWE\", \"NLD\", \"TUR\", \"USA\", \"GBR\"], \"name\": \"\", \"z\": [17.56306849315068, 17.491087912087888, 11.86288461538461, 11.73678571428571, 22.9462534435262, 11.742307692307708, 2.1622590068159675, 16.347526113249035, 13.456181318681317, 9.958873626373627, 9.934368131868128, 6.72442307692307, 13.045892857142842, 10.062747252747243, 12.051098901098902, 27.07754120879121, 28.593278236914603, 10.137967032967037, 15.05575549450548, 13.664120879120876, 7.844148351648355, 20.05992292870905, 9.784862637362629, 16.545027472527472, 11.793571428571438, 6.504835164835163, 27.04462707182325, 12.195659340659349, 17.38766483516483, 12.549972527472525, 16.37653846153844, 8.367884615384613, 11.849917582417582, 14.322046703296712, 13.161012678629133, 11.86056396148556], \"type\": \"choropleth\"}], \"name\": \"2014\"}, {\"data\": [{\"coloraxis\": \"coloraxis\", \"geo\": \"geo\", \"hovertemplate\": \"<b>%{hovertext}</b><br><br>Year=2015<br>iso=%{location}<br>AvgCelsiusTemp=%{z}<extra></extra>\", \"hovertext\": [\"Argentina\", \"Australia\", \"Austria\", \"Belgium\", \"Brazil\", \"Bulgaria\", \"Canada\", \"China\", \"Croatia\", \"Czech Republic\", \"Denmark\", \"Finland\", \"France\", \"Germany\", \"Hungary\", \"India\", \"Indonesia\", \"Ireland\", \"Italy\", \"Japan\", \"Latvia\", \"Mexico\", \"Poland\", \"Portugal\", \"Romania\", \"Russia\", \"Saudi Arabia\", \"Slovakia\", \"South Africa\", \"South Korea\", \"Spain\", \"Sweden\", \"The Netherlands\", \"Turkey\", \"US\", \"United Kingdom\"], \"locations\": [\"ARG\", \"AUS\", \"AUT\", \"BEL\", \"BRA\", \"BGR\", \"CAN\", \"CHN\", \"HRV\", \"CZE\", \"DNK\", \"FIN\", \"FRA\", \"DEU\", \"HUN\", \"IND\", \"IDN\", \"IRL\", \"ITA\", \"JPN\", \"LVA\", \"MEX\", \"POL\", \"PRT\", \"ROU\", \"RUS\", \"SAU\", \"SVK\", \"ZAF\", \"KOR\", \"ESP\", \"SWE\", \"NLD\", \"TUR\", \"USA\", \"GBR\"], \"name\": \"\", \"z\": [17.680796703296696, 17.257587912087892, 11.929395604395603, 11.070302197802196, 22.615732600732613, 11.872087912087906, 3.619779951100245, 16.49382417582417, 13.16945054945055, 10.201730769230762, 9.097060439560442, 7.1780769230769215, 13.154574175824182, 9.955302197802192, 12.00115384615384, 27.46631181318681, 28.533195592286493, 9.567390109890107, 14.810329670329658, 14.33967032967034, 8.268434065934072, 20.16166172106824, 10.55321428571429, 16.733057851239668, 12.517335164835178, 7.025494505494514, 28.071891117478543, 12.02876373626374, 17.184738292011033, 12.881813186813194, 16.15098901098899, 8.096098901098902, 11.037087912087912, 13.695425824175826, 14.190035105944842, 11.166574965612112], \"type\": \"choropleth\"}], \"name\": \"2015\"}, {\"data\": [{\"coloraxis\": \"coloraxis\", \"geo\": \"geo\", \"hovertemplate\": \"<b>%{hovertext}</b><br><br>Year=2016<br>iso=%{location}<br>AvgCelsiusTemp=%{z}<extra></extra>\", \"hovertext\": [\"Argentina\", \"Australia\", \"Austria\", \"Belgium\", \"Brazil\", \"Bulgaria\", \"Canada\", \"China\", \"Croatia\", \"Czech Republic\", \"Denmark\", \"Finland\", \"France\", \"Germany\", \"Hungary\", \"India\", \"Indonesia\", \"Ireland\", \"Italy\", \"Japan\", \"Latvia\", \"Mexico\", \"Poland\", \"Portugal\", \"Romania\", \"Russia\", \"Saudi Arabia\", \"Slovakia\", \"South Africa\", \"South Korea\", \"Spain\", \"Sweden\", \"The Netherlands\", \"Turkey\", \"US\", \"United Kingdom\"], \"locations\": [\"ARG\", \"AUS\", \"AUT\", \"BEL\", \"BRA\", \"BGR\", \"CAN\", \"CHN\", \"HRV\", \"CZE\", \"DNK\", \"FIN\", \"FRA\", \"DEU\", \"HUN\", \"IND\", \"IDN\", \"IRL\", \"ITA\", \"JPN\", \"LVA\", \"MEX\", \"POL\", \"PRT\", \"ROU\", \"RUS\", \"SAU\", \"SVK\", \"ZAF\", \"KOR\", \"ESP\", \"SWE\", \"NLD\", \"TUR\", \"USA\", \"GBR\"], \"name\": \"\", \"z\": [16.77462809917357, 17.448868653421652, 11.171432506887058, 10.867348066298344, 22.36700736648251, 11.873756906077354, 5.155532503457816, 16.440281923714743, 12.684626038781158, 9.476215469613257, 8.93773480662983, 6.05765193370166, 12.779296551724135, 9.503259668508289, 11.230441988950272, 27.88644184445969, 28.65653739612189, 9.885883977900548, 14.97112947658403, 14.225769585253447, 7.656914600550967, 20.454342359767907, 9.92533149171271, 16.79607734806629, 12.056795580110494, 6.186740331491716, 27.07672651933703, 11.309198895027624, 17.42588397790055, 13.03618784530386, 15.907430939226494, 7.709281767955798, 11.004419889502758, 13.859406077348073, 14.620133071358344, 11.235228215767638], \"type\": \"choropleth\"}], \"name\": \"2016\"}, {\"data\": [{\"coloraxis\": \"coloraxis\", \"geo\": \"geo\", \"hovertemplate\": \"<b>%{hovertext}</b><br><br>Year=2017<br>iso=%{location}<br>AvgCelsiusTemp=%{z}<extra></extra>\", \"hovertext\": [\"Argentina\", \"Australia\", \"Austria\", \"Belgium\", \"Brazil\", \"Bulgaria\", \"Canada\", \"China\", \"Croatia\", \"Czech Republic\", \"Denmark\", \"Finland\", \"France\", \"Germany\", \"Hungary\", \"India\", \"Indonesia\", \"Ireland\", \"Italy\", \"Japan\", \"Latvia\", \"Mexico\", \"Poland\", \"Portugal\", \"Romania\", \"Russia\", \"Saudi Arabia\", \"Slovakia\", \"South Africa\", \"South Korea\", \"Spain\", \"Sweden\", \"The Netherlands\", \"Turkey\", \"US\", \"United Kingdom\"], \"locations\": [\"ARG\", \"AUS\", \"AUT\", \"BEL\", \"BRA\", \"BGR\", \"CAN\", \"CHN\", \"HRV\", \"CZE\", \"DNK\", \"FIN\", \"FRA\", \"DEU\", \"HUN\", \"IND\", \"IDN\", \"IRL\", \"ITA\", \"JPN\", \"LVA\", \"MEX\", \"POL\", \"PRT\", \"ROU\", \"RUS\", \"SAU\", \"SVK\", \"ZAF\", \"KOR\", \"ESP\", \"SWE\", \"NLD\", \"TUR\", \"USA\", \"GBR\"], \"name\": \"\", \"z\": [17.85438356164385, 17.475279605263193, 11.30619178082192, 11.184876712328764, 22.30964383561647, 11.474410958904116, 4.420686813186812, 16.676158904109613, 13.095643835616425, 9.31358904109589, 8.863589041095889, 6.009506849315066, 13.11813698630135, 9.329643835616446, 11.233999999999996, 27.62768861454045, 28.603214285714284, 10.11610958904109, 14.93387671232877, 13.690575342465756, 7.311616438356172, 20.51735211267609, 9.559068493150685, 17.127863013698633, 11.888547945205485, 5.81712328767123, 27.457362637362635, 11.510547945205476, 17.02553424657534, 12.297589041095884, 15.95808219178083, 7.483589041095883, 11.172410958904116, 13.49331506849314, 14.41299786902569, 11.450945205479435], \"type\": \"choropleth\"}], \"name\": \"2017\"}, {\"data\": [{\"coloraxis\": \"coloraxis\", \"geo\": \"geo\", \"hovertemplate\": \"<b>%{hovertext}</b><br><br>Year=2018<br>iso=%{location}<br>AvgCelsiusTemp=%{z}<extra></extra>\", \"hovertext\": [\"Argentina\", \"Australia\", \"Austria\", \"Belgium\", \"Brazil\", \"Bulgaria\", \"Canada\", \"China\", \"Croatia\", \"Czech Republic\", \"Denmark\", \"Finland\", \"France\", \"Germany\", \"Hungary\", \"India\", \"Indonesia\", \"Ireland\", \"Italy\", \"Japan\", \"Latvia\", \"Mexico\", \"Poland\", \"Portugal\", \"Romania\", \"Russia\", \"Saudi Arabia\", \"Slovakia\", \"South Africa\", \"South Korea\", \"Spain\", \"Sweden\", \"The Netherlands\", \"Turkey\", \"US\", \"United Kingdom\"], \"locations\": [\"ARG\", \"AUS\", \"AUT\", \"BEL\", \"BRA\", \"BGR\", \"CAN\", \"CHN\", \"HRV\", \"CZE\", \"DNK\", \"FIN\", \"FRA\", \"DEU\", \"HUN\", \"IND\", \"IDN\", \"IRL\", \"ITA\", \"JPN\", \"LVA\", \"MEX\", \"POL\", \"PRT\", \"ROU\", \"RUS\", \"SAU\", \"SVK\", \"ZAF\", \"KOR\", \"ESP\", \"SWE\", \"NLD\", \"TUR\", \"USA\", \"GBR\"], \"name\": \"\", \"z\": [17.48597222222221, 17.368986149584458, 12.104696132596676, 11.698421052631586, 22.02560592044405, 11.690387811634356, 3.718902777777776, 16.517807991121018, 13.6073537604457, 10.559667590027704, 9.700055401662045, 6.674238227146816, 13.3218617771509, 10.811623188405791, 12.2429916897507, 27.541936376210195, 28.650306406685235, 9.953839779005524, 15.560554016620491, 14.42154343807766, 8.148176795580113, 19.983311132255, 10.720997229916897, 16.30335180055401, 12.517845303867391, 6.160333333333334, 27.804805555555536, 12.362105263157888, 17.122638888888886, 12.358027777777778, 15.800681399631676, 8.37096952908588, 11.582055555555556, 14.86961272475799, 13.910649834362944, 11.213439667128975], \"type\": \"choropleth\"}], \"name\": \"2018\"}]);\n",
       "                        }).then(function(){\n",
       "                            \n",
       "var gd = document.getElementById('abbcf128-59df-473d-82e4-d80c152277f5');\n",
       "var x = new MutationObserver(function (mutations, observer) {{\n",
       "        var display = window.getComputedStyle(gd).display;\n",
       "        if (!display || display === 'none') {{\n",
       "            console.log([gd, 'removed!']);\n",
       "            Plotly.purge(gd);\n",
       "            observer.disconnect();\n",
       "        }}\n",
       "}});\n",
       "\n",
       "// Listen for the removal of the full notebook cells\n",
       "var notebookContainer = gd.closest('#notebook-container');\n",
       "if (notebookContainer) {{\n",
       "    x.observe(notebookContainer, {childList: true});\n",
       "}}\n",
       "\n",
       "// Listen for the clearing of the current output cell\n",
       "var outputEl = gd.closest('.output');\n",
       "if (outputEl) {{\n",
       "    x.observe(outputEl, {childList: true});\n",
       "}}\n",
       "\n",
       "                        })\n",
       "                };\n",
       "                });\n",
       "            </script>\n",
       "        </div>"
      ]
     },
     "metadata": {},
     "output_type": "display_data"
    }
   ],
   "source": [
    "fig = px.choropleth( df,\n",
    "                    color = 'AvgCelsiusTemp',\n",
    "                    color_continuous_scale='blues',\n",
    "                    locations = 'iso',\n",
    "                    animation_frame= 'Year',\n",
    "                    hover_name = 'Country'\n",
    "                    ) \n",
    "\n",
    "py.offline.plot(fig, filename=r'.\\choroplet_us_gunviolence.html')\n",
    "fig.show()"
   ]
  },
  {
   "cell_type": "code",
   "execution_count": null,
   "metadata": {},
   "outputs": [],
   "source": []
  }
 ],
 "metadata": {
  "kernelspec": {
   "display_name": "Python 3",
   "language": "python",
   "name": "python3"
  },
  "language_info": {
   "codemirror_mode": {
    "name": "ipython",
    "version": 3
   },
   "file_extension": ".py",
   "mimetype": "text/x-python",
   "name": "python",
   "nbconvert_exporter": "python",
   "pygments_lexer": "ipython3",
   "version": "3.8.3"
  }
 },
 "nbformat": 4,
 "nbformat_minor": 4
}
